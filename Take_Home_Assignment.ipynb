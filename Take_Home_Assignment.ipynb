{
 "cells": [
  {
   "cell_type": "markdown",
   "metadata": {},
   "source": [
    "# Question\n",
    "\n",
    "Company A is interested in building geofences around its retail locations and using 3rd party mobile data to dress a better profile of their consumers, helping plan future marketing campaigns.\n",
    "Before manually mapping geofences of thousands of retail locations, the leadership team turns towards you, the data scientist, to create/find at least 1000 geofences in QC to test the 3rd party data.\n",
    "<ol>\n",
    "    <li> Provide a list of at least 1000 retail locations and their geofences in QC </li>\n",
    "    <li> Display them on a map </li>\n",
    "    <li>  Discuss pros/cons of your approach </li>\n",
    "    <li>  Plot the distribution of their sales </li>\n",
    "    <li> Discuss the distribution of their sales (normality, outliers, variance, standard deviation, etc.) </li>\n",
    "</ol>\n",
    "To achieve this, you can use the technologies and tools of your choice.\n",
    "\n",
    "What are geofences:\n",
    "<a href = \"https://en.wikipedia.org/wiki/Geofence#:~:text=A%20geofence%20is%20a%20virtual,school%20zones%20or%20neighborhood%20boundaries\">Geofence Wikipedia</a> <br>\n",
    "Other resources:\n",
    "<href> https://www.statcan.gc.ca/eng/lode/databases/odb </href>"
   ]
  },
  {
   "cell_type": "markdown",
   "metadata": {},
   "source": [
    "<h1><center>Solution</center></h1>"
   ]
  },
  {
   "cell_type": "code",
   "execution_count": 1,
   "metadata": {},
   "outputs": [],
   "source": [
    "#importation of libraries\n",
    "import pandas as pd\n",
    "import numpy as np\n",
    "import geopandas as gpd\n",
    "import geopy as gpy\n",
    "from geopy.extra import rate_limiter \n",
    "import matplotlib.pyplot as plt\n",
    "import plotly_express as px\n",
    "import seaborn as sns\n",
    "import folium\n",
    "import shapely\n",
    "import gmaps\n",
    "import plotly.offline as pyo\n",
    "import plotly.graph_objs as go\n",
    "import folium.plugins as plugings"
   ]
  },
  {
   "cell_type": "code",
   "execution_count": 3,
   "metadata": {},
   "outputs": [
    {
     "data": {
      "text/html": [
       "<div>\n",
       "<style scoped>\n",
       "    .dataframe tbody tr th:only-of-type {\n",
       "        vertical-align: middle;\n",
       "    }\n",
       "\n",
       "    .dataframe tbody tr th {\n",
       "        vertical-align: top;\n",
       "    }\n",
       "\n",
       "    .dataframe thead th {\n",
       "        text-align: right;\n",
       "    }\n",
       "</style>\n",
       "<table border=\"1\" class=\"dataframe\">\n",
       "  <thead>\n",
       "    <tr style=\"text-align: right;\">\n",
       "      <th></th>\n",
       "      <th>erp_id</th>\n",
       "      <th>province_code</th>\n",
       "      <th>lat</th>\n",
       "      <th>long</th>\n",
       "      <th>sales</th>\n",
       "    </tr>\n",
       "  </thead>\n",
       "  <tbody>\n",
       "    <tr>\n",
       "      <th>0</th>\n",
       "      <td>4</td>\n",
       "      <td>QC</td>\n",
       "      <td>45.537593</td>\n",
       "      <td>-73.597075</td>\n",
       "      <td>0.089069</td>\n",
       "    </tr>\n",
       "    <tr>\n",
       "      <th>1</th>\n",
       "      <td>19</td>\n",
       "      <td>QC</td>\n",
       "      <td>45.488636</td>\n",
       "      <td>-73.568175</td>\n",
       "      <td>0.074907</td>\n",
       "    </tr>\n",
       "    <tr>\n",
       "      <th>2</th>\n",
       "      <td>22</td>\n",
       "      <td>QC</td>\n",
       "      <td>48.387871</td>\n",
       "      <td>-68.470686</td>\n",
       "      <td>0.611644</td>\n",
       "    </tr>\n",
       "    <tr>\n",
       "      <th>3</th>\n",
       "      <td>24</td>\n",
       "      <td>QC</td>\n",
       "      <td>46.795660</td>\n",
       "      <td>-71.356166</td>\n",
       "      <td>-0.778827</td>\n",
       "    </tr>\n",
       "    <tr>\n",
       "      <th>4</th>\n",
       "      <td>37</td>\n",
       "      <td>QC</td>\n",
       "      <td>45.510311</td>\n",
       "      <td>-73.570841</td>\n",
       "      <td>0.586588</td>\n",
       "    </tr>\n",
       "  </tbody>\n",
       "</table>\n",
       "</div>"
      ],
      "text/plain": [
       "   erp_id province_code        lat       long     sales\n",
       "0       4            QC  45.537593 -73.597075  0.089069\n",
       "1      19            QC  45.488636 -73.568175  0.074907\n",
       "2      22            QC  48.387871 -68.470686  0.611644\n",
       "3      24            QC  46.795660 -71.356166 -0.778827\n",
       "4      37            QC  45.510311 -73.570841  0.586588"
      ]
     },
     "execution_count": 3,
     "metadata": {},
     "output_type": "execute_result"
    }
   ],
   "source": [
    "retail_df = pd.read_csv(\"retail_locations.csv\")\n",
    "retail_df.head()"
   ]
  },
  {
   "cell_type": "code",
   "execution_count": 4,
   "metadata": {},
   "outputs": [
    {
     "data": {
      "text/plain": [
       "<matplotlib.axes._subplots.AxesSubplot at 0x13f87510>"
      ]
     },
     "execution_count": 4,
     "metadata": {},
     "output_type": "execute_result"
    },
    {
     "data": {
      "image/png": "[encoded data removed]",
      "text/plain": [
       "<Figure size 864x360 with 1 Axes>"
      ]
     },
     "metadata": {
      "needs_background": "light"
     },
     "output_type": "display_data"
    }
   ],
   "source": [
    "#Checking for missing values\n",
    "plt.figure(figsize=(12, 5))\n",
    "sns.heatmap(retail_df.corr().isnull(), cmap =\"twilight_r\", yticklabels=False, cbar = False, )"
   ]
  },
  {
   "cell_type": "markdown",
   "metadata": {},
   "source": [
    "No missing values"
   ]
  },
  {
   "cell_type": "code",
   "execution_count": 5,
   "metadata": {},
   "outputs": [
    {
     "data": {
      "text/plain": [
       "0      45.537593,-73.597075\n",
       "1      45.488636,-73.568175\n",
       "2    48.3878711,-68.4706861\n",
       "Name: geom, dtype: object"
      ]
     },
     "execution_count": 5,
     "metadata": {},
     "output_type": "execute_result"
    }
   ],
   "source": [
    "#concatenating the lat and long to have a cordinate point\n",
    "retail_df[\"geom\"] = retail_df[\"lat\"].map(str) + \",\" + retail_df[\"long\"].map(str)\n",
    "retail_df[\"geom\"].head(3)"
   ]
  },
  {
   "cell_type": "code",
   "execution_count": 6,
   "metadata": {},
   "outputs": [],
   "source": [
    "# part 1\n",
    "geolocator = gpy.geocoders.Nominatim(user_agent=\"ajayiebenezer70@gmail.com\", timeout=10)\n",
    "location = rate_limiter.RateLimiter(geolocator.reverse, min_delay_seconds=1)"
   ]
  },
  {
   "cell_type": "code",
   "execution_count": 7,
   "metadata": {},
   "outputs": [],
   "source": [
    "def location_point(cordinate):\n",
    "    address = \",\".join(geolocator.reverse(cordinate)[0].split(\",\")[:6]).strip()\n",
    "    postal_code =  (geolocator.reverse(cordinate))[0].split(\", \")[-2].strip()\n",
    "    return address, postal_code"
   ]
  },
  {
   "cell_type": "code",
   "execution_count": 8,
   "metadata": {},
   "outputs": [],
   "source": [
    "retail_df[\"full_address\"] = retail_df[\"geom\"].apply(location_point)\n",
    "retail_df[\"address\"] = retail_df[\"full_address\"].apply(lambda addr:addr[0])\n",
    "retail_df[\"postal_code\"] = retail_df[\"full_address\"].apply(lambda addr:addr[1])"
   ]
  },
  {
   "cell_type": "code",
   "execution_count": 9,
   "metadata": {},
   "outputs": [
    {
     "data": {
      "text/html": [
       "<div>\n",
       "<style scoped>\n",
       "    .dataframe tbody tr th:only-of-type {\n",
       "        vertical-align: middle;\n",
       "    }\n",
       "\n",
       "    .dataframe tbody tr th {\n",
       "        vertical-align: top;\n",
       "    }\n",
       "\n",
       "    .dataframe thead th {\n",
       "        text-align: right;\n",
       "    }\n",
       "</style>\n",
       "<table border=\"1\" class=\"dataframe\">\n",
       "  <thead>\n",
       "    <tr style=\"text-align: right;\">\n",
       "      <th></th>\n",
       "      <th>erp_id</th>\n",
       "      <th>province_code</th>\n",
       "      <th>lat</th>\n",
       "      <th>long</th>\n",
       "      <th>sales</th>\n",
       "      <th>geom</th>\n",
       "      <th>address</th>\n",
       "      <th>postal_code</th>\n",
       "    </tr>\n",
       "  </thead>\n",
       "  <tbody>\n",
       "    <tr>\n",
       "      <th>0</th>\n",
       "      <td>4</td>\n",
       "      <td>QC</td>\n",
       "      <td>45.537593</td>\n",
       "      <td>-73.597075</td>\n",
       "      <td>0.089069</td>\n",
       "      <td>45.537593,-73.597075</td>\n",
       "      <td>6062, Rue De Normanville, Père-Marquette, Rose...</td>\n",
       "      <td>H2S 3L9</td>\n",
       "    </tr>\n",
       "    <tr>\n",
       "      <th>1</th>\n",
       "      <td>19</td>\n",
       "      <td>QC</td>\n",
       "      <td>45.488636</td>\n",
       "      <td>-73.568175</td>\n",
       "      <td>0.074907</td>\n",
       "      <td>45.488636,-73.568175</td>\n",
       "      <td>1738, Rue Notre-Dame Ouest, Petite-Bourgogne, ...</td>\n",
       "      <td>H3J 1M3</td>\n",
       "    </tr>\n",
       "    <tr>\n",
       "      <th>2</th>\n",
       "      <td>22</td>\n",
       "      <td>QC</td>\n",
       "      <td>48.387871</td>\n",
       "      <td>-68.470686</td>\n",
       "      <td>0.611644</td>\n",
       "      <td>48.3878711,-68.4706861</td>\n",
       "      <td>14, , Rimouski, Rimouski-Neigette, Bas-Saint-L...</td>\n",
       "      <td>G5N 5P1</td>\n",
       "    </tr>\n",
       "    <tr>\n",
       "      <th>3</th>\n",
       "      <td>24</td>\n",
       "      <td>QC</td>\n",
       "      <td>46.795660</td>\n",
       "      <td>-71.356166</td>\n",
       "      <td>-0.778827</td>\n",
       "      <td>46.7956598,-71.3561663</td>\n",
       "      <td>1438, Rue Notre-Dame, L'Ancienne-Lorette, Québ...</td>\n",
       "      <td>G2E 1Z7</td>\n",
       "    </tr>\n",
       "    <tr>\n",
       "      <th>4</th>\n",
       "      <td>37</td>\n",
       "      <td>QC</td>\n",
       "      <td>45.510311</td>\n",
       "      <td>-73.570841</td>\n",
       "      <td>0.586588</td>\n",
       "      <td>45.510310700000005,-73.570841</td>\n",
       "      <td>169, Place Sainte-Famille, Milton Parc, Platea...</td>\n",
       "      <td>H2X 1X7</td>\n",
       "    </tr>\n",
       "    <tr>\n",
       "      <th>...</th>\n",
       "      <td>...</td>\n",
       "      <td>...</td>\n",
       "      <td>...</td>\n",
       "      <td>...</td>\n",
       "      <td>...</td>\n",
       "      <td>...</td>\n",
       "      <td>...</td>\n",
       "      <td>...</td>\n",
       "    </tr>\n",
       "    <tr>\n",
       "      <th>995</th>\n",
       "      <td>5745</td>\n",
       "      <td>QC</td>\n",
       "      <td>45.524107</td>\n",
       "      <td>-73.551472</td>\n",
       "      <td>-1.827916</td>\n",
       "      <td>45.5241071,-73.55147209999998</td>\n",
       "      <td>1955, Rue Sainte-Catherine Est, Village gai, S...</td>\n",
       "      <td>H2K 2H5</td>\n",
       "    </tr>\n",
       "    <tr>\n",
       "      <th>996</th>\n",
       "      <td>5749</td>\n",
       "      <td>QC</td>\n",
       "      <td>45.467655</td>\n",
       "      <td>-73.620779</td>\n",
       "      <td>-0.806901</td>\n",
       "      <td>45.467655,-73.620779</td>\n",
       "      <td>2527, Avenue Hingston, Upper Lachine, Côte-des...</td>\n",
       "      <td>H4A 1H4</td>\n",
       "    </tr>\n",
       "    <tr>\n",
       "      <th>997</th>\n",
       "      <td>5752</td>\n",
       "      <td>QC</td>\n",
       "      <td>46.765250</td>\n",
       "      <td>-71.487290</td>\n",
       "      <td>-0.298703</td>\n",
       "      <td>46.76525,-71.48729</td>\n",
       "      <td>Le Magasin Fossambault, 991, Route de Fossamba...</td>\n",
       "      <td>G3A 1W8</td>\n",
       "    </tr>\n",
       "    <tr>\n",
       "      <th>998</th>\n",
       "      <td>5766</td>\n",
       "      <td>QC</td>\n",
       "      <td>46.951123</td>\n",
       "      <td>-71.207579</td>\n",
       "      <td>0.108185</td>\n",
       "      <td>46.9511229,-71.20757929999999</td>\n",
       "      <td>3, Rue des Hautes-Terres, Laurentides, Beaupor...</td>\n",
       "      <td>G1B 0C5</td>\n",
       "    </tr>\n",
       "    <tr>\n",
       "      <th>999</th>\n",
       "      <td>5771</td>\n",
       "      <td>QC</td>\n",
       "      <td>45.470408</td>\n",
       "      <td>-73.606973</td>\n",
       "      <td>0.687192</td>\n",
       "      <td>45.4704075,-73.6069733</td>\n",
       "      <td>1085-1089, Avenue Girouard, Upper Lachine, Côt...</td>\n",
       "      <td>H4A 3H9</td>\n",
       "    </tr>\n",
       "  </tbody>\n",
       "</table>\n",
       "<p>1000 rows × 8 columns</p>\n",
       "</div>"
      ],
      "text/plain": [
       "     erp_id province_code        lat       long     sales  \\\n",
       "0         4            QC  45.537593 -73.597075  0.089069   \n",
       "1        19            QC  45.488636 -73.568175  0.074907   \n",
       "2        22            QC  48.387871 -68.470686  0.611644   \n",
       "3        24            QC  46.795660 -71.356166 -0.778827   \n",
       "4        37            QC  45.510311 -73.570841  0.586588   \n",
       "..      ...           ...        ...        ...       ...   \n",
       "995    5745            QC  45.524107 -73.551472 -1.827916   \n",
       "996    5749            QC  45.467655 -73.620779 -0.806901   \n",
       "997    5752            QC  46.765250 -71.487290 -0.298703   \n",
       "998    5766            QC  46.951123 -71.207579  0.108185   \n",
       "999    5771            QC  45.470408 -73.606973  0.687192   \n",
       "\n",
       "                              geom  \\\n",
       "0             45.537593,-73.597075   \n",
       "1             45.488636,-73.568175   \n",
       "2           48.3878711,-68.4706861   \n",
       "3           46.7956598,-71.3561663   \n",
       "4    45.510310700000005,-73.570841   \n",
       "..                             ...   \n",
       "995  45.5241071,-73.55147209999998   \n",
       "996           45.467655,-73.620779   \n",
       "997             46.76525,-71.48729   \n",
       "998  46.9511229,-71.20757929999999   \n",
       "999         45.4704075,-73.6069733   \n",
       "\n",
       "                                               address postal_code  \n",
       "0    6062, Rue De Normanville, Père-Marquette, Rose...     H2S 3L9  \n",
       "1    1738, Rue Notre-Dame Ouest, Petite-Bourgogne, ...     H3J 1M3  \n",
       "2    14, , Rimouski, Rimouski-Neigette, Bas-Saint-L...     G5N 5P1  \n",
       "3    1438, Rue Notre-Dame, L'Ancienne-Lorette, Québ...     G2E 1Z7  \n",
       "4    169, Place Sainte-Famille, Milton Parc, Platea...     H2X 1X7  \n",
       "..                                                 ...         ...  \n",
       "995  1955, Rue Sainte-Catherine Est, Village gai, S...     H2K 2H5  \n",
       "996  2527, Avenue Hingston, Upper Lachine, Côte-des...     H4A 1H4  \n",
       "997  Le Magasin Fossambault, 991, Route de Fossamba...     G3A 1W8  \n",
       "998  3, Rue des Hautes-Terres, Laurentides, Beaupor...     G1B 0C5  \n",
       "999  1085-1089, Avenue Girouard, Upper Lachine, Côt...     H4A 3H9  \n",
       "\n",
       "[1000 rows x 8 columns]"
      ]
     },
     "execution_count": 9,
     "metadata": {},
     "output_type": "execute_result"
    }
   ],
   "source": [
    "retail_df.drop(\"full_address\", axis=1, inplace=True)\n",
    "retail_df.head(1000)"
   ]
  },
  {
   "cell_type": "code",
   "execution_count": 10,
   "metadata": {},
   "outputs": [],
   "source": [
    "# part 1b and 2"
   ]
  },
  {
   "cell_type": "code",
   "execution_count": 10,
   "metadata": {},
   "outputs": [
    {
     "data": {
      "text/html": [
       "<div>\n",
       "<style scoped>\n",
       "    .dataframe tbody tr th:only-of-type {\n",
       "        vertical-align: middle;\n",
       "    }\n",
       "\n",
       "    .dataframe tbody tr th {\n",
       "        vertical-align: top;\n",
       "    }\n",
       "\n",
       "    .dataframe thead th {\n",
       "        text-align: right;\n",
       "    }\n",
       "</style>\n",
       "<table border=\"1\" class=\"dataframe\">\n",
       "  <thead>\n",
       "    <tr style=\"text-align: right;\">\n",
       "      <th></th>\n",
       "      <th>erp_id</th>\n",
       "      <th>province_code</th>\n",
       "      <th>lat</th>\n",
       "      <th>long</th>\n",
       "      <th>sales</th>\n",
       "      <th>geom</th>\n",
       "      <th>address</th>\n",
       "      <th>postal_code</th>\n",
       "      <th>geometry</th>\n",
       "    </tr>\n",
       "  </thead>\n",
       "  <tbody>\n",
       "    <tr>\n",
       "      <th>0</th>\n",
       "      <td>4</td>\n",
       "      <td>QC</td>\n",
       "      <td>45.537593</td>\n",
       "      <td>-73.597075</td>\n",
       "      <td>0.089069</td>\n",
       "      <td>45.537593,-73.597075</td>\n",
       "      <td>6062, Rue De Normanville, Père-Marquette, Rose...</td>\n",
       "      <td>H2S 3L9</td>\n",
       "      <td>POINT (-73.59708 45.53759)</td>\n",
       "    </tr>\n",
       "    <tr>\n",
       "      <th>1</th>\n",
       "      <td>19</td>\n",
       "      <td>QC</td>\n",
       "      <td>45.488636</td>\n",
       "      <td>-73.568175</td>\n",
       "      <td>0.074907</td>\n",
       "      <td>45.488636,-73.568175</td>\n",
       "      <td>1738, Rue Notre-Dame Ouest, Petite-Bourgogne, ...</td>\n",
       "      <td>H3J 1M3</td>\n",
       "      <td>POINT (-73.56817 45.48864)</td>\n",
       "    </tr>\n",
       "    <tr>\n",
       "      <th>2</th>\n",
       "      <td>22</td>\n",
       "      <td>QC</td>\n",
       "      <td>48.387871</td>\n",
       "      <td>-68.470686</td>\n",
       "      <td>0.611644</td>\n",
       "      <td>48.3878711,-68.4706861</td>\n",
       "      <td>14, , Rimouski, Rimouski-Neigette, Bas-Saint-L...</td>\n",
       "      <td>G5N 5P1</td>\n",
       "      <td>POINT (-68.47069 48.38787)</td>\n",
       "    </tr>\n",
       "    <tr>\n",
       "      <th>3</th>\n",
       "      <td>24</td>\n",
       "      <td>QC</td>\n",
       "      <td>46.795660</td>\n",
       "      <td>-71.356166</td>\n",
       "      <td>-0.778827</td>\n",
       "      <td>46.7956598,-71.3561663</td>\n",
       "      <td>1438, Rue Notre-Dame, L'Ancienne-Lorette, Québ...</td>\n",
       "      <td>G2E 1Z7</td>\n",
       "      <td>POINT (-71.35617 46.79566)</td>\n",
       "    </tr>\n",
       "    <tr>\n",
       "      <th>4</th>\n",
       "      <td>37</td>\n",
       "      <td>QC</td>\n",
       "      <td>45.510311</td>\n",
       "      <td>-73.570841</td>\n",
       "      <td>0.586588</td>\n",
       "      <td>45.510310700000005,-73.570841</td>\n",
       "      <td>169, Place Sainte-Famille, Milton Parc, Platea...</td>\n",
       "      <td>H2X 1X7</td>\n",
       "      <td>POINT (-73.57084 45.51031)</td>\n",
       "    </tr>\n",
       "  </tbody>\n",
       "</table>\n",
       "</div>"
      ],
      "text/plain": [
       "   erp_id province_code        lat       long     sales  \\\n",
       "0       4            QC  45.537593 -73.597075  0.089069   \n",
       "1      19            QC  45.488636 -73.568175  0.074907   \n",
       "2      22            QC  48.387871 -68.470686  0.611644   \n",
       "3      24            QC  46.795660 -71.356166 -0.778827   \n",
       "4      37            QC  45.510311 -73.570841  0.586588   \n",
       "\n",
       "                            geom  \\\n",
       "0           45.537593,-73.597075   \n",
       "1           45.488636,-73.568175   \n",
       "2         48.3878711,-68.4706861   \n",
       "3         46.7956598,-71.3561663   \n",
       "4  45.510310700000005,-73.570841   \n",
       "\n",
       "                                             address postal_code  \\\n",
       "0  6062, Rue De Normanville, Père-Marquette, Rose...     H2S 3L9   \n",
       "1  1738, Rue Notre-Dame Ouest, Petite-Bourgogne, ...     H3J 1M3   \n",
       "2  14, , Rimouski, Rimouski-Neigette, Bas-Saint-L...     G5N 5P1   \n",
       "3  1438, Rue Notre-Dame, L'Ancienne-Lorette, Québ...     G2E 1Z7   \n",
       "4  169, Place Sainte-Famille, Milton Parc, Platea...     H2X 1X7   \n",
       "\n",
       "                     geometry  \n",
       "0  POINT (-73.59708 45.53759)  \n",
       "1  POINT (-73.56817 45.48864)  \n",
       "2  POINT (-68.47069 48.38787)  \n",
       "3  POINT (-71.35617 46.79566)  \n",
       "4  POINT (-73.57084 45.51031)  "
      ]
     },
     "execution_count": 10,
     "metadata": {},
     "output_type": "execute_result"
    }
   ],
   "source": [
    "gdf = gpd.GeoDataFrame(retail_df, geometry=gpd.points_from_xy(retail_df.long, retail_df.lat))\n",
    "gdf.head()"
   ]
  },
  {
   "cell_type": "code",
   "execution_count": 11,
   "metadata": {},
   "outputs": [
    {
     "data": {
      "application/vnd.plotly.v1+json": {
       "config": {
        "plotlyServerURL": "https://plot.ly"
       },
       "data": [
        {
         "hovertemplate": "lat=%{lat}<br>long=%{lon}<extra></extra>",
         "lat": [
          45.537593,
          45.488636,
          48.3878711,
          46.7956598,
          45.510310700000005,
          45.755632899999995,
          46.835607,
          45.473949,
          45.518215399999995,
          46.891487700000006,
          45.5144682,
          45.5336184,
          46.8679355,
          45.535530200000004,
          45.4650792,
          48.241944399999994,
          45.5188044,
          45.5129793,
          45.5486995,
          45.500265,
          45.4998571,
          45.510319,
          45.510319,
          45.4014722,
          48.473097100000004,
          45.459886700000006,
          45.5212833,
          45.477963700000004,
          46.554334499999996,
          46.83492639999999,
          45.575587299999995,
          45.461001,
          45.576084200000004,
          45.5363773,
          45.5220951,
          46.7865302,
          45.4860706,
          45.5243434,
          45.5255925,
          45.4814067,
          45.5050263,
          45.505055,
          45.5426053,
          45.544699,
          45.4924311,
          45.4828119,
          45.4828196,
          45.5198475,
          46.6134523,
          45.555593,
          45.531281899999996,
          45.74664179999999,
          48.2431951,
          45.530368200000005,
          45.5181859,
          46.6039185,
          45.477182899999995,
          45.543833500000005,
          45.4917662,
          46.839277100000004,
          45.4827055,
          45.4635801,
          46.5696182,
          46.8047293,
          46.854412700000005,
          45.4800939,
          45.4814162,
          45.497171200000004,
          48.430718,
          45.5128081,
          45.453583,
          45.5408907,
          45.4893259,
          46.8199384,
          45.489481700000006,
          45.5381124,
          45.51985560000001,
          45.5406272,
          45.500983000000005,
          45.500467900000004,
          45.5166438,
          45.5166229,
          46.8136071,
          45.764340000000004,
          46.5199391,
          46.788579299999995,
          46.8052664,
          46.7757675,
          46.8208359,
          46.8555075,
          46.8028996,
          45.5239867,
          45.5375357,
          46.77101029999999,
          46.7710729,
          45.5301861,
          46.60727979999999,
          45.521455200000005,
          45.5228806,
          45.515708000000004,
          45.5288212,
          45.534197799999994,
          45.521857700000005,
          45.5302597,
          45.510577000000005,
          45.7693036,
          46.8965297,
          45.4733304,
          45.5468442,
          45.5100597,
          46.8368679,
          45.514549,
          46.8325222,
          46.8011869,
          45.5356678,
          45.5133912,
          45.535841299999994,
          45.4952842,
          46.563334399999995,
          46.8045252,
          46.811432,
          46.8372428,
          46.8909411,
          45.500174,
          45.5480259,
          45.5218159,
          46.8089956,
          45.4911565,
          45.501174799999994,
          45.5181027,
          45.4866269,
          45.4866269,
          45.5446559,
          45.46720139999999,
          45.50198220000001,
          45.5005083,
          45.5116006,
          45.5215451,
          45.502537100000005,
          45.493519,
          45.5259495,
          46.5718942,
          45.7526227,
          45.7191889,
          45.529302,
          46.8446932,
          46.8570499,
          45.5001121,
          45.573932,
          45.53825820000001,
          45.5017252,
          45.557026799999996,
          46.8372401,
          46.8372401,
          48.467893100000005,
          46.5559232,
          45.5110528,
          46.7685071,
          45.7704519,
          45.494002,
          45.4943351,
          45.5368631,
          45.474995799999995,
          45.456385100000006,
          45.5269531,
          45.53019320000001,
          45.563867200000004,
          45.4707735,
          45.5583407,
          46.9175469,
          45.538516200000004,
          45.4545151,
          45.454471999999996,
          45.5329753,
          45.537753,
          45.549659999999996,
          45.494900200000004,
          45.494960600000006,
          45.5339451,
          45.50042979999999,
          46.8396619,
          46.839253799999994,
          45.51900379999999,
          48.2477973,
          46.93048220000001,
          45.4758005,
          46.816360700000004,
          45.4932544,
          45.500133,
          45.7443982,
          45.5191395,
          46.8257407,
          45.533899,
          45.533899,
          45.52480870000001,
          45.497349,
          45.49604,
          45.516142200000004,
          45.5165703,
          46.885501299999994,
          46.889960200000004,
          45.4905307,
          46.8135679,
          46.8504854,
          46.8136708,
          46.556938200000005,
          46.8787741,
          46.8787741,
          45.505953000000005,
          45.5060225,
          45.506171,
          45.462112,
          45.4815938,
          46.882800399999994,
          45.4834469,
          45.4879623,
          45.5078099,
          45.5078099,
          46.5197223,
          45.4996169,
          46.811637100000006,
          45.4766013,
          45.5186729,
          45.518539000000004,
          45.533414,
          45.5561588,
          46.86331129999999,
          45.5360244,
          45.491611299999995,
          45.5441377,
          46.8090408,
          45.5191993,
          45.4619149,
          45.564945,
          46.8743947,
          46.8642674,
          48.233219,
          45.4915042,
          46.8914079,
          45.4779216,
          45.4935112,
          45.4878175,
          45.462759000000005,
          45.5463486,
          46.826494,
          45.561738,
          46.816255,
          45.5546445,
          45.5679359,
          45.567902600000004,
          46.8029984,
          45.5374158,
          45.5586091,
          47.9127764,
          45.544746,
          45.483689500000004,
          45.527044200000006,
          46.75267,
          46.8234838,
          45.5350677,
          45.456151,
          45.5286103,
          45.4846111,
          46.5562331,
          45.525432,
          45.5278229,
          45.527440500000004,
          45.56668,
          45.5133295,
          46.831307200000005,
          45.49961079999999,
          45.4992821,
          45.4956881,
          45.5237369,
          45.5312557,
          45.466962,
          46.8233118,
          46.5588282,
          45.54742460000001,
          45.4877901,
          45.517737700000005,
          45.516670899999994,
          46.8128563,
          45.554025700000004,
          45.470721999999995,
          45.476365,
          45.5323983,
          45.5323983,
          45.483167,
          45.558859999999996,
          45.5416727,
          45.5425854,
          45.5066394,
          45.4641836,
          45.5308487,
          45.5283228,
          46.7404687,
          46.7404687,
          45.529880299999995,
          45.5262667,
          45.449909000000005,
          45.76756029999999,
          45.5668191,
          45.5149045,
          45.5294658,
          45.5203702,
          46.806683500000005,
          45.507571999999996,
          45.4514109,
          46.8150396,
          45.5235286,
          45.5684112,
          46.848389399999995,
          48.441093,
          45.5094278,
          45.537136600000004,
          45.5385795,
          46.837709999999994,
          46.8481887,
          45.4934271,
          45.495461,
          45.532497,
          45.5238193,
          45.520000700000004,
          46.8134,
          45.515709,
          48.222730799999994,
          45.4667531,
          45.4665492,
          45.5224639,
          45.562683,
          45.5524354,
          45.5103999,
          46.796485700000005,
          45.5041009,
          45.525804799999996,
          45.4782589,
          45.4780614,
          45.5008215,
          45.5232782,
          45.523292299999994,
          45.5728253,
          46.873002500000005,
          46.828584899999996,
          45.536534499999995,
          45.519031,
          45.5453854,
          48.2271305,
          45.536,
          48.240164299999996,
          45.5351599,
          45.455290000000005,
          45.720839899999994,
          45.492222600000005,
          45.5357275,
          45.51958870000001,
          46.8217471,
          46.8217471,
          45.530136999999996,
          45.4797987,
          46.804565999999994,
          46.852028499999996,
          45.509184000000005,
          45.505461100000005,
          45.477959399999996,
          45.5384088,
          45.533324,
          46.812155499999996,
          45.460562200000005,
          45.5707321,
          48.442685299999994,
          45.567557799999996,
          45.5476564,
          45.5351218,
          45.5256849,
          45.543957899999995,
          45.488805,
          45.4895797,
          45.48937,
          45.5126188,
          46.8135022,
          45.547424400000004,
          46.525228399999996,
          45.7322565,
          45.5061379,
          45.5726097,
          45.498047799999995,
          45.498175700000004,
          46.8624734,
          45.5349588,
          45.5212682,
          45.514066899999996,
          46.843703000000005,
          45.5174265,
          46.799059299999996,
          45.5217339,
          45.5192886,
          46.9101974,
          46.8429845,
          45.5520054,
          45.555718,
          48.4376039,
          45.516694,
          45.516694,
          46.8120852,
          46.870141100000005,
          46.8410703,
          46.855318200000006,
          46.8435762,
          46.8198609,
          46.8198609,
          46.8121559,
          48.4351174,
          45.7842388,
          45.4977436,
          45.5392036,
          45.5392036,
          45.539162899999994,
          45.5389756,
          45.500448600000006,
          45.5026306,
          45.5204736,
          45.5154352,
          46.9088558,
          45.5072429,
          46.8042364,
          46.787655900000004,
          45.472923,
          46.839698799999994,
          46.8754898,
          45.523098100000006,
          45.3945501,
          46.818226200000005,
          45.779616,
          46.8585642,
          46.8586431,
          45.5298873,
          45.4976435,
          45.4979448,
          46.888308200000004,
          45.530477000000005,
          45.50083,
          48.438630700000004,
          45.5418565,
          45.557074,
          46.568324700000005,
          45.4802003,
          46.7626088,
          46.8724615,
          45.55413660000001,
          46.8227639,
          45.472285299999996,
          45.47206,
          45.555094,
          45.528761700000004,
          45.4974422,
          45.50111,
          45.4791144,
          45.502846399999996,
          46.799155299999995,
          45.5713987,
          45.497635700000004,
          46.8100302,
          45.526943,
          45.5641458,
          46.5204343,
          46.886677899999995,
          45.533,
          45.7669799,
          45.5206831,
          46.7970229,
          46.8075825,
          45.4564991,
          45.50941029999999,
          46.853722999999995,
          46.5397508,
          46.8435867,
          46.80324,
          45.469066600000005,
          45.5422402,
          45.5377919,
          45.5450209,
          45.4778062,
          45.476863,
          46.817518299999996,
          45.519301399999996,
          45.4520893,
          45.453153,
          46.8622006,
          45.510405,
          46.8953805,
          46.895104100000005,
          45.458939799999996,
          45.465981299999996,
          46.8938578,
          45.5392193,
          45.5353317,
          46.850831799999995,
          45.551328999999996,
          45.4966036,
          45.496641499999996,
          46.9030305,
          45.762122600000005,
          46.88361,
          48.2320578,
          45.5252312,
          45.496060799999995,
          45.535226200000004,
          45.572010999999996,
          45.5249179,
          45.5249179,
          46.50819370000001,
          46.8422365,
          46.810502,
          45.529879,
          45.514609,
          45.5149552,
          45.5423581,
          48.462826299999996,
          45.4977245,
          45.5003412,
          45.451209999999996,
          46.8301456,
          45.453913,
          45.5517044,
          45.7337308,
          45.531740899999996,
          45.477713,
          46.8387184,
          45.4712203,
          45.530392600000006,
          45.5764597,
          45.4962474,
          45.5406888,
          46.7469929,
          45.5376778,
          45.50102329999999,
          45.55475379999999,
          46.8116509,
          46.8140474,
          48.4450826,
          45.5390299,
          45.476771,
          45.5532778,
          46.809706,
          46.809706,
          45.5256336,
          45.536491,
          46.8112992,
          45.7487153,
          45.5504993,
          46.850120600000004,
          46.6133744,
          48.2411066,
          46.8261206,
          45.4905278,
          48.4359648,
          45.5071239,
          45.533141,
          45.776568299999994,
          45.776568299999994,
          46.81217120000001,
          46.7671645,
          45.52491,
          45.537119,
          46.7648466,
          45.462736,
          45.550163500000004,
          45.7798286,
          46.813458000000004,
          45.501168,
          45.4818004,
          45.4818004,
          45.4818004,
          45.4818004,
          48.5131202,
          45.5012014,
          46.835829700000005,
          45.538608,
          46.83706,
          45.4787775,
          46.7667135,
          46.808235700000004,
          45.503243,
          46.7814325,
          45.494904999999996,
          46.87662520000001,
          45.5569248,
          45.5494837,
          45.4879465,
          45.530442,
          45.5724207,
          45.548992,
          45.5658559,
          45.510099600000004,
          46.8285773,
          46.8719516,
          46.872469099999996,
          46.874130900000004,
          45.4801044,
          46.8497139,
          45.521119,
          45.534253,
          46.7811331,
          45.542738,
          46.85565089999999,
          46.776897600000005,
          45.4932145,
          46.8092919,
          45.4900488,
          45.502466,
          46.804817,
          45.4795202,
          45.4542851,
          46.84520070000001,
          46.84520070000001,
          46.8522891,
          46.8722702,
          45.4567435,
          46.7719696,
          45.53994960000001,
          45.5318684,
          45.492821,
          45.529902299999996,
          46.5612778,
          45.55066729999999,
          46.9369784,
          46.856569799999995,
          45.450032,
          46.8551939,
          45.552327399999996,
          45.5142687,
          45.524306599999996,
          45.5268962,
          45.526566700000004,
          46.8450715,
          45.5528086,
          45.5429042,
          45.542845899999996,
          48.2365576,
          45.5505007,
          46.8087497,
          46.783583,
          45.5350129,
          45.537564,
          45.517827200000006,
          45.75375089999999,
          46.8344965,
          48.439182200000005,
          45.549955,
          45.5250239,
          45.4796918,
          46.8235945,
          45.534876000000004,
          45.5213391,
          45.521978999999995,
          46.843644700000006,
          46.843644700000006,
          45.5393501,
          46.5648117,
          45.5693077,
          45.496774,
          45.7316726,
          45.496595500000005,
          45.536658200000005,
          45.5082028,
          45.5315158,
          45.5017649,
          45.534698999999996,
          48.455566,
          45.5272924,
          45.4897153,
          45.4930025,
          46.786974900000004,
          45.5309797,
          45.5203464,
          45.4971662,
          45.5331963,
          45.5515612,
          45.485633,
          45.485513700000006,
          45.537431700000006,
          45.3959028,
          45.5440433,
          46.788962299999994,
          45.754271100000004,
          45.5195213,
          45.4969124,
          45.5107939,
          45.5317259,
          46.8143924,
          45.498894899999996,
          46.5422731,
          45.5542131,
          45.5333422,
          46.55516,
          45.528628999999995,
          45.528628999999995,
          46.8069329,
          46.821966499999995,
          45.54108970000001,
          45.481876,
          45.53576079999999,
          45.533130799999995,
          45.503026,
          48.235513,
          48.2253883,
          45.5168907,
          45.5156631,
          45.5156631,
          45.4866434,
          45.5311878,
          45.49601989999999,
          45.477589,
          45.5663616,
          45.560926,
          45.4898119,
          46.784278,
          46.8581844,
          46.8581844,
          45.529177600000004,
          45.5178516,
          45.5133421,
          45.490212299999996,
          46.7944508,
          45.5368341,
          45.7562191,
          45.7563598,
          45.51773920000001,
          45.481313,
          45.4530656,
          45.5012294,
          45.5379559,
          45.477033,
          45.468262,
          45.490049299999995,
          45.48472460000001,
          46.7785919,
          45.763783200000006,
          45.4796471,
          46.8332331,
          46.8695021,
          45.507745899999996,
          45.554871,
          45.5055465,
          45.504901600000004,
          45.494169,
          45.4980453,
          45.56889279999999,
          46.7604763,
          45.504557899999995,
          45.480883,
          45.5256855,
          45.7447533,
          46.8771472,
          45.509780299999996,
          45.525792100000004,
          45.5344458,
          46.804823799999994,
          46.856667,
          45.454977500000005,
          45.4951698,
          45.4869285,
          45.508578,
          45.5200805,
          45.5050038,
          45.505033000000005,
          46.8568283,
          45.470028899999996,
          45.5003917,
          45.514143,
          45.5600571,
          45.484015500000005,
          45.546814700000006,
          45.546814700000006,
          45.493238700000006,
          45.496565000000004,
          45.5129284,
          45.4021901,
          45.5239876,
          45.4977411,
          45.5023311,
          45.4943555,
          45.5360459,
          45.5238623,
          46.8394672,
          45.4815748,
          45.5395375,
          45.4946306,
          46.8258626,
          45.4766476,
          45.4795946,
          45.533874100000006,
          45.471171000000005,
          46.861517299999996,
          45.5400785,
          45.517010799999994,
          45.4767494,
          45.52669,
          45.511224600000006,
          45.519768299999996,
          45.5218613,
          45.493763200000004,
          45.747415999999994,
          45.5556408,
          45.5245327,
          45.519234000000004,
          45.5516707,
          45.497184000000004,
          46.8151085,
          45.532654,
          45.5235987,
          45.494941100000005,
          46.902625,
          45.5632434,
          45.528338899999994,
          45.494852,
          46.745000299999994,
          46.8153193,
          45.550391999999995,
          48.4631258,
          45.541035,
          46.6153338,
          45.46423729999999,
          45.5495882,
          45.518864,
          45.550095,
          46.88483,
          45.5566943,
          45.5283322,
          46.860625399999996,
          46.860098,
          45.509869,
          45.536665899999996,
          45.530779700000004,
          46.8873559,
          46.80317410000001,
          45.495802399999995,
          46.8437945,
          45.545920200000005,
          45.4961325,
          45.5456061,
          45.5176623,
          46.8733979,
          45.4895056,
          45.5339008,
          45.54084279999999,
          46.6099552,
          45.532303000000006,
          45.534634999999994,
          46.826036,
          45.527745700000004,
          45.5326372,
          45.496038,
          45.4955445,
          45.4960371,
          45.519121999999996,
          45.5039643,
          46.863359100000004,
          45.4686961,
          45.5115088,
          46.7955387,
          48.11261,
          48.224968200000006,
          46.852912700000005,
          48.2467264,
          45.494978,
          45.525807,
          45.547503799999994,
          45.5269939,
          46.76546,
          46.7619667,
          45.5082209,
          45.5264994,
          45.548671,
          45.522403499999996,
          45.4970075,
          45.487836,
          45.502275,
          45.5124685,
          45.4740183,
          45.53753,
          45.4865467,
          45.5657469,
          45.5124261,
          45.479726,
          45.479726,
          46.808808899999995,
          45.53353679999999,
          45.480138700000005,
          46.6129295,
          45.5301523,
          45.517559000000006,
          45.546162,
          45.5242056,
          45.4721493,
          45.543358399999995,
          45.543358399999995,
          45.543243200000006,
          45.496648,
          46.902437299999995,
          45.742263,
          46.857420399999995,
          45.5056339,
          45.4719326,
          45.730469299999996,
          45.7304989,
          45.516799299999995,
          45.53432479999999,
          45.557938,
          46.8113555,
          45.537330499999996,
          45.495380700000005,
          45.50564489999999,
          45.4970434,
          45.4873667,
          45.51847,
          45.5335848,
          45.5277982,
          45.7394641,
          45.498195,
          45.518161299999996,
          46.75624129999999,
          45.494978,
          45.5252912,
          45.535784,
          45.5073536,
          45.507476399999994,
          45.7418553,
          45.493402,
          48.458462899999994,
          46.769274200000005,
          46.7692001,
          46.773506700000006,
          45.7316539,
          45.480728000000006,
          46.8632573,
          46.751738,
          46.518755299999995,
          45.5589552,
          45.4949629,
          45.408564,
          45.5382561,
          45.7479626,
          46.804678100000004,
          45.551078499999996,
          45.4848375,
          46.829057899999995,
          45.570974,
          45.5082563,
          45.5502591,
          45.4985403,
          46.826283399999994,
          45.4665521,
          45.552158,
          45.5009341,
          45.5009341,
          45.5400175,
          45.484879299999996,
          45.484796,
          45.54007360000001,
          46.793140799999996,
          46.81007279999999,
          45.7540995,
          45.753891700000004,
          45.4973237,
          45.546881,
          45.523676200000004,
          46.8164585,
          45.5219939,
          45.554595,
          45.4593881,
          45.5224701,
          46.62647570000001,
          45.453877,
          45.482394,
          46.7867359,
          46.78651,
          46.85127670000001,
          45.532438,
          48.2380375,
          48.238058,
          45.482538700000006,
          46.8482421,
          45.5067549,
          45.521041,
          45.5454844,
          45.557590600000005,
          46.8673654,
          46.9119927,
          45.514911,
          45.4680943,
          45.511586,
          45.511586,
          46.856242,
          45.5241071,
          45.467655,
          46.76525,
          46.9511229,
          45.4704075,
          46.8231631,
          45.5053299,
          45.4044896,
          45.540308,
          45.538722,
          46.865754200000005,
          45.5380399,
          45.535973799999994,
          45.535982000000004,
          45.547357299999994,
          45.5471946,
          46.86325720000001,
          48.2379672,
          48.241506,
          45.5154652,
          46.7706734,
          45.4899305,
          45.5139461,
          45.537584499999994,
          45.568646,
          46.556369000000004,
          45.5296198,
          46.6152281,
          45.535304,
          45.520773299999995,
          45.578961299999996,
          45.565206599999996,
          45.474103899999996,
          45.516273999999996,
          45.5585331,
          45.50837979999999,
          45.4805,
          45.467577,
          45.5657722,
          45.5463631,
          45.473974,
          45.4592487,
          45.522828999999994,
          46.504804,
          45.465649,
          45.526945899999994,
          46.857697200000004,
          48.236205,
          45.481625,
          45.54544129999999,
          45.517083,
          45.5186,
          45.528749,
          45.5025099,
          45.71794379999999,
          48.448224200000006,
          45.5335244,
          45.5303266,
          45.5369782,
          45.5182228,
          45.5180292,
          45.4939814,
          46.888185299999996,
          45.477993,
          46.930354,
          45.476821,
          45.4596255,
          45.469807,
          45.7560065,
          45.5584948,
          45.5133089,
          46.806132,
          46.854695899999996,
          46.8223804,
          46.773587899999995,
          45.5221025,
          45.506544700000006,
          45.4918815,
          45.54352720000001,
          45.5294081,
          45.566800799999996,
          46.7931814,
          46.89884,
          46.810331,
          45.5392528,
          45.570618700000004,
          45.5522214,
          46.812938,
          46.812938,
          45.5171479,
          45.485761100000005,
          46.8155711,
          45.519611499999996,
          45.50238220000001,
          45.5018406,
          45.505660999999996,
          45.529362899999995,
          45.5397351,
          45.5448164,
          45.456184,
          45.4927815,
          45.457285,
          45.5116604,
          45.54374,
          46.8079537,
          45.4542961,
          45.475897100000005,
          46.809899,
          46.827163,
          46.8088338,
          46.8752345,
          46.777074,
          46.813363,
          46.8765528,
          46.814886,
          46.55307,
          45.729974799999994,
          45.5355194,
          45.50689129999999,
          45.5481052,
          46.877209,
          45.4934177,
          46.847714,
          45.5299652,
          45.7586407,
          46.916613,
          46.8779,
          46.8101841,
          45.5310152,
          45.5067196,
          46.8758438,
          46.769966499999995,
          46.7570205,
          46.8030531,
          45.521090799999996,
          46.8105929,
          45.5177773,
          45.5281589,
          45.500331200000005,
          45.4816755,
          45.742940999999995,
          45.504344399999994,
          45.519014299999995,
          45.4583407,
          48.2392679,
          46.8711612,
          46.808614399999996,
          46.7582437,
          46.839818,
          46.8593017,
          46.886892100000004,
          46.8881818,
          46.760380700000006,
          46.8177823,
          45.7574496,
          46.8166991,
          45.4955477
         ],
         "legendgroup": "",
         "lon": [
          -73.597075,
          -73.568175,
          -68.4706861,
          -71.3561663,
          -73.570841,
          -73.44680859999998,
          -71.21863990000001,
          -73.603989,
          -73.5781092,
          -71.2141851,
          -73.55699090000002,
          -73.5959721,
          -71.1801463,
          -73.5821607,
          -73.6259151,
          -79.0310436,
          -73.5560497,
          -73.6306253,
          -73.5741421,
          -73.5748868,
          -73.57434040000001,
          -73.57500329999999,
          -73.57500329999999,
          -71.95428290000001,
          -68.5080816,
          -73.6245821,
          -73.5946095,
          -73.5610195,
          -72.7383561,
          -71.23993,
          -73.6471295,
          -73.5924047,
          -73.65558670000001,
          -73.5801377,
          -73.46628709999999,
          -71.2471732,
          -73.4649375,
          -73.6005277,
          -73.6035845,
          -73.6313923,
          -73.5710036,
          -73.57139240000001,
          -73.5878873,
          -73.5882083,
          -73.6327222,
          -73.579699,
          -73.5796493,
          -73.505356,
          -72.6936862,
          -73.667276,
          -73.5809405,
          -73.4630257,
          -79.0406838,
          -73.6085368,
          -73.5065236,
          -72.7088415,
          -73.58737540000001,
          -73.577163,
          -73.4197238,
          -71.239331,
          -73.57857,
          -73.5831545,
          -72.7634128,
          -71.2439177,
          -71.27653149999999,
          -73.55881240000001,
          -73.5641863,
          -73.4105832,
          -68.5839784,
          -73.4772373,
          -73.6372269,
          -73.5880042,
          -73.49157220000001,
          -71.2574357,
          -73.5721152,
          -73.6058333,
          -73.5628875,
          -73.6535734,
          -73.567613,
          -73.5675448,
          -73.5664966,
          -73.5662941,
          -71.2262251,
          -73.47600870000001,
          -72.7447355,
          -71.2708805,
          -71.22132459999999,
          -71.31104559999999,
          -71.2682532,
          -71.2792974,
          -71.2242526,
          -73.594378,
          -73.6780625,
          -71.3198289,
          -71.31950429999999,
          -73.5819472,
          -72.7037228,
          -73.5048386,
          -73.48639849999999,
          -73.55597440000001,
          -73.58765600000001,
          -73.6094541,
          -73.58182240000001,
          -73.5669386,
          -73.5519675,
          -73.4461179,
          -71.2072578,
          -73.58839870000001,
          -73.64259200000001,
          -73.61261209999999,
          -71.23657,
          -73.572264,
          -71.24188609999999,
          -71.2260403,
          -73.698998,
          -73.4810832,
          -73.59432679999999,
          -73.640073,
          -72.7384109,
          -71.242154,
          -71.2396021,
          -71.2550438,
          -71.18925329999999,
          -73.5578058,
          -73.5851377,
          -73.5850035,
          -71.2260486,
          -73.4784689,
          -73.5798516,
          -73.6199188,
          -73.63461190000001,
          -73.63461190000001,
          -73.6504808,
          -73.6390809,
          -73.5664947,
          -73.5714549,
          -73.5596293,
          -73.57493149999999,
          -73.5607568,
          -73.582151,
          -73.52255699999999,
          -72.7620632,
          -73.4310287,
          -73.4677769,
          -73.5463929,
          -71.366122,
          -71.4113318,
          -73.56652240000001,
          -73.6490685,
          -73.5569217,
          -73.41653029999999,
          -73.593746,
          -71.3560875,
          -71.3560875,
          -68.51264520000001,
          -72.7521273,
          -73.566039,
          -71.2668179,
          -73.4233872,
          -73.58202759999999,
          -73.58121650000001,
          -73.5631319,
          -73.58537700000001,
          -73.595479,
          -73.5585829,
          -73.5773074,
          -73.5734675,
          -73.6158029,
          -73.6368367,
          -71.202382,
          -73.5060375,
          -73.63933270000001,
          -73.639542,
          -73.58465840000001,
          -73.55331600000001,
          -73.55836500000001,
          -73.5796571,
          -73.5797907,
          -73.59605450000001,
          -73.6317868,
          -71.2209063,
          -71.2825827,
          -73.5681311,
          -79.0373917,
          -71.3152547,
          -73.4297636,
          -71.2894152,
          -73.6394618,
          -73.5652994,
          -73.45380490000001,
          -73.5958717,
          -71.2334467,
          -73.5508902,
          -73.5508902,
          -73.4659162,
          -73.568896,
          -73.57027,
          -73.5597293,
          -73.5591697,
          -71.1998508,
          -71.2175696,
          -73.5860847,
          -71.20704,
          -71.21335069999999,
          -71.237315,
          -72.74685759999998,
          -71.28361290000001,
          -71.28361290000001,
          -73.556097,
          -73.5559002,
          -73.556449,
          -73.631548,
          -73.45300340000001,
          -71.28921590000002,
          -73.62952740000001,
          -73.63958670000001,
          -73.5652013,
          -73.5652013,
          -72.7460205,
          -73.57234790000001,
          -71.2935536,
          -73.62167020000001,
          -73.5779496,
          -73.57810400000001,
          -73.55254509999999,
          -73.5851218,
          -71.33027659999999,
          -73.5139573,
          -73.4581679,
          -73.5912709,
          -71.25910429999999,
          -73.48770970000001,
          -73.59746170000001,
          -73.58282,
          -71.3305868,
          -71.1852277,
          -78.99260600000001,
          -73.5816539,
          -71.1499358,
          -73.4757013,
          -73.6360684,
          -73.3993508,
          -73.424696,
          -73.5793948,
          -71.23860970000001,
          -73.58094799999999,
          -71.25192890000001,
          -73.65343680000001,
          -73.45098759999999,
          -73.4510315,
          -71.22485970000001,
          -73.583371,
          -73.6375514,
          -79.2480642,
          -73.59957800000001,
          -73.5743372,
          -73.7130206,
          -71.43041,
          -71.22669920000001,
          -73.60373,
          -73.598789,
          -73.4891109,
          -73.44069870000001,
          -72.7446933,
          -73.55248399999999,
          -73.5790809,
          -73.579291,
          -73.575664,
          -73.49160390000002,
          -71.2314313,
          -73.5562644,
          -73.5552553,
          -73.4676372,
          -73.59485699999999,
          -73.5654928,
          -73.61202,
          -71.2226811,
          -72.7429133,
          -73.55902309999999,
          -73.4624333,
          -73.59225179999999,
          -73.4481007,
          -71.2122832,
          -73.66917,
          -73.59090490000001,
          -73.565247,
          -73.48445219999999,
          -73.48445219999999,
          -73.580991,
          -73.6588939,
          -73.59824,
          -73.69412729999999,
          -73.4443063,
          -73.6460511,
          -73.57673790000001,
          -73.5912281,
          -71.4675253,
          -71.4675253,
          -73.54737970000001,
          -73.5810324,
          -73.601011,
          -73.44454250000001,
          -73.6510092,
          -73.5597685,
          -73.5557197,
          -73.5979238,
          -71.2459653,
          -73.4962203,
          -73.59350620000001,
          -71.2207915,
          -73.5951189,
          -73.55351359999999,
          -71.23470809999999,
          -68.53344,
          -73.572676,
          -73.672741,
          -73.4798282,
          -71.23089,
          -71.2286708,
          -73.58293459999999,
          -73.61048000000001,
          -73.596521,
          -73.5603887,
          -73.4601421,
          -71.2273699,
          -73.465352,
          -78.996684,
          -73.6442381,
          -73.6442402,
          -73.5617125,
          -73.572434,
          -73.5566077,
          -73.5759925,
          -71.23976400000001,
          -73.5710036,
          -73.7137765,
          -73.5693497,
          -73.6294296,
          -73.42542209999999,
          -73.5545852,
          -73.55460040000001,
          -73.6499702,
          -71.2527723,
          -71.228911,
          -73.6786555,
          -73.5601848,
          -73.60403769999999,
          -78.3819344,
          -73.55159990000001,
          -79.02551650000001,
          -73.57762059999999,
          -73.6409637,
          -73.4795498,
          -73.5831156,
          -73.5586889,
          -73.4918641,
          -71.2499304,
          -71.2499304,
          -73.608739,
          -73.5562755,
          -71.312725,
          -71.2102162,
          -73.5616546,
          -73.5593637,
          -73.5681434,
          -73.57782270000001,
          -73.557264,
          -71.31018449999999,
          -73.6354679,
          -73.5728803,
          -68.5222787,
          -73.65311700000001,
          -73.5749733,
          -73.4782079,
          -73.59792879999999,
          -73.6678245,
          -73.5859921,
          -73.5854084,
          -73.58587,
          -73.5056314,
          -71.21184840000001,
          -73.6657195,
          -72.7538881,
          -73.454829,
          -73.57201640000001,
          -73.5707853,
          -73.5659651,
          -73.5663859,
          -71.3295477,
          -73.4875891,
          -73.5971042,
          -73.5762569,
          -71.260928,
          -73.47815209999999,
          -71.36933590000001,
          -73.56984179999999,
          -73.5637291,
          -71.3508571,
          -71.4318653,
          -73.655971,
          -73.570317,
          -68.53597099999999,
          -73.55760129999999,
          -73.55760129999999,
          -71.23601590000001,
          -71.2549883,
          -71.2700831,
          -71.4179855,
          -71.2146495,
          -71.3308406,
          -71.3308406,
          -71.2313633,
          -68.5243247,
          -73.4130703,
          -73.5782733,
          -73.6130267,
          -73.6130267,
          -73.6133863,
          -73.6131821,
          -73.4816765,
          -73.5735681,
          -73.5562303,
          -73.5652647,
          -71.3505757,
          -73.5694464,
          -71.2309801,
          -71.3521433,
          -73.64585,
          -71.2775625,
          -71.1594917,
          -73.5516038,
          -71.8979286,
          -71.332755,
          -73.415374,
          -71.3384958,
          -71.33761609999999,
          -73.5867022,
          -73.6537623,
          -73.5714431,
          -71.2682099,
          -73.72098100000001,
          -73.5752449,
          -68.5502473,
          -73.6077662,
          -73.57325859999999,
          -72.7612965,
          -73.5758915,
          -71.283982,
          -71.2545171,
          -73.5874174,
          -71.25735300000001,
          -73.611864,
          -73.61232690000001,
          -73.55962629999999,
          -73.4736863,
          -73.5667297,
          -73.5722427,
          -73.4486802,
          -73.55868620000001,
          -71.2591147,
          -73.5724235,
          -73.4974959,
          -71.31928070000001,
          -73.4825637,
          -73.57817990000001,
          -72.7449814,
          -71.29082220000001,
          -73.48935999999999,
          -73.444911,
          -73.5538724,
          -71.2397935,
          -71.2529572,
          -73.62851590000001,
          -73.6303094,
          -71.1952967,
          -72.7463848,
          -71.2443987,
          -71.2281651,
          -73.6191179,
          -73.5896475,
          -73.57841429999999,
          -73.5945304,
          -73.5702403,
          -73.606234,
          -71.2567028,
          -73.4725306,
          -73.5939745,
          -73.5941785,
          -71.18847530000001,
          -73.63104150000001,
          -71.30012959999999,
          -71.29990140000001,
          -73.59025279999999,
          -73.61403059999999,
          -71.14183840000001,
          -73.4675802,
          -73.59914479999999,
          -71.3093982,
          -73.57314699999999,
          -73.5759468,
          -73.5757894,
          -71.1997786,
          -73.4588991,
          -71.281651,
          -79.03271009999999,
          -73.5949315,
          -73.5780957,
          -73.5687441,
          -73.5711319,
          -73.5221767,
          -73.5221767,
          -72.73174759999999,
          -71.3271611,
          -71.243925,
          -73.45729,
          -73.56202990000001,
          -73.562792,
          -73.4553264,
          -68.5168564,
          -73.6228009,
          -73.56207140000001,
          -73.594723,
          -71.2383808,
          -73.5854838,
          -73.5641308,
          -73.4681318,
          -73.708365,
          -73.6314699,
          -71.2847364,
          -73.6347163,
          -73.5738988,
          -73.65427700000001,
          -73.6225469,
          -73.5991125,
          -71.349594,
          -73.61165720000001,
          -73.56443900000001,
          -73.57468940000001,
          -71.21665949999999,
          -71.2107142,
          -68.5175338,
          -73.65494759999999,
          -73.42910690000001,
          -73.5801119,
          -71.26103359999999,
          -71.26103359999999,
          -73.49704090000002,
          -73.602535,
          -71.3703135,
          -73.4545769,
          -73.5904315,
          -71.3561721,
          -72.6969848,
          -79.12711230000001,
          -71.22728520000001,
          -73.58347380000001,
          -68.5731844,
          -73.6244431,
          -73.55218690000001,
          -73.4184076,
          -73.4184076,
          -71.2993801,
          -71.37558990000001,
          -73.6046054,
          -73.67055500000001,
          -71.3697144,
          -73.5881326,
          -73.5903572,
          -73.4052039,
          -71.226642,
          -73.41316590000001,
          -73.5860052,
          -73.5860052,
          -73.5860052,
          -73.5860052,
          -68.46069920000001,
          -73.5608672,
          -71.2224652,
          -73.6004696,
          -71.24458100000001,
          -73.5827733,
          -71.3301546,
          -71.2250003,
          -73.61941170000001,
          -71.3473075,
          -73.49942469999999,
          -71.1668769,
          -73.57015229999999,
          -73.6669165,
          -73.568495,
          -73.722268,
          -73.4823959,
          -73.578232,
          -73.586252,
          -73.4980915,
          -71.354394,
          -71.1958115,
          -71.19613829999999,
          -71.20029790000001,
          -73.5873686,
          -71.2414885,
          -73.585753,
          -73.6123242,
          -71.3009993,
          -73.577831,
          -71.414864,
          -71.30869659999999,
          -73.5647918,
          -71.24029909999999,
          -73.4320878,
          -73.57130409999999,
          -71.2330132,
          -73.5769653,
          -73.5894464,
          -71.2166026,
          -71.2166026,
          -71.23875859999998,
          -71.1941188,
          -73.58195450000001,
          -71.2821224,
          -73.613104,
          -73.56504809999998,
          -73.5801515,
          -73.5608224,
          -72.7410393,
          -73.65653409999999,
          -71.3099686,
          -71.34706800000001,
          -73.598527,
          -71.36152320000001,
          -73.57583690000001,
          -73.4632093,
          -73.4840879,
          -73.58990909999999,
          -73.5899255,
          -71.2513212,
          -73.6618543,
          -73.58846070000001,
          -73.5884701,
          -79.0202533,
          -73.6436638,
          -71.2256145,
          -71.2884349,
          -73.60921009999998,
          -73.700755,
          -73.47975059999999,
          -73.4404939,
          -71.2495125,
          -68.5545728,
          -73.57391209999999,
          -73.60411850000001,
          -73.4679727,
          -71.35458179999999,
          -73.4703832,
          -73.4583318,
          -73.4596895,
          -71.2473091,
          -71.2473091,
          -73.4724158,
          -72.74574109999999,
          -73.5831872,
          -73.574496,
          -73.4606625,
          -73.4131913,
          -73.5983696,
          -73.5680378,
          -73.6128945,
          -73.57697900000001,
          -73.569848,
          -68.49578199999999,
          -73.5863428,
          -73.58164079999999,
          -73.4854656,
          -71.34908829999999,
          -73.6076002,
          -73.6154628,
          -73.6233777,
          -73.61443390000001,
          -73.5795729,
          -73.627811,
          -73.627969,
          -73.6146725,
          -71.89492059999999,
          -73.5778725,
          -71.2693031,
          -73.46940090000001,
          -73.58615479999999,
          -73.4768992,
          -73.56280290000001,
          -73.60682259999999,
          -71.22119,
          -73.6486865,
          -72.7464423,
          -73.5598682,
          -73.5020229,
          -72.74876,
          -73.51549140000002,
          -73.51549140000002,
          -71.23543070000001,
          -71.2287233,
          -73.5595115,
          -73.388508,
          -73.50742120000001,
          -73.49559659999998,
          -73.555221,
          -79.0150703,
          -79.0071946,
          -73.5733133,
          -73.49030259999999,
          -73.49030259999999,
          -73.57593390000001,
          -73.5505669,
          -73.5765625,
          -73.6151732,
          -73.65996319999999,
          -73.65061490000001,
          -73.58633859999999,
          -71.24772469999999,
          -71.4104092,
          -71.4104092,
          -73.5124745,
          -73.55736440000001,
          -73.5693386,
          -73.46690749999999,
          -71.2568677,
          -73.48587690000001,
          -73.46370290000002,
          -73.4464871,
          -73.5585045,
          -73.5774552,
          -73.5844985,
          -73.6323668,
          -73.698875,
          -73.5864429,
          -73.637689,
          -73.6424751,
          -73.6330202,
          -71.369704,
          -73.4314755,
          -73.6240935,
          -71.2775556,
          -71.2574126,
          -73.56952659999999,
          -73.66892299999999,
          -73.5558254,
          -73.5562123,
          -73.55879300000001,
          -73.48095500000001,
          -73.64542209999999,
          -71.3201392,
          -73.57179040000001,
          -73.57812709999999,
          -73.4719994,
          -73.45484240000002,
          -71.1579152,
          -73.564066,
          -73.581627,
          -73.578434,
          -71.2271265,
          -71.33932759999999,
          -73.6325126,
          -73.6555993,
          -73.5788829,
          -73.4948907,
          -73.5763887,
          -73.5731693,
          -73.57309000000001,
          -71.3552087,
          -73.616354,
          -73.6615765,
          -73.572699,
          -73.57375909999999,
          -73.5802715,
          -73.6388975,
          -73.6388975,
          -73.56421540000001,
          -73.6540058,
          -73.4993489,
          -71.9571767,
          -73.5760208,
          -73.5846942,
          -73.6378368,
          -73.6079561,
          -73.56080920000001,
          -73.55345820000001,
          -71.2244733,
          -73.386087,
          -73.6537514,
          -73.5584113,
          -71.24340040000001,
          -73.614551,
          -73.6197772,
          -73.559921,
          -73.6477572,
          -71.3561457,
          -73.6432698,
          -73.56721379999999,
          -73.62197309999999,
          -73.573784,
          -73.57664,
          -73.45762090000001,
          -73.5891696,
          -73.47833409999998,
          -73.46093499999999,
          -73.56760009999999,
          -73.5816487,
          -73.555727,
          -73.48376,
          -73.580278,
          -71.208333,
          -73.6066,
          -73.60574720000001,
          -73.6198663,
          -71.30857270000001,
          -73.5788755,
          -73.559961,
          -73.58046,
          -71.455239,
          -71.2256819,
          -73.65100000000001,
          -68.5174693,
          -73.48899999999999,
          -72.73626440000001,
          -73.62892590000001,
          -73.6709877,
          -73.592045,
          -73.5833652,
          -71.159253,
          -73.66833390000001,
          -73.7007541,
          -71.217647,
          -71.21676500000001,
          -73.57091690000001,
          -73.5711908,
          -73.5544985,
          -71.17047559999999,
          -71.3417518,
          -73.57262659999999,
          -71.2304185,
          -73.59864909999999,
          -73.55502840000001,
          -73.6609783,
          -73.6176682,
          -71.2746465,
          -73.6430795,
          -73.4666512,
          -73.5913995,
          -72.6994932,
          -73.559666,
          -73.5614329,
          -71.229244,
          -73.49037709999999,
          -73.4712168,
          -73.5810623,
          -73.5817343,
          -73.5807182,
          -73.58756,
          -73.5722865,
          -71.42973359999999,
          -73.6095465,
          -73.574354,
          -71.2519148,
          -79.15131,
          -79.000641,
          -71.2030412,
          -79.0197512,
          -73.6529853,
          -73.551683,
          -73.5791606,
          -73.58635579999999,
          -71.3089437,
          -71.33388520000001,
          -73.55977320000001,
          -73.4751156,
          -73.64624599999999,
          -73.55154590000001,
          -73.5530998,
          -73.3825644,
          -73.4269,
          -73.5700959,
          -73.60866120000001,
          -73.556945,
          -73.636881,
          -73.6469577,
          -73.561852,
          -73.571201,
          -73.571201,
          -71.3832074,
          -73.65623190000001,
          -73.5668124,
          -72.7120308,
          -73.5986257,
          -73.49717120000001,
          -73.586159,
          -73.47324499999999,
          -73.5877959,
          -73.59755729999999,
          -73.59755729999999,
          -73.59714040000001,
          -73.5822882,
          -71.36719740000001,
          -73.4586568,
          -71.2650052,
          -73.5534447,
          -73.43844449999999,
          -73.4552527,
          -73.4553312,
          -73.5782679,
          -73.617998,
          -73.6594218,
          -71.23257,
          -73.57082940000001,
          -73.61959399999999,
          -73.5676757,
          -73.5763023,
          -73.47193309999999,
          -73.55588909999999,
          -73.49120400000001,
          -73.57974820000001,
          -73.445697,
          -73.577169,
          -73.58835859999999,
          -71.2985748,
          -73.613256,
          -73.5936214,
          -73.5550839,
          -73.5734805,
          -73.5736226,
          -73.454887,
          -73.5799609,
          -68.4972474,
          -71.3217104,
          -71.3215709,
          -71.3160467,
          -73.4532438,
          -73.5791859,
          -71.2681296,
          -71.37991120000001,
          -72.742998,
          -73.5724404,
          -73.476886,
          -71.87316,
          -73.655599,
          -73.45505849999999,
          -71.2267871,
          -73.6430891,
          -73.6287153,
          -71.2297821,
          -73.5673489,
          -73.57449759999999,
          -73.595652,
          -73.6268077,
          -71.2298903,
          -73.63985550000001,
          -73.593951,
          -73.5737683,
          -73.5737683,
          -73.47993659999999,
          -73.62789659999999,
          -73.62776099999999,
          -73.6115317,
          -71.2575432,
          -71.2195632,
          -73.46995290000001,
          -73.47027259999999,
          -73.6251458,
          -73.660262,
          -73.5520413,
          -71.2178434,
          -73.5594309,
          -73.58696859999999,
          -73.5964908,
          -73.55671600000001,
          -72.65063549999999,
          -73.5957931,
          -73.62725379999999,
          -71.2822859,
          -71.282286,
          -71.2501291,
          -73.656181,
          -79.02289959999999,
          -79.02282199999999,
          -73.58282559999999,
          -71.2545604,
          -73.56083220000001,
          -73.5753497,
          -73.5767013,
          -73.5692885,
          -71.37949590000001,
          -71.3341556,
          -73.574206,
          -73.3775975,
          -73.5665235,
          -73.5665235,
          -71.35383900000001,
          -73.55147209999998,
          -73.620779,
          -71.48729,
          -71.20757929999999,
          -73.6069733,
          -71.2608346,
          -73.6375737,
          -71.9512674,
          -73.612697,
          -73.6085707,
          -71.2152415,
          -73.6794271,
          -73.6132308,
          -73.613252,
          -73.660003,
          -73.6600383,
          -71.2695032,
          -79.0183101,
          -79.0197067,
          -73.5763138,
          -71.2849442,
          -73.4730747,
          -73.5732412,
          -73.61487840000001,
          -73.65288199999999,
          -72.750473,
          -73.57791390000001,
          -72.68910100000001,
          -73.57208879999999,
          -73.5634553,
          -73.6531902,
          -73.64809890000001,
          -73.5946102,
          -73.5773983,
          -73.5689605,
          -73.5709313,
          -73.5554,
          -73.622165,
          -73.47967340000001,
          -73.6032498,
          -73.60972199999999,
          -73.5987396,
          -73.612548,
          -72.7279529,
          -73.6246,
          -73.5771508,
          -71.41239190000002,
          -79.0153672,
          -73.579719,
          -73.57239100000001,
          -73.5895625,
          -73.5545,
          -73.584163,
          -73.63549920000001,
          -73.4717778,
          -68.53501379999999,
          -73.5741927,
          -73.4833564,
          -73.65145940000001,
          -73.57072600000001,
          -73.57028199999999,
          -73.4814693,
          -71.2685351,
          -73.583575,
          -71.34452390000001,
          -73.567489,
          -73.59625190000001,
          -73.591599,
          -73.4659798,
          -73.6665781,
          -73.484431,
          -71.24449190000001,
          -71.1902255,
          -71.3359665,
          -71.2790953,
          -73.4633968,
          -73.4473679,
          -73.6316131,
          -73.57629370000001,
          -73.57751800000001,
          -73.65473850000001,
          -71.2346333,
          -71.307011,
          -71.21963000000001,
          -73.5591824,
          -73.5722229,
          -73.5980665,
          -71.2279113,
          -71.2279113,
          -73.56836609999999,
          -73.62686479999999,
          -71.262048,
          -73.5834574,
          -73.5703859,
          -73.5701894,
          -73.5673556,
          -73.5604293,
          -73.5092348,
          -73.5624263,
          -73.600368,
          -73.5828752,
          -73.59307790000001,
          -73.5667932,
          -73.6060944,
          -71.3691058,
          -73.6347578,
          -73.6227887,
          -71.228047,
          -71.23076,
          -71.3498512,
          -71.2515599,
          -71.3585253,
          -71.226961,
          -71.28256379999999,
          -71.2517318,
          -72.74283299999999,
          -73.480808,
          -73.453637,
          -73.5525719,
          -73.64551490000001,
          -71.15613859999999,
          -73.6351324,
          -71.24320970000001,
          -73.5906733,
          -73.4614119,
          -71.3191609,
          -71.3408,
          -71.3201933,
          -73.72227679999999,
          -73.572599,
          -71.3274917,
          -71.31827870000001,
          -71.37537459999999,
          -71.3319321,
          -73.585367,
          -71.2795098,
          -73.5737989,
          -73.4780073,
          -73.6283423,
          -73.5784823,
          -73.468735,
          -73.5630762,
          -73.5868465,
          -73.588099,
          -79.12698470000001,
          -71.1967984,
          -71.367333,
          -71.35061230000001,
          -71.395688,
          -71.4242508,
          -71.5169218,
          -71.165113,
          -71.3637401,
          -71.2532137,
          -73.4799655,
          -71.2025507,
          -73.4739456
         ],
         "marker": {
          "color": "#636efa"
         },
         "mode": "markers",
         "name": "",
         "showlegend": false,
         "subplot": "mapbox",
         "type": "scattermapbox"
        }
       ],
       "layout": {
        "height": 600,
        "legend": {
         "tracegroupgap": 0
        },
        "mapbox": {
         "accesstoken": "pk.eyJ1IjoiZWJlbmFqYXkyIiwiYSI6ImNrcGc0OWh4NjBmcTQyb3F4d29sdnMybDkifQ.mZ1ZiDepeliJ21myb3N-wA",
         "center": {
          "lat": 45.96257670972222,
          "lon": -73.01690413489585
         },
         "domain": {
          "x": [
           0,
           1
          ],
          "y": [
           0,
           1
          ]
         },
         "zoom": 8
        },
        "margin": {
         "t": 60
        },
        "template": {
         "data": {
          "bar": [
           {
            "error_x": {
             "color": "#2a3f5f"
            },
            "error_y": {
             "color": "#2a3f5f"
            },
            "marker": {
             "line": {
              "color": "#E5ECF6",
              "width": 0.5
             }
            },
            "type": "bar"
           }
          ],
          "barpolar": [
           {
            "marker": {
             "line": {
              "color": "#E5ECF6",
              "width": 0.5
             }
            },
            "type": "barpolar"
           }
          ],
          "carpet": [
           {
            "aaxis": {
             "endlinecolor": "#2a3f5f",
             "gridcolor": "white",
             "linecolor": "white",
             "minorgridcolor": "white",
             "startlinecolor": "#2a3f5f"
            },
            "baxis": {
             "endlinecolor": "#2a3f5f",
             "gridcolor": "white",
             "linecolor": "white",
             "minorgridcolor": "white",
             "startlinecolor": "#2a3f5f"
            },
            "type": "carpet"
           }
          ],
          "choropleth": [
           {
            "colorbar": {
             "outlinewidth": 0,
             "ticks": ""
            },
            "type": "choropleth"
           }
          ],
          "contour": [
           {
            "colorbar": {
             "outlinewidth": 0,
             "ticks": ""
            },
            "colorscale": [
             [
              0,
              "#0d0887"
             ],
             [
              0.1111111111111111,
              "#46039f"
             ],
             [
              0.2222222222222222,
              "#7201a8"
             ],
             [
              0.3333333333333333,
              "#9c179e"
             ],
             [
              0.4444444444444444,
              "#bd3786"
             ],
             [
              0.5555555555555556,
              "#d8576b"
             ],
             [
              0.6666666666666666,
              "#ed7953"
             ],
             [
              0.7777777777777778,
              "#fb9f3a"
             ],
             [
              0.8888888888888888,
              "#fdca26"
             ],
             [
              1,
              "#f0f921"
             ]
            ],
            "type": "contour"
           }
          ],
          "contourcarpet": [
           {
            "colorbar": {
             "outlinewidth": 0,
             "ticks": ""
            },
            "type": "contourcarpet"
           }
          ],
          "heatmap": [
           {
            "colorbar": {
             "outlinewidth": 0,
             "ticks": ""
            },
            "colorscale": [
             [
              0,
              "#0d0887"
             ],
             [
              0.1111111111111111,
              "#46039f"
             ],
             [
              0.2222222222222222,
              "#7201a8"
             ],
             [
              0.3333333333333333,
              "#9c179e"
             ],
             [
              0.4444444444444444,
              "#bd3786"
             ],
             [
              0.5555555555555556,
              "#d8576b"
             ],
             [
              0.6666666666666666,
              "#ed7953"
             ],
             [
              0.7777777777777778,
              "#fb9f3a"
             ],
             [
              0.8888888888888888,
              "#fdca26"
             ],
             [
              1,
              "#f0f921"
             ]
            ],
            "type": "heatmap"
           }
          ],
          "heatmapgl": [
           {
            "colorbar": {
             "outlinewidth": 0,
             "ticks": ""
            },
            "colorscale": [
             [
              0,
              "#0d0887"
             ],
             [
              0.1111111111111111,
              "#46039f"
             ],
             [
              0.2222222222222222,
              "#7201a8"
             ],
             [
              0.3333333333333333,
              "#9c179e"
             ],
             [
              0.4444444444444444,
              "#bd3786"
             ],
             [
              0.5555555555555556,
              "#d8576b"
             ],
             [
              0.6666666666666666,
              "#ed7953"
             ],
             [
              0.7777777777777778,
              "#fb9f3a"
             ],
             [
              0.8888888888888888,
              "#fdca26"
             ],
             [
              1,
              "#f0f921"
             ]
            ],
            "type": "heatmapgl"
           }
          ],
          "histogram": [
           {
            "marker": {
             "colorbar": {
              "outlinewidth": 0,
              "ticks": ""
             }
            },
            "type": "histogram"
           }
          ],
          "histogram2d": [
           {
            "colorbar": {
             "outlinewidth": 0,
             "ticks": ""
            },
            "colorscale": [
             [
              0,
              "#0d0887"
             ],
             [
              0.1111111111111111,
              "#46039f"
             ],
             [
              0.2222222222222222,
              "#7201a8"
             ],
             [
              0.3333333333333333,
              "#9c179e"
             ],
             [
              0.4444444444444444,
              "#bd3786"
             ],
             [
              0.5555555555555556,
              "#d8576b"
             ],
             [
              0.6666666666666666,
              "#ed7953"
             ],
             [
              0.7777777777777778,
              "#fb9f3a"
             ],
             [
              0.8888888888888888,
              "#fdca26"
             ],
             [
              1,
              "#f0f921"
             ]
            ],
            "type": "histogram2d"
           }
          ],
          "histogram2dcontour": [
           {
            "colorbar": {
             "outlinewidth": 0,
             "ticks": ""
            },
            "colorscale": [
             [
              0,
              "#0d0887"
             ],
             [
              0.1111111111111111,
              "#46039f"
             ],
             [
              0.2222222222222222,
              "#7201a8"
             ],
             [
              0.3333333333333333,
              "#9c179e"
             ],
             [
              0.4444444444444444,
              "#bd3786"
             ],
             [
              0.5555555555555556,
              "#d8576b"
             ],
             [
              0.6666666666666666,
              "#ed7953"
             ],
             [
              0.7777777777777778,
              "#fb9f3a"
             ],
             [
              0.8888888888888888,
              "#fdca26"
             ],
             [
              1,
              "#f0f921"
             ]
            ],
            "type": "histogram2dcontour"
           }
          ],
          "mesh3d": [
           {
            "colorbar": {
             "outlinewidth": 0,
             "ticks": ""
            },
            "type": "mesh3d"
           }
          ],
          "parcoords": [
           {
            "line": {
             "colorbar": {
              "outlinewidth": 0,
              "ticks": ""
             }
            },
            "type": "parcoords"
           }
          ],
          "pie": [
           {
            "automargin": true,
            "type": "pie"
           }
          ],
          "scatter": [
           {
            "marker": {
             "colorbar": {
              "outlinewidth": 0,
              "ticks": ""
             }
            },
            "type": "scatter"
           }
          ],
          "scatter3d": [
           {
            "line": {
             "colorbar": {
              "outlinewidth": 0,
              "ticks": ""
             }
            },
            "marker": {
             "colorbar": {
              "outlinewidth": 0,
              "ticks": ""
             }
            },
            "type": "scatter3d"
           }
          ],
          "scattercarpet": [
           {
            "marker": {
             "colorbar": {
              "outlinewidth": 0,
              "ticks": ""
             }
            },
            "type": "scattercarpet"
           }
          ],
          "scattergeo": [
           {
            "marker": {
             "colorbar": {
              "outlinewidth": 0,
              "ticks": ""
             }
            },
            "type": "scattergeo"
           }
          ],
          "scattergl": [
           {
            "marker": {
             "colorbar": {
              "outlinewidth": 0,
              "ticks": ""
             }
            },
            "type": "scattergl"
           }
          ],
          "scattermapbox": [
           {
            "marker": {
             "colorbar": {
              "outlinewidth": 0,
              "ticks": ""
             }
            },
            "type": "scattermapbox"
           }
          ],
          "scatterpolar": [
           {
            "marker": {
             "colorbar": {
              "outlinewidth": 0,
              "ticks": ""
             }
            },
            "type": "scatterpolar"
           }
          ],
          "scatterpolargl": [
           {
            "marker": {
             "colorbar": {
              "outlinewidth": 0,
              "ticks": ""
             }
            },
            "type": "scatterpolargl"
           }
          ],
          "scatterternary": [
           {
            "marker": {
             "colorbar": {
              "outlinewidth": 0,
              "ticks": ""
             }
            },
            "type": "scatterternary"
           }
          ],
          "surface": [
           {
            "colorbar": {
             "outlinewidth": 0,
             "ticks": ""
            },
            "colorscale": [
             [
              0,
              "#0d0887"
             ],
             [
              0.1111111111111111,
              "#46039f"
             ],
             [
              0.2222222222222222,
              "#7201a8"
             ],
             [
              0.3333333333333333,
              "#9c179e"
             ],
             [
              0.4444444444444444,
              "#bd3786"
             ],
             [
              0.5555555555555556,
              "#d8576b"
             ],
             [
              0.6666666666666666,
              "#ed7953"
             ],
             [
              0.7777777777777778,
              "#fb9f3a"
             ],
             [
              0.8888888888888888,
              "#fdca26"
             ],
             [
              1,
              "#f0f921"
             ]
            ],
            "type": "surface"
           }
          ],
          "table": [
           {
            "cells": {
             "fill": {
              "color": "#EBF0F8"
             },
             "line": {
              "color": "white"
             }
            },
            "header": {
             "fill": {
              "color": "#C8D4E3"
             },
             "line": {
              "color": "white"
             }
            },
            "type": "table"
           }
          ]
         },
         "layout": {
          "annotationdefaults": {
           "arrowcolor": "#2a3f5f",
           "arrowhead": 0,
           "arrowwidth": 1
          },
          "coloraxis": {
           "colorbar": {
            "outlinewidth": 0,
            "ticks": ""
           }
          },
          "colorscale": {
           "diverging": [
            [
             0,
             "#8e0152"
            ],
            [
             0.1,
             "#c51b7d"
            ],
            [
             0.2,
             "#de77ae"
            ],
            [
             0.3,
             "#f1b6da"
            ],
            [
             0.4,
             "#fde0ef"
            ],
            [
             0.5,
             "#f7f7f7"
            ],
            [
             0.6,
             "#e6f5d0"
            ],
            [
             0.7,
             "#b8e186"
            ],
            [
             0.8,
             "#7fbc41"
            ],
            [
             0.9,
             "#4d9221"
            ],
            [
             1,
             "#276419"
            ]
           ],
           "sequential": [
            [
             0,
             "#0d0887"
            ],
            [
             0.1111111111111111,
             "#46039f"
            ],
            [
             0.2222222222222222,
             "#7201a8"
            ],
            [
             0.3333333333333333,
             "#9c179e"
            ],
            [
             0.4444444444444444,
             "#bd3786"
            ],
            [
             0.5555555555555556,
             "#d8576b"
            ],
            [
             0.6666666666666666,
             "#ed7953"
            ],
            [
             0.7777777777777778,
             "#fb9f3a"
            ],
            [
             0.8888888888888888,
             "#fdca26"
            ],
            [
             1,
             "#f0f921"
            ]
           ],
           "sequentialminus": [
            [
             0,
             "#0d0887"
            ],
            [
             0.1111111111111111,
             "#46039f"
            ],
            [
             0.2222222222222222,
             "#7201a8"
            ],
            [
             0.3333333333333333,
             "#9c179e"
            ],
            [
             0.4444444444444444,
             "#bd3786"
            ],
            [
             0.5555555555555556,
             "#d8576b"
            ],
            [
             0.6666666666666666,
             "#ed7953"
            ],
            [
             0.7777777777777778,
             "#fb9f3a"
            ],
            [
             0.8888888888888888,
             "#fdca26"
            ],
            [
             1,
             "#f0f921"
            ]
           ]
          },
          "colorway": [
           "#636efa",
           "#EF553B",
           "#00cc96",
           "#ab63fa",
           "#FFA15A",
           "#19d3f3",
           "#FF6692",
           "#B6E880",
           "#FF97FF",
           "#FECB52"
          ],
          "font": {
           "color": "#2a3f5f"
          },
          "geo": {
           "bgcolor": "white",
           "lakecolor": "white",
           "landcolor": "#E5ECF6",
           "showlakes": true,
           "showland": true,
           "subunitcolor": "white"
          },
          "hoverlabel": {
           "align": "left"
          },
          "hovermode": "closest",
          "mapbox": {
           "style": "light"
          },
          "paper_bgcolor": "white",
          "plot_bgcolor": "#E5ECF6",
          "polar": {
           "angularaxis": {
            "gridcolor": "white",
            "linecolor": "white",
            "ticks": ""
           },
           "bgcolor": "#E5ECF6",
           "radialaxis": {
            "gridcolor": "white",
            "linecolor": "white",
            "ticks": ""
           }
          },
          "scene": {
           "xaxis": {
            "backgroundcolor": "#E5ECF6",
            "gridcolor": "white",
            "gridwidth": 2,
            "linecolor": "white",
            "showbackground": true,
            "ticks": "",
            "zerolinecolor": "white"
           },
           "yaxis": {
            "backgroundcolor": "#E5ECF6",
            "gridcolor": "white",
            "gridwidth": 2,
            "linecolor": "white",
            "showbackground": true,
            "ticks": "",
            "zerolinecolor": "white"
           },
           "zaxis": {
            "backgroundcolor": "#E5ECF6",
            "gridcolor": "white",
            "gridwidth": 2,
            "linecolor": "white",
            "showbackground": true,
            "ticks": "",
            "zerolinecolor": "white"
           }
          },
          "shapedefaults": {
           "line": {
            "color": "#2a3f5f"
           }
          },
          "ternary": {
           "aaxis": {
            "gridcolor": "white",
            "linecolor": "white",
            "ticks": ""
           },
           "baxis": {
            "gridcolor": "white",
            "linecolor": "white",
            "ticks": ""
           },
           "bgcolor": "#E5ECF6",
           "caxis": {
            "gridcolor": "white",
            "linecolor": "white",
            "ticks": ""
           }
          },
          "title": {
           "x": 0.05
          },
          "xaxis": {
           "automargin": true,
           "gridcolor": "white",
           "linecolor": "white",
           "ticks": "",
           "title": {
            "standoff": 15
           },
           "zerolinecolor": "white",
           "zerolinewidth": 2
          },
          "yaxis": {
           "automargin": true,
           "gridcolor": "white",
           "linecolor": "white",
           "ticks": "",
           "title": {
            "standoff": 15
           },
           "zerolinecolor": "white",
           "zerolinewidth": 2
          }
         }
        },
        "width": 1000
       }
      },
      "text/html": [
       "<div>\n",
       "        \n",
       "        \n",
       "            <div id=\"55e09c92-29d6-43d2-bc03-0fd08ee62702\" class=\"plotly-graph-div\" style=\"height:600px; width:1000px;\"></div>\n",
       "            <script type=\"text/javascript\">\n",
       "                require([\"plotly\"], function(Plotly) {\n",
       "                    window.PLOTLYENV=window.PLOTLYENV || {};\n",
       "                    \n",
       "                if (document.getElementById(\"55e09c92-29d6-43d2-bc03-0fd08ee62702\")) {\n",
       "                    Plotly.newPlot(\n",
       "                        '55e09c92-29d6-43d2-bc03-0fd08ee62702',\n",
       "                        [{\"hovertemplate\": \"lat=%{lat}<br>long=%{lon}<extra></extra>\", \"lat\": [45.537593, 45.488636, 48.3878711, 46.7956598, 45.510310700000005, 45.755632899999995, 46.835607, 45.473949, 45.518215399999995, 46.891487700000006, 45.5144682, 45.5336184, 46.8679355, 45.535530200000004, 45.4650792, 48.241944399999994, 45.5188044, 45.5129793, 45.5486995, 45.500265, 45.4998571, 45.510319, 45.510319, 45.4014722, 48.473097100000004, 45.459886700000006, 45.5212833, 45.477963700000004, 46.554334499999996, 46.83492639999999, 45.575587299999995, 45.461001, 45.576084200000004, 45.5363773, 45.5220951, 46.7865302, 45.4860706, 45.5243434, 45.5255925, 45.4814067, 45.5050263, 45.505055, 45.5426053, 45.544699, 45.4924311, 45.4828119, 45.4828196, 45.5198475, 46.6134523, 45.555593, 45.531281899999996, 45.74664179999999, 48.2431951, 45.530368200000005, 45.5181859, 46.6039185, 45.477182899999995, 45.543833500000005, 45.4917662, 46.839277100000004, 45.4827055, 45.4635801, 46.5696182, 46.8047293, 46.854412700000005, 45.4800939, 45.4814162, 45.497171200000004, 48.430718, 45.5128081, 45.453583, 45.5408907, 45.4893259, 46.8199384, 45.489481700000006, 45.5381124, 45.51985560000001, 45.5406272, 45.500983000000005, 45.500467900000004, 45.5166438, 45.5166229, 46.8136071, 45.764340000000004, 46.5199391, 46.788579299999995, 46.8052664, 46.7757675, 46.8208359, 46.8555075, 46.8028996, 45.5239867, 45.5375357, 46.77101029999999, 46.7710729, 45.5301861, 46.60727979999999, 45.521455200000005, 45.5228806, 45.515708000000004, 45.5288212, 45.534197799999994, 45.521857700000005, 45.5302597, 45.510577000000005, 45.7693036, 46.8965297, 45.4733304, 45.5468442, 45.5100597, 46.8368679, 45.514549, 46.8325222, 46.8011869, 45.5356678, 45.5133912, 45.535841299999994, 45.4952842, 46.563334399999995, 46.8045252, 46.811432, 46.8372428, 46.8909411, 45.500174, 45.5480259, 45.5218159, 46.8089956, 45.4911565, 45.501174799999994, 45.5181027, 45.4866269, 45.4866269, 45.5446559, 45.46720139999999, 45.50198220000001, 45.5005083, 45.5116006, 45.5215451, 45.502537100000005, 45.493519, 45.5259495, 46.5718942, 45.7526227, 45.7191889, 45.529302, 46.8446932, 46.8570499, 45.5001121, 45.573932, 45.53825820000001, 45.5017252, 45.557026799999996, 46.8372401, 46.8372401, 48.467893100000005, 46.5559232, 45.5110528, 46.7685071, 45.7704519, 45.494002, 45.4943351, 45.5368631, 45.474995799999995, 45.456385100000006, 45.5269531, 45.53019320000001, 45.563867200000004, 45.4707735, 45.5583407, 46.9175469, 45.538516200000004, 45.4545151, 45.454471999999996, 45.5329753, 45.537753, 45.549659999999996, 45.494900200000004, 45.494960600000006, 45.5339451, 45.50042979999999, 46.8396619, 46.839253799999994, 45.51900379999999, 48.2477973, 46.93048220000001, 45.4758005, 46.816360700000004, 45.4932544, 45.500133, 45.7443982, 45.5191395, 46.8257407, 45.533899, 45.533899, 45.52480870000001, 45.497349, 45.49604, 45.516142200000004, 45.5165703, 46.885501299999994, 46.889960200000004, 45.4905307, 46.8135679, 46.8504854, 46.8136708, 46.556938200000005, 46.8787741, 46.8787741, 45.505953000000005, 45.5060225, 45.506171, 45.462112, 45.4815938, 46.882800399999994, 45.4834469, 45.4879623, 45.5078099, 45.5078099, 46.5197223, 45.4996169, 46.811637100000006, 45.4766013, 45.5186729, 45.518539000000004, 45.533414, 45.5561588, 46.86331129999999, 45.5360244, 45.491611299999995, 45.5441377, 46.8090408, 45.5191993, 45.4619149, 45.564945, 46.8743947, 46.8642674, 48.233219, 45.4915042, 46.8914079, 45.4779216, 45.4935112, 45.4878175, 45.462759000000005, 45.5463486, 46.826494, 45.561738, 46.816255, 45.5546445, 45.5679359, 45.567902600000004, 46.8029984, 45.5374158, 45.5586091, 47.9127764, 45.544746, 45.483689500000004, 45.527044200000006, 46.75267, 46.8234838, 45.5350677, 45.456151, 45.5286103, 45.4846111, 46.5562331, 45.525432, 45.5278229, 45.527440500000004, 45.56668, 45.5133295, 46.831307200000005, 45.49961079999999, 45.4992821, 45.4956881, 45.5237369, 45.5312557, 45.466962, 46.8233118, 46.5588282, 45.54742460000001, 45.4877901, 45.517737700000005, 45.516670899999994, 46.8128563, 45.554025700000004, 45.470721999999995, 45.476365, 45.5323983, 45.5323983, 45.483167, 45.558859999999996, 45.5416727, 45.5425854, 45.5066394, 45.4641836, 45.5308487, 45.5283228, 46.7404687, 46.7404687, 45.529880299999995, 45.5262667, 45.449909000000005, 45.76756029999999, 45.5668191, 45.5149045, 45.5294658, 45.5203702, 46.806683500000005, 45.507571999999996, 45.4514109, 46.8150396, 45.5235286, 45.5684112, 46.848389399999995, 48.441093, 45.5094278, 45.537136600000004, 45.5385795, 46.837709999999994, 46.8481887, 45.4934271, 45.495461, 45.532497, 45.5238193, 45.520000700000004, 46.8134, 45.515709, 48.222730799999994, 45.4667531, 45.4665492, 45.5224639, 45.562683, 45.5524354, 45.5103999, 46.796485700000005, 45.5041009, 45.525804799999996, 45.4782589, 45.4780614, 45.5008215, 45.5232782, 45.523292299999994, 45.5728253, 46.873002500000005, 46.828584899999996, 45.536534499999995, 45.519031, 45.5453854, 48.2271305, 45.536, 48.240164299999996, 45.5351599, 45.455290000000005, 45.720839899999994, 45.492222600000005, 45.5357275, 45.51958870000001, 46.8217471, 46.8217471, 45.530136999999996, 45.4797987, 46.804565999999994, 46.852028499999996, 45.509184000000005, 45.505461100000005, 45.477959399999996, 45.5384088, 45.533324, 46.812155499999996, 45.460562200000005, 45.5707321, 48.442685299999994, 45.567557799999996, 45.5476564, 45.5351218, 45.5256849, 45.543957899999995, 45.488805, 45.4895797, 45.48937, 45.5126188, 46.8135022, 45.547424400000004, 46.525228399999996, 45.7322565, 45.5061379, 45.5726097, 45.498047799999995, 45.498175700000004, 46.8624734, 45.5349588, 45.5212682, 45.514066899999996, 46.843703000000005, 45.5174265, 46.799059299999996, 45.5217339, 45.5192886, 46.9101974, 46.8429845, 45.5520054, 45.555718, 48.4376039, 45.516694, 45.516694, 46.8120852, 46.870141100000005, 46.8410703, 46.855318200000006, 46.8435762, 46.8198609, 46.8198609, 46.8121559, 48.4351174, 45.7842388, 45.4977436, 45.5392036, 45.5392036, 45.539162899999994, 45.5389756, 45.500448600000006, 45.5026306, 45.5204736, 45.5154352, 46.9088558, 45.5072429, 46.8042364, 46.787655900000004, 45.472923, 46.839698799999994, 46.8754898, 45.523098100000006, 45.3945501, 46.818226200000005, 45.779616, 46.8585642, 46.8586431, 45.5298873, 45.4976435, 45.4979448, 46.888308200000004, 45.530477000000005, 45.50083, 48.438630700000004, 45.5418565, 45.557074, 46.568324700000005, 45.4802003, 46.7626088, 46.8724615, 45.55413660000001, 46.8227639, 45.472285299999996, 45.47206, 45.555094, 45.528761700000004, 45.4974422, 45.50111, 45.4791144, 45.502846399999996, 46.799155299999995, 45.5713987, 45.497635700000004, 46.8100302, 45.526943, 45.5641458, 46.5204343, 46.886677899999995, 45.533, 45.7669799, 45.5206831, 46.7970229, 46.8075825, 45.4564991, 45.50941029999999, 46.853722999999995, 46.5397508, 46.8435867, 46.80324, 45.469066600000005, 45.5422402, 45.5377919, 45.5450209, 45.4778062, 45.476863, 46.817518299999996, 45.519301399999996, 45.4520893, 45.453153, 46.8622006, 45.510405, 46.8953805, 46.895104100000005, 45.458939799999996, 45.465981299999996, 46.8938578, 45.5392193, 45.5353317, 46.850831799999995, 45.551328999999996, 45.4966036, 45.496641499999996, 46.9030305, 45.762122600000005, 46.88361, 48.2320578, 45.5252312, 45.496060799999995, 45.535226200000004, 45.572010999999996, 45.5249179, 45.5249179, 46.50819370000001, 46.8422365, 46.810502, 45.529879, 45.514609, 45.5149552, 45.5423581, 48.462826299999996, 45.4977245, 45.5003412, 45.451209999999996, 46.8301456, 45.453913, 45.5517044, 45.7337308, 45.531740899999996, 45.477713, 46.8387184, 45.4712203, 45.530392600000006, 45.5764597, 45.4962474, 45.5406888, 46.7469929, 45.5376778, 45.50102329999999, 45.55475379999999, 46.8116509, 46.8140474, 48.4450826, 45.5390299, 45.476771, 45.5532778, 46.809706, 46.809706, 45.5256336, 45.536491, 46.8112992, 45.7487153, 45.5504993, 46.850120600000004, 46.6133744, 48.2411066, 46.8261206, 45.4905278, 48.4359648, 45.5071239, 45.533141, 45.776568299999994, 45.776568299999994, 46.81217120000001, 46.7671645, 45.52491, 45.537119, 46.7648466, 45.462736, 45.550163500000004, 45.7798286, 46.813458000000004, 45.501168, 45.4818004, 45.4818004, 45.4818004, 45.4818004, 48.5131202, 45.5012014, 46.835829700000005, 45.538608, 46.83706, 45.4787775, 46.7667135, 46.808235700000004, 45.503243, 46.7814325, 45.494904999999996, 46.87662520000001, 45.5569248, 45.5494837, 45.4879465, 45.530442, 45.5724207, 45.548992, 45.5658559, 45.510099600000004, 46.8285773, 46.8719516, 46.872469099999996, 46.874130900000004, 45.4801044, 46.8497139, 45.521119, 45.534253, 46.7811331, 45.542738, 46.85565089999999, 46.776897600000005, 45.4932145, 46.8092919, 45.4900488, 45.502466, 46.804817, 45.4795202, 45.4542851, 46.84520070000001, 46.84520070000001, 46.8522891, 46.8722702, 45.4567435, 46.7719696, 45.53994960000001, 45.5318684, 45.492821, 45.529902299999996, 46.5612778, 45.55066729999999, 46.9369784, 46.856569799999995, 45.450032, 46.8551939, 45.552327399999996, 45.5142687, 45.524306599999996, 45.5268962, 45.526566700000004, 46.8450715, 45.5528086, 45.5429042, 45.542845899999996, 48.2365576, 45.5505007, 46.8087497, 46.783583, 45.5350129, 45.537564, 45.517827200000006, 45.75375089999999, 46.8344965, 48.439182200000005, 45.549955, 45.5250239, 45.4796918, 46.8235945, 45.534876000000004, 45.5213391, 45.521978999999995, 46.843644700000006, 46.843644700000006, 45.5393501, 46.5648117, 45.5693077, 45.496774, 45.7316726, 45.496595500000005, 45.536658200000005, 45.5082028, 45.5315158, 45.5017649, 45.534698999999996, 48.455566, 45.5272924, 45.4897153, 45.4930025, 46.786974900000004, 45.5309797, 45.5203464, 45.4971662, 45.5331963, 45.5515612, 45.485633, 45.485513700000006, 45.537431700000006, 45.3959028, 45.5440433, 46.788962299999994, 45.754271100000004, 45.5195213, 45.4969124, 45.5107939, 45.5317259, 46.8143924, 45.498894899999996, 46.5422731, 45.5542131, 45.5333422, 46.55516, 45.528628999999995, 45.528628999999995, 46.8069329, 46.821966499999995, 45.54108970000001, 45.481876, 45.53576079999999, 45.533130799999995, 45.503026, 48.235513, 48.2253883, 45.5168907, 45.5156631, 45.5156631, 45.4866434, 45.5311878, 45.49601989999999, 45.477589, 45.5663616, 45.560926, 45.4898119, 46.784278, 46.8581844, 46.8581844, 45.529177600000004, 45.5178516, 45.5133421, 45.490212299999996, 46.7944508, 45.5368341, 45.7562191, 45.7563598, 45.51773920000001, 45.481313, 45.4530656, 45.5012294, 45.5379559, 45.477033, 45.468262, 45.490049299999995, 45.48472460000001, 46.7785919, 45.763783200000006, 45.4796471, 46.8332331, 46.8695021, 45.507745899999996, 45.554871, 45.5055465, 45.504901600000004, 45.494169, 45.4980453, 45.56889279999999, 46.7604763, 45.504557899999995, 45.480883, 45.5256855, 45.7447533, 46.8771472, 45.509780299999996, 45.525792100000004, 45.5344458, 46.804823799999994, 46.856667, 45.454977500000005, 45.4951698, 45.4869285, 45.508578, 45.5200805, 45.5050038, 45.505033000000005, 46.8568283, 45.470028899999996, 45.5003917, 45.514143, 45.5600571, 45.484015500000005, 45.546814700000006, 45.546814700000006, 45.493238700000006, 45.496565000000004, 45.5129284, 45.4021901, 45.5239876, 45.4977411, 45.5023311, 45.4943555, 45.5360459, 45.5238623, 46.8394672, 45.4815748, 45.5395375, 45.4946306, 46.8258626, 45.4766476, 45.4795946, 45.533874100000006, 45.471171000000005, 46.861517299999996, 45.5400785, 45.517010799999994, 45.4767494, 45.52669, 45.511224600000006, 45.519768299999996, 45.5218613, 45.493763200000004, 45.747415999999994, 45.5556408, 45.5245327, 45.519234000000004, 45.5516707, 45.497184000000004, 46.8151085, 45.532654, 45.5235987, 45.494941100000005, 46.902625, 45.5632434, 45.528338899999994, 45.494852, 46.745000299999994, 46.8153193, 45.550391999999995, 48.4631258, 45.541035, 46.6153338, 45.46423729999999, 45.5495882, 45.518864, 45.550095, 46.88483, 45.5566943, 45.5283322, 46.860625399999996, 46.860098, 45.509869, 45.536665899999996, 45.530779700000004, 46.8873559, 46.80317410000001, 45.495802399999995, 46.8437945, 45.545920200000005, 45.4961325, 45.5456061, 45.5176623, 46.8733979, 45.4895056, 45.5339008, 45.54084279999999, 46.6099552, 45.532303000000006, 45.534634999999994, 46.826036, 45.527745700000004, 45.5326372, 45.496038, 45.4955445, 45.4960371, 45.519121999999996, 45.5039643, 46.863359100000004, 45.4686961, 45.5115088, 46.7955387, 48.11261, 48.224968200000006, 46.852912700000005, 48.2467264, 45.494978, 45.525807, 45.547503799999994, 45.5269939, 46.76546, 46.7619667, 45.5082209, 45.5264994, 45.548671, 45.522403499999996, 45.4970075, 45.487836, 45.502275, 45.5124685, 45.4740183, 45.53753, 45.4865467, 45.5657469, 45.5124261, 45.479726, 45.479726, 46.808808899999995, 45.53353679999999, 45.480138700000005, 46.6129295, 45.5301523, 45.517559000000006, 45.546162, 45.5242056, 45.4721493, 45.543358399999995, 45.543358399999995, 45.543243200000006, 45.496648, 46.902437299999995, 45.742263, 46.857420399999995, 45.5056339, 45.4719326, 45.730469299999996, 45.7304989, 45.516799299999995, 45.53432479999999, 45.557938, 46.8113555, 45.537330499999996, 45.495380700000005, 45.50564489999999, 45.4970434, 45.4873667, 45.51847, 45.5335848, 45.5277982, 45.7394641, 45.498195, 45.518161299999996, 46.75624129999999, 45.494978, 45.5252912, 45.535784, 45.5073536, 45.507476399999994, 45.7418553, 45.493402, 48.458462899999994, 46.769274200000005, 46.7692001, 46.773506700000006, 45.7316539, 45.480728000000006, 46.8632573, 46.751738, 46.518755299999995, 45.5589552, 45.4949629, 45.408564, 45.5382561, 45.7479626, 46.804678100000004, 45.551078499999996, 45.4848375, 46.829057899999995, 45.570974, 45.5082563, 45.5502591, 45.4985403, 46.826283399999994, 45.4665521, 45.552158, 45.5009341, 45.5009341, 45.5400175, 45.484879299999996, 45.484796, 45.54007360000001, 46.793140799999996, 46.81007279999999, 45.7540995, 45.753891700000004, 45.4973237, 45.546881, 45.523676200000004, 46.8164585, 45.5219939, 45.554595, 45.4593881, 45.5224701, 46.62647570000001, 45.453877, 45.482394, 46.7867359, 46.78651, 46.85127670000001, 45.532438, 48.2380375, 48.238058, 45.482538700000006, 46.8482421, 45.5067549, 45.521041, 45.5454844, 45.557590600000005, 46.8673654, 46.9119927, 45.514911, 45.4680943, 45.511586, 45.511586, 46.856242, 45.5241071, 45.467655, 46.76525, 46.9511229, 45.4704075, 46.8231631, 45.5053299, 45.4044896, 45.540308, 45.538722, 46.865754200000005, 45.5380399, 45.535973799999994, 45.535982000000004, 45.547357299999994, 45.5471946, 46.86325720000001, 48.2379672, 48.241506, 45.5154652, 46.7706734, 45.4899305, 45.5139461, 45.537584499999994, 45.568646, 46.556369000000004, 45.5296198, 46.6152281, 45.535304, 45.520773299999995, 45.578961299999996, 45.565206599999996, 45.474103899999996, 45.516273999999996, 45.5585331, 45.50837979999999, 45.4805, 45.467577, 45.5657722, 45.5463631, 45.473974, 45.4592487, 45.522828999999994, 46.504804, 45.465649, 45.526945899999994, 46.857697200000004, 48.236205, 45.481625, 45.54544129999999, 45.517083, 45.5186, 45.528749, 45.5025099, 45.71794379999999, 48.448224200000006, 45.5335244, 45.5303266, 45.5369782, 45.5182228, 45.5180292, 45.4939814, 46.888185299999996, 45.477993, 46.930354, 45.476821, 45.4596255, 45.469807, 45.7560065, 45.5584948, 45.5133089, 46.806132, 46.854695899999996, 46.8223804, 46.773587899999995, 45.5221025, 45.506544700000006, 45.4918815, 45.54352720000001, 45.5294081, 45.566800799999996, 46.7931814, 46.89884, 46.810331, 45.5392528, 45.570618700000004, 45.5522214, 46.812938, 46.812938, 45.5171479, 45.485761100000005, 46.8155711, 45.519611499999996, 45.50238220000001, 45.5018406, 45.505660999999996, 45.529362899999995, 45.5397351, 45.5448164, 45.456184, 45.4927815, 45.457285, 45.5116604, 45.54374, 46.8079537, 45.4542961, 45.475897100000005, 46.809899, 46.827163, 46.8088338, 46.8752345, 46.777074, 46.813363, 46.8765528, 46.814886, 46.55307, 45.729974799999994, 45.5355194, 45.50689129999999, 45.5481052, 46.877209, 45.4934177, 46.847714, 45.5299652, 45.7586407, 46.916613, 46.8779, 46.8101841, 45.5310152, 45.5067196, 46.8758438, 46.769966499999995, 46.7570205, 46.8030531, 45.521090799999996, 46.8105929, 45.5177773, 45.5281589, 45.500331200000005, 45.4816755, 45.742940999999995, 45.504344399999994, 45.519014299999995, 45.4583407, 48.2392679, 46.8711612, 46.808614399999996, 46.7582437, 46.839818, 46.8593017, 46.886892100000004, 46.8881818, 46.760380700000006, 46.8177823, 45.7574496, 46.8166991, 45.4955477], \"legendgroup\": \"\", \"lon\": [-73.597075, -73.568175, -68.4706861, -71.3561663, -73.570841, -73.44680859999998, -71.21863990000001, -73.603989, -73.5781092, -71.2141851, -73.55699090000002, -73.5959721, -71.1801463, -73.5821607, -73.6259151, -79.0310436, -73.5560497, -73.6306253, -73.5741421, -73.5748868, -73.57434040000001, -73.57500329999999, -73.57500329999999, -71.95428290000001, -68.5080816, -73.6245821, -73.5946095, -73.5610195, -72.7383561, -71.23993, -73.6471295, -73.5924047, -73.65558670000001, -73.5801377, -73.46628709999999, -71.2471732, -73.4649375, -73.6005277, -73.6035845, -73.6313923, -73.5710036, -73.57139240000001, -73.5878873, -73.5882083, -73.6327222, -73.579699, -73.5796493, -73.505356, -72.6936862, -73.667276, -73.5809405, -73.4630257, -79.0406838, -73.6085368, -73.5065236, -72.7088415, -73.58737540000001, -73.577163, -73.4197238, -71.239331, -73.57857, -73.5831545, -72.7634128, -71.2439177, -71.27653149999999, -73.55881240000001, -73.5641863, -73.4105832, -68.5839784, -73.4772373, -73.6372269, -73.5880042, -73.49157220000001, -71.2574357, -73.5721152, -73.6058333, -73.5628875, -73.6535734, -73.567613, -73.5675448, -73.5664966, -73.5662941, -71.2262251, -73.47600870000001, -72.7447355, -71.2708805, -71.22132459999999, -71.31104559999999, -71.2682532, -71.2792974, -71.2242526, -73.594378, -73.6780625, -71.3198289, -71.31950429999999, -73.5819472, -72.7037228, -73.5048386, -73.48639849999999, -73.55597440000001, -73.58765600000001, -73.6094541, -73.58182240000001, -73.5669386, -73.5519675, -73.4461179, -71.2072578, -73.58839870000001, -73.64259200000001, -73.61261209999999, -71.23657, -73.572264, -71.24188609999999, -71.2260403, -73.698998, -73.4810832, -73.59432679999999, -73.640073, -72.7384109, -71.242154, -71.2396021, -71.2550438, -71.18925329999999, -73.5578058, -73.5851377, -73.5850035, -71.2260486, -73.4784689, -73.5798516, -73.6199188, -73.63461190000001, -73.63461190000001, -73.6504808, -73.6390809, -73.5664947, -73.5714549, -73.5596293, -73.57493149999999, -73.5607568, -73.582151, -73.52255699999999, -72.7620632, -73.4310287, -73.4677769, -73.5463929, -71.366122, -71.4113318, -73.56652240000001, -73.6490685, -73.5569217, -73.41653029999999, -73.593746, -71.3560875, -71.3560875, -68.51264520000001, -72.7521273, -73.566039, -71.2668179, -73.4233872, -73.58202759999999, -73.58121650000001, -73.5631319, -73.58537700000001, -73.595479, -73.5585829, -73.5773074, -73.5734675, -73.6158029, -73.6368367, -71.202382, -73.5060375, -73.63933270000001, -73.639542, -73.58465840000001, -73.55331600000001, -73.55836500000001, -73.5796571, -73.5797907, -73.59605450000001, -73.6317868, -71.2209063, -71.2825827, -73.5681311, -79.0373917, -71.3152547, -73.4297636, -71.2894152, -73.6394618, -73.5652994, -73.45380490000001, -73.5958717, -71.2334467, -73.5508902, -73.5508902, -73.4659162, -73.568896, -73.57027, -73.5597293, -73.5591697, -71.1998508, -71.2175696, -73.5860847, -71.20704, -71.21335069999999, -71.237315, -72.74685759999998, -71.28361290000001, -71.28361290000001, -73.556097, -73.5559002, -73.556449, -73.631548, -73.45300340000001, -71.28921590000002, -73.62952740000001, -73.63958670000001, -73.5652013, -73.5652013, -72.7460205, -73.57234790000001, -71.2935536, -73.62167020000001, -73.5779496, -73.57810400000001, -73.55254509999999, -73.5851218, -71.33027659999999, -73.5139573, -73.4581679, -73.5912709, -71.25910429999999, -73.48770970000001, -73.59746170000001, -73.58282, -71.3305868, -71.1852277, -78.99260600000001, -73.5816539, -71.1499358, -73.4757013, -73.6360684, -73.3993508, -73.424696, -73.5793948, -71.23860970000001, -73.58094799999999, -71.25192890000001, -73.65343680000001, -73.45098759999999, -73.4510315, -71.22485970000001, -73.583371, -73.6375514, -79.2480642, -73.59957800000001, -73.5743372, -73.7130206, -71.43041, -71.22669920000001, -73.60373, -73.598789, -73.4891109, -73.44069870000001, -72.7446933, -73.55248399999999, -73.5790809, -73.579291, -73.575664, -73.49160390000002, -71.2314313, -73.5562644, -73.5552553, -73.4676372, -73.59485699999999, -73.5654928, -73.61202, -71.2226811, -72.7429133, -73.55902309999999, -73.4624333, -73.59225179999999, -73.4481007, -71.2122832, -73.66917, -73.59090490000001, -73.565247, -73.48445219999999, -73.48445219999999, -73.580991, -73.6588939, -73.59824, -73.69412729999999, -73.4443063, -73.6460511, -73.57673790000001, -73.5912281, -71.4675253, -71.4675253, -73.54737970000001, -73.5810324, -73.601011, -73.44454250000001, -73.6510092, -73.5597685, -73.5557197, -73.5979238, -71.2459653, -73.4962203, -73.59350620000001, -71.2207915, -73.5951189, -73.55351359999999, -71.23470809999999, -68.53344, -73.572676, -73.672741, -73.4798282, -71.23089, -71.2286708, -73.58293459999999, -73.61048000000001, -73.596521, -73.5603887, -73.4601421, -71.2273699, -73.465352, -78.996684, -73.6442381, -73.6442402, -73.5617125, -73.572434, -73.5566077, -73.5759925, -71.23976400000001, -73.5710036, -73.7137765, -73.5693497, -73.6294296, -73.42542209999999, -73.5545852, -73.55460040000001, -73.6499702, -71.2527723, -71.228911, -73.6786555, -73.5601848, -73.60403769999999, -78.3819344, -73.55159990000001, -79.02551650000001, -73.57762059999999, -73.6409637, -73.4795498, -73.5831156, -73.5586889, -73.4918641, -71.2499304, -71.2499304, -73.608739, -73.5562755, -71.312725, -71.2102162, -73.5616546, -73.5593637, -73.5681434, -73.57782270000001, -73.557264, -71.31018449999999, -73.6354679, -73.5728803, -68.5222787, -73.65311700000001, -73.5749733, -73.4782079, -73.59792879999999, -73.6678245, -73.5859921, -73.5854084, -73.58587, -73.5056314, -71.21184840000001, -73.6657195, -72.7538881, -73.454829, -73.57201640000001, -73.5707853, -73.5659651, -73.5663859, -71.3295477, -73.4875891, -73.5971042, -73.5762569, -71.260928, -73.47815209999999, -71.36933590000001, -73.56984179999999, -73.5637291, -71.3508571, -71.4318653, -73.655971, -73.570317, -68.53597099999999, -73.55760129999999, -73.55760129999999, -71.23601590000001, -71.2549883, -71.2700831, -71.4179855, -71.2146495, -71.3308406, -71.3308406, -71.2313633, -68.5243247, -73.4130703, -73.5782733, -73.6130267, -73.6130267, -73.6133863, -73.6131821, -73.4816765, -73.5735681, -73.5562303, -73.5652647, -71.3505757, -73.5694464, -71.2309801, -71.3521433, -73.64585, -71.2775625, -71.1594917, -73.5516038, -71.8979286, -71.332755, -73.415374, -71.3384958, -71.33761609999999, -73.5867022, -73.6537623, -73.5714431, -71.2682099, -73.72098100000001, -73.5752449, -68.5502473, -73.6077662, -73.57325859999999, -72.7612965, -73.5758915, -71.283982, -71.2545171, -73.5874174, -71.25735300000001, -73.611864, -73.61232690000001, -73.55962629999999, -73.4736863, -73.5667297, -73.5722427, -73.4486802, -73.55868620000001, -71.2591147, -73.5724235, -73.4974959, -71.31928070000001, -73.4825637, -73.57817990000001, -72.7449814, -71.29082220000001, -73.48935999999999, -73.444911, -73.5538724, -71.2397935, -71.2529572, -73.62851590000001, -73.6303094, -71.1952967, -72.7463848, -71.2443987, -71.2281651, -73.6191179, -73.5896475, -73.57841429999999, -73.5945304, -73.5702403, -73.606234, -71.2567028, -73.4725306, -73.5939745, -73.5941785, -71.18847530000001, -73.63104150000001, -71.30012959999999, -71.29990140000001, -73.59025279999999, -73.61403059999999, -71.14183840000001, -73.4675802, -73.59914479999999, -71.3093982, -73.57314699999999, -73.5759468, -73.5757894, -71.1997786, -73.4588991, -71.281651, -79.03271009999999, -73.5949315, -73.5780957, -73.5687441, -73.5711319, -73.5221767, -73.5221767, -72.73174759999999, -71.3271611, -71.243925, -73.45729, -73.56202990000001, -73.562792, -73.4553264, -68.5168564, -73.6228009, -73.56207140000001, -73.594723, -71.2383808, -73.5854838, -73.5641308, -73.4681318, -73.708365, -73.6314699, -71.2847364, -73.6347163, -73.5738988, -73.65427700000001, -73.6225469, -73.5991125, -71.349594, -73.61165720000001, -73.56443900000001, -73.57468940000001, -71.21665949999999, -71.2107142, -68.5175338, -73.65494759999999, -73.42910690000001, -73.5801119, -71.26103359999999, -71.26103359999999, -73.49704090000002, -73.602535, -71.3703135, -73.4545769, -73.5904315, -71.3561721, -72.6969848, -79.12711230000001, -71.22728520000001, -73.58347380000001, -68.5731844, -73.6244431, -73.55218690000001, -73.4184076, -73.4184076, -71.2993801, -71.37558990000001, -73.6046054, -73.67055500000001, -71.3697144, -73.5881326, -73.5903572, -73.4052039, -71.226642, -73.41316590000001, -73.5860052, -73.5860052, -73.5860052, -73.5860052, -68.46069920000001, -73.5608672, -71.2224652, -73.6004696, -71.24458100000001, -73.5827733, -71.3301546, -71.2250003, -73.61941170000001, -71.3473075, -73.49942469999999, -71.1668769, -73.57015229999999, -73.6669165, -73.568495, -73.722268, -73.4823959, -73.578232, -73.586252, -73.4980915, -71.354394, -71.1958115, -71.19613829999999, -71.20029790000001, -73.5873686, -71.2414885, -73.585753, -73.6123242, -71.3009993, -73.577831, -71.414864, -71.30869659999999, -73.5647918, -71.24029909999999, -73.4320878, -73.57130409999999, -71.2330132, -73.5769653, -73.5894464, -71.2166026, -71.2166026, -71.23875859999998, -71.1941188, -73.58195450000001, -71.2821224, -73.613104, -73.56504809999998, -73.5801515, -73.5608224, -72.7410393, -73.65653409999999, -71.3099686, -71.34706800000001, -73.598527, -71.36152320000001, -73.57583690000001, -73.4632093, -73.4840879, -73.58990909999999, -73.5899255, -71.2513212, -73.6618543, -73.58846070000001, -73.5884701, -79.0202533, -73.6436638, -71.2256145, -71.2884349, -73.60921009999998, -73.700755, -73.47975059999999, -73.4404939, -71.2495125, -68.5545728, -73.57391209999999, -73.60411850000001, -73.4679727, -71.35458179999999, -73.4703832, -73.4583318, -73.4596895, -71.2473091, -71.2473091, -73.4724158, -72.74574109999999, -73.5831872, -73.574496, -73.4606625, -73.4131913, -73.5983696, -73.5680378, -73.6128945, -73.57697900000001, -73.569848, -68.49578199999999, -73.5863428, -73.58164079999999, -73.4854656, -71.34908829999999, -73.6076002, -73.6154628, -73.6233777, -73.61443390000001, -73.5795729, -73.627811, -73.627969, -73.6146725, -71.89492059999999, -73.5778725, -71.2693031, -73.46940090000001, -73.58615479999999, -73.4768992, -73.56280290000001, -73.60682259999999, -71.22119, -73.6486865, -72.7464423, -73.5598682, -73.5020229, -72.74876, -73.51549140000002, -73.51549140000002, -71.23543070000001, -71.2287233, -73.5595115, -73.388508, -73.50742120000001, -73.49559659999998, -73.555221, -79.0150703, -79.0071946, -73.5733133, -73.49030259999999, -73.49030259999999, -73.57593390000001, -73.5505669, -73.5765625, -73.6151732, -73.65996319999999, -73.65061490000001, -73.58633859999999, -71.24772469999999, -71.4104092, -71.4104092, -73.5124745, -73.55736440000001, -73.5693386, -73.46690749999999, -71.2568677, -73.48587690000001, -73.46370290000002, -73.4464871, -73.5585045, -73.5774552, -73.5844985, -73.6323668, -73.698875, -73.5864429, -73.637689, -73.6424751, -73.6330202, -71.369704, -73.4314755, -73.6240935, -71.2775556, -71.2574126, -73.56952659999999, -73.66892299999999, -73.5558254, -73.5562123, -73.55879300000001, -73.48095500000001, -73.64542209999999, -71.3201392, -73.57179040000001, -73.57812709999999, -73.4719994, -73.45484240000002, -71.1579152, -73.564066, -73.581627, -73.578434, -71.2271265, -71.33932759999999, -73.6325126, -73.6555993, -73.5788829, -73.4948907, -73.5763887, -73.5731693, -73.57309000000001, -71.3552087, -73.616354, -73.6615765, -73.572699, -73.57375909999999, -73.5802715, -73.6388975, -73.6388975, -73.56421540000001, -73.6540058, -73.4993489, -71.9571767, -73.5760208, -73.5846942, -73.6378368, -73.6079561, -73.56080920000001, -73.55345820000001, -71.2244733, -73.386087, -73.6537514, -73.5584113, -71.24340040000001, -73.614551, -73.6197772, -73.559921, -73.6477572, -71.3561457, -73.6432698, -73.56721379999999, -73.62197309999999, -73.573784, -73.57664, -73.45762090000001, -73.5891696, -73.47833409999998, -73.46093499999999, -73.56760009999999, -73.5816487, -73.555727, -73.48376, -73.580278, -71.208333, -73.6066, -73.60574720000001, -73.6198663, -71.30857270000001, -73.5788755, -73.559961, -73.58046, -71.455239, -71.2256819, -73.65100000000001, -68.5174693, -73.48899999999999, -72.73626440000001, -73.62892590000001, -73.6709877, -73.592045, -73.5833652, -71.159253, -73.66833390000001, -73.7007541, -71.217647, -71.21676500000001, -73.57091690000001, -73.5711908, -73.5544985, -71.17047559999999, -71.3417518, -73.57262659999999, -71.2304185, -73.59864909999999, -73.55502840000001, -73.6609783, -73.6176682, -71.2746465, -73.6430795, -73.4666512, -73.5913995, -72.6994932, -73.559666, -73.5614329, -71.229244, -73.49037709999999, -73.4712168, -73.5810623, -73.5817343, -73.5807182, -73.58756, -73.5722865, -71.42973359999999, -73.6095465, -73.574354, -71.2519148, -79.15131, -79.000641, -71.2030412, -79.0197512, -73.6529853, -73.551683, -73.5791606, -73.58635579999999, -71.3089437, -71.33388520000001, -73.55977320000001, -73.4751156, -73.64624599999999, -73.55154590000001, -73.5530998, -73.3825644, -73.4269, -73.5700959, -73.60866120000001, -73.556945, -73.636881, -73.6469577, -73.561852, -73.571201, -73.571201, -71.3832074, -73.65623190000001, -73.5668124, -72.7120308, -73.5986257, -73.49717120000001, -73.586159, -73.47324499999999, -73.5877959, -73.59755729999999, -73.59755729999999, -73.59714040000001, -73.5822882, -71.36719740000001, -73.4586568, -71.2650052, -73.5534447, -73.43844449999999, -73.4552527, -73.4553312, -73.5782679, -73.617998, -73.6594218, -71.23257, -73.57082940000001, -73.61959399999999, -73.5676757, -73.5763023, -73.47193309999999, -73.55588909999999, -73.49120400000001, -73.57974820000001, -73.445697, -73.577169, -73.58835859999999, -71.2985748, -73.613256, -73.5936214, -73.5550839, -73.5734805, -73.5736226, -73.454887, -73.5799609, -68.4972474, -71.3217104, -71.3215709, -71.3160467, -73.4532438, -73.5791859, -71.2681296, -71.37991120000001, -72.742998, -73.5724404, -73.476886, -71.87316, -73.655599, -73.45505849999999, -71.2267871, -73.6430891, -73.6287153, -71.2297821, -73.5673489, -73.57449759999999, -73.595652, -73.6268077, -71.2298903, -73.63985550000001, -73.593951, -73.5737683, -73.5737683, -73.47993659999999, -73.62789659999999, -73.62776099999999, -73.6115317, -71.2575432, -71.2195632, -73.46995290000001, -73.47027259999999, -73.6251458, -73.660262, -73.5520413, -71.2178434, -73.5594309, -73.58696859999999, -73.5964908, -73.55671600000001, -72.65063549999999, -73.5957931, -73.62725379999999, -71.2822859, -71.282286, -71.2501291, -73.656181, -79.02289959999999, -79.02282199999999, -73.58282559999999, -71.2545604, -73.56083220000001, -73.5753497, -73.5767013, -73.5692885, -71.37949590000001, -71.3341556, -73.574206, -73.3775975, -73.5665235, -73.5665235, -71.35383900000001, -73.55147209999998, -73.620779, -71.48729, -71.20757929999999, -73.6069733, -71.2608346, -73.6375737, -71.9512674, -73.612697, -73.6085707, -71.2152415, -73.6794271, -73.6132308, -73.613252, -73.660003, -73.6600383, -71.2695032, -79.0183101, -79.0197067, -73.5763138, -71.2849442, -73.4730747, -73.5732412, -73.61487840000001, -73.65288199999999, -72.750473, -73.57791390000001, -72.68910100000001, -73.57208879999999, -73.5634553, -73.6531902, -73.64809890000001, -73.5946102, -73.5773983, -73.5689605, -73.5709313, -73.5554, -73.622165, -73.47967340000001, -73.6032498, -73.60972199999999, -73.5987396, -73.612548, -72.7279529, -73.6246, -73.5771508, -71.41239190000002, -79.0153672, -73.579719, -73.57239100000001, -73.5895625, -73.5545, -73.584163, -73.63549920000001, -73.4717778, -68.53501379999999, -73.5741927, -73.4833564, -73.65145940000001, -73.57072600000001, -73.57028199999999, -73.4814693, -71.2685351, -73.583575, -71.34452390000001, -73.567489, -73.59625190000001, -73.591599, -73.4659798, -73.6665781, -73.484431, -71.24449190000001, -71.1902255, -71.3359665, -71.2790953, -73.4633968, -73.4473679, -73.6316131, -73.57629370000001, -73.57751800000001, -73.65473850000001, -71.2346333, -71.307011, -71.21963000000001, -73.5591824, -73.5722229, -73.5980665, -71.2279113, -71.2279113, -73.56836609999999, -73.62686479999999, -71.262048, -73.5834574, -73.5703859, -73.5701894, -73.5673556, -73.5604293, -73.5092348, -73.5624263, -73.600368, -73.5828752, -73.59307790000001, -73.5667932, -73.6060944, -71.3691058, -73.6347578, -73.6227887, -71.228047, -71.23076, -71.3498512, -71.2515599, -71.3585253, -71.226961, -71.28256379999999, -71.2517318, -72.74283299999999, -73.480808, -73.453637, -73.5525719, -73.64551490000001, -71.15613859999999, -73.6351324, -71.24320970000001, -73.5906733, -73.4614119, -71.3191609, -71.3408, -71.3201933, -73.72227679999999, -73.572599, -71.3274917, -71.31827870000001, -71.37537459999999, -71.3319321, -73.585367, -71.2795098, -73.5737989, -73.4780073, -73.6283423, -73.5784823, -73.468735, -73.5630762, -73.5868465, -73.588099, -79.12698470000001, -71.1967984, -71.367333, -71.35061230000001, -71.395688, -71.4242508, -71.5169218, -71.165113, -71.3637401, -71.2532137, -73.4799655, -71.2025507, -73.4739456], \"marker\": {\"color\": \"#636efa\"}, \"mode\": \"markers\", \"name\": \"\", \"showlegend\": false, \"subplot\": \"mapbox\", \"type\": \"scattermapbox\"}],\n",
       "                        {\"height\": 600, \"legend\": {\"tracegroupgap\": 0}, \"mapbox\": {\"accesstoken\": \"pk.eyJ1IjoiZWJlbmFqYXkyIiwiYSI6ImNrcGc0OWh4NjBmcTQyb3F4d29sdnMybDkifQ.mZ1ZiDepeliJ21myb3N-wA\", \"center\": {\"lat\": 45.96257670972222, \"lon\": -73.01690413489585}, \"domain\": {\"x\": [0.0, 1.0], \"y\": [0.0, 1.0]}, \"zoom\": 8}, \"margin\": {\"t\": 60}, \"template\": {\"data\": {\"bar\": [{\"error_x\": {\"color\": \"#2a3f5f\"}, \"error_y\": {\"color\": \"#2a3f5f\"}, \"marker\": {\"line\": {\"color\": \"#E5ECF6\", \"width\": 0.5}}, \"type\": \"bar\"}], \"barpolar\": [{\"marker\": {\"line\": {\"color\": \"#E5ECF6\", \"width\": 0.5}}, \"type\": \"barpolar\"}], \"carpet\": [{\"aaxis\": {\"endlinecolor\": \"#2a3f5f\", \"gridcolor\": \"white\", \"linecolor\": \"white\", \"minorgridcolor\": \"white\", \"startlinecolor\": \"#2a3f5f\"}, \"baxis\": {\"endlinecolor\": \"#2a3f5f\", \"gridcolor\": \"white\", \"linecolor\": \"white\", \"minorgridcolor\": \"white\", \"startlinecolor\": \"#2a3f5f\"}, \"type\": \"carpet\"}], \"choropleth\": [{\"colorbar\": {\"outlinewidth\": 0, \"ticks\": \"\"}, \"type\": \"choropleth\"}], \"contour\": [{\"colorbar\": {\"outlinewidth\": 0, \"ticks\": \"\"}, \"colorscale\": [[0.0, \"#0d0887\"], [0.1111111111111111, \"#46039f\"], [0.2222222222222222, \"#7201a8\"], [0.3333333333333333, \"#9c179e\"], [0.4444444444444444, \"#bd3786\"], [0.5555555555555556, \"#d8576b\"], [0.6666666666666666, \"#ed7953\"], [0.7777777777777778, \"#fb9f3a\"], [0.8888888888888888, \"#fdca26\"], [1.0, \"#f0f921\"]], \"type\": \"contour\"}], \"contourcarpet\": [{\"colorbar\": {\"outlinewidth\": 0, \"ticks\": \"\"}, \"type\": \"contourcarpet\"}], \"heatmap\": [{\"colorbar\": {\"outlinewidth\": 0, \"ticks\": \"\"}, \"colorscale\": [[0.0, \"#0d0887\"], [0.1111111111111111, \"#46039f\"], [0.2222222222222222, \"#7201a8\"], [0.3333333333333333, \"#9c179e\"], [0.4444444444444444, \"#bd3786\"], [0.5555555555555556, \"#d8576b\"], [0.6666666666666666, \"#ed7953\"], [0.7777777777777778, \"#fb9f3a\"], [0.8888888888888888, \"#fdca26\"], [1.0, \"#f0f921\"]], \"type\": \"heatmap\"}], \"heatmapgl\": [{\"colorbar\": {\"outlinewidth\": 0, \"ticks\": \"\"}, \"colorscale\": [[0.0, \"#0d0887\"], [0.1111111111111111, \"#46039f\"], [0.2222222222222222, \"#7201a8\"], [0.3333333333333333, \"#9c179e\"], [0.4444444444444444, \"#bd3786\"], [0.5555555555555556, \"#d8576b\"], [0.6666666666666666, \"#ed7953\"], [0.7777777777777778, \"#fb9f3a\"], [0.8888888888888888, \"#fdca26\"], [1.0, \"#f0f921\"]], \"type\": \"heatmapgl\"}], \"histogram\": [{\"marker\": {\"colorbar\": {\"outlinewidth\": 0, \"ticks\": \"\"}}, \"type\": \"histogram\"}], \"histogram2d\": [{\"colorbar\": {\"outlinewidth\": 0, \"ticks\": \"\"}, \"colorscale\": [[0.0, \"#0d0887\"], [0.1111111111111111, \"#46039f\"], [0.2222222222222222, \"#7201a8\"], [0.3333333333333333, \"#9c179e\"], [0.4444444444444444, \"#bd3786\"], [0.5555555555555556, \"#d8576b\"], [0.6666666666666666, \"#ed7953\"], [0.7777777777777778, \"#fb9f3a\"], [0.8888888888888888, \"#fdca26\"], [1.0, \"#f0f921\"]], \"type\": \"histogram2d\"}], \"histogram2dcontour\": [{\"colorbar\": {\"outlinewidth\": 0, \"ticks\": \"\"}, \"colorscale\": [[0.0, \"#0d0887\"], [0.1111111111111111, \"#46039f\"], [0.2222222222222222, \"#7201a8\"], [0.3333333333333333, \"#9c179e\"], [0.4444444444444444, \"#bd3786\"], [0.5555555555555556, \"#d8576b\"], [0.6666666666666666, \"#ed7953\"], [0.7777777777777778, \"#fb9f3a\"], [0.8888888888888888, \"#fdca26\"], [1.0, \"#f0f921\"]], \"type\": \"histogram2dcontour\"}], \"mesh3d\": [{\"colorbar\": {\"outlinewidth\": 0, \"ticks\": \"\"}, \"type\": \"mesh3d\"}], \"parcoords\": [{\"line\": {\"colorbar\": {\"outlinewidth\": 0, \"ticks\": \"\"}}, \"type\": \"parcoords\"}], \"pie\": [{\"automargin\": true, \"type\": \"pie\"}], \"scatter\": [{\"marker\": {\"colorbar\": {\"outlinewidth\": 0, \"ticks\": \"\"}}, \"type\": \"scatter\"}], \"scatter3d\": [{\"line\": {\"colorbar\": {\"outlinewidth\": 0, \"ticks\": \"\"}}, \"marker\": {\"colorbar\": {\"outlinewidth\": 0, \"ticks\": \"\"}}, \"type\": \"scatter3d\"}], \"scattercarpet\": [{\"marker\": {\"colorbar\": {\"outlinewidth\": 0, \"ticks\": \"\"}}, \"type\": \"scattercarpet\"}], \"scattergeo\": [{\"marker\": {\"colorbar\": {\"outlinewidth\": 0, \"ticks\": \"\"}}, \"type\": \"scattergeo\"}], \"scattergl\": [{\"marker\": {\"colorbar\": {\"outlinewidth\": 0, \"ticks\": \"\"}}, \"type\": \"scattergl\"}], \"scattermapbox\": [{\"marker\": {\"colorbar\": {\"outlinewidth\": 0, \"ticks\": \"\"}}, \"type\": \"scattermapbox\"}], \"scatterpolar\": [{\"marker\": {\"colorbar\": {\"outlinewidth\": 0, \"ticks\": \"\"}}, \"type\": \"scatterpolar\"}], \"scatterpolargl\": [{\"marker\": {\"colorbar\": {\"outlinewidth\": 0, \"ticks\": \"\"}}, \"type\": \"scatterpolargl\"}], \"scatterternary\": [{\"marker\": {\"colorbar\": {\"outlinewidth\": 0, \"ticks\": \"\"}}, \"type\": \"scatterternary\"}], \"surface\": [{\"colorbar\": {\"outlinewidth\": 0, \"ticks\": \"\"}, \"colorscale\": [[0.0, \"#0d0887\"], [0.1111111111111111, \"#46039f\"], [0.2222222222222222, \"#7201a8\"], [0.3333333333333333, \"#9c179e\"], [0.4444444444444444, \"#bd3786\"], [0.5555555555555556, \"#d8576b\"], [0.6666666666666666, \"#ed7953\"], [0.7777777777777778, \"#fb9f3a\"], [0.8888888888888888, \"#fdca26\"], [1.0, \"#f0f921\"]], \"type\": \"surface\"}], \"table\": [{\"cells\": {\"fill\": {\"color\": \"#EBF0F8\"}, \"line\": {\"color\": \"white\"}}, \"header\": {\"fill\": {\"color\": \"#C8D4E3\"}, \"line\": {\"color\": \"white\"}}, \"type\": \"table\"}]}, \"layout\": {\"annotationdefaults\": {\"arrowcolor\": \"#2a3f5f\", \"arrowhead\": 0, \"arrowwidth\": 1}, \"coloraxis\": {\"colorbar\": {\"outlinewidth\": 0, \"ticks\": \"\"}}, \"colorscale\": {\"diverging\": [[0, \"#8e0152\"], [0.1, \"#c51b7d\"], [0.2, \"#de77ae\"], [0.3, \"#f1b6da\"], [0.4, \"#fde0ef\"], [0.5, \"#f7f7f7\"], [0.6, \"#e6f5d0\"], [0.7, \"#b8e186\"], [0.8, \"#7fbc41\"], [0.9, \"#4d9221\"], [1, \"#276419\"]], \"sequential\": [[0.0, \"#0d0887\"], [0.1111111111111111, \"#46039f\"], [0.2222222222222222, \"#7201a8\"], [0.3333333333333333, \"#9c179e\"], [0.4444444444444444, \"#bd3786\"], [0.5555555555555556, \"#d8576b\"], [0.6666666666666666, \"#ed7953\"], [0.7777777777777778, \"#fb9f3a\"], [0.8888888888888888, \"#fdca26\"], [1.0, \"#f0f921\"]], \"sequentialminus\": [[0.0, \"#0d0887\"], [0.1111111111111111, \"#46039f\"], [0.2222222222222222, \"#7201a8\"], [0.3333333333333333, \"#9c179e\"], [0.4444444444444444, \"#bd3786\"], [0.5555555555555556, \"#d8576b\"], [0.6666666666666666, \"#ed7953\"], [0.7777777777777778, \"#fb9f3a\"], [0.8888888888888888, \"#fdca26\"], [1.0, \"#f0f921\"]]}, \"colorway\": [\"#636efa\", \"#EF553B\", \"#00cc96\", \"#ab63fa\", \"#FFA15A\", \"#19d3f3\", \"#FF6692\", \"#B6E880\", \"#FF97FF\", \"#FECB52\"], \"font\": {\"color\": \"#2a3f5f\"}, \"geo\": {\"bgcolor\": \"white\", \"lakecolor\": \"white\", \"landcolor\": \"#E5ECF6\", \"showlakes\": true, \"showland\": true, \"subunitcolor\": \"white\"}, \"hoverlabel\": {\"align\": \"left\"}, \"hovermode\": \"closest\", \"mapbox\": {\"style\": \"light\"}, \"paper_bgcolor\": \"white\", \"plot_bgcolor\": \"#E5ECF6\", \"polar\": {\"angularaxis\": {\"gridcolor\": \"white\", \"linecolor\": \"white\", \"ticks\": \"\"}, \"bgcolor\": \"#E5ECF6\", \"radialaxis\": {\"gridcolor\": \"white\", \"linecolor\": \"white\", \"ticks\": \"\"}}, \"scene\": {\"xaxis\": {\"backgroundcolor\": \"#E5ECF6\", \"gridcolor\": \"white\", \"gridwidth\": 2, \"linecolor\": \"white\", \"showbackground\": true, \"ticks\": \"\", \"zerolinecolor\": \"white\"}, \"yaxis\": {\"backgroundcolor\": \"#E5ECF6\", \"gridcolor\": \"white\", \"gridwidth\": 2, \"linecolor\": \"white\", \"showbackground\": true, \"ticks\": \"\", \"zerolinecolor\": \"white\"}, \"zaxis\": {\"backgroundcolor\": \"#E5ECF6\", \"gridcolor\": \"white\", \"gridwidth\": 2, \"linecolor\": \"white\", \"showbackground\": true, \"ticks\": \"\", \"zerolinecolor\": \"white\"}}, \"shapedefaults\": {\"line\": {\"color\": \"#2a3f5f\"}}, \"ternary\": {\"aaxis\": {\"gridcolor\": \"white\", \"linecolor\": \"white\", \"ticks\": \"\"}, \"baxis\": {\"gridcolor\": \"white\", \"linecolor\": \"white\", \"ticks\": \"\"}, \"bgcolor\": \"#E5ECF6\", \"caxis\": {\"gridcolor\": \"white\", \"linecolor\": \"white\", \"ticks\": \"\"}}, \"title\": {\"x\": 0.05}, \"xaxis\": {\"automargin\": true, \"gridcolor\": \"white\", \"linecolor\": \"white\", \"ticks\": \"\", \"title\": {\"standoff\": 15}, \"zerolinecolor\": \"white\", \"zerolinewidth\": 2}, \"yaxis\": {\"automargin\": true, \"gridcolor\": \"white\", \"linecolor\": \"white\", \"ticks\": \"\", \"title\": {\"standoff\": 15}, \"zerolinecolor\": \"white\", \"zerolinewidth\": 2}}}, \"width\": 1000},\n",
       "                        {\"responsive\": true}\n",
       "                    ).then(function(){\n",
       "                            \n",
       "var gd = document.getElementById('55e09c92-29d6-43d2-bc03-0fd08ee62702');\n",
       "var x = new MutationObserver(function (mutations, observer) {{\n",
       "        var display = window.getComputedStyle(gd).display;\n",
       "        if (!display || display === 'none') {{\n",
       "            console.log([gd, 'removed!']);\n",
       "            Plotly.purge(gd);\n",
       "            observer.disconnect();\n",
       "        }}\n",
       "}});\n",
       "\n",
       "// Listen for the removal of the full notebook cells\n",
       "var notebookContainer = gd.closest('#notebook-container');\n",
       "if (notebookContainer) {{\n",
       "    x.observe(notebookContainer, {childList: true});\n",
       "}}\n",
       "\n",
       "// Listen for the clearing of the current output cell\n",
       "var outputEl = gd.closest('.output');\n",
       "if (outputEl) {{\n",
       "    x.observe(outputEl, {childList: true});\n",
       "}}\n",
       "\n",
       "                        })\n",
       "                };\n",
       "                });\n",
       "            </script>\n",
       "        </div>"
      ]
     },
     "metadata": {},
     "output_type": "display_data"
    }
   ],
   "source": [
    "px.set_mapbox_access_token(\"pk.eyJ1IjoiZWJlbmFqYXkyIiwiYSI6ImNrcGc0OWh4NjBmcTQyb3F4d29sdnMybDkifQ.mZ1ZiDepeliJ21myb3N-wA\")\n",
    "px.scatter_mapbox(gdf, lat=\"lat\", lon=\"long\",size_max=6, zoom=8, width=1000, height=600)"
   ]
  },
  {
   "cell_type": "code",
   "execution_count": 12,
   "metadata": {},
   "outputs": [
    {
     "data": {
      "text/html": [
       "<div style=\"width:100%;\"><div style=\"position:relative;width:100%;height:0;padding-bottom:60%;\"><span style=\"color:#565656\">Make this Notebook Trusted to load map: File -> Trust Notebook</span><iframe src=\"about:blank\" style=\"position:absolute;width:100%;height:100%;left:0;top:0;border:none !important;\" data-html=%3C%21DOCTYPE%20html%3E%0A%3Chead%3E%20%20%20%20%0A%20%20%20%20%3Cmeta%20http-equiv%3D%22content-type%22%20content%3D%22text/html%3B%20charset%3DUTF-8%22%20/%3E%0A%20%20%20%20%0A%20%20%20%20%20%20%20%20%3Cscript%3E%0A%20%20%20%20%20%20%20%20%20%20%20%20L_NO_TOUCH%20%3D%20false%3B%0A%20%20%20%20%20%20%20%20%20%20%20%20L_DISABLE_3D%20%3D%20false%3B%0A%20%20%20%20%20%20%20%20%3C/script%3E%0A%20%20%20%20%0A%20%20%20%20%3Cstyle%3Ehtml%2C%20body%20%7Bwidth%3A%20100%25%3Bheight%3A%20100%25%3Bmargin%3A%200%3Bpadding%3A%200%3B%7D%3C/style%3E%0A%20%20%20%20%3Cstyle%3E%23map%20%7Bposition%3Aabsolute%3Btop%3A0%3Bbottom%3A0%3Bright%3A0%3Bleft%3A0%3B%7D%3C/style%3E%0A%20%20%20%20%3Cscript%20src%3D%22https%3A//cdn.jsdelivr.net/npm/leaflet%401.6.0/dist/leaflet.js%22%3E%3C/script%3E%0A%20%20%20%20%3Cscript%20src%3D%22https%3A//code.jquery.com/jquery-1.12.4.min.js%22%3E%3C/script%3E%0A%20%20%20%20%3Cscript%20src%3D%22https%3A//maxcdn.bootstrapcdn.com/bootstrap/3.2.0/js/bootstrap.min.js%22%3E%3C/script%3E%0A%20%20%20%20%3Cscript%20src%3D%22https%3A//cdnjs.cloudflare.com/ajax/libs/Leaflet.awesome-markers/2.0.2/leaflet.awesome-markers.js%22%3E%3C/script%3E%0A%20%20%20%20%3Clink%20rel%3D%22stylesheet%22%20href%3D%22https%3A//cdn.jsdelivr.net/npm/leaflet%401.6.0/dist/leaflet.css%22/%3E%0A%20%20%20%20%3Clink%20rel%3D%22stylesheet%22%20href%3D%22https%3A//maxcdn.bootstrapcdn.com/bootstrap/3.2.0/css/bootstrap.min.css%22/%3E%0A%20%20%20%20%3Clink%20rel%3D%22stylesheet%22%20href%3D%22https%3A//maxcdn.bootstrapcdn.com/bootstrap/3.2.0/css/bootstrap-theme.min.css%22/%3E%0A%20%20%20%20%3Clink%20rel%3D%22stylesheet%22%20href%3D%22https%3A//maxcdn.bootstrapcdn.com/font-awesome/4.6.3/css/font-awesome.min.css%22/%3E%0A%20%20%20%20%3Clink%20rel%3D%22stylesheet%22%20href%3D%22https%3A//cdnjs.cloudflare.com/ajax/libs/Leaflet.awesome-markers/2.0.2/leaflet.awesome-markers.css%22/%3E%0A%20%20%20%20%3Clink%20rel%3D%22stylesheet%22%20href%3D%22https%3A//cdn.jsdelivr.net/gh/python-visualization/folium/folium/templates/leaflet.awesome.rotate.min.css%22/%3E%0A%20%20%20%20%0A%20%20%20%20%20%20%20%20%20%20%20%20%3Cmeta%20name%3D%22viewport%22%20content%3D%22width%3Ddevice-width%2C%0A%20%20%20%20%20%20%20%20%20%20%20%20%20%20%20%20initial-scale%3D1.0%2C%20maximum-scale%3D1.0%2C%20user-scalable%3Dno%22%20/%3E%0A%20%20%20%20%20%20%20%20%20%20%20%20%3Cstyle%3E%0A%20%20%20%20%20%20%20%20%20%20%20%20%20%20%20%20%23map_cf9653de8fb0486eb336977f3ba5590c%20%7B%0A%20%20%20%20%20%20%20%20%20%20%20%20%20%20%20%20%20%20%20%20position%3A%20relative%3B%0A%20%20%20%20%20%20%20%20%20%20%20%20%20%20%20%20%20%20%20%20width%3A%20100.0%25%3B%0A%20%20%20%20%20%20%20%20%20%20%20%20%20%20%20%20%20%20%20%20height%3A%20100.0%25%3B%0A%20%20%20%20%20%20%20%20%20%20%20%20%20%20%20%20%20%20%20%20left%3A%200.0%25%3B%0A%20%20%20%20%20%20%20%20%20%20%20%20%20%20%20%20%20%20%20%20top%3A%200.0%25%3B%0A%20%20%20%20%20%20%20%20%20%20%20%20%20%20%20%20%7D%0A%20%20%20%20%20%20%20%20%20%20%20%20%3C/style%3E%0A%20%20%20%20%20%20%20%20%0A%20%20%20%20%3Cscript%20src%3D%22https%3A//cdnjs.cloudflare.com/ajax/libs/leaflet.markercluster/1.1.0/leaflet.markercluster.js%22%3E%3C/script%3E%0A%20%20%20%20%3Clink%20rel%3D%22stylesheet%22%20href%3D%22https%3A//cdnjs.cloudflare.com/ajax/libs/leaflet.markercluster/1.1.0/MarkerCluster.css%22/%3E%0A%20%20%20%20%3Clink%20rel%3D%22stylesheet%22%20href%3D%22https%3A//cdnjs.cloudflare.com/ajax/libs/leaflet.markercluster/1.1.0/MarkerCluster.Default.css%22/%3E%0A%3C/head%3E%0A%3Cbody%3E%20%20%20%20%0A%20%20%20%20%0A%20%20%20%20%20%20%20%20%20%20%20%20%3Cdiv%20class%3D%22folium-map%22%20id%3D%22map_cf9653de8fb0486eb336977f3ba5590c%22%20%3E%3C/div%3E%0A%20%20%20%20%20%20%20%20%0A%3C/body%3E%0A%3Cscript%3E%20%20%20%20%0A%20%20%20%20%0A%20%20%20%20%20%20%20%20%20%20%20%20var%20map_cf9653de8fb0486eb336977f3ba5590c%20%3D%20L.map%28%0A%20%20%20%20%20%20%20%20%20%20%20%20%20%20%20%20%22map_cf9653de8fb0486eb336977f3ba5590c%22%2C%0A%20%20%20%20%20%20%20%20%20%20%20%20%20%20%20%20%7B%0A%20%20%20%20%20%20%20%20%20%20%20%20%20%20%20%20%20%20%20%20center%3A%20%5B45.534699%2C%20-73.569848%5D%2C%0A%20%20%20%20%20%20%20%20%20%20%20%20%20%20%20%20%20%20%20%20crs%3A%20L.CRS.EPSG3857%2C%0A%20%20%20%20%20%20%20%20%20%20%20%20%20%20%20%20%20%20%20%20zoom%3A%2012%2C%0A%20%20%20%20%20%20%20%20%20%20%20%20%20%20%20%20%20%20%20%20zoomControl%3A%20true%2C%0A%20%20%20%20%20%20%20%20%20%20%20%20%20%20%20%20%20%20%20%20preferCanvas%3A%20false%2C%0A%20%20%20%20%20%20%20%20%20%20%20%20%20%20%20%20%7D%0A%20%20%20%20%20%20%20%20%20%20%20%20%29%3B%0A%0A%20%20%20%20%20%20%20%20%20%20%20%20%0A%0A%20%20%20%20%20%20%20%20%0A%20%20%20%20%0A%20%20%20%20%20%20%20%20%20%20%20%20var%20tile_layer_52067fd408444ab7a96869ef3774b7cd%20%3D%20L.tileLayer%28%0A%20%20%20%20%20%20%20%20%20%20%20%20%20%20%20%20%22https%3A//cartodb-basemaps-%7Bs%7D.global.ssl.fastly.net/light_all/%7Bz%7D/%7Bx%7D/%7By%7D.png%22%2C%0A%20%20%20%20%20%20%20%20%20%20%20%20%20%20%20%20%7B%22attribution%22%3A%20%22%5Cu0026copy%3B%20%5Cu003ca%20href%3D%5C%22http%3A//www.openstreetmap.org/copyright%5C%22%5Cu003eOpenStreetMap%5Cu003c/a%5Cu003e%20contributors%20%5Cu0026copy%3B%20%5Cu003ca%20href%3D%5C%22http%3A//cartodb.com/attributions%5C%22%5Cu003eCartoDB%5Cu003c/a%5Cu003e%2C%20CartoDB%20%5Cu003ca%20href%20%3D%5C%22http%3A//cartodb.com/attributions%5C%22%5Cu003eattributions%5Cu003c/a%5Cu003e%22%2C%20%22detectRetina%22%3A%20false%2C%20%22maxNativeZoom%22%3A%2018%2C%20%22maxZoom%22%3A%2018%2C%20%22minZoom%22%3A%200%2C%20%22noWrap%22%3A%20false%2C%20%22opacity%22%3A%201%2C%20%22subdomains%22%3A%20%22abc%22%2C%20%22tms%22%3A%20false%7D%0A%20%20%20%20%20%20%20%20%20%20%20%20%29.addTo%28map_cf9653de8fb0486eb336977f3ba5590c%29%3B%0A%20%20%20%20%20%20%20%20%0A%20%20%20%20%0A%20%20%20%20%20%20%20%20%20%20%20%20var%20fast_marker_cluster_123be46ba13542088882c24eb15ff8d3%20%3D%20%28function%28%29%7B%0A%20%20%20%20%20%20%20%20%20%20%20%20%20%20%20%20%0A%20%20%20%20%20%20%20%20%20%20%20%20%20%20%20%20var%20callback%20%3D%20function%20%28row%29%20%7B%0A%20%20%20%20%20%20%20%20%20%20%20%20%20%20%20%20%20%20%20%20var%20icon%20%3D%20L.AwesomeMarkers.icon%28%29%3B%0A%20%20%20%20%20%20%20%20%20%20%20%20%20%20%20%20%20%20%20%20var%20marker%20%3D%20L.marker%28new%20L.LatLng%28row%5B0%5D%2C%20row%5B1%5D%29%29%3B%0A%20%20%20%20%20%20%20%20%20%20%20%20%20%20%20%20%20%20%20%20marker.setIcon%28icon%29%3B%0A%20%20%20%20%20%20%20%20%20%20%20%20%20%20%20%20%20%20%20%20return%20marker%3B%0A%20%20%20%20%20%20%20%20%20%20%20%20%20%20%20%20%7D%3B%0A%0A%20%20%20%20%20%20%20%20%20%20%20%20%20%20%20%20var%20data%20%3D%20%5B%5B45.537593%2C%20-73.597075%5D%2C%20%5B45.488636%2C%20-73.568175%5D%2C%20%5B48.3878711%2C%20-68.4706861%5D%2C%20%5B46.7956598%2C%20-71.3561663%5D%2C%20%5B45.510310700000005%2C%20-73.570841%5D%2C%20%5B45.755632899999995%2C%20-73.44680859999998%5D%2C%20%5B46.835607%2C%20-71.21863990000001%5D%2C%20%5B45.473949%2C%20-73.603989%5D%2C%20%5B45.518215399999995%2C%20-73.5781092%5D%2C%20%5B46.891487700000006%2C%20-71.2141851%5D%2C%20%5B45.5144682%2C%20-73.55699090000002%5D%2C%20%5B45.5336184%2C%20-73.5959721%5D%2C%20%5B46.8679355%2C%20-71.1801463%5D%2C%20%5B45.535530200000004%2C%20-73.5821607%5D%2C%20%5B45.4650792%2C%20-73.6259151%5D%2C%20%5B48.241944399999994%2C%20-79.0310436%5D%2C%20%5B45.5188044%2C%20-73.5560497%5D%2C%20%5B45.5129793%2C%20-73.6306253%5D%2C%20%5B45.5486995%2C%20-73.5741421%5D%2C%20%5B45.500265%2C%20-73.5748868%5D%2C%20%5B45.4998571%2C%20-73.57434040000001%5D%2C%20%5B45.510319%2C%20-73.57500329999999%5D%2C%20%5B45.510319%2C%20-73.57500329999999%5D%2C%20%5B45.4014722%2C%20-71.95428290000001%5D%2C%20%5B48.473097100000004%2C%20-68.5080816%5D%2C%20%5B45.459886700000006%2C%20-73.6245821%5D%2C%20%5B45.5212833%2C%20-73.5946095%5D%2C%20%5B45.477963700000004%2C%20-73.5610195%5D%2C%20%5B46.554334499999996%2C%20-72.7383561%5D%2C%20%5B46.83492639999999%2C%20-71.23993%5D%2C%20%5B45.575587299999995%2C%20-73.6471295%5D%2C%20%5B45.461001%2C%20-73.5924047%5D%2C%20%5B45.576084200000004%2C%20-73.65558670000001%5D%2C%20%5B45.5363773%2C%20-73.5801377%5D%2C%20%5B45.5220951%2C%20-73.46628709999999%5D%2C%20%5B46.7865302%2C%20-71.2471732%5D%2C%20%5B45.4860706%2C%20-73.4649375%5D%2C%20%5B45.5243434%2C%20-73.6005277%5D%2C%20%5B45.5255925%2C%20-73.6035845%5D%2C%20%5B45.4814067%2C%20-73.6313923%5D%2C%20%5B45.5050263%2C%20-73.5710036%5D%2C%20%5B45.505055%2C%20-73.57139240000001%5D%2C%20%5B45.5426053%2C%20-73.5878873%5D%2C%20%5B45.544699%2C%20-73.5882083%5D%2C%20%5B45.4924311%2C%20-73.6327222%5D%2C%20%5B45.4828119%2C%20-73.579699%5D%2C%20%5B45.4828196%2C%20-73.5796493%5D%2C%20%5B45.5198475%2C%20-73.505356%5D%2C%20%5B46.6134523%2C%20-72.6936862%5D%2C%20%5B45.555593%2C%20-73.667276%5D%2C%20%5B45.531281899999996%2C%20-73.5809405%5D%2C%20%5B45.74664179999999%2C%20-73.4630257%5D%2C%20%5B48.2431951%2C%20-79.0406838%5D%2C%20%5B45.530368200000005%2C%20-73.6085368%5D%2C%20%5B45.5181859%2C%20-73.5065236%5D%2C%20%5B46.6039185%2C%20-72.7088415%5D%2C%20%5B45.477182899999995%2C%20-73.58737540000001%5D%2C%20%5B45.543833500000005%2C%20-73.577163%5D%2C%20%5B45.4917662%2C%20-73.4197238%5D%2C%20%5B46.839277100000004%2C%20-71.239331%5D%2C%20%5B45.4827055%2C%20-73.57857%5D%2C%20%5B45.4635801%2C%20-73.5831545%5D%2C%20%5B46.5696182%2C%20-72.7634128%5D%2C%20%5B46.8047293%2C%20-71.2439177%5D%2C%20%5B46.854412700000005%2C%20-71.27653149999999%5D%2C%20%5B45.4800939%2C%20-73.55881240000001%5D%2C%20%5B45.4814162%2C%20-73.5641863%5D%2C%20%5B45.497171200000004%2C%20-73.4105832%5D%2C%20%5B48.430718%2C%20-68.5839784%5D%2C%20%5B45.5128081%2C%20-73.4772373%5D%2C%20%5B45.453583%2C%20-73.6372269%5D%2C%20%5B45.5408907%2C%20-73.5880042%5D%2C%20%5B45.4893259%2C%20-73.49157220000001%5D%2C%20%5B46.8199384%2C%20-71.2574357%5D%2C%20%5B45.489481700000006%2C%20-73.5721152%5D%2C%20%5B45.5381124%2C%20-73.6058333%5D%2C%20%5B45.51985560000001%2C%20-73.5628875%5D%2C%20%5B45.5406272%2C%20-73.6535734%5D%2C%20%5B45.500983000000005%2C%20-73.567613%5D%2C%20%5B45.500467900000004%2C%20-73.5675448%5D%2C%20%5B45.5166438%2C%20-73.5664966%5D%2C%20%5B45.5166229%2C%20-73.5662941%5D%2C%20%5B46.8136071%2C%20-71.2262251%5D%2C%20%5B45.764340000000004%2C%20-73.47600870000001%5D%2C%20%5B46.5199391%2C%20-72.7447355%5D%2C%20%5B46.788579299999995%2C%20-71.2708805%5D%2C%20%5B46.8052664%2C%20-71.22132459999999%5D%2C%20%5B46.7757675%2C%20-71.31104559999999%5D%2C%20%5B46.8208359%2C%20-71.2682532%5D%2C%20%5B46.8555075%2C%20-71.2792974%5D%2C%20%5B46.8028996%2C%20-71.2242526%5D%2C%20%5B45.5239867%2C%20-73.594378%5D%2C%20%5B45.5375357%2C%20-73.6780625%5D%2C%20%5B46.77101029999999%2C%20-71.3198289%5D%2C%20%5B46.7710729%2C%20-71.31950429999999%5D%2C%20%5B45.5301861%2C%20-73.5819472%5D%2C%20%5B46.60727979999999%2C%20-72.7037228%5D%2C%20%5B45.521455200000005%2C%20-73.5048386%5D%2C%20%5B45.5228806%2C%20-73.48639849999999%5D%2C%20%5B45.515708000000004%2C%20-73.55597440000001%5D%2C%20%5B45.5288212%2C%20-73.58765600000001%5D%2C%20%5B45.534197799999994%2C%20-73.6094541%5D%2C%20%5B45.521857700000005%2C%20-73.58182240000001%5D%2C%20%5B45.5302597%2C%20-73.5669386%5D%2C%20%5B45.510577000000005%2C%20-73.5519675%5D%2C%20%5B45.7693036%2C%20-73.4461179%5D%2C%20%5B46.8965297%2C%20-71.2072578%5D%2C%20%5B45.4733304%2C%20-73.58839870000001%5D%2C%20%5B45.5468442%2C%20-73.64259200000001%5D%2C%20%5B45.5100597%2C%20-73.61261209999999%5D%2C%20%5B46.8368679%2C%20-71.23657%5D%2C%20%5B45.514549%2C%20-73.572264%5D%2C%20%5B46.8325222%2C%20-71.24188609999999%5D%2C%20%5B46.8011869%2C%20-71.2260403%5D%2C%20%5B45.5356678%2C%20-73.698998%5D%2C%20%5B45.5133912%2C%20-73.4810832%5D%2C%20%5B45.535841299999994%2C%20-73.59432679999999%5D%2C%20%5B45.4952842%2C%20-73.640073%5D%2C%20%5B46.563334399999995%2C%20-72.7384109%5D%2C%20%5B46.8045252%2C%20-71.242154%5D%2C%20%5B46.811432%2C%20-71.2396021%5D%2C%20%5B46.8372428%2C%20-71.2550438%5D%2C%20%5B46.8909411%2C%20-71.18925329999999%5D%2C%20%5B45.500174%2C%20-73.5578058%5D%2C%20%5B45.5480259%2C%20-73.5851377%5D%2C%20%5B45.5218159%2C%20-73.5850035%5D%2C%20%5B46.8089956%2C%20-71.2260486%5D%2C%20%5B45.4911565%2C%20-73.4784689%5D%2C%20%5B45.501174799999994%2C%20-73.5798516%5D%2C%20%5B45.5181027%2C%20-73.6199188%5D%2C%20%5B45.4866269%2C%20-73.63461190000001%5D%2C%20%5B45.4866269%2C%20-73.63461190000001%5D%2C%20%5B45.5446559%2C%20-73.6504808%5D%2C%20%5B45.46720139999999%2C%20-73.6390809%5D%2C%20%5B45.50198220000001%2C%20-73.5664947%5D%2C%20%5B45.5005083%2C%20-73.5714549%5D%2C%20%5B45.5116006%2C%20-73.5596293%5D%2C%20%5B45.5215451%2C%20-73.57493149999999%5D%2C%20%5B45.502537100000005%2C%20-73.5607568%5D%2C%20%5B45.493519%2C%20-73.582151%5D%2C%20%5B45.5259495%2C%20-73.52255699999999%5D%2C%20%5B46.5718942%2C%20-72.7620632%5D%2C%20%5B45.7526227%2C%20-73.4310287%5D%2C%20%5B45.7191889%2C%20-73.4677769%5D%2C%20%5B45.529302%2C%20-73.5463929%5D%2C%20%5B46.8446932%2C%20-71.366122%5D%2C%20%5B46.8570499%2C%20-71.4113318%5D%2C%20%5B45.5001121%2C%20-73.56652240000001%5D%2C%20%5B45.573932%2C%20-73.6490685%5D%2C%20%5B45.53825820000001%2C%20-73.5569217%5D%2C%20%5B45.5017252%2C%20-73.41653029999999%5D%2C%20%5B45.557026799999996%2C%20-73.593746%5D%2C%20%5B46.8372401%2C%20-71.3560875%5D%2C%20%5B46.8372401%2C%20-71.3560875%5D%2C%20%5B48.467893100000005%2C%20-68.51264520000001%5D%2C%20%5B46.5559232%2C%20-72.7521273%5D%2C%20%5B45.5110528%2C%20-73.566039%5D%2C%20%5B46.7685071%2C%20-71.2668179%5D%2C%20%5B45.7704519%2C%20-73.4233872%5D%2C%20%5B45.494002%2C%20-73.58202759999999%5D%2C%20%5B45.4943351%2C%20-73.58121650000001%5D%2C%20%5B45.5368631%2C%20-73.5631319%5D%2C%20%5B45.474995799999995%2C%20-73.58537700000001%5D%2C%20%5B45.456385100000006%2C%20-73.595479%5D%2C%20%5B45.5269531%2C%20-73.5585829%5D%2C%20%5B45.53019320000001%2C%20-73.5773074%5D%2C%20%5B45.563867200000004%2C%20-73.5734675%5D%2C%20%5B45.4707735%2C%20-73.6158029%5D%2C%20%5B45.5583407%2C%20-73.6368367%5D%2C%20%5B46.9175469%2C%20-71.202382%5D%2C%20%5B45.538516200000004%2C%20-73.5060375%5D%2C%20%5B45.4545151%2C%20-73.63933270000001%5D%2C%20%5B45.454471999999996%2C%20-73.639542%5D%2C%20%5B45.5329753%2C%20-73.58465840000001%5D%2C%20%5B45.537753%2C%20-73.55331600000001%5D%2C%20%5B45.549659999999996%2C%20-73.55836500000001%5D%2C%20%5B45.494900200000004%2C%20-73.5796571%5D%2C%20%5B45.494960600000006%2C%20-73.5797907%5D%2C%20%5B45.5339451%2C%20-73.59605450000001%5D%2C%20%5B45.50042979999999%2C%20-73.6317868%5D%2C%20%5B46.8396619%2C%20-71.2209063%5D%2C%20%5B46.839253799999994%2C%20-71.2825827%5D%2C%20%5B45.51900379999999%2C%20-73.5681311%5D%2C%20%5B48.2477973%2C%20-79.0373917%5D%2C%20%5B46.93048220000001%2C%20-71.3152547%5D%2C%20%5B45.4758005%2C%20-73.4297636%5D%2C%20%5B46.816360700000004%2C%20-71.2894152%5D%2C%20%5B45.4932544%2C%20-73.6394618%5D%2C%20%5B45.500133%2C%20-73.5652994%5D%2C%20%5B45.7443982%2C%20-73.45380490000001%5D%2C%20%5B45.5191395%2C%20-73.5958717%5D%2C%20%5B46.8257407%2C%20-71.2334467%5D%2C%20%5B45.533899%2C%20-73.5508902%5D%2C%20%5B45.533899%2C%20-73.5508902%5D%2C%20%5B45.52480870000001%2C%20-73.4659162%5D%2C%20%5B45.497349%2C%20-73.568896%5D%2C%20%5B45.49604%2C%20-73.57027%5D%2C%20%5B45.516142200000004%2C%20-73.5597293%5D%2C%20%5B45.5165703%2C%20-73.5591697%5D%2C%20%5B46.885501299999994%2C%20-71.1998508%5D%2C%20%5B46.889960200000004%2C%20-71.2175696%5D%2C%20%5B45.4905307%2C%20-73.5860847%5D%2C%20%5B46.8135679%2C%20-71.20704%5D%2C%20%5B46.8504854%2C%20-71.21335069999999%5D%2C%20%5B46.8136708%2C%20-71.237315%5D%2C%20%5B46.556938200000005%2C%20-72.74685759999998%5D%2C%20%5B46.8787741%2C%20-71.28361290000001%5D%2C%20%5B46.8787741%2C%20-71.28361290000001%5D%2C%20%5B45.505953000000005%2C%20-73.556097%5D%2C%20%5B45.5060225%2C%20-73.5559002%5D%2C%20%5B45.506171%2C%20-73.556449%5D%2C%20%5B45.462112%2C%20-73.631548%5D%2C%20%5B45.4815938%2C%20-73.45300340000001%5D%2C%20%5B46.882800399999994%2C%20-71.28921590000002%5D%2C%20%5B45.4834469%2C%20-73.62952740000001%5D%2C%20%5B45.4879623%2C%20-73.63958670000001%5D%2C%20%5B45.5078099%2C%20-73.5652013%5D%2C%20%5B45.5078099%2C%20-73.5652013%5D%2C%20%5B46.5197223%2C%20-72.7460205%5D%2C%20%5B45.4996169%2C%20-73.57234790000001%5D%2C%20%5B46.811637100000006%2C%20-71.2935536%5D%2C%20%5B45.4766013%2C%20-73.62167020000001%5D%2C%20%5B45.5186729%2C%20-73.5779496%5D%2C%20%5B45.518539000000004%2C%20-73.57810400000001%5D%2C%20%5B45.533414%2C%20-73.55254509999999%5D%2C%20%5B45.5561588%2C%20-73.5851218%5D%2C%20%5B46.86331129999999%2C%20-71.33027659999999%5D%2C%20%5B45.5360244%2C%20-73.5139573%5D%2C%20%5B45.491611299999995%2C%20-73.4581679%5D%2C%20%5B45.5441377%2C%20-73.5912709%5D%2C%20%5B46.8090408%2C%20-71.25910429999999%5D%2C%20%5B45.5191993%2C%20-73.48770970000001%5D%2C%20%5B45.4619149%2C%20-73.59746170000001%5D%2C%20%5B45.564945%2C%20-73.58282%5D%2C%20%5B46.8743947%2C%20-71.3305868%5D%2C%20%5B46.8642674%2C%20-71.1852277%5D%2C%20%5B48.233219%2C%20-78.99260600000001%5D%2C%20%5B45.4915042%2C%20-73.5816539%5D%2C%20%5B46.8914079%2C%20-71.1499358%5D%2C%20%5B45.4779216%2C%20-73.4757013%5D%2C%20%5B45.4935112%2C%20-73.6360684%5D%2C%20%5B45.4878175%2C%20-73.3993508%5D%2C%20%5B45.462759000000005%2C%20-73.424696%5D%2C%20%5B45.5463486%2C%20-73.5793948%5D%2C%20%5B46.826494%2C%20-71.23860970000001%5D%2C%20%5B45.561738%2C%20-73.58094799999999%5D%2C%20%5B46.816255%2C%20-71.25192890000001%5D%2C%20%5B45.5546445%2C%20-73.65343680000001%5D%2C%20%5B45.5679359%2C%20-73.45098759999999%5D%2C%20%5B45.567902600000004%2C%20-73.4510315%5D%2C%20%5B46.8029984%2C%20-71.22485970000001%5D%2C%20%5B45.5374158%2C%20-73.583371%5D%2C%20%5B45.5586091%2C%20-73.6375514%5D%2C%20%5B47.9127764%2C%20-79.2480642%5D%2C%20%5B45.544746%2C%20-73.59957800000001%5D%2C%20%5B45.483689500000004%2C%20-73.5743372%5D%2C%20%5B45.527044200000006%2C%20-73.7130206%5D%2C%20%5B46.75267%2C%20-71.43041%5D%2C%20%5B46.8234838%2C%20-71.22669920000001%5D%2C%20%5B45.5350677%2C%20-73.60373%5D%2C%20%5B45.456151%2C%20-73.598789%5D%2C%20%5B45.5286103%2C%20-73.4891109%5D%2C%20%5B45.4846111%2C%20-73.44069870000001%5D%2C%20%5B46.5562331%2C%20-72.7446933%5D%2C%20%5B45.525432%2C%20-73.55248399999999%5D%2C%20%5B45.5278229%2C%20-73.5790809%5D%2C%20%5B45.527440500000004%2C%20-73.579291%5D%2C%20%5B45.56668%2C%20-73.575664%5D%2C%20%5B45.5133295%2C%20-73.49160390000002%5D%2C%20%5B46.831307200000005%2C%20-71.2314313%5D%2C%20%5B45.49961079999999%2C%20-73.5562644%5D%2C%20%5B45.4992821%2C%20-73.5552553%5D%2C%20%5B45.4956881%2C%20-73.4676372%5D%2C%20%5B45.5237369%2C%20-73.59485699999999%5D%2C%20%5B45.5312557%2C%20-73.5654928%5D%2C%20%5B45.466962%2C%20-73.61202%5D%2C%20%5B46.8233118%2C%20-71.2226811%5D%2C%20%5B46.5588282%2C%20-72.7429133%5D%2C%20%5B45.54742460000001%2C%20-73.55902309999999%5D%2C%20%5B45.4877901%2C%20-73.4624333%5D%2C%20%5B45.517737700000005%2C%20-73.59225179999999%5D%2C%20%5B45.516670899999994%2C%20-73.4481007%5D%2C%20%5B46.8128563%2C%20-71.2122832%5D%2C%20%5B45.554025700000004%2C%20-73.66917%5D%2C%20%5B45.470721999999995%2C%20-73.59090490000001%5D%2C%20%5B45.476365%2C%20-73.565247%5D%2C%20%5B45.5323983%2C%20-73.48445219999999%5D%2C%20%5B45.5323983%2C%20-73.48445219999999%5D%2C%20%5B45.483167%2C%20-73.580991%5D%2C%20%5B45.558859999999996%2C%20-73.6588939%5D%2C%20%5B45.5416727%2C%20-73.59824%5D%2C%20%5B45.5425854%2C%20-73.69412729999999%5D%2C%20%5B45.5066394%2C%20-73.4443063%5D%2C%20%5B45.4641836%2C%20-73.6460511%5D%2C%20%5B45.5308487%2C%20-73.57673790000001%5D%2C%20%5B45.5283228%2C%20-73.5912281%5D%2C%20%5B46.7404687%2C%20-71.4675253%5D%2C%20%5B46.7404687%2C%20-71.4675253%5D%2C%20%5B45.529880299999995%2C%20-73.54737970000001%5D%2C%20%5B45.5262667%2C%20-73.5810324%5D%2C%20%5B45.449909000000005%2C%20-73.601011%5D%2C%20%5B45.76756029999999%2C%20-73.44454250000001%5D%2C%20%5B45.5668191%2C%20-73.6510092%5D%2C%20%5B45.5149045%2C%20-73.5597685%5D%2C%20%5B45.5294658%2C%20-73.5557197%5D%2C%20%5B45.5203702%2C%20-73.5979238%5D%2C%20%5B46.806683500000005%2C%20-71.2459653%5D%2C%20%5B45.507571999999996%2C%20-73.4962203%5D%2C%20%5B45.4514109%2C%20-73.59350620000001%5D%2C%20%5B46.8150396%2C%20-71.2207915%5D%2C%20%5B45.5235286%2C%20-73.5951189%5D%2C%20%5B45.5684112%2C%20-73.55351359999999%5D%2C%20%5B46.848389399999995%2C%20-71.23470809999999%5D%2C%20%5B48.441093%2C%20-68.53344%5D%2C%20%5B45.5094278%2C%20-73.572676%5D%2C%20%5B45.537136600000004%2C%20-73.672741%5D%2C%20%5B45.5385795%2C%20-73.4798282%5D%2C%20%5B46.837709999999994%2C%20-71.23089%5D%2C%20%5B46.8481887%2C%20-71.2286708%5D%2C%20%5B45.4934271%2C%20-73.58293459999999%5D%2C%20%5B45.495461%2C%20-73.61048000000001%5D%2C%20%5B45.532497%2C%20-73.596521%5D%2C%20%5B45.5238193%2C%20-73.5603887%5D%2C%20%5B45.520000700000004%2C%20-73.4601421%5D%2C%20%5B46.8134%2C%20-71.2273699%5D%2C%20%5B45.515709%2C%20-73.465352%5D%2C%20%5B48.222730799999994%2C%20-78.996684%5D%2C%20%5B45.4667531%2C%20-73.6442381%5D%2C%20%5B45.4665492%2C%20-73.6442402%5D%2C%20%5B45.5224639%2C%20-73.5617125%5D%2C%20%5B45.562683%2C%20-73.572434%5D%2C%20%5B45.5524354%2C%20-73.5566077%5D%2C%20%5B45.5103999%2C%20-73.5759925%5D%2C%20%5B46.796485700000005%2C%20-71.23976400000001%5D%2C%20%5B45.5041009%2C%20-73.5710036%5D%2C%20%5B45.525804799999996%2C%20-73.7137765%5D%2C%20%5B45.4782589%2C%20-73.5693497%5D%2C%20%5B45.4780614%2C%20-73.6294296%5D%2C%20%5B45.5008215%2C%20-73.42542209999999%5D%2C%20%5B45.5232782%2C%20-73.5545852%5D%2C%20%5B45.523292299999994%2C%20-73.55460040000001%5D%2C%20%5B45.5728253%2C%20-73.6499702%5D%2C%20%5B46.873002500000005%2C%20-71.2527723%5D%2C%20%5B46.828584899999996%2C%20-71.228911%5D%2C%20%5B45.536534499999995%2C%20-73.6786555%5D%2C%20%5B45.519031%2C%20-73.5601848%5D%2C%20%5B45.5453854%2C%20-73.60403769999999%5D%2C%20%5B48.2271305%2C%20-78.3819344%5D%2C%20%5B45.536%2C%20-73.55159990000001%5D%2C%20%5B48.240164299999996%2C%20-79.02551650000001%5D%2C%20%5B45.5351599%2C%20-73.57762059999999%5D%2C%20%5B45.455290000000005%2C%20-73.6409637%5D%2C%20%5B45.720839899999994%2C%20-73.4795498%5D%2C%20%5B45.492222600000005%2C%20-73.5831156%5D%2C%20%5B45.5357275%2C%20-73.5586889%5D%2C%20%5B45.51958870000001%2C%20-73.4918641%5D%2C%20%5B46.8217471%2C%20-71.2499304%5D%2C%20%5B46.8217471%2C%20-71.2499304%5D%2C%20%5B45.530136999999996%2C%20-73.608739%5D%2C%20%5B45.4797987%2C%20-73.5562755%5D%2C%20%5B46.804565999999994%2C%20-71.312725%5D%2C%20%5B46.852028499999996%2C%20-71.2102162%5D%2C%20%5B45.509184000000005%2C%20-73.5616546%5D%2C%20%5B45.505461100000005%2C%20-73.5593637%5D%2C%20%5B45.477959399999996%2C%20-73.5681434%5D%2C%20%5B45.5384088%2C%20-73.57782270000001%5D%2C%20%5B45.533324%2C%20-73.557264%5D%2C%20%5B46.812155499999996%2C%20-71.31018449999999%5D%2C%20%5B45.460562200000005%2C%20-73.6354679%5D%2C%20%5B45.5707321%2C%20-73.5728803%5D%2C%20%5B48.442685299999994%2C%20-68.5222787%5D%2C%20%5B45.567557799999996%2C%20-73.65311700000001%5D%2C%20%5B45.5476564%2C%20-73.5749733%5D%2C%20%5B45.5351218%2C%20-73.4782079%5D%2C%20%5B45.5256849%2C%20-73.59792879999999%5D%2C%20%5B45.543957899999995%2C%20-73.6678245%5D%2C%20%5B45.488805%2C%20-73.5859921%5D%2C%20%5B45.4895797%2C%20-73.5854084%5D%2C%20%5B45.48937%2C%20-73.58587%5D%2C%20%5B45.5126188%2C%20-73.5056314%5D%2C%20%5B46.8135022%2C%20-71.21184840000001%5D%2C%20%5B45.547424400000004%2C%20-73.6657195%5D%2C%20%5B46.525228399999996%2C%20-72.7538881%5D%2C%20%5B45.7322565%2C%20-73.454829%5D%2C%20%5B45.5061379%2C%20-73.57201640000001%5D%2C%20%5B45.5726097%2C%20-73.5707853%5D%2C%20%5B45.498047799999995%2C%20-73.5659651%5D%2C%20%5B45.498175700000004%2C%20-73.5663859%5D%2C%20%5B46.8624734%2C%20-71.3295477%5D%2C%20%5B45.5349588%2C%20-73.4875891%5D%2C%20%5B45.5212682%2C%20-73.5971042%5D%2C%20%5B45.514066899999996%2C%20-73.5762569%5D%2C%20%5B46.843703000000005%2C%20-71.260928%5D%2C%20%5B45.5174265%2C%20-73.47815209999999%5D%2C%20%5B46.799059299999996%2C%20-71.36933590000001%5D%2C%20%5B45.5217339%2C%20-73.56984179999999%5D%2C%20%5B45.5192886%2C%20-73.5637291%5D%2C%20%5B46.9101974%2C%20-71.3508571%5D%2C%20%5B46.8429845%2C%20-71.4318653%5D%2C%20%5B45.5520054%2C%20-73.655971%5D%2C%20%5B45.555718%2C%20-73.570317%5D%2C%20%5B48.4376039%2C%20-68.53597099999999%5D%2C%20%5B45.516694%2C%20-73.55760129999999%5D%2C%20%5B45.516694%2C%20-73.55760129999999%5D%2C%20%5B46.8120852%2C%20-71.23601590000001%5D%2C%20%5B46.870141100000005%2C%20-71.2549883%5D%2C%20%5B46.8410703%2C%20-71.2700831%5D%2C%20%5B46.855318200000006%2C%20-71.4179855%5D%2C%20%5B46.8435762%2C%20-71.2146495%5D%2C%20%5B46.8198609%2C%20-71.3308406%5D%2C%20%5B46.8198609%2C%20-71.3308406%5D%2C%20%5B46.8121559%2C%20-71.2313633%5D%2C%20%5B48.4351174%2C%20-68.5243247%5D%2C%20%5B45.7842388%2C%20-73.4130703%5D%2C%20%5B45.4977436%2C%20-73.5782733%5D%2C%20%5B45.5392036%2C%20-73.6130267%5D%2C%20%5B45.5392036%2C%20-73.6130267%5D%2C%20%5B45.539162899999994%2C%20-73.6133863%5D%2C%20%5B45.5389756%2C%20-73.6131821%5D%2C%20%5B45.500448600000006%2C%20-73.4816765%5D%2C%20%5B45.5026306%2C%20-73.5735681%5D%2C%20%5B45.5204736%2C%20-73.5562303%5D%2C%20%5B45.5154352%2C%20-73.5652647%5D%2C%20%5B46.9088558%2C%20-71.3505757%5D%2C%20%5B45.5072429%2C%20-73.5694464%5D%2C%20%5B46.8042364%2C%20-71.2309801%5D%2C%20%5B46.787655900000004%2C%20-71.3521433%5D%2C%20%5B45.472923%2C%20-73.64585%5D%2C%20%5B46.839698799999994%2C%20-71.2775625%5D%2C%20%5B46.8754898%2C%20-71.1594917%5D%2C%20%5B45.523098100000006%2C%20-73.5516038%5D%2C%20%5B45.3945501%2C%20-71.8979286%5D%2C%20%5B46.818226200000005%2C%20-71.332755%5D%2C%20%5B45.779616%2C%20-73.415374%5D%2C%20%5B46.8585642%2C%20-71.3384958%5D%2C%20%5B46.8586431%2C%20-71.33761609999999%5D%2C%20%5B45.5298873%2C%20-73.5867022%5D%2C%20%5B45.4976435%2C%20-73.6537623%5D%2C%20%5B45.4979448%2C%20-73.5714431%5D%2C%20%5B46.888308200000004%2C%20-71.2682099%5D%2C%20%5B45.530477000000005%2C%20-73.72098100000001%5D%2C%20%5B45.50083%2C%20-73.5752449%5D%2C%20%5B48.438630700000004%2C%20-68.5502473%5D%2C%20%5B45.5418565%2C%20-73.6077662%5D%2C%20%5B45.557074%2C%20-73.57325859999999%5D%2C%20%5B46.568324700000005%2C%20-72.7612965%5D%2C%20%5B45.4802003%2C%20-73.5758915%5D%2C%20%5B46.7626088%2C%20-71.283982%5D%2C%20%5B46.8724615%2C%20-71.2545171%5D%2C%20%5B45.55413660000001%2C%20-73.5874174%5D%2C%20%5B46.8227639%2C%20-71.25735300000001%5D%2C%20%5B45.472285299999996%2C%20-73.611864%5D%2C%20%5B45.47206%2C%20-73.61232690000001%5D%2C%20%5B45.555094%2C%20-73.55962629999999%5D%2C%20%5B45.528761700000004%2C%20-73.4736863%5D%2C%20%5B45.4974422%2C%20-73.5667297%5D%2C%20%5B45.50111%2C%20-73.5722427%5D%2C%20%5B45.4791144%2C%20-73.4486802%5D%2C%20%5B45.502846399999996%2C%20-73.55868620000001%5D%2C%20%5B46.799155299999995%2C%20-71.2591147%5D%2C%20%5B45.5713987%2C%20-73.5724235%5D%2C%20%5B45.497635700000004%2C%20-73.4974959%5D%2C%20%5B46.8100302%2C%20-71.31928070000001%5D%2C%20%5B45.526943%2C%20-73.4825637%5D%2C%20%5B45.5641458%2C%20-73.57817990000001%5D%2C%20%5B46.5204343%2C%20-72.7449814%5D%2C%20%5B46.886677899999995%2C%20-71.29082220000001%5D%2C%20%5B45.533%2C%20-73.48935999999999%5D%2C%20%5B45.7669799%2C%20-73.444911%5D%2C%20%5B45.5206831%2C%20-73.5538724%5D%2C%20%5B46.7970229%2C%20-71.2397935%5D%2C%20%5B46.8075825%2C%20-71.2529572%5D%2C%20%5B45.4564991%2C%20-73.62851590000001%5D%2C%20%5B45.50941029999999%2C%20-73.6303094%5D%2C%20%5B46.853722999999995%2C%20-71.1952967%5D%2C%20%5B46.5397508%2C%20-72.7463848%5D%2C%20%5B46.8435867%2C%20-71.2443987%5D%2C%20%5B46.80324%2C%20-71.2281651%5D%2C%20%5B45.469066600000005%2C%20-73.6191179%5D%2C%20%5B45.5422402%2C%20-73.5896475%5D%2C%20%5B45.5377919%2C%20-73.57841429999999%5D%2C%20%5B45.5450209%2C%20-73.5945304%5D%2C%20%5B45.4778062%2C%20-73.5702403%5D%2C%20%5B45.476863%2C%20-73.606234%5D%2C%20%5B46.817518299999996%2C%20-71.2567028%5D%2C%20%5B45.519301399999996%2C%20-73.4725306%5D%2C%20%5B45.4520893%2C%20-73.5939745%5D%2C%20%5B45.453153%2C%20-73.5941785%5D%2C%20%5B46.8622006%2C%20-71.18847530000001%5D%2C%20%5B45.510405%2C%20-73.63104150000001%5D%2C%20%5B46.8953805%2C%20-71.30012959999999%5D%2C%20%5B46.895104100000005%2C%20-71.29990140000001%5D%2C%20%5B45.458939799999996%2C%20-73.59025279999999%5D%2C%20%5B45.465981299999996%2C%20-73.61403059999999%5D%2C%20%5B46.8938578%2C%20-71.14183840000001%5D%2C%20%5B45.5392193%2C%20-73.4675802%5D%2C%20%5B45.5353317%2C%20-73.59914479999999%5D%2C%20%5B46.850831799999995%2C%20-71.3093982%5D%2C%20%5B45.551328999999996%2C%20-73.57314699999999%5D%2C%20%5B45.4966036%2C%20-73.5759468%5D%2C%20%5B45.496641499999996%2C%20-73.5757894%5D%2C%20%5B46.9030305%2C%20-71.1997786%5D%2C%20%5B45.762122600000005%2C%20-73.4588991%5D%2C%20%5B46.88361%2C%20-71.281651%5D%2C%20%5B48.2320578%2C%20-79.03271009999999%5D%2C%20%5B45.5252312%2C%20-73.5949315%5D%2C%20%5B45.496060799999995%2C%20-73.5780957%5D%2C%20%5B45.535226200000004%2C%20-73.5687441%5D%2C%20%5B45.572010999999996%2C%20-73.5711319%5D%2C%20%5B45.5249179%2C%20-73.5221767%5D%2C%20%5B45.5249179%2C%20-73.5221767%5D%2C%20%5B46.50819370000001%2C%20-72.73174759999999%5D%2C%20%5B46.8422365%2C%20-71.3271611%5D%2C%20%5B46.810502%2C%20-71.243925%5D%2C%20%5B45.529879%2C%20-73.45729%5D%2C%20%5B45.514609%2C%20-73.56202990000001%5D%2C%20%5B45.5149552%2C%20-73.562792%5D%2C%20%5B45.5423581%2C%20-73.4553264%5D%2C%20%5B48.462826299999996%2C%20-68.5168564%5D%2C%20%5B45.4977245%2C%20-73.6228009%5D%2C%20%5B45.5003412%2C%20-73.56207140000001%5D%2C%20%5B45.451209999999996%2C%20-73.594723%5D%2C%20%5B46.8301456%2C%20-71.2383808%5D%2C%20%5B45.453913%2C%20-73.5854838%5D%2C%20%5B45.5517044%2C%20-73.5641308%5D%2C%20%5B45.7337308%2C%20-73.4681318%5D%2C%20%5B45.531740899999996%2C%20-73.708365%5D%2C%20%5B45.477713%2C%20-73.6314699%5D%2C%20%5B46.8387184%2C%20-71.2847364%5D%2C%20%5B45.4712203%2C%20-73.6347163%5D%2C%20%5B45.530392600000006%2C%20-73.5738988%5D%2C%20%5B45.5764597%2C%20-73.65427700000001%5D%2C%20%5B45.4962474%2C%20-73.6225469%5D%2C%20%5B45.5406888%2C%20-73.5991125%5D%2C%20%5B46.7469929%2C%20-71.349594%5D%2C%20%5B45.5376778%2C%20-73.61165720000001%5D%2C%20%5B45.50102329999999%2C%20-73.56443900000001%5D%2C%20%5B45.55475379999999%2C%20-73.57468940000001%5D%2C%20%5B46.8116509%2C%20-71.21665949999999%5D%2C%20%5B46.8140474%2C%20-71.2107142%5D%2C%20%5B48.4450826%2C%20-68.5175338%5D%2C%20%5B45.5390299%2C%20-73.65494759999999%5D%2C%20%5B45.476771%2C%20-73.42910690000001%5D%2C%20%5B45.5532778%2C%20-73.5801119%5D%2C%20%5B46.809706%2C%20-71.26103359999999%5D%2C%20%5B46.809706%2C%20-71.26103359999999%5D%2C%20%5B45.5256336%2C%20-73.49704090000002%5D%2C%20%5B45.536491%2C%20-73.602535%5D%2C%20%5B46.8112992%2C%20-71.3703135%5D%2C%20%5B45.7487153%2C%20-73.4545769%5D%2C%20%5B45.5504993%2C%20-73.5904315%5D%2C%20%5B46.850120600000004%2C%20-71.3561721%5D%2C%20%5B46.6133744%2C%20-72.6969848%5D%2C%20%5B48.2411066%2C%20-79.12711230000001%5D%2C%20%5B46.8261206%2C%20-71.22728520000001%5D%2C%20%5B45.4905278%2C%20-73.58347380000001%5D%2C%20%5B48.4359648%2C%20-68.5731844%5D%2C%20%5B45.5071239%2C%20-73.6244431%5D%2C%20%5B45.533141%2C%20-73.55218690000001%5D%2C%20%5B45.776568299999994%2C%20-73.4184076%5D%2C%20%5B45.776568299999994%2C%20-73.4184076%5D%2C%20%5B46.81217120000001%2C%20-71.2993801%5D%2C%20%5B46.7671645%2C%20-71.37558990000001%5D%2C%20%5B45.52491%2C%20-73.6046054%5D%2C%20%5B45.537119%2C%20-73.67055500000001%5D%2C%20%5B46.7648466%2C%20-71.3697144%5D%2C%20%5B45.462736%2C%20-73.5881326%5D%2C%20%5B45.550163500000004%2C%20-73.5903572%5D%2C%20%5B45.7798286%2C%20-73.4052039%5D%2C%20%5B46.813458000000004%2C%20-71.226642%5D%2C%20%5B45.501168%2C%20-73.41316590000001%5D%2C%20%5B45.4818004%2C%20-73.5860052%5D%2C%20%5B45.4818004%2C%20-73.5860052%5D%2C%20%5B45.4818004%2C%20-73.5860052%5D%2C%20%5B45.4818004%2C%20-73.5860052%5D%2C%20%5B48.5131202%2C%20-68.46069920000001%5D%2C%20%5B45.5012014%2C%20-73.5608672%5D%2C%20%5B46.835829700000005%2C%20-71.2224652%5D%2C%20%5B45.538608%2C%20-73.6004696%5D%2C%20%5B46.83706%2C%20-71.24458100000001%5D%2C%20%5B45.4787775%2C%20-73.5827733%5D%2C%20%5B46.7667135%2C%20-71.3301546%5D%2C%20%5B46.808235700000004%2C%20-71.2250003%5D%2C%20%5B45.503243%2C%20-73.61941170000001%5D%2C%20%5B46.7814325%2C%20-71.3473075%5D%2C%20%5B45.494904999999996%2C%20-73.49942469999999%5D%2C%20%5B46.87662520000001%2C%20-71.1668769%5D%2C%20%5B45.5569248%2C%20-73.57015229999999%5D%2C%20%5B45.5494837%2C%20-73.6669165%5D%2C%20%5B45.4879465%2C%20-73.568495%5D%2C%20%5B45.530442%2C%20-73.722268%5D%2C%20%5B45.5724207%2C%20-73.4823959%5D%2C%20%5B45.548992%2C%20-73.578232%5D%2C%20%5B45.5658559%2C%20-73.586252%5D%2C%20%5B45.510099600000004%2C%20-73.4980915%5D%2C%20%5B46.8285773%2C%20-71.354394%5D%2C%20%5B46.8719516%2C%20-71.1958115%5D%2C%20%5B46.872469099999996%2C%20-71.19613829999999%5D%2C%20%5B46.874130900000004%2C%20-71.20029790000001%5D%2C%20%5B45.4801044%2C%20-73.5873686%5D%2C%20%5B46.8497139%2C%20-71.2414885%5D%2C%20%5B45.521119%2C%20-73.585753%5D%2C%20%5B45.534253%2C%20-73.6123242%5D%2C%20%5B46.7811331%2C%20-71.3009993%5D%2C%20%5B45.542738%2C%20-73.577831%5D%2C%20%5B46.85565089999999%2C%20-71.414864%5D%2C%20%5B46.776897600000005%2C%20-71.30869659999999%5D%2C%20%5B45.4932145%2C%20-73.5647918%5D%2C%20%5B46.8092919%2C%20-71.24029909999999%5D%2C%20%5B45.4900488%2C%20-73.4320878%5D%2C%20%5B45.502466%2C%20-73.57130409999999%5D%2C%20%5B46.804817%2C%20-71.2330132%5D%2C%20%5B45.4795202%2C%20-73.5769653%5D%2C%20%5B45.4542851%2C%20-73.5894464%5D%2C%20%5B46.84520070000001%2C%20-71.2166026%5D%2C%20%5B46.84520070000001%2C%20-71.2166026%5D%2C%20%5B46.8522891%2C%20-71.23875859999998%5D%2C%20%5B46.8722702%2C%20-71.1941188%5D%2C%20%5B45.4567435%2C%20-73.58195450000001%5D%2C%20%5B46.7719696%2C%20-71.2821224%5D%2C%20%5B45.53994960000001%2C%20-73.613104%5D%2C%20%5B45.5318684%2C%20-73.56504809999998%5D%2C%20%5B45.492821%2C%20-73.5801515%5D%2C%20%5B45.529902299999996%2C%20-73.5608224%5D%2C%20%5B46.5612778%2C%20-72.7410393%5D%2C%20%5B45.55066729999999%2C%20-73.65653409999999%5D%2C%20%5B46.9369784%2C%20-71.3099686%5D%2C%20%5B46.856569799999995%2C%20-71.34706800000001%5D%2C%20%5B45.450032%2C%20-73.598527%5D%2C%20%5B46.8551939%2C%20-71.36152320000001%5D%2C%20%5B45.552327399999996%2C%20-73.57583690000001%5D%2C%20%5B45.5142687%2C%20-73.4632093%5D%2C%20%5B45.524306599999996%2C%20-73.4840879%5D%2C%20%5B45.5268962%2C%20-73.58990909999999%5D%2C%20%5B45.526566700000004%2C%20-73.5899255%5D%2C%20%5B46.8450715%2C%20-71.2513212%5D%2C%20%5B45.5528086%2C%20-73.6618543%5D%2C%20%5B45.5429042%2C%20-73.58846070000001%5D%2C%20%5B45.542845899999996%2C%20-73.5884701%5D%2C%20%5B48.2365576%2C%20-79.0202533%5D%2C%20%5B45.5505007%2C%20-73.6436638%5D%2C%20%5B46.8087497%2C%20-71.2256145%5D%2C%20%5B46.783583%2C%20-71.2884349%5D%2C%20%5B45.5350129%2C%20-73.60921009999998%5D%2C%20%5B45.537564%2C%20-73.700755%5D%2C%20%5B45.517827200000006%2C%20-73.47975059999999%5D%2C%20%5B45.75375089999999%2C%20-73.4404939%5D%2C%20%5B46.8344965%2C%20-71.2495125%5D%2C%20%5B48.439182200000005%2C%20-68.5545728%5D%2C%20%5B45.549955%2C%20-73.57391209999999%5D%2C%20%5B45.5250239%2C%20-73.60411850000001%5D%2C%20%5B45.4796918%2C%20-73.4679727%5D%2C%20%5B46.8235945%2C%20-71.35458179999999%5D%2C%20%5B45.534876000000004%2C%20-73.4703832%5D%2C%20%5B45.5213391%2C%20-73.4583318%5D%2C%20%5B45.521978999999995%2C%20-73.4596895%5D%2C%20%5B46.843644700000006%2C%20-71.2473091%5D%2C%20%5B46.843644700000006%2C%20-71.2473091%5D%2C%20%5B45.5393501%2C%20-73.4724158%5D%2C%20%5B46.5648117%2C%20-72.74574109999999%5D%2C%20%5B45.5693077%2C%20-73.5831872%5D%2C%20%5B45.496774%2C%20-73.574496%5D%2C%20%5B45.7316726%2C%20-73.4606625%5D%2C%20%5B45.496595500000005%2C%20-73.4131913%5D%2C%20%5B45.536658200000005%2C%20-73.5983696%5D%2C%20%5B45.5082028%2C%20-73.5680378%5D%2C%20%5B45.5315158%2C%20-73.6128945%5D%2C%20%5B45.5017649%2C%20-73.57697900000001%5D%2C%20%5B45.534698999999996%2C%20-73.569848%5D%2C%20%5B48.455566%2C%20-68.49578199999999%5D%2C%20%5B45.5272924%2C%20-73.5863428%5D%2C%20%5B45.4897153%2C%20-73.58164079999999%5D%2C%20%5B45.4930025%2C%20-73.4854656%5D%2C%20%5B46.786974900000004%2C%20-71.34908829999999%5D%2C%20%5B45.5309797%2C%20-73.6076002%5D%2C%20%5B45.5203464%2C%20-73.6154628%5D%2C%20%5B45.4971662%2C%20-73.6233777%5D%2C%20%5B45.5331963%2C%20-73.61443390000001%5D%2C%20%5B45.5515612%2C%20-73.5795729%5D%2C%20%5B45.485633%2C%20-73.627811%5D%2C%20%5B45.485513700000006%2C%20-73.627969%5D%2C%20%5B45.537431700000006%2C%20-73.6146725%5D%2C%20%5B45.3959028%2C%20-71.89492059999999%5D%2C%20%5B45.5440433%2C%20-73.5778725%5D%2C%20%5B46.788962299999994%2C%20-71.2693031%5D%2C%20%5B45.754271100000004%2C%20-73.46940090000001%5D%2C%20%5B45.5195213%2C%20-73.58615479999999%5D%2C%20%5B45.4969124%2C%20-73.4768992%5D%2C%20%5B45.5107939%2C%20-73.56280290000001%5D%2C%20%5B45.5317259%2C%20-73.60682259999999%5D%2C%20%5B46.8143924%2C%20-71.22119%5D%2C%20%5B45.498894899999996%2C%20-73.6486865%5D%2C%20%5B46.5422731%2C%20-72.7464423%5D%2C%20%5B45.5542131%2C%20-73.5598682%5D%2C%20%5B45.5333422%2C%20-73.5020229%5D%2C%20%5B46.55516%2C%20-72.74876%5D%2C%20%5B45.528628999999995%2C%20-73.51549140000002%5D%2C%20%5B45.528628999999995%2C%20-73.51549140000002%5D%2C%20%5B46.8069329%2C%20-71.23543070000001%5D%2C%20%5B46.821966499999995%2C%20-71.2287233%5D%2C%20%5B45.54108970000001%2C%20-73.5595115%5D%2C%20%5B45.481876%2C%20-73.388508%5D%2C%20%5B45.53576079999999%2C%20-73.50742120000001%5D%2C%20%5B45.533130799999995%2C%20-73.49559659999998%5D%2C%20%5B45.503026%2C%20-73.555221%5D%2C%20%5B48.235513%2C%20-79.0150703%5D%2C%20%5B48.2253883%2C%20-79.0071946%5D%2C%20%5B45.5168907%2C%20-73.5733133%5D%2C%20%5B45.5156631%2C%20-73.49030259999999%5D%2C%20%5B45.5156631%2C%20-73.49030259999999%5D%2C%20%5B45.4866434%2C%20-73.57593390000001%5D%2C%20%5B45.5311878%2C%20-73.5505669%5D%2C%20%5B45.49601989999999%2C%20-73.5765625%5D%2C%20%5B45.477589%2C%20-73.6151732%5D%2C%20%5B45.5663616%2C%20-73.65996319999999%5D%2C%20%5B45.560926%2C%20-73.65061490000001%5D%2C%20%5B45.4898119%2C%20-73.58633859999999%5D%2C%20%5B46.784278%2C%20-71.24772469999999%5D%2C%20%5B46.8581844%2C%20-71.4104092%5D%2C%20%5B46.8581844%2C%20-71.4104092%5D%2C%20%5B45.529177600000004%2C%20-73.5124745%5D%2C%20%5B45.5178516%2C%20-73.55736440000001%5D%2C%20%5B45.5133421%2C%20-73.5693386%5D%2C%20%5B45.490212299999996%2C%20-73.46690749999999%5D%2C%20%5B46.7944508%2C%20-71.2568677%5D%2C%20%5B45.5368341%2C%20-73.48587690000001%5D%2C%20%5B45.7562191%2C%20-73.46370290000002%5D%2C%20%5B45.7563598%2C%20-73.4464871%5D%2C%20%5B45.51773920000001%2C%20-73.5585045%5D%2C%20%5B45.481313%2C%20-73.5774552%5D%2C%20%5B45.4530656%2C%20-73.5844985%5D%2C%20%5B45.5012294%2C%20-73.6323668%5D%2C%20%5B45.5379559%2C%20-73.698875%5D%2C%20%5B45.477033%2C%20-73.5864429%5D%2C%20%5B45.468262%2C%20-73.637689%5D%2C%20%5B45.490049299999995%2C%20-73.6424751%5D%2C%20%5B45.48472460000001%2C%20-73.6330202%5D%2C%20%5B46.7785919%2C%20-71.369704%5D%2C%20%5B45.763783200000006%2C%20-73.4314755%5D%2C%20%5B45.4796471%2C%20-73.6240935%5D%2C%20%5B46.8332331%2C%20-71.2775556%5D%2C%20%5B46.8695021%2C%20-71.2574126%5D%2C%20%5B45.507745899999996%2C%20-73.56952659999999%5D%2C%20%5B45.554871%2C%20-73.66892299999999%5D%2C%20%5B45.5055465%2C%20-73.5558254%5D%2C%20%5B45.504901600000004%2C%20-73.5562123%5D%2C%20%5B45.494169%2C%20-73.55879300000001%5D%2C%20%5B45.4980453%2C%20-73.48095500000001%5D%2C%20%5B45.56889279999999%2C%20-73.64542209999999%5D%2C%20%5B46.7604763%2C%20-71.3201392%5D%2C%20%5B45.504557899999995%2C%20-73.57179040000001%5D%2C%20%5B45.480883%2C%20-73.57812709999999%5D%2C%20%5B45.5256855%2C%20-73.4719994%5D%2C%20%5B45.7447533%2C%20-73.45484240000002%5D%2C%20%5B46.8771472%2C%20-71.1579152%5D%2C%20%5B45.509780299999996%2C%20-73.564066%5D%2C%20%5B45.525792100000004%2C%20-73.581627%5D%2C%20%5B45.5344458%2C%20-73.578434%5D%2C%20%5B46.804823799999994%2C%20-71.2271265%5D%2C%20%5B46.856667%2C%20-71.33932759999999%5D%2C%20%5B45.454977500000005%2C%20-73.6325126%5D%2C%20%5B45.4951698%2C%20-73.6555993%5D%2C%20%5B45.4869285%2C%20-73.5788829%5D%2C%20%5B45.508578%2C%20-73.4948907%5D%2C%20%5B45.5200805%2C%20-73.5763887%5D%2C%20%5B45.5050038%2C%20-73.5731693%5D%2C%20%5B45.505033000000005%2C%20-73.57309000000001%5D%2C%20%5B46.8568283%2C%20-71.3552087%5D%2C%20%5B45.470028899999996%2C%20-73.616354%5D%2C%20%5B45.5003917%2C%20-73.6615765%5D%2C%20%5B45.514143%2C%20-73.572699%5D%2C%20%5B45.5600571%2C%20-73.57375909999999%5D%2C%20%5B45.484015500000005%2C%20-73.5802715%5D%2C%20%5B45.546814700000006%2C%20-73.6388975%5D%2C%20%5B45.546814700000006%2C%20-73.6388975%5D%2C%20%5B45.493238700000006%2C%20-73.56421540000001%5D%2C%20%5B45.496565000000004%2C%20-73.6540058%5D%2C%20%5B45.5129284%2C%20-73.4993489%5D%2C%20%5B45.4021901%2C%20-71.9571767%5D%2C%20%5B45.5239876%2C%20-73.5760208%5D%2C%20%5B45.4977411%2C%20-73.5846942%5D%2C%20%5B45.5023311%2C%20-73.6378368%5D%2C%20%5B45.4943555%2C%20-73.6079561%5D%2C%20%5B45.5360459%2C%20-73.56080920000001%5D%2C%20%5B45.5238623%2C%20-73.55345820000001%5D%2C%20%5B46.8394672%2C%20-71.2244733%5D%2C%20%5B45.4815748%2C%20-73.386087%5D%2C%20%5B45.5395375%2C%20-73.6537514%5D%2C%20%5B45.4946306%2C%20-73.5584113%5D%2C%20%5B46.8258626%2C%20-71.24340040000001%5D%2C%20%5B45.4766476%2C%20-73.614551%5D%2C%20%5B45.4795946%2C%20-73.6197772%5D%2C%20%5B45.533874100000006%2C%20-73.559921%5D%2C%20%5B45.471171000000005%2C%20-73.6477572%5D%2C%20%5B46.861517299999996%2C%20-71.3561457%5D%2C%20%5B45.5400785%2C%20-73.6432698%5D%2C%20%5B45.517010799999994%2C%20-73.56721379999999%5D%2C%20%5B45.4767494%2C%20-73.62197309999999%5D%2C%20%5B45.52669%2C%20-73.573784%5D%2C%20%5B45.511224600000006%2C%20-73.57664%5D%2C%20%5B45.519768299999996%2C%20-73.45762090000001%5D%2C%20%5B45.5218613%2C%20-73.5891696%5D%2C%20%5B45.493763200000004%2C%20-73.47833409999998%5D%2C%20%5B45.747415999999994%2C%20-73.46093499999999%5D%2C%20%5B45.5556408%2C%20-73.56760009999999%5D%2C%20%5B45.5245327%2C%20-73.5816487%5D%2C%20%5B45.519234000000004%2C%20-73.555727%5D%2C%20%5B45.5516707%2C%20-73.48376%5D%2C%20%5B45.497184000000004%2C%20-73.580278%5D%2C%20%5B46.8151085%2C%20-71.208333%5D%2C%20%5B45.532654%2C%20-73.6066%5D%2C%20%5B45.5235987%2C%20-73.60574720000001%5D%2C%20%5B45.494941100000005%2C%20-73.6198663%5D%2C%20%5B46.902625%2C%20-71.30857270000001%5D%2C%20%5B45.5632434%2C%20-73.5788755%5D%2C%20%5B45.528338899999994%2C%20-73.559961%5D%2C%20%5B45.494852%2C%20-73.58046%5D%2C%20%5B46.745000299999994%2C%20-71.455239%5D%2C%20%5B46.8153193%2C%20-71.2256819%5D%2C%20%5B45.550391999999995%2C%20-73.65100000000001%5D%2C%20%5B48.4631258%2C%20-68.5174693%5D%2C%20%5B45.541035%2C%20-73.48899999999999%5D%2C%20%5B46.6153338%2C%20-72.73626440000001%5D%2C%20%5B45.46423729999999%2C%20-73.62892590000001%5D%2C%20%5B45.5495882%2C%20-73.6709877%5D%2C%20%5B45.518864%2C%20-73.592045%5D%2C%20%5B45.550095%2C%20-73.5833652%5D%2C%20%5B46.88483%2C%20-71.159253%5D%2C%20%5B45.5566943%2C%20-73.66833390000001%5D%2C%20%5B45.5283322%2C%20-73.7007541%5D%2C%20%5B46.860625399999996%2C%20-71.217647%5D%2C%20%5B46.860098%2C%20-71.21676500000001%5D%2C%20%5B45.509869%2C%20-73.57091690000001%5D%2C%20%5B45.536665899999996%2C%20-73.5711908%5D%2C%20%5B45.530779700000004%2C%20-73.5544985%5D%2C%20%5B46.8873559%2C%20-71.17047559999999%5D%2C%20%5B46.80317410000001%2C%20-71.3417518%5D%2C%20%5B45.495802399999995%2C%20-73.57262659999999%5D%2C%20%5B46.8437945%2C%20-71.2304185%5D%2C%20%5B45.545920200000005%2C%20-73.59864909999999%5D%2C%20%5B45.4961325%2C%20-73.55502840000001%5D%2C%20%5B45.5456061%2C%20-73.6609783%5D%2C%20%5B45.5176623%2C%20-73.6176682%5D%2C%20%5B46.8733979%2C%20-71.2746465%5D%2C%20%5B45.4895056%2C%20-73.6430795%5D%2C%20%5B45.5339008%2C%20-73.4666512%5D%2C%20%5B45.54084279999999%2C%20-73.5913995%5D%2C%20%5B46.6099552%2C%20-72.6994932%5D%2C%20%5B45.532303000000006%2C%20-73.559666%5D%2C%20%5B45.534634999999994%2C%20-73.5614329%5D%2C%20%5B46.826036%2C%20-71.229244%5D%2C%20%5B45.527745700000004%2C%20-73.49037709999999%5D%2C%20%5B45.5326372%2C%20-73.4712168%5D%2C%20%5B45.496038%2C%20-73.5810623%5D%2C%20%5B45.4955445%2C%20-73.5817343%5D%2C%20%5B45.4960371%2C%20-73.5807182%5D%2C%20%5B45.519121999999996%2C%20-73.58756%5D%2C%20%5B45.5039643%2C%20-73.5722865%5D%2C%20%5B46.863359100000004%2C%20-71.42973359999999%5D%2C%20%5B45.4686961%2C%20-73.6095465%5D%2C%20%5B45.5115088%2C%20-73.574354%5D%2C%20%5B46.7955387%2C%20-71.2519148%5D%2C%20%5B48.11261%2C%20-79.15131%5D%2C%20%5B48.224968200000006%2C%20-79.000641%5D%2C%20%5B46.852912700000005%2C%20-71.2030412%5D%2C%20%5B48.2467264%2C%20-79.0197512%5D%2C%20%5B45.494978%2C%20-73.6529853%5D%2C%20%5B45.525807%2C%20-73.551683%5D%2C%20%5B45.547503799999994%2C%20-73.5791606%5D%2C%20%5B45.5269939%2C%20-73.58635579999999%5D%2C%20%5B46.76546%2C%20-71.3089437%5D%2C%20%5B46.7619667%2C%20-71.33388520000001%5D%2C%20%5B45.5082209%2C%20-73.55977320000001%5D%2C%20%5B45.5264994%2C%20-73.4751156%5D%2C%20%5B45.548671%2C%20-73.64624599999999%5D%2C%20%5B45.522403499999996%2C%20-73.55154590000001%5D%2C%20%5B45.4970075%2C%20-73.5530998%5D%2C%20%5B45.487836%2C%20-73.3825644%5D%2C%20%5B45.502275%2C%20-73.4269%5D%2C%20%5B45.5124685%2C%20-73.5700959%5D%2C%20%5B45.4740183%2C%20-73.60866120000001%5D%2C%20%5B45.53753%2C%20-73.556945%5D%2C%20%5B45.4865467%2C%20-73.636881%5D%2C%20%5B45.5657469%2C%20-73.6469577%5D%2C%20%5B45.5124261%2C%20-73.561852%5D%2C%20%5B45.479726%2C%20-73.571201%5D%2C%20%5B45.479726%2C%20-73.571201%5D%2C%20%5B46.808808899999995%2C%20-71.3832074%5D%2C%20%5B45.53353679999999%2C%20-73.65623190000001%5D%2C%20%5B45.480138700000005%2C%20-73.5668124%5D%2C%20%5B46.6129295%2C%20-72.7120308%5D%2C%20%5B45.5301523%2C%20-73.5986257%5D%2C%20%5B45.517559000000006%2C%20-73.49717120000001%5D%2C%20%5B45.546162%2C%20-73.586159%5D%2C%20%5B45.5242056%2C%20-73.47324499999999%5D%2C%20%5B45.4721493%2C%20-73.5877959%5D%2C%20%5B45.543358399999995%2C%20-73.59755729999999%5D%2C%20%5B45.543358399999995%2C%20-73.59755729999999%5D%2C%20%5B45.543243200000006%2C%20-73.59714040000001%5D%2C%20%5B45.496648%2C%20-73.5822882%5D%2C%20%5B46.902437299999995%2C%20-71.36719740000001%5D%2C%20%5B45.742263%2C%20-73.4586568%5D%2C%20%5B46.857420399999995%2C%20-71.2650052%5D%2C%20%5B45.5056339%2C%20-73.5534447%5D%2C%20%5B45.4719326%2C%20-73.43844449999999%5D%2C%20%5B45.730469299999996%2C%20-73.4552527%5D%2C%20%5B45.7304989%2C%20-73.4553312%5D%2C%20%5B45.516799299999995%2C%20-73.5782679%5D%2C%20%5B45.53432479999999%2C%20-73.617998%5D%2C%20%5B45.557938%2C%20-73.6594218%5D%2C%20%5B46.8113555%2C%20-71.23257%5D%2C%20%5B45.537330499999996%2C%20-73.57082940000001%5D%2C%20%5B45.495380700000005%2C%20-73.61959399999999%5D%2C%20%5B45.50564489999999%2C%20-73.5676757%5D%2C%20%5B45.4970434%2C%20-73.5763023%5D%2C%20%5B45.4873667%2C%20-73.47193309999999%5D%2C%20%5B45.51847%2C%20-73.55588909999999%5D%2C%20%5B45.5335848%2C%20-73.49120400000001%5D%2C%20%5B45.5277982%2C%20-73.57974820000001%5D%2C%20%5B45.7394641%2C%20-73.445697%5D%2C%20%5B45.498195%2C%20-73.577169%5D%2C%20%5B45.518161299999996%2C%20-73.58835859999999%5D%2C%20%5B46.75624129999999%2C%20-71.2985748%5D%2C%20%5B45.494978%2C%20-73.613256%5D%2C%20%5B45.5252912%2C%20-73.5936214%5D%2C%20%5B45.535784%2C%20-73.5550839%5D%2C%20%5B45.5073536%2C%20-73.5734805%5D%2C%20%5B45.507476399999994%2C%20-73.5736226%5D%2C%20%5B45.7418553%2C%20-73.454887%5D%2C%20%5B45.493402%2C%20-73.5799609%5D%2C%20%5B48.458462899999994%2C%20-68.4972474%5D%2C%20%5B46.769274200000005%2C%20-71.3217104%5D%2C%20%5B46.7692001%2C%20-71.3215709%5D%2C%20%5B46.773506700000006%2C%20-71.3160467%5D%2C%20%5B45.7316539%2C%20-73.4532438%5D%2C%20%5B45.480728000000006%2C%20-73.5791859%5D%2C%20%5B46.8632573%2C%20-71.2681296%5D%2C%20%5B46.751738%2C%20-71.37991120000001%5D%2C%20%5B46.518755299999995%2C%20-72.742998%5D%2C%20%5B45.5589552%2C%20-73.5724404%5D%2C%20%5B45.4949629%2C%20-73.476886%5D%2C%20%5B45.408564%2C%20-71.87316%5D%2C%20%5B45.5382561%2C%20-73.655599%5D%2C%20%5B45.7479626%2C%20-73.45505849999999%5D%2C%20%5B46.804678100000004%2C%20-71.2267871%5D%2C%20%5B45.551078499999996%2C%20-73.6430891%5D%2C%20%5B45.4848375%2C%20-73.6287153%5D%2C%20%5B46.829057899999995%2C%20-71.2297821%5D%2C%20%5B45.570974%2C%20-73.5673489%5D%2C%20%5B45.5082563%2C%20-73.57449759999999%5D%2C%20%5B45.5502591%2C%20-73.595652%5D%2C%20%5B45.4985403%2C%20-73.6268077%5D%2C%20%5B46.826283399999994%2C%20-71.2298903%5D%2C%20%5B45.4665521%2C%20-73.63985550000001%5D%2C%20%5B45.552158%2C%20-73.593951%5D%2C%20%5B45.5009341%2C%20-73.5737683%5D%2C%20%5B45.5009341%2C%20-73.5737683%5D%2C%20%5B45.5400175%2C%20-73.47993659999999%5D%2C%20%5B45.484879299999996%2C%20-73.62789659999999%5D%2C%20%5B45.484796%2C%20-73.62776099999999%5D%2C%20%5B45.54007360000001%2C%20-73.6115317%5D%2C%20%5B46.793140799999996%2C%20-71.2575432%5D%2C%20%5B46.81007279999999%2C%20-71.2195632%5D%2C%20%5B45.7540995%2C%20-73.46995290000001%5D%2C%20%5B45.753891700000004%2C%20-73.47027259999999%5D%2C%20%5B45.4973237%2C%20-73.6251458%5D%2C%20%5B45.546881%2C%20-73.660262%5D%2C%20%5B45.523676200000004%2C%20-73.5520413%5D%2C%20%5B46.8164585%2C%20-71.2178434%5D%2C%20%5B45.5219939%2C%20-73.5594309%5D%2C%20%5B45.554595%2C%20-73.58696859999999%5D%2C%20%5B45.4593881%2C%20-73.5964908%5D%2C%20%5B45.5224701%2C%20-73.55671600000001%5D%2C%20%5B46.62647570000001%2C%20-72.65063549999999%5D%2C%20%5B45.453877%2C%20-73.5957931%5D%2C%20%5B45.482394%2C%20-73.62725379999999%5D%2C%20%5B46.7867359%2C%20-71.2822859%5D%2C%20%5B46.78651%2C%20-71.282286%5D%2C%20%5B46.85127670000001%2C%20-71.2501291%5D%2C%20%5B45.532438%2C%20-73.656181%5D%2C%20%5B48.2380375%2C%20-79.02289959999999%5D%2C%20%5B48.238058%2C%20-79.02282199999999%5D%2C%20%5B45.482538700000006%2C%20-73.58282559999999%5D%2C%20%5B46.8482421%2C%20-71.2545604%5D%2C%20%5B45.5067549%2C%20-73.56083220000001%5D%2C%20%5B45.521041%2C%20-73.5753497%5D%2C%20%5B45.5454844%2C%20-73.5767013%5D%2C%20%5B45.557590600000005%2C%20-73.5692885%5D%2C%20%5B46.8673654%2C%20-71.37949590000001%5D%2C%20%5B46.9119927%2C%20-71.3341556%5D%2C%20%5B45.514911%2C%20-73.574206%5D%2C%20%5B45.4680943%2C%20-73.3775975%5D%2C%20%5B45.511586%2C%20-73.5665235%5D%2C%20%5B45.511586%2C%20-73.5665235%5D%2C%20%5B46.856242%2C%20-71.35383900000001%5D%2C%20%5B45.5241071%2C%20-73.55147209999998%5D%2C%20%5B45.467655%2C%20-73.620779%5D%2C%20%5B46.76525%2C%20-71.48729%5D%2C%20%5B46.9511229%2C%20-71.20757929999999%5D%2C%20%5B45.4704075%2C%20-73.6069733%5D%2C%20%5B46.8231631%2C%20-71.2608346%5D%2C%20%5B45.5053299%2C%20-73.6375737%5D%2C%20%5B45.4044896%2C%20-71.9512674%5D%2C%20%5B45.540308%2C%20-73.612697%5D%2C%20%5B45.538722%2C%20-73.6085707%5D%2C%20%5B46.865754200000005%2C%20-71.2152415%5D%2C%20%5B45.5380399%2C%20-73.6794271%5D%2C%20%5B45.535973799999994%2C%20-73.6132308%5D%2C%20%5B45.535982000000004%2C%20-73.613252%5D%2C%20%5B45.547357299999994%2C%20-73.660003%5D%2C%20%5B45.5471946%2C%20-73.6600383%5D%2C%20%5B46.86325720000001%2C%20-71.2695032%5D%2C%20%5B48.2379672%2C%20-79.0183101%5D%2C%20%5B48.241506%2C%20-79.0197067%5D%2C%20%5B45.5154652%2C%20-73.5763138%5D%2C%20%5B46.7706734%2C%20-71.2849442%5D%2C%20%5B45.4899305%2C%20-73.4730747%5D%2C%20%5B45.5139461%2C%20-73.5732412%5D%2C%20%5B45.537584499999994%2C%20-73.61487840000001%5D%2C%20%5B45.568646%2C%20-73.65288199999999%5D%2C%20%5B46.556369000000004%2C%20-72.750473%5D%2C%20%5B45.5296198%2C%20-73.57791390000001%5D%2C%20%5B46.6152281%2C%20-72.68910100000001%5D%2C%20%5B45.535304%2C%20-73.57208879999999%5D%2C%20%5B45.520773299999995%2C%20-73.5634553%5D%2C%20%5B45.578961299999996%2C%20-73.6531902%5D%2C%20%5B45.565206599999996%2C%20-73.64809890000001%5D%2C%20%5B45.474103899999996%2C%20-73.5946102%5D%2C%20%5B45.516273999999996%2C%20-73.5773983%5D%2C%20%5B45.5585331%2C%20-73.5689605%5D%2C%20%5B45.50837979999999%2C%20-73.5709313%5D%2C%20%5B45.4805%2C%20-73.5554%5D%2C%20%5B45.467577%2C%20-73.622165%5D%2C%20%5B45.5657722%2C%20-73.47967340000001%5D%2C%20%5B45.5463631%2C%20-73.6032498%5D%2C%20%5B45.473974%2C%20-73.60972199999999%5D%2C%20%5B45.4592487%2C%20-73.5987396%5D%2C%20%5B45.522828999999994%2C%20-73.612548%5D%2C%20%5B46.504804%2C%20-72.7279529%5D%2C%20%5B45.465649%2C%20-73.6246%5D%2C%20%5B45.526945899999994%2C%20-73.5771508%5D%2C%20%5B46.857697200000004%2C%20-71.41239190000002%5D%2C%20%5B48.236205%2C%20-79.0153672%5D%2C%20%5B45.481625%2C%20-73.579719%5D%2C%20%5B45.54544129999999%2C%20-73.57239100000001%5D%2C%20%5B45.517083%2C%20-73.5895625%5D%2C%20%5B45.5186%2C%20-73.5545%5D%2C%20%5B45.528749%2C%20-73.584163%5D%2C%20%5B45.5025099%2C%20-73.63549920000001%5D%2C%20%5B45.71794379999999%2C%20-73.4717778%5D%2C%20%5B48.448224200000006%2C%20-68.53501379999999%5D%2C%20%5B45.5335244%2C%20-73.5741927%5D%2C%20%5B45.5303266%2C%20-73.4833564%5D%2C%20%5B45.5369782%2C%20-73.65145940000001%5D%2C%20%5B45.5182228%2C%20-73.57072600000001%5D%2C%20%5B45.5180292%2C%20-73.57028199999999%5D%2C%20%5B45.4939814%2C%20-73.4814693%5D%2C%20%5B46.888185299999996%2C%20-71.2685351%5D%2C%20%5B45.477993%2C%20-73.583575%5D%2C%20%5B46.930354%2C%20-71.34452390000001%5D%2C%20%5B45.476821%2C%20-73.567489%5D%2C%20%5B45.4596255%2C%20-73.59625190000001%5D%2C%20%5B45.469807%2C%20-73.591599%5D%2C%20%5B45.7560065%2C%20-73.4659798%5D%2C%20%5B45.5584948%2C%20-73.6665781%5D%2C%20%5B45.5133089%2C%20-73.484431%5D%2C%20%5B46.806132%2C%20-71.24449190000001%5D%2C%20%5B46.854695899999996%2C%20-71.1902255%5D%2C%20%5B46.8223804%2C%20-71.3359665%5D%2C%20%5B46.773587899999995%2C%20-71.2790953%5D%2C%20%5B45.5221025%2C%20-73.4633968%5D%2C%20%5B45.506544700000006%2C%20-73.4473679%5D%2C%20%5B45.4918815%2C%20-73.6316131%5D%2C%20%5B45.54352720000001%2C%20-73.57629370000001%5D%2C%20%5B45.5294081%2C%20-73.57751800000001%5D%2C%20%5B45.566800799999996%2C%20-73.65473850000001%5D%2C%20%5B46.7931814%2C%20-71.2346333%5D%2C%20%5B46.89884%2C%20-71.307011%5D%2C%20%5B46.810331%2C%20-71.21963000000001%5D%2C%20%5B45.5392528%2C%20-73.5591824%5D%2C%20%5B45.570618700000004%2C%20-73.5722229%5D%2C%20%5B45.5522214%2C%20-73.5980665%5D%2C%20%5B46.812938%2C%20-71.2279113%5D%2C%20%5B46.812938%2C%20-71.2279113%5D%2C%20%5B45.5171479%2C%20-73.56836609999999%5D%2C%20%5B45.485761100000005%2C%20-73.62686479999999%5D%2C%20%5B46.8155711%2C%20-71.262048%5D%2C%20%5B45.519611499999996%2C%20-73.5834574%5D%2C%20%5B45.50238220000001%2C%20-73.5703859%5D%2C%20%5B45.5018406%2C%20-73.5701894%5D%2C%20%5B45.505660999999996%2C%20-73.5673556%5D%2C%20%5B45.529362899999995%2C%20-73.5604293%5D%2C%20%5B45.5397351%2C%20-73.5092348%5D%2C%20%5B45.5448164%2C%20-73.5624263%5D%2C%20%5B45.456184%2C%20-73.600368%5D%2C%20%5B45.4927815%2C%20-73.5828752%5D%2C%20%5B45.457285%2C%20-73.59307790000001%5D%2C%20%5B45.5116604%2C%20-73.5667932%5D%2C%20%5B45.54374%2C%20-73.6060944%5D%2C%20%5B46.8079537%2C%20-71.3691058%5D%2C%20%5B45.4542961%2C%20-73.6347578%5D%2C%20%5B45.475897100000005%2C%20-73.6227887%5D%2C%20%5B46.809899%2C%20-71.228047%5D%2C%20%5B46.827163%2C%20-71.23076%5D%2C%20%5B46.8088338%2C%20-71.3498512%5D%2C%20%5B46.8752345%2C%20-71.2515599%5D%2C%20%5B46.777074%2C%20-71.3585253%5D%2C%20%5B46.813363%2C%20-71.226961%5D%2C%20%5B46.8765528%2C%20-71.28256379999999%5D%2C%20%5B46.814886%2C%20-71.2517318%5D%2C%20%5B46.55307%2C%20-72.74283299999999%5D%2C%20%5B45.729974799999994%2C%20-73.480808%5D%2C%20%5B45.5355194%2C%20-73.453637%5D%2C%20%5B45.50689129999999%2C%20-73.5525719%5D%2C%20%5B45.5481052%2C%20-73.64551490000001%5D%2C%20%5B46.877209%2C%20-71.15613859999999%5D%2C%20%5B45.4934177%2C%20-73.6351324%5D%2C%20%5B46.847714%2C%20-71.24320970000001%5D%2C%20%5B45.5299652%2C%20-73.5906733%5D%2C%20%5B45.7586407%2C%20-73.4614119%5D%2C%20%5B46.916613%2C%20-71.3191609%5D%2C%20%5B46.8779%2C%20-71.3408%5D%2C%20%5B46.8101841%2C%20-71.3201933%5D%2C%20%5B45.5310152%2C%20-73.72227679999999%5D%2C%20%5B45.5067196%2C%20-73.572599%5D%2C%20%5B46.8758438%2C%20-71.3274917%5D%2C%20%5B46.769966499999995%2C%20-71.31827870000001%5D%2C%20%5B46.7570205%2C%20-71.37537459999999%5D%2C%20%5B46.8030531%2C%20-71.3319321%5D%2C%20%5B45.521090799999996%2C%20-73.585367%5D%2C%20%5B46.8105929%2C%20-71.2795098%5D%2C%20%5B45.5177773%2C%20-73.5737989%5D%2C%20%5B45.5281589%2C%20-73.4780073%5D%2C%20%5B45.500331200000005%2C%20-73.6283423%5D%2C%20%5B45.4816755%2C%20-73.5784823%5D%2C%20%5B45.742940999999995%2C%20-73.468735%5D%2C%20%5B45.504344399999994%2C%20-73.5630762%5D%2C%20%5B45.519014299999995%2C%20-73.5868465%5D%2C%20%5B45.4583407%2C%20-73.588099%5D%2C%20%5B48.2392679%2C%20-79.12698470000001%5D%2C%20%5B46.8711612%2C%20-71.1967984%5D%2C%20%5B46.808614399999996%2C%20-71.367333%5D%2C%20%5B46.7582437%2C%20-71.35061230000001%5D%2C%20%5B46.839818%2C%20-71.395688%5D%2C%20%5B46.8593017%2C%20-71.4242508%5D%2C%20%5B46.886892100000004%2C%20-71.5169218%5D%2C%20%5B46.8881818%2C%20-71.165113%5D%2C%20%5B46.760380700000006%2C%20-71.3637401%5D%2C%20%5B46.8177823%2C%20-71.2532137%5D%2C%20%5B45.7574496%2C%20-73.4799655%5D%2C%20%5B46.8166991%2C%20-71.2025507%5D%2C%20%5B45.4955477%2C%20-73.4739456%5D%5D%3B%0A%20%20%20%20%20%20%20%20%20%20%20%20%20%20%20%20var%20cluster%20%3D%20L.markerClusterGroup%28%7B%7D%29%3B%0A%0A%20%20%20%20%20%20%20%20%20%20%20%20%20%20%20%20for%20%28var%20i%20%3D%200%3B%20i%20%3C%20data.length%3B%20i%2B%2B%29%20%7B%0A%20%20%20%20%20%20%20%20%20%20%20%20%20%20%20%20%20%20%20%20var%20row%20%3D%20data%5Bi%5D%3B%0A%20%20%20%20%20%20%20%20%20%20%20%20%20%20%20%20%20%20%20%20var%20marker%20%3D%20callback%28row%29%3B%0A%20%20%20%20%20%20%20%20%20%20%20%20%20%20%20%20%20%20%20%20marker.addTo%28cluster%29%3B%0A%20%20%20%20%20%20%20%20%20%20%20%20%20%20%20%20%7D%0A%0A%20%20%20%20%20%20%20%20%20%20%20%20%20%20%20%20cluster.addTo%28map_cf9653de8fb0486eb336977f3ba5590c%29%3B%0A%20%20%20%20%20%20%20%20%20%20%20%20%20%20%20%20return%20cluster%3B%0A%20%20%20%20%20%20%20%20%20%20%20%20%7D%29%28%29%3B%0A%20%20%20%20%20%20%20%20%0A%20%20%20%20%0A%20%20%20%20%20%20%20%20%20%20%20%20var%20layer_control_d2f56607b839402f871476fd5af056ee%20%3D%20%7B%0A%20%20%20%20%20%20%20%20%20%20%20%20%20%20%20%20base_layers%20%3A%20%7B%0A%20%20%20%20%20%20%20%20%20%20%20%20%20%20%20%20%20%20%20%20%22cartodbpositron%22%20%3A%20tile_layer_52067fd408444ab7a96869ef3774b7cd%2C%0A%20%20%20%20%20%20%20%20%20%20%20%20%20%20%20%20%7D%2C%0A%20%20%20%20%20%20%20%20%20%20%20%20%20%20%20%20overlays%20%3A%20%20%7B%0A%20%20%20%20%20%20%20%20%20%20%20%20%20%20%20%20%20%20%20%20%22macro_element_123be46ba13542088882c24eb15ff8d3%22%20%3A%20fast_marker_cluster_123be46ba13542088882c24eb15ff8d3%2C%0A%20%20%20%20%20%20%20%20%20%20%20%20%20%20%20%20%7D%2C%0A%20%20%20%20%20%20%20%20%20%20%20%20%7D%3B%0A%20%20%20%20%20%20%20%20%20%20%20%20L.control.layers%28%0A%20%20%20%20%20%20%20%20%20%20%20%20%20%20%20%20layer_control_d2f56607b839402f871476fd5af056ee.base_layers%2C%0A%20%20%20%20%20%20%20%20%20%20%20%20%20%20%20%20layer_control_d2f56607b839402f871476fd5af056ee.overlays%2C%0A%20%20%20%20%20%20%20%20%20%20%20%20%20%20%20%20%7B%22autoZIndex%22%3A%20true%2C%20%22collapsed%22%3A%20true%2C%20%22position%22%3A%20%22topright%22%7D%0A%20%20%20%20%20%20%20%20%20%20%20%20%29.addTo%28map_cf9653de8fb0486eb336977f3ba5590c%29%3B%0A%20%20%20%20%20%20%20%20%0A%3C/script%3E onload=\"this.contentDocument.open();this.contentDocument.write(    decodeURIComponent(this.getAttribute('data-html')));this.contentDocument.close();\" allowfullscreen webkitallowfullscreen mozallowfullscreen></iframe></div></div>"
      ],
      "text/plain": [
       "<folium.folium.Map at 0x160d3550>"
      ]
     },
     "execution_count": 12,
     "metadata": {},
     "output_type": "execute_result"
    }
   ],
   "source": [
    "folium_map = folium.Map(location=[45.534699,-73.569848],\n",
    "                        zoom_start=12,\n",
    "                        tiles='cartodbpositron')\n",
    "\n",
    "\n",
    "plugings.FastMarkerCluster(data=list(zip(retail_df['lat'].values, retail_df['long'].values))).add_to(folium_map)\n",
    "folium.LayerControl().add_to(folium_map)\n",
    "folium_map"
   ]
  },
  {
   "cell_type": "markdown",
   "metadata": {},
   "source": [
    "There are clusters of locations around Montreal (637), Quebec city (274), Longueuil (120), Repentigny (43), Shawinigan (32), Rouyn-Noranda (22), Rimouski (18) and Sherbrooke (6) in that order."
   ]
  },
  {
   "cell_type": "code",
   "execution_count": 13,
   "metadata": {},
   "outputs": [
    {
     "data": {
      "text/plain": [
       "H2    297\n",
       "G1    192\n",
       "H3    163\n",
       "H4    115\n",
       "J4     98\n",
       "H1     61\n",
       "G2     54\n",
       "G9     32\n",
       "G3     23\n",
       "J3     22\n",
       "J6     21\n",
       "J5     20\n",
       "G5     18\n",
       "J9     17\n",
       "J1      6\n",
       "Qu      5\n",
       "G0      4\n",
       "H5      3\n",
       "J0      1\n",
       "Name: _, dtype: int64"
      ]
     },
     "execution_count": 13,
     "metadata": {},
     "output_type": "execute_result"
    }
   ],
   "source": [
    "# value count for each geographical location\n",
    "gdf[\"_\"] = gdf[\"postal_code\"].apply(lambda x: x[:2])\n",
    "gdf[\"_\"].value_counts()"
   ]
  },
  {
   "cell_type": "code",
   "execution_count": 14,
   "metadata": {},
   "outputs": [
    {
     "data": {
      "text/html": [
       "<div>\n",
       "<style scoped>\n",
       "    .dataframe tbody tr th:only-of-type {\n",
       "        vertical-align: middle;\n",
       "    }\n",
       "\n",
       "    .dataframe tbody tr th {\n",
       "        vertical-align: top;\n",
       "    }\n",
       "\n",
       "    .dataframe thead th {\n",
       "        text-align: right;\n",
       "    }\n",
       "</style>\n",
       "<table border=\"1\" class=\"dataframe\">\n",
       "  <thead>\n",
       "    <tr style=\"text-align: right;\">\n",
       "      <th></th>\n",
       "      <th>erp_id</th>\n",
       "      <th>province_code</th>\n",
       "      <th>lat</th>\n",
       "      <th>long</th>\n",
       "      <th>sales</th>\n",
       "      <th>geom</th>\n",
       "      <th>address</th>\n",
       "      <th>postal_code</th>\n",
       "      <th>geometry</th>\n",
       "      <th>_</th>\n",
       "    </tr>\n",
       "  </thead>\n",
       "  <tbody>\n",
       "    <tr>\n",
       "      <th>0</th>\n",
       "      <td>4</td>\n",
       "      <td>QC</td>\n",
       "      <td>45.537593</td>\n",
       "      <td>-73.597075</td>\n",
       "      <td>0.089069</td>\n",
       "      <td>45.537593,-73.597075</td>\n",
       "      <td>6062, Rue De Normanville, Père-Marquette, Rose...</td>\n",
       "      <td>H2S 3L9</td>\n",
       "      <td>POINT (-73.59708 45.53759)</td>\n",
       "      <td>H2</td>\n",
       "    </tr>\n",
       "    <tr>\n",
       "      <th>1</th>\n",
       "      <td>19</td>\n",
       "      <td>QC</td>\n",
       "      <td>45.488636</td>\n",
       "      <td>-73.568175</td>\n",
       "      <td>0.074907</td>\n",
       "      <td>45.488636,-73.568175</td>\n",
       "      <td>1738, Rue Notre-Dame Ouest, Petite-Bourgogne, ...</td>\n",
       "      <td>H3J 1M3</td>\n",
       "      <td>POINT (-73.56817 45.48864)</td>\n",
       "      <td>H3</td>\n",
       "    </tr>\n",
       "    <tr>\n",
       "      <th>2</th>\n",
       "      <td>22</td>\n",
       "      <td>QC</td>\n",
       "      <td>48.387871</td>\n",
       "      <td>-68.470686</td>\n",
       "      <td>0.611644</td>\n",
       "      <td>48.3878711,-68.4706861</td>\n",
       "      <td>14, , Rimouski, Rimouski-Neigette, Bas-Saint-L...</td>\n",
       "      <td>G5N 5P1</td>\n",
       "      <td>POINT (-68.47069 48.38787)</td>\n",
       "      <td>G5</td>\n",
       "    </tr>\n",
       "    <tr>\n",
       "      <th>3</th>\n",
       "      <td>24</td>\n",
       "      <td>QC</td>\n",
       "      <td>46.795660</td>\n",
       "      <td>-71.356166</td>\n",
       "      <td>-0.778827</td>\n",
       "      <td>46.7956598,-71.3561663</td>\n",
       "      <td>1438, Rue Notre-Dame, L'Ancienne-Lorette, Québ...</td>\n",
       "      <td>G2E 1Z7</td>\n",
       "      <td>POINT (-71.35617 46.79566)</td>\n",
       "      <td>G2</td>\n",
       "    </tr>\n",
       "    <tr>\n",
       "      <th>4</th>\n",
       "      <td>37</td>\n",
       "      <td>QC</td>\n",
       "      <td>45.510311</td>\n",
       "      <td>-73.570841</td>\n",
       "      <td>0.586588</td>\n",
       "      <td>45.510310700000005,-73.570841</td>\n",
       "      <td>169, Place Sainte-Famille, Milton Parc, Platea...</td>\n",
       "      <td>H2X 1X7</td>\n",
       "      <td>POINT (-73.57084 45.51031)</td>\n",
       "      <td>H2</td>\n",
       "    </tr>\n",
       "  </tbody>\n",
       "</table>\n",
       "</div>"
      ],
      "text/plain": [
       "   erp_id province_code        lat       long     sales  \\\n",
       "0       4            QC  45.537593 -73.597075  0.089069   \n",
       "1      19            QC  45.488636 -73.568175  0.074907   \n",
       "2      22            QC  48.387871 -68.470686  0.611644   \n",
       "3      24            QC  46.795660 -71.356166 -0.778827   \n",
       "4      37            QC  45.510311 -73.570841  0.586588   \n",
       "\n",
       "                            geom  \\\n",
       "0           45.537593,-73.597075   \n",
       "1           45.488636,-73.568175   \n",
       "2         48.3878711,-68.4706861   \n",
       "3         46.7956598,-71.3561663   \n",
       "4  45.510310700000005,-73.570841   \n",
       "\n",
       "                                             address postal_code  \\\n",
       "0  6062, Rue De Normanville, Père-Marquette, Rose...     H2S 3L9   \n",
       "1  1738, Rue Notre-Dame Ouest, Petite-Bourgogne, ...     H3J 1M3   \n",
       "2  14, , Rimouski, Rimouski-Neigette, Bas-Saint-L...     G5N 5P1   \n",
       "3  1438, Rue Notre-Dame, L'Ancienne-Lorette, Québ...     G2E 1Z7   \n",
       "4  169, Place Sainte-Famille, Milton Parc, Platea...     H2X 1X7   \n",
       "\n",
       "                     geometry   _  \n",
       "0  POINT (-73.59708 45.53759)  H2  \n",
       "1  POINT (-73.56817 45.48864)  H3  \n",
       "2  POINT (-68.47069 48.38787)  G5  \n",
       "3  POINT (-71.35617 46.79566)  G2  \n",
       "4  POINT (-73.57084 45.51031)  H2  "
      ]
     },
     "execution_count": 14,
     "metadata": {},
     "output_type": "execute_result"
    }
   ],
   "source": [
    "gdf.head()"
   ]
  },
  {
   "cell_type": "code",
   "execution_count": 15,
   "metadata": {},
   "outputs": [],
   "source": [
    "# type(polygon['geometry'][0]) creating a polygon of points around the postal code first 2 digit\n",
    "gdf_clusters = gdf[['erp_id','postal_code','lat', 'long', 'geometry', '_']]\n",
    "clusters = gdf_clusters['_'].unique()[:-4]\n",
    "poly_map = dict()\n",
    "\n",
    "for c in clusters:\n",
    "    points = gdf[gdf['_'] == c]['geometry']\n",
    "    poly = shapely.geometry.Polygon([[p.x, p.y] for p in points])\n",
    "    poly_map[c] = poly\n",
    "    \n",
    "gdf_clusters = gdf_clusters.replace({'_':poly_map}).drop(\"geometry\", axis = 1)\n",
    "gdf_clusters.columns = ['erp_id','postal_code','lat', 'long', 'geometry']"
   ]
  },
  {
   "cell_type": "code",
   "execution_count": 16,
   "metadata": {},
   "outputs": [
    {
     "data": {
      "image/png": "[encoded data removed]",
      "text/plain": [
       "<Figure size 2160x5040 with 1 Axes>"
      ]
     },
     "metadata": {
      "needs_background": "light"
     },
     "output_type": "display_data"
    },
    {
     "data": {
      "text/plain": [
       "<Figure size 2160x7200 with 0 Axes>"
      ]
     },
     "metadata": {},
     "output_type": "display_data"
    }
   ],
   "source": [
    "fig, ax = plt.subplots(figsize=(30,70))\n",
    "fig = plt.figure(figsize=(30,100))\n",
    "gdf_clusters.plot(ax=ax, color=\"lightgray\")\n",
    "# gdf.plot(ax=ax, color=\"black\")\n",
    "plt.tight_layout()\n",
    "# plt.axis(\"off\")\n",
    "plt.show()"
   ]
  },
  {
   "cell_type": "markdown",
   "metadata": {},
   "source": [
    "These are exaxtly the points a map with some little boundary extension. However, due to the aspect ratio of plot and smaller cluster regions, the pattern is almost not clear. If the clusters were around the whole of Quebec for example, the patterns would have been much clearer.\n",
    "\n",
    "However, if we are interested in covering a larger region, say, each city where we have the retail locations, i.e, Montreal, Quebec city, Longueuil, Repentigny, etc,(we could be interested in tracking a foreign customer who occasionally visit one of these regions). In such situation, we could try to cover a larger geological area rather than a very small region. There are available geoJSON files, mostly on government website that has the exact points for these regions. The plot for that is shown below"
   ]
  },
  {
   "cell_type": "code",
   "execution_count": 17,
   "metadata": {},
   "outputs": [],
   "source": [
    "polygon = gpd.read_file(\"quebec.geojson.txt\")"
   ]
  },
  {
   "cell_type": "code",
   "execution_count": 60,
   "metadata": {},
   "outputs": [
    {
     "data": {
      "image/png": "[encoded data removed]",
      "text/plain": [
       "<Figure size 2160x2880 with 1 Axes>"
      ]
     },
     "metadata": {
      "needs_background": "light"
     },
     "output_type": "display_data"
    }
   ],
   "source": [
    "fig, ax = plt.subplots(figsize=(30,40))\n",
    "polygon.loc[[2,3, 4, 6, 7, 10, 13, 15]].plot(ax=ax,color=\"lightgrey\", edgecolor = 'black')\n",
    "gdf.plot(ax=ax, color=\"black\")\n",
    "plt.axis(\"off\")\n",
    "plt.legend([\"retail location\"])\n",
    "plt.tight_layout()\n"
   ]
  },
  {
   "cell_type": "markdown",
   "metadata": {},
   "source": [
    "<center><b>Part 3</b></center>\n",
    "\n",
    "Pros\n",
    "<ol>\n",
    "<li>There are readily available geo-location libraries to use and explore as well as interactive plotting maps to use.</li>\n",
    "<li>Implementation is relative easy and simple.</li>\n",
    "</ol>\n",
    "\n",
    "Cons\n",
    "<ol>\n",
    "<li>Most of the available libraries used for interactive maps are not compatible with Github (for example Folium map and Plotly packages). This is because folium and plotly do not seem to render on GitHub natively. I think it likely has something to do with the site's settings on running JavaScript. However, you should be able to drop the github link to your .ipynb file into <a href=\"https://nbviewer.jupyter.org/\">nbviewer</a> and get a full dynamic output, when provided a valid.  </li>\n",
    "<li>The computational time to reverse the geocode takes approximately 10 minutes to run for just a dataset that is slightly above a thousand.</li>\n",
    "<li>Although, the packages are quite intutive, however, domain knowledge might be required.</li>\n",
    "</ol>"
   ]
  },
  {
   "cell_type": "code",
   "execution_count": 19,
   "metadata": {},
   "outputs": [
    {
     "data": {
      "text/plain": [
       "Text(2, 0.4, 'mean')"
      ]
     },
     "execution_count": 19,
     "metadata": {},
     "output_type": "execute_result"
    },
    {
     "data": {
      "image/png": "[encoded data removed]",
      "text/plain": [
       "<Figure size 1152x432 with 1 Axes>"
      ]
     },
     "metadata": {
      "needs_background": "light"
     },
     "output_type": "display_data"
    }
   ],
   "source": [
    "#part 4 & 5\n",
    "plt.figure(figsize=(16, 6))\n",
    "sns.distplot(retail_df[\"sales\"], bins = 100, hist_kws={\"histtype\": \"bar\", \"linewidth\":  0.8 ,\"alpha\": 0.5, \"color\": \"blue\"},\n",
    "                 kde_kws={\"color\":\"black\", \"alpha\" : 0.7}, \n",
    "                 rug=True, rug_kws={\"color\":\"orange\", \"alpha\": 0.7})\n",
    "plt.axvline(x=retail_df.sales.mean(), color = \"blue\") #mean line\n",
    "plt.annotate('mean', xy=(retail_df.sales.mean(), 0.45), xytext=(2, 0.4), ha='center', xycoords='data',\n",
    "            arrowprops=dict(arrowstyle=\"->\"), bbox=dict(boxstyle=\"round\", fc=\"none\", ec=\"gray\"))"
   ]
  },
  {
   "cell_type": "markdown",
   "metadata": {},
   "source": [
    "The distribution of sales looks like a Gaussian distribution which implies that it is symmetric about the mean, showing that data near the mean are more frequent in occurrence than data far from the mean. Hence, the mean (the blue line) is approximately equal to the median (mean = <b>-0.006920</b>} and median = <b>-0.017408</b>) <br>\n",
    "\n",
    "However, we may want to inteprete the curve to be slightly negatively skewed in the sense that imore values are concentrated on the right side (tail) of the distribution graph while the left tail of the distribution graph is longer (<b>583</b> are to the right and <b>569</b> are to the left). We could see \n",
    "\n",
    "Considering the Central Limit Theorem, the more independent random variables we have, the more the curve normalizes to being perfectly normally distributed. "
   ]
  },
  {
   "cell_type": "code",
   "execution_count": 20,
   "metadata": {},
   "outputs": [
    {
     "data": {
      "text/html": [
       "<div>\n",
       "<style scoped>\n",
       "    .dataframe tbody tr th:only-of-type {\n",
       "        vertical-align: middle;\n",
       "    }\n",
       "\n",
       "    .dataframe tbody tr th {\n",
       "        vertical-align: top;\n",
       "    }\n",
       "\n",
       "    .dataframe thead th {\n",
       "        text-align: right;\n",
       "    }\n",
       "</style>\n",
       "<table border=\"1\" class=\"dataframe\">\n",
       "  <thead>\n",
       "    <tr style=\"text-align: right;\">\n",
       "      <th></th>\n",
       "      <th>sales</th>\n",
       "    </tr>\n",
       "  </thead>\n",
       "  <tbody>\n",
       "    <tr>\n",
       "      <th>count</th>\n",
       "      <td>1152.000000</td>\n",
       "    </tr>\n",
       "    <tr>\n",
       "      <th>mean</th>\n",
       "      <td>-0.006920</td>\n",
       "    </tr>\n",
       "    <tr>\n",
       "      <th>std</th>\n",
       "      <td>1.487999</td>\n",
       "    </tr>\n",
       "    <tr>\n",
       "      <th>min</th>\n",
       "      <td>-10.957124</td>\n",
       "    </tr>\n",
       "    <tr>\n",
       "      <th>25%</th>\n",
       "      <td>-0.715086</td>\n",
       "    </tr>\n",
       "    <tr>\n",
       "      <th>50%</th>\n",
       "      <td>-0.017408</td>\n",
       "    </tr>\n",
       "    <tr>\n",
       "      <th>75%</th>\n",
       "      <td>0.738120</td>\n",
       "    </tr>\n",
       "    <tr>\n",
       "      <th>max</th>\n",
       "      <td>7.788058</td>\n",
       "    </tr>\n",
       "  </tbody>\n",
       "</table>\n",
       "</div>"
      ],
      "text/plain": [
       "             sales\n",
       "count  1152.000000\n",
       "mean     -0.006920\n",
       "std       1.487999\n",
       "min     -10.957124\n",
       "25%      -0.715086\n",
       "50%      -0.017408\n",
       "75%       0.738120\n",
       "max       7.788058"
      ]
     },
     "execution_count": 20,
     "metadata": {},
     "output_type": "execute_result"
    }
   ],
   "source": [
    "# The result above explained(1st paragraph)\n",
    "retail_df[[\"sales\"]].describe(include=\"all\")"
   ]
  },
  {
   "cell_type": "code",
   "execution_count": 21,
   "metadata": {},
   "outputs": [
    {
     "name": "stdout",
     "output_type": "stream",
     "text": [
      "581 sales are below the mean sales point\n",
      "571 sales are above the mean sales point \n"
     ]
    }
   ],
   "source": [
    "# The result above explained(2nd paragraph)\n",
    "print(f\"{sum(retail_df['sales'] < (retail_df.sales.mean()))} sales are below the mean sales point\")\n",
    "print(f\"{sum(retail_df['sales'] > (retail_df.sales.mean()))} sales are above the mean sales point \")"
   ]
  },
  {
   "cell_type": "code",
   "execution_count": 61,
   "metadata": {},
   "outputs": [
    {
     "name": "stderr",
     "output_type": "stream",
     "text": [
      "C:\\Users\\Bamidele Ajayi\\anaconda3\\lib\\site-packages\\matplotlib\\collections.py:857: RuntimeWarning:\n",
      "\n",
      "invalid value encountered in sqrt\n",
      "\n"
     ]
    },
    {
     "data": {
      "text/plain": [
       "<matplotlib.axes._subplots.AxesSubplot at 0x1e633a70>"
      ]
     },
     "execution_count": 61,
     "metadata": {},
     "output_type": "execute_result"
    },
    {
     "data": {
      "image/png": "[encoded data removed]",
      "text/plain": [
       "<Figure size 1440x576 with 2 Axes>"
      ]
     },
     "metadata": {
      "needs_background": "light"
     },
     "output_type": "display_data"
    }
   ],
   "source": [
    "retail_df.plot(kind = \"scatter\", x = \"long\", y = \"lat\", figsize = (20, 8), alpha=0.4, \n",
    "               s=retail_df[\"sales\"]*20, label=\"sales\", c=\"sales\", cmap=plt.get_cmap(\"jet\"), colorbar=True)"
   ]
  },
  {
   "cell_type": "markdown",
   "metadata": {},
   "source": [
    "Regions in Montreal and Quebec city have higher sales in comparison to other location. Bare in mind that these sales do not depict the overall averge sales in those locations"
   ]
  },
  {
   "cell_type": "code",
   "execution_count": 25,
   "metadata": {},
   "outputs": [
    {
     "data": {
      "text/plain": [
       "2.2141412226368273"
      ]
     },
     "execution_count": 25,
     "metadata": {},
     "output_type": "execute_result"
    }
   ],
   "source": [
    "retail_df.sales.var()"
   ]
  },
  {
   "cell_type": "markdown",
   "metadata": {},
   "source": [
    "Variance measures how spread out the data is from the average sales. A variance of zero indicates that all of the data values are identical. All non-zero variances are positive.\n",
    "A small variance indicates that the data points tend to be very close to the mean, and to each other. A high variance indicates that the data points are very spread out from the mean, and from one another. Variance is the average of the squared distances from each point to the mean"
   ]
  },
  {
   "cell_type": "code",
   "execution_count": 26,
   "metadata": {},
   "outputs": [
    {
     "data": {
      "text/plain": [
       "1.487999066745953"
      ]
     },
     "execution_count": 26,
     "metadata": {},
     "output_type": "execute_result"
    }
   ],
   "source": [
    "retail_df.sales.std()"
   ]
  },
  {
   "cell_type": "markdown",
   "metadata": {},
   "source": [
    "Standard deviation reflects the variability of the distribution, just like variance. However, it returns the original unit of the distribution since it's the square of variance. \n",
    "\n",
    "\n",
    "It is typically a measure of the average distance between the values of the data in the set and the mean.\n",
    "\n",
    "The low standard deviation indicates that the data points tend to be very close to the mean and are not really spread out over a large range of values. As standard deviation increases, standard error also increases. However, due to the CLT described earlier, the more the sample size increases – as the sample size gets closer to the true size of the population, the lesser the standard error. This is because the sample means cluster more and more around the true population mean."
   ]
  },
  {
   "cell_type": "code",
   "execution_count": 27,
   "metadata": {},
   "outputs": [
    {
     "data": {
      "text/plain": [
       "<matplotlib.lines.Line2D at 0xfb0f450>"
      ]
     },
     "execution_count": 27,
     "metadata": {},
     "output_type": "execute_result"
    },
    {
     "data": {
      "image/png": "[encoded data removed]",
      "text/plain": [
       "<Figure size 864x432 with 1 Axes>"
      ]
     },
     "metadata": {
      "needs_background": "light"
     },
     "output_type": "display_data"
    }
   ],
   "source": [
    "plt.figure(figsize=(12, 6))\n",
    "sns.boxplot(y= retail_df.sales)\n",
    "plt.axhline(-2.895, color = \"red\", alpha = 0.2) \n",
    "plt.axhline(2.918, color = \"red\", alpha = 0.2)"
   ]
  },
  {
   "cell_type": "markdown",
   "metadata": {},
   "source": [
    "Outlier is a value that lies in a data series on its extremes, which is either very small or large and have the tendenc of affecting the overall data observation. \n",
    "\n",
    "A boxplot is one of the visualization tools that can be used to view outliers. Data points that are located outside the whiskers of the box plot are considered outliers.\n",
    "\n",
    "Statistically, these are points that lie above the 1.5 times the interquartile range above the third quartile or below the first quartile, i.e the upper limit and lower limit respectively.\n",
    "\n",
    "  <center>Lower Limit = $Q_1$ - $1.5IQR$</center>\n",
    "  <center>Upper Limit = $Q_3$ + $1.5IQR$</center>\n",
    "\n",
    "These values which lies on either of the extremes red line can be considered outliers and should be discarded from the entire series so that any analysis made on this series is not influenced by these extreme values. So the data series that should be considered for further observation or study after discarding the outliers are as below. However, since a lot of values are still clustered around the min of the whisker, we could consider only the isolated points as the outlier. \n",
    "\n",
    "The upper and Lower Limits are shown below"
   ]
  },
  {
   "cell_type": "code",
   "execution_count": 28,
   "metadata": {},
   "outputs": [
    {
     "name": "stdout",
     "output_type": "stream",
     "text": [
      "Lower Limit: -2.89489491525\n",
      "Upper Limit: 2.91792948475\n"
     ]
    }
   ],
   "source": [
    "q1 = retail_df[[\"sales\"]].describe().iloc[4][\"sales\"]\n",
    "q3 = retail_df[[\"sales\"]].describe().iloc[6][\"sales\"]\n",
    "iqr = q3 - q1\n",
    "\n",
    "print(f\"Lower Limit: {q1 - 1.5*iqr}\")\n",
    "print(f\"Upper Limit: {q3 + 1.5*iqr}\")"
   ]
  },
  {
   "cell_type": "markdown",
   "metadata": {},
   "source": [
    "Therefore, values below -2.89 and above 2.91 are considered outliers"
   ]
  },
  {
   "cell_type": "code",
   "execution_count": 56,
   "metadata": {},
   "outputs": [
    {
     "name": "stdout",
     "output_type": "stream",
     "text": [
      "A total of 62 sales are outliers\n"
     ]
    }
   ],
   "source": [
    "print(\"A total of\", retail_df[retail_df[\"sales\"] < (q1 - 1.5*iqr)].shape[0] + \n",
    "      retail_df[retail_df[\"sales\"] > (q3 + 1.5*iqr)].shape[0], \"sales are outliers\")"
   ]
  },
  {
   "cell_type": "code",
   "execution_count": null,
   "metadata": {},
   "outputs": [],
   "source": []
  },
  {
   "cell_type": "markdown",
   "metadata": {},
   "source": [
    "Another way we could plot the geofences on the map"
   ]
  },
  {
   "cell_type": "code",
   "execution_count": 50,
   "metadata": {},
   "outputs": [],
   "source": [
    "multipolygons = []\n",
    "for i in clusters:\n",
    "    multipolygons.append([p for p in zip(retail_df[retail_df[\"_\"] == i][\"long\"], retail_df[retail_df[\"_\"] == i][\"lat\"])])"
   ]
  },
  {
   "cell_type": "code",
   "execution_count": 55,
   "metadata": {},
   "outputs": [
    {
     "data": {
      "application/vnd.plotly.v1+json": {
       "config": {
        "plotlyServerURL": "https://plot.ly"
       },
       "data": [
        {
         "lat": [
          45.537593,
          45.488636,
          48.3878711,
          46.7956598,
          45.510310700000005,
          45.755632899999995,
          46.835607,
          45.473949,
          45.518215399999995,
          46.891487700000006,
          45.5144682,
          45.5336184,
          46.8679355,
          45.535530200000004,
          45.4650792,
          48.241944399999994,
          45.5188044,
          45.5129793,
          45.5486995,
          45.500265,
          45.4998571,
          45.510319,
          45.510319,
          45.4014722,
          48.473097100000004,
          45.459886700000006,
          45.5212833,
          45.477963700000004,
          46.554334499999996,
          46.83492639999999,
          45.575587299999995,
          45.461001,
          45.576084200000004,
          45.5363773,
          45.5220951,
          46.7865302,
          45.4860706,
          45.5243434,
          45.5255925,
          45.4814067,
          45.5050263,
          45.505055,
          45.5426053,
          45.544699,
          45.4924311,
          45.4828119,
          45.4828196,
          45.5198475,
          46.6134523,
          45.555593,
          45.531281899999996,
          45.74664179999999,
          48.2431951,
          45.530368200000005,
          45.5181859,
          46.6039185,
          45.477182899999995,
          45.543833500000005,
          45.4917662,
          46.839277100000004,
          45.4827055,
          45.4635801,
          46.5696182,
          46.8047293,
          46.854412700000005,
          45.4800939,
          45.4814162,
          45.497171200000004,
          48.430718,
          45.5128081,
          45.453583,
          45.5408907,
          45.4893259,
          46.8199384,
          45.489481700000006,
          45.5381124,
          45.51985560000001,
          45.5406272,
          45.500983000000005,
          45.500467900000004,
          45.5166438,
          45.5166229,
          46.8136071,
          45.764340000000004,
          46.5199391,
          46.788579299999995,
          46.8052664,
          46.7757675,
          46.8208359,
          46.8555075,
          46.8028996,
          45.5239867,
          45.5375357,
          46.77101029999999,
          46.7710729,
          45.5301861,
          46.60727979999999,
          45.521455200000005,
          45.5228806,
          45.515708000000004,
          45.5288212,
          45.534197799999994,
          45.521857700000005,
          45.5302597,
          45.510577000000005,
          45.7693036,
          46.8965297,
          45.4733304,
          45.5468442,
          45.5100597,
          46.8368679,
          45.514549,
          46.8325222,
          46.8011869,
          45.5356678,
          45.5133912,
          45.535841299999994,
          45.4952842,
          46.563334399999995,
          46.8045252,
          46.811432,
          46.8372428,
          46.8909411,
          45.500174,
          45.5480259,
          45.5218159,
          46.8089956,
          45.4911565,
          45.501174799999994,
          45.5181027,
          45.4866269,
          45.4866269,
          45.5446559,
          45.46720139999999,
          45.50198220000001,
          45.5005083,
          45.5116006,
          45.5215451,
          45.502537100000005,
          45.493519,
          45.5259495,
          46.5718942,
          45.7526227,
          45.7191889,
          45.529302,
          46.8446932,
          46.8570499,
          45.5001121,
          45.573932,
          45.53825820000001,
          45.5017252,
          45.557026799999996,
          46.8372401,
          46.8372401,
          48.467893100000005,
          46.5559232,
          45.5110528,
          46.7685071,
          45.7704519,
          45.494002,
          45.4943351,
          45.5368631,
          45.474995799999995,
          45.456385100000006,
          45.5269531,
          45.53019320000001,
          45.563867200000004,
          45.4707735,
          45.5583407,
          46.9175469,
          45.538516200000004,
          45.4545151,
          45.454471999999996,
          45.5329753,
          45.537753,
          45.549659999999996,
          45.494900200000004,
          45.494960600000006,
          45.5339451,
          45.50042979999999,
          46.8396619,
          46.839253799999994,
          45.51900379999999,
          48.2477973,
          46.93048220000001,
          45.4758005,
          46.816360700000004,
          45.4932544,
          45.500133,
          45.7443982,
          45.5191395,
          46.8257407,
          45.533899,
          45.533899,
          45.52480870000001,
          45.497349,
          45.49604,
          45.516142200000004,
          45.5165703,
          46.885501299999994,
          46.889960200000004,
          45.4905307,
          46.8135679,
          46.8504854,
          46.8136708,
          46.556938200000005,
          46.8787741,
          46.8787741,
          45.505953000000005,
          45.5060225,
          45.506171,
          45.462112,
          45.4815938,
          46.882800399999994,
          45.4834469,
          45.4879623,
          45.5078099,
          45.5078099,
          46.5197223,
          45.4996169,
          46.811637100000006,
          45.4766013,
          45.5186729,
          45.518539000000004,
          45.533414,
          45.5561588,
          46.86331129999999,
          45.5360244,
          45.491611299999995,
          45.5441377,
          46.8090408,
          45.5191993,
          45.4619149,
          45.564945,
          46.8743947,
          46.8642674,
          48.233219,
          45.4915042,
          46.8914079,
          45.4779216,
          45.4935112,
          45.4878175,
          45.462759000000005,
          45.5463486,
          46.826494,
          45.561738,
          46.816255,
          45.5546445,
          45.5679359,
          45.567902600000004,
          46.8029984,
          45.5374158,
          45.5586091,
          47.9127764,
          45.544746,
          45.483689500000004,
          45.527044200000006,
          46.75267,
          46.8234838,
          45.5350677,
          45.456151,
          45.5286103,
          45.4846111,
          46.5562331,
          45.525432,
          45.5278229,
          45.527440500000004,
          45.56668,
          45.5133295,
          46.831307200000005,
          45.49961079999999,
          45.4992821,
          45.4956881,
          45.5237369,
          45.5312557,
          45.466962,
          46.8233118,
          46.5588282,
          45.54742460000001,
          45.4877901,
          45.517737700000005,
          45.516670899999994,
          46.8128563,
          45.554025700000004,
          45.470721999999995,
          45.476365,
          45.5323983,
          45.5323983,
          45.483167,
          45.558859999999996,
          45.5416727,
          45.5425854,
          45.5066394,
          45.4641836,
          45.5308487,
          45.5283228,
          46.7404687,
          46.7404687,
          45.529880299999995,
          45.5262667,
          45.449909000000005,
          45.76756029999999,
          45.5668191,
          45.5149045,
          45.5294658,
          45.5203702,
          46.806683500000005,
          45.507571999999996,
          45.4514109,
          46.8150396,
          45.5235286,
          45.5684112,
          46.848389399999995,
          48.441093,
          45.5094278,
          45.537136600000004,
          45.5385795,
          46.837709999999994,
          46.8481887,
          45.4934271,
          45.495461,
          45.532497,
          45.5238193,
          45.520000700000004,
          46.8134,
          45.515709,
          48.222730799999994,
          45.4667531,
          45.4665492,
          45.5224639,
          45.562683,
          45.5524354,
          45.5103999,
          46.796485700000005,
          45.5041009,
          45.525804799999996,
          45.4782589,
          45.4780614,
          45.5008215,
          45.5232782,
          45.523292299999994,
          45.5728253,
          46.873002500000005,
          46.828584899999996,
          45.536534499999995,
          45.519031,
          45.5453854,
          48.2271305,
          45.536,
          48.240164299999996,
          45.5351599,
          45.455290000000005,
          45.720839899999994,
          45.492222600000005,
          45.5357275,
          45.51958870000001,
          46.8217471,
          46.8217471,
          45.530136999999996,
          45.4797987,
          46.804565999999994,
          46.852028499999996,
          45.509184000000005,
          45.505461100000005,
          45.477959399999996,
          45.5384088,
          45.533324,
          46.812155499999996,
          45.460562200000005,
          45.5707321,
          48.442685299999994,
          45.567557799999996,
          45.5476564,
          45.5351218,
          45.5256849,
          45.543957899999995,
          45.488805,
          45.4895797,
          45.48937,
          45.5126188,
          46.8135022,
          45.547424400000004,
          46.525228399999996,
          45.7322565,
          45.5061379,
          45.5726097,
          45.498047799999995,
          45.498175700000004,
          46.8624734,
          45.5349588,
          45.5212682,
          45.514066899999996,
          46.843703000000005,
          45.5174265,
          46.799059299999996,
          45.5217339,
          45.5192886,
          46.9101974,
          46.8429845,
          45.5520054,
          45.555718,
          48.4376039,
          45.516694,
          45.516694,
          46.8120852,
          46.870141100000005,
          46.8410703,
          46.855318200000006,
          46.8435762,
          46.8198609,
          46.8198609,
          46.8121559,
          48.4351174,
          45.7842388,
          45.4977436,
          45.5392036,
          45.5392036,
          45.539162899999994,
          45.5389756,
          45.500448600000006,
          45.5026306,
          45.5204736,
          45.5154352,
          46.9088558,
          45.5072429,
          46.8042364,
          46.787655900000004,
          45.472923,
          46.839698799999994,
          46.8754898,
          45.523098100000006,
          45.3945501,
          46.818226200000005,
          45.779616,
          46.8585642,
          46.8586431,
          45.5298873,
          45.4976435,
          45.4979448,
          46.888308200000004,
          45.530477000000005,
          45.50083,
          48.438630700000004,
          45.5418565,
          45.557074,
          46.568324700000005,
          45.4802003,
          46.7626088,
          46.8724615,
          45.55413660000001,
          46.8227639,
          45.472285299999996,
          45.47206,
          45.555094,
          45.528761700000004,
          45.4974422,
          45.50111,
          45.4791144,
          45.502846399999996,
          46.799155299999995,
          45.5713987,
          45.497635700000004,
          46.8100302,
          45.526943,
          45.5641458,
          46.5204343,
          46.886677899999995,
          45.533,
          45.7669799,
          45.5206831,
          46.7970229,
          46.8075825,
          45.4564991,
          45.50941029999999,
          46.853722999999995,
          46.5397508,
          46.8435867,
          46.80324,
          45.469066600000005,
          45.5422402,
          45.5377919,
          45.5450209,
          45.4778062,
          45.476863,
          46.817518299999996,
          45.519301399999996,
          45.4520893,
          45.453153,
          46.8622006,
          45.510405,
          46.8953805,
          46.895104100000005,
          45.458939799999996,
          45.465981299999996,
          46.8938578,
          45.5392193,
          45.5353317,
          46.850831799999995,
          45.551328999999996,
          45.4966036,
          45.496641499999996,
          46.9030305,
          45.762122600000005,
          46.88361,
          48.2320578,
          45.5252312,
          45.496060799999995,
          45.535226200000004,
          45.572010999999996,
          45.5249179,
          45.5249179,
          46.50819370000001,
          46.8422365,
          46.810502,
          45.529879,
          45.514609,
          45.5149552,
          45.5423581,
          48.462826299999996,
          45.4977245,
          45.5003412,
          45.451209999999996,
          46.8301456,
          45.453913,
          45.5517044,
          45.7337308,
          45.531740899999996,
          45.477713,
          46.8387184,
          45.4712203,
          45.530392600000006,
          45.5764597,
          45.4962474,
          45.5406888,
          46.7469929,
          45.5376778,
          45.50102329999999,
          45.55475379999999,
          46.8116509,
          46.8140474,
          48.4450826,
          45.5390299,
          45.476771,
          45.5532778,
          46.809706,
          46.809706,
          45.5256336,
          45.536491,
          46.8112992,
          45.7487153,
          45.5504993,
          46.850120600000004,
          46.6133744,
          48.2411066,
          46.8261206,
          45.4905278,
          48.4359648,
          45.5071239,
          45.533141,
          45.776568299999994,
          45.776568299999994,
          46.81217120000001,
          46.7671645,
          45.52491,
          45.537119,
          46.7648466,
          45.462736,
          45.550163500000004,
          45.7798286,
          46.813458000000004,
          45.501168,
          45.4818004,
          45.4818004,
          45.4818004,
          45.4818004,
          48.5131202,
          45.5012014,
          46.835829700000005,
          45.538608,
          46.83706,
          45.4787775,
          46.7667135,
          46.808235700000004,
          45.503243,
          46.7814325,
          45.494904999999996,
          46.87662520000001,
          45.5569248,
          45.5494837,
          45.4879465,
          45.530442,
          45.5724207,
          45.548992,
          45.5658559,
          45.510099600000004,
          46.8285773,
          46.8719516,
          46.872469099999996,
          46.874130900000004,
          45.4801044,
          46.8497139,
          45.521119,
          45.534253,
          46.7811331,
          45.542738,
          46.85565089999999,
          46.776897600000005,
          45.4932145,
          46.8092919,
          45.4900488,
          45.502466,
          46.804817,
          45.4795202,
          45.4542851,
          46.84520070000001,
          46.84520070000001,
          46.8522891,
          46.8722702,
          45.4567435,
          46.7719696,
          45.53994960000001,
          45.5318684,
          45.492821,
          45.529902299999996,
          46.5612778,
          45.55066729999999,
          46.9369784,
          46.856569799999995,
          45.450032,
          46.8551939,
          45.552327399999996,
          45.5142687,
          45.524306599999996,
          45.5268962,
          45.526566700000004,
          46.8450715,
          45.5528086,
          45.5429042,
          45.542845899999996,
          48.2365576,
          45.5505007,
          46.8087497,
          46.783583,
          45.5350129,
          45.537564,
          45.517827200000006,
          45.75375089999999,
          46.8344965,
          48.439182200000005,
          45.549955,
          45.5250239,
          45.4796918,
          46.8235945,
          45.534876000000004,
          45.5213391,
          45.521978999999995,
          46.843644700000006,
          46.843644700000006,
          45.5393501,
          46.5648117,
          45.5693077,
          45.496774,
          45.7316726,
          45.496595500000005,
          45.536658200000005,
          45.5082028,
          45.5315158,
          45.5017649,
          45.534698999999996,
          48.455566,
          45.5272924,
          45.4897153,
          45.4930025,
          46.786974900000004,
          45.5309797,
          45.5203464,
          45.4971662,
          45.5331963,
          45.5515612,
          45.485633,
          45.485513700000006,
          45.537431700000006,
          45.3959028,
          45.5440433,
          46.788962299999994,
          45.754271100000004,
          45.5195213,
          45.4969124,
          45.5107939,
          45.5317259,
          46.8143924,
          45.498894899999996,
          46.5422731,
          45.5542131,
          45.5333422,
          46.55516,
          45.528628999999995,
          45.528628999999995,
          46.8069329,
          46.821966499999995,
          45.54108970000001,
          45.481876,
          45.53576079999999,
          45.533130799999995,
          45.503026,
          48.235513,
          48.2253883,
          45.5168907,
          45.5156631,
          45.5156631,
          45.4866434,
          45.5311878,
          45.49601989999999,
          45.477589,
          45.5663616,
          45.560926,
          45.4898119,
          46.784278,
          46.8581844,
          46.8581844,
          45.529177600000004,
          45.5178516,
          45.5133421,
          45.490212299999996,
          46.7944508,
          45.5368341,
          45.7562191,
          45.7563598,
          45.51773920000001,
          45.481313,
          45.4530656,
          45.5012294,
          45.5379559,
          45.477033,
          45.468262,
          45.490049299999995,
          45.48472460000001,
          46.7785919,
          45.763783200000006,
          45.4796471,
          46.8332331,
          46.8695021,
          45.507745899999996,
          45.554871,
          45.5055465,
          45.504901600000004,
          45.494169,
          45.4980453,
          45.56889279999999,
          46.7604763,
          45.504557899999995,
          45.480883,
          45.5256855,
          45.7447533,
          46.8771472,
          45.509780299999996,
          45.525792100000004,
          45.5344458,
          46.804823799999994,
          46.856667,
          45.454977500000005,
          45.4951698,
          45.4869285,
          45.508578,
          45.5200805,
          45.5050038,
          45.505033000000005,
          46.8568283,
          45.470028899999996,
          45.5003917,
          45.514143,
          45.5600571,
          45.484015500000005,
          45.546814700000006,
          45.546814700000006,
          45.493238700000006,
          45.496565000000004,
          45.5129284,
          45.4021901,
          45.5239876,
          45.4977411,
          45.5023311,
          45.4943555,
          45.5360459,
          45.5238623,
          46.8394672,
          45.4815748,
          45.5395375,
          45.4946306,
          46.8258626,
          45.4766476,
          45.4795946,
          45.533874100000006,
          45.471171000000005,
          46.861517299999996,
          45.5400785,
          45.517010799999994,
          45.4767494,
          45.52669,
          45.511224600000006,
          45.519768299999996,
          45.5218613,
          45.493763200000004,
          45.747415999999994,
          45.5556408,
          45.5245327,
          45.519234000000004,
          45.5516707,
          45.497184000000004,
          46.8151085,
          45.532654,
          45.5235987,
          45.494941100000005,
          46.902625,
          45.5632434,
          45.528338899999994,
          45.494852,
          46.745000299999994,
          46.8153193,
          45.550391999999995,
          48.4631258,
          45.541035,
          46.6153338,
          45.46423729999999,
          45.5495882,
          45.518864,
          45.550095,
          46.88483,
          45.5566943,
          45.5283322,
          46.860625399999996,
          46.860098,
          45.509869,
          45.536665899999996,
          45.530779700000004,
          46.8873559,
          46.80317410000001,
          45.495802399999995,
          46.8437945,
          45.545920200000005,
          45.4961325,
          45.5456061,
          45.5176623,
          46.8733979,
          45.4895056,
          45.5339008,
          45.54084279999999,
          46.6099552,
          45.532303000000006,
          45.534634999999994,
          46.826036,
          45.527745700000004,
          45.5326372,
          45.496038,
          45.4955445,
          45.4960371,
          45.519121999999996,
          45.5039643,
          46.863359100000004,
          45.4686961,
          45.5115088,
          46.7955387,
          48.11261,
          48.224968200000006,
          46.852912700000005,
          48.2467264,
          45.494978,
          45.525807,
          45.547503799999994,
          45.5269939,
          46.76546,
          46.7619667,
          45.5082209,
          45.5264994,
          45.548671,
          45.522403499999996,
          45.4970075,
          45.487836,
          45.502275,
          45.5124685,
          45.4740183,
          45.53753,
          45.4865467,
          45.5657469,
          45.5124261,
          45.479726,
          45.479726,
          46.808808899999995,
          45.53353679999999,
          45.480138700000005,
          46.6129295,
          45.5301523,
          45.517559000000006,
          45.546162,
          45.5242056,
          45.4721493,
          45.543358399999995,
          45.543358399999995,
          45.543243200000006,
          45.496648,
          46.902437299999995,
          45.742263,
          46.857420399999995,
          45.5056339,
          45.4719326,
          45.730469299999996,
          45.7304989,
          45.516799299999995,
          45.53432479999999,
          45.557938,
          46.8113555,
          45.537330499999996,
          45.495380700000005,
          45.50564489999999,
          45.4970434,
          45.4873667,
          45.51847,
          45.5335848,
          45.5277982,
          45.7394641,
          45.498195,
          45.518161299999996,
          46.75624129999999,
          45.494978,
          45.5252912,
          45.535784,
          45.5073536,
          45.507476399999994,
          45.7418553,
          45.493402,
          48.458462899999994,
          46.769274200000005,
          46.7692001,
          46.773506700000006,
          45.7316539,
          45.480728000000006,
          46.8632573,
          46.751738,
          46.518755299999995,
          45.5589552,
          45.4949629,
          45.408564,
          45.5382561,
          45.7479626,
          46.804678100000004,
          45.551078499999996,
          45.4848375,
          46.829057899999995,
          45.570974,
          45.5082563,
          45.5502591,
          45.4985403,
          46.826283399999994,
          45.4665521,
          45.552158,
          45.5009341,
          45.5009341,
          45.5400175,
          45.484879299999996,
          45.484796,
          45.54007360000001,
          46.793140799999996,
          46.81007279999999,
          45.7540995,
          45.753891700000004,
          45.4973237,
          45.546881,
          45.523676200000004,
          46.8164585,
          45.5219939,
          45.554595,
          45.4593881,
          45.5224701,
          46.62647570000001,
          45.453877,
          45.482394,
          46.7867359,
          46.78651,
          46.85127670000001,
          45.532438,
          48.2380375,
          48.238058,
          45.482538700000006,
          46.8482421,
          45.5067549,
          45.521041,
          45.5454844,
          45.557590600000005,
          46.8673654,
          46.9119927,
          45.514911,
          45.4680943,
          45.511586,
          45.511586,
          46.856242,
          45.5241071,
          45.467655,
          46.76525,
          46.9511229,
          45.4704075,
          46.8231631,
          45.5053299,
          45.4044896,
          45.540308,
          45.538722,
          46.865754200000005,
          45.5380399,
          45.535973799999994,
          45.535982000000004,
          45.547357299999994,
          45.5471946,
          46.86325720000001,
          48.2379672,
          48.241506,
          45.5154652,
          46.7706734,
          45.4899305,
          45.5139461,
          45.537584499999994,
          45.568646,
          46.556369000000004,
          45.5296198,
          46.6152281,
          45.535304,
          45.520773299999995,
          45.578961299999996,
          45.565206599999996,
          45.474103899999996,
          45.516273999999996,
          45.5585331,
          45.50837979999999,
          45.4805,
          45.467577,
          45.5657722,
          45.5463631,
          45.473974,
          45.4592487,
          45.522828999999994,
          46.504804,
          45.465649,
          45.526945899999994,
          46.857697200000004,
          48.236205,
          45.481625,
          45.54544129999999,
          45.517083,
          45.5186,
          45.528749,
          45.5025099,
          45.71794379999999,
          48.448224200000006,
          45.5335244,
          45.5303266,
          45.5369782,
          45.5182228,
          45.5180292,
          45.4939814,
          46.888185299999996,
          45.477993,
          46.930354,
          45.476821,
          45.4596255,
          45.469807,
          45.7560065,
          45.5584948,
          45.5133089,
          46.806132,
          46.854695899999996,
          46.8223804,
          46.773587899999995,
          45.5221025,
          45.506544700000006,
          45.4918815,
          45.54352720000001,
          45.5294081,
          45.566800799999996,
          46.7931814,
          46.89884,
          46.810331,
          45.5392528,
          45.570618700000004,
          45.5522214,
          46.812938,
          46.812938,
          45.5171479,
          45.485761100000005,
          46.8155711,
          45.519611499999996,
          45.50238220000001,
          45.5018406,
          45.505660999999996,
          45.529362899999995,
          45.5397351,
          45.5448164,
          45.456184,
          45.4927815,
          45.457285,
          45.5116604,
          45.54374,
          46.8079537,
          45.4542961,
          45.475897100000005,
          46.809899,
          46.827163,
          46.8088338,
          46.8752345,
          46.777074,
          46.813363,
          46.8765528,
          46.814886,
          46.55307,
          45.729974799999994,
          45.5355194,
          45.50689129999999,
          45.5481052,
          46.877209,
          45.4934177,
          46.847714,
          45.5299652,
          45.7586407,
          46.916613,
          46.8779,
          46.8101841,
          45.5310152,
          45.5067196,
          46.8758438,
          46.769966499999995,
          46.7570205,
          46.8030531,
          45.521090799999996,
          46.8105929,
          45.5177773,
          45.5281589,
          45.500331200000005,
          45.4816755,
          45.742940999999995,
          45.504344399999994,
          45.519014299999995,
          45.4583407,
          48.2392679,
          46.8711612,
          46.808614399999996,
          46.7582437,
          46.839818,
          46.8593017,
          46.886892100000004,
          46.8881818,
          46.760380700000006,
          46.8177823,
          45.7574496,
          46.8166991,
          45.4955477
         ],
         "lon": [
          -73.597075,
          -73.568175,
          -68.4706861,
          -71.3561663,
          -73.570841,
          -73.44680859999998,
          -71.21863990000001,
          -73.603989,
          -73.5781092,
          -71.2141851,
          -73.55699090000002,
          -73.5959721,
          -71.1801463,
          -73.5821607,
          -73.6259151,
          -79.0310436,
          -73.5560497,
          -73.6306253,
          -73.5741421,
          -73.5748868,
          -73.57434040000001,
          -73.57500329999999,
          -73.57500329999999,
          -71.95428290000001,
          -68.5080816,
          -73.6245821,
          -73.5946095,
          -73.5610195,
          -72.7383561,
          -71.23993,
          -73.6471295,
          -73.5924047,
          -73.65558670000001,
          -73.5801377,
          -73.46628709999999,
          -71.2471732,
          -73.4649375,
          -73.6005277,
          -73.6035845,
          -73.6313923,
          -73.5710036,
          -73.57139240000001,
          -73.5878873,
          -73.5882083,
          -73.6327222,
          -73.579699,
          -73.5796493,
          -73.505356,
          -72.6936862,
          -73.667276,
          -73.5809405,
          -73.4630257,
          -79.0406838,
          -73.6085368,
          -73.5065236,
          -72.7088415,
          -73.58737540000001,
          -73.577163,
          -73.4197238,
          -71.239331,
          -73.57857,
          -73.5831545,
          -72.7634128,
          -71.2439177,
          -71.27653149999999,
          -73.55881240000001,
          -73.5641863,
          -73.4105832,
          -68.5839784,
          -73.4772373,
          -73.6372269,
          -73.5880042,
          -73.49157220000001,
          -71.2574357,
          -73.5721152,
          -73.6058333,
          -73.5628875,
          -73.6535734,
          -73.567613,
          -73.5675448,
          -73.5664966,
          -73.5662941,
          -71.2262251,
          -73.47600870000001,
          -72.7447355,
          -71.2708805,
          -71.22132459999999,
          -71.31104559999999,
          -71.2682532,
          -71.2792974,
          -71.2242526,
          -73.594378,
          -73.6780625,
          -71.3198289,
          -71.31950429999999,
          -73.5819472,
          -72.7037228,
          -73.5048386,
          -73.48639849999999,
          -73.55597440000001,
          -73.58765600000001,
          -73.6094541,
          -73.58182240000001,
          -73.5669386,
          -73.5519675,
          -73.4461179,
          -71.2072578,
          -73.58839870000001,
          -73.64259200000001,
          -73.61261209999999,
          -71.23657,
          -73.572264,
          -71.24188609999999,
          -71.2260403,
          -73.698998,
          -73.4810832,
          -73.59432679999999,
          -73.640073,
          -72.7384109,
          -71.242154,
          -71.2396021,
          -71.2550438,
          -71.18925329999999,
          -73.5578058,
          -73.5851377,
          -73.5850035,
          -71.2260486,
          -73.4784689,
          -73.5798516,
          -73.6199188,
          -73.63461190000001,
          -73.63461190000001,
          -73.6504808,
          -73.6390809,
          -73.5664947,
          -73.5714549,
          -73.5596293,
          -73.57493149999999,
          -73.5607568,
          -73.582151,
          -73.52255699999999,
          -72.7620632,
          -73.4310287,
          -73.4677769,
          -73.5463929,
          -71.366122,
          -71.4113318,
          -73.56652240000001,
          -73.6490685,
          -73.5569217,
          -73.41653029999999,
          -73.593746,
          -71.3560875,
          -71.3560875,
          -68.51264520000001,
          -72.7521273,
          -73.566039,
          -71.2668179,
          -73.4233872,
          -73.58202759999999,
          -73.58121650000001,
          -73.5631319,
          -73.58537700000001,
          -73.595479,
          -73.5585829,
          -73.5773074,
          -73.5734675,
          -73.6158029,
          -73.6368367,
          -71.202382,
          -73.5060375,
          -73.63933270000001,
          -73.639542,
          -73.58465840000001,
          -73.55331600000001,
          -73.55836500000001,
          -73.5796571,
          -73.5797907,
          -73.59605450000001,
          -73.6317868,
          -71.2209063,
          -71.2825827,
          -73.5681311,
          -79.0373917,
          -71.3152547,
          -73.4297636,
          -71.2894152,
          -73.6394618,
          -73.5652994,
          -73.45380490000001,
          -73.5958717,
          -71.2334467,
          -73.5508902,
          -73.5508902,
          -73.4659162,
          -73.568896,
          -73.57027,
          -73.5597293,
          -73.5591697,
          -71.1998508,
          -71.2175696,
          -73.5860847,
          -71.20704,
          -71.21335069999999,
          -71.237315,
          -72.74685759999998,
          -71.28361290000001,
          -71.28361290000001,
          -73.556097,
          -73.5559002,
          -73.556449,
          -73.631548,
          -73.45300340000001,
          -71.28921590000002,
          -73.62952740000001,
          -73.63958670000001,
          -73.5652013,
          -73.5652013,
          -72.7460205,
          -73.57234790000001,
          -71.2935536,
          -73.62167020000001,
          -73.5779496,
          -73.57810400000001,
          -73.55254509999999,
          -73.5851218,
          -71.33027659999999,
          -73.5139573,
          -73.4581679,
          -73.5912709,
          -71.25910429999999,
          -73.48770970000001,
          -73.59746170000001,
          -73.58282,
          -71.3305868,
          -71.1852277,
          -78.99260600000001,
          -73.5816539,
          -71.1499358,
          -73.4757013,
          -73.6360684,
          -73.3993508,
          -73.424696,
          -73.5793948,
          -71.23860970000001,
          -73.58094799999999,
          -71.25192890000001,
          -73.65343680000001,
          -73.45098759999999,
          -73.4510315,
          -71.22485970000001,
          -73.583371,
          -73.6375514,
          -79.2480642,
          -73.59957800000001,
          -73.5743372,
          -73.7130206,
          -71.43041,
          -71.22669920000001,
          -73.60373,
          -73.598789,
          -73.4891109,
          -73.44069870000001,
          -72.7446933,
          -73.55248399999999,
          -73.5790809,
          -73.579291,
          -73.575664,
          -73.49160390000002,
          -71.2314313,
          -73.5562644,
          -73.5552553,
          -73.4676372,
          -73.59485699999999,
          -73.5654928,
          -73.61202,
          -71.2226811,
          -72.7429133,
          -73.55902309999999,
          -73.4624333,
          -73.59225179999999,
          -73.4481007,
          -71.2122832,
          -73.66917,
          -73.59090490000001,
          -73.565247,
          -73.48445219999999,
          -73.48445219999999,
          -73.580991,
          -73.6588939,
          -73.59824,
          -73.69412729999999,
          -73.4443063,
          -73.6460511,
          -73.57673790000001,
          -73.5912281,
          -71.4675253,
          -71.4675253,
          -73.54737970000001,
          -73.5810324,
          -73.601011,
          -73.44454250000001,
          -73.6510092,
          -73.5597685,
          -73.5557197,
          -73.5979238,
          -71.2459653,
          -73.4962203,
          -73.59350620000001,
          -71.2207915,
          -73.5951189,
          -73.55351359999999,
          -71.23470809999999,
          -68.53344,
          -73.572676,
          -73.672741,
          -73.4798282,
          -71.23089,
          -71.2286708,
          -73.58293459999999,
          -73.61048000000001,
          -73.596521,
          -73.5603887,
          -73.4601421,
          -71.2273699,
          -73.465352,
          -78.996684,
          -73.6442381,
          -73.6442402,
          -73.5617125,
          -73.572434,
          -73.5566077,
          -73.5759925,
          -71.23976400000001,
          -73.5710036,
          -73.7137765,
          -73.5693497,
          -73.6294296,
          -73.42542209999999,
          -73.5545852,
          -73.55460040000001,
          -73.6499702,
          -71.2527723,
          -71.228911,
          -73.6786555,
          -73.5601848,
          -73.60403769999999,
          -78.3819344,
          -73.55159990000001,
          -79.02551650000001,
          -73.57762059999999,
          -73.6409637,
          -73.4795498,
          -73.5831156,
          -73.5586889,
          -73.4918641,
          -71.2499304,
          -71.2499304,
          -73.608739,
          -73.5562755,
          -71.312725,
          -71.2102162,
          -73.5616546,
          -73.5593637,
          -73.5681434,
          -73.57782270000001,
          -73.557264,
          -71.31018449999999,
          -73.6354679,
          -73.5728803,
          -68.5222787,
          -73.65311700000001,
          -73.5749733,
          -73.4782079,
          -73.59792879999999,
          -73.6678245,
          -73.5859921,
          -73.5854084,
          -73.58587,
          -73.5056314,
          -71.21184840000001,
          -73.6657195,
          -72.7538881,
          -73.454829,
          -73.57201640000001,
          -73.5707853,
          -73.5659651,
          -73.5663859,
          -71.3295477,
          -73.4875891,
          -73.5971042,
          -73.5762569,
          -71.260928,
          -73.47815209999999,
          -71.36933590000001,
          -73.56984179999999,
          -73.5637291,
          -71.3508571,
          -71.4318653,
          -73.655971,
          -73.570317,
          -68.53597099999999,
          -73.55760129999999,
          -73.55760129999999,
          -71.23601590000001,
          -71.2549883,
          -71.2700831,
          -71.4179855,
          -71.2146495,
          -71.3308406,
          -71.3308406,
          -71.2313633,
          -68.5243247,
          -73.4130703,
          -73.5782733,
          -73.6130267,
          -73.6130267,
          -73.6133863,
          -73.6131821,
          -73.4816765,
          -73.5735681,
          -73.5562303,
          -73.5652647,
          -71.3505757,
          -73.5694464,
          -71.2309801,
          -71.3521433,
          -73.64585,
          -71.2775625,
          -71.1594917,
          -73.5516038,
          -71.8979286,
          -71.332755,
          -73.415374,
          -71.3384958,
          -71.33761609999999,
          -73.5867022,
          -73.6537623,
          -73.5714431,
          -71.2682099,
          -73.72098100000001,
          -73.5752449,
          -68.5502473,
          -73.6077662,
          -73.57325859999999,
          -72.7612965,
          -73.5758915,
          -71.283982,
          -71.2545171,
          -73.5874174,
          -71.25735300000001,
          -73.611864,
          -73.61232690000001,
          -73.55962629999999,
          -73.4736863,
          -73.5667297,
          -73.5722427,
          -73.4486802,
          -73.55868620000001,
          -71.2591147,
          -73.5724235,
          -73.4974959,
          -71.31928070000001,
          -73.4825637,
          -73.57817990000001,
          -72.7449814,
          -71.29082220000001,
          -73.48935999999999,
          -73.444911,
          -73.5538724,
          -71.2397935,
          -71.2529572,
          -73.62851590000001,
          -73.6303094,
          -71.1952967,
          -72.7463848,
          -71.2443987,
          -71.2281651,
          -73.6191179,
          -73.5896475,
          -73.57841429999999,
          -73.5945304,
          -73.5702403,
          -73.606234,
          -71.2567028,
          -73.4725306,
          -73.5939745,
          -73.5941785,
          -71.18847530000001,
          -73.63104150000001,
          -71.30012959999999,
          -71.29990140000001,
          -73.59025279999999,
          -73.61403059999999,
          -71.14183840000001,
          -73.4675802,
          -73.59914479999999,
          -71.3093982,
          -73.57314699999999,
          -73.5759468,
          -73.5757894,
          -71.1997786,
          -73.4588991,
          -71.281651,
          -79.03271009999999,
          -73.5949315,
          -73.5780957,
          -73.5687441,
          -73.5711319,
          -73.5221767,
          -73.5221767,
          -72.73174759999999,
          -71.3271611,
          -71.243925,
          -73.45729,
          -73.56202990000001,
          -73.562792,
          -73.4553264,
          -68.5168564,
          -73.6228009,
          -73.56207140000001,
          -73.594723,
          -71.2383808,
          -73.5854838,
          -73.5641308,
          -73.4681318,
          -73.708365,
          -73.6314699,
          -71.2847364,
          -73.6347163,
          -73.5738988,
          -73.65427700000001,
          -73.6225469,
          -73.5991125,
          -71.349594,
          -73.61165720000001,
          -73.56443900000001,
          -73.57468940000001,
          -71.21665949999999,
          -71.2107142,
          -68.5175338,
          -73.65494759999999,
          -73.42910690000001,
          -73.5801119,
          -71.26103359999999,
          -71.26103359999999,
          -73.49704090000002,
          -73.602535,
          -71.3703135,
          -73.4545769,
          -73.5904315,
          -71.3561721,
          -72.6969848,
          -79.12711230000001,
          -71.22728520000001,
          -73.58347380000001,
          -68.5731844,
          -73.6244431,
          -73.55218690000001,
          -73.4184076,
          -73.4184076,
          -71.2993801,
          -71.37558990000001,
          -73.6046054,
          -73.67055500000001,
          -71.3697144,
          -73.5881326,
          -73.5903572,
          -73.4052039,
          -71.226642,
          -73.41316590000001,
          -73.5860052,
          -73.5860052,
          -73.5860052,
          -73.5860052,
          -68.46069920000001,
          -73.5608672,
          -71.2224652,
          -73.6004696,
          -71.24458100000001,
          -73.5827733,
          -71.3301546,
          -71.2250003,
          -73.61941170000001,
          -71.3473075,
          -73.49942469999999,
          -71.1668769,
          -73.57015229999999,
          -73.6669165,
          -73.568495,
          -73.722268,
          -73.4823959,
          -73.578232,
          -73.586252,
          -73.4980915,
          -71.354394,
          -71.1958115,
          -71.19613829999999,
          -71.20029790000001,
          -73.5873686,
          -71.2414885,
          -73.585753,
          -73.6123242,
          -71.3009993,
          -73.577831,
          -71.414864,
          -71.30869659999999,
          -73.5647918,
          -71.24029909999999,
          -73.4320878,
          -73.57130409999999,
          -71.2330132,
          -73.5769653,
          -73.5894464,
          -71.2166026,
          -71.2166026,
          -71.23875859999998,
          -71.1941188,
          -73.58195450000001,
          -71.2821224,
          -73.613104,
          -73.56504809999998,
          -73.5801515,
          -73.5608224,
          -72.7410393,
          -73.65653409999999,
          -71.3099686,
          -71.34706800000001,
          -73.598527,
          -71.36152320000001,
          -73.57583690000001,
          -73.4632093,
          -73.4840879,
          -73.58990909999999,
          -73.5899255,
          -71.2513212,
          -73.6618543,
          -73.58846070000001,
          -73.5884701,
          -79.0202533,
          -73.6436638,
          -71.2256145,
          -71.2884349,
          -73.60921009999998,
          -73.700755,
          -73.47975059999999,
          -73.4404939,
          -71.2495125,
          -68.5545728,
          -73.57391209999999,
          -73.60411850000001,
          -73.4679727,
          -71.35458179999999,
          -73.4703832,
          -73.4583318,
          -73.4596895,
          -71.2473091,
          -71.2473091,
          -73.4724158,
          -72.74574109999999,
          -73.5831872,
          -73.574496,
          -73.4606625,
          -73.4131913,
          -73.5983696,
          -73.5680378,
          -73.6128945,
          -73.57697900000001,
          -73.569848,
          -68.49578199999999,
          -73.5863428,
          -73.58164079999999,
          -73.4854656,
          -71.34908829999999,
          -73.6076002,
          -73.6154628,
          -73.6233777,
          -73.61443390000001,
          -73.5795729,
          -73.627811,
          -73.627969,
          -73.6146725,
          -71.89492059999999,
          -73.5778725,
          -71.2693031,
          -73.46940090000001,
          -73.58615479999999,
          -73.4768992,
          -73.56280290000001,
          -73.60682259999999,
          -71.22119,
          -73.6486865,
          -72.7464423,
          -73.5598682,
          -73.5020229,
          -72.74876,
          -73.51549140000002,
          -73.51549140000002,
          -71.23543070000001,
          -71.2287233,
          -73.5595115,
          -73.388508,
          -73.50742120000001,
          -73.49559659999998,
          -73.555221,
          -79.0150703,
          -79.0071946,
          -73.5733133,
          -73.49030259999999,
          -73.49030259999999,
          -73.57593390000001,
          -73.5505669,
          -73.5765625,
          -73.6151732,
          -73.65996319999999,
          -73.65061490000001,
          -73.58633859999999,
          -71.24772469999999,
          -71.4104092,
          -71.4104092,
          -73.5124745,
          -73.55736440000001,
          -73.5693386,
          -73.46690749999999,
          -71.2568677,
          -73.48587690000001,
          -73.46370290000002,
          -73.4464871,
          -73.5585045,
          -73.5774552,
          -73.5844985,
          -73.6323668,
          -73.698875,
          -73.5864429,
          -73.637689,
          -73.6424751,
          -73.6330202,
          -71.369704,
          -73.4314755,
          -73.6240935,
          -71.2775556,
          -71.2574126,
          -73.56952659999999,
          -73.66892299999999,
          -73.5558254,
          -73.5562123,
          -73.55879300000001,
          -73.48095500000001,
          -73.64542209999999,
          -71.3201392,
          -73.57179040000001,
          -73.57812709999999,
          -73.4719994,
          -73.45484240000002,
          -71.1579152,
          -73.564066,
          -73.581627,
          -73.578434,
          -71.2271265,
          -71.33932759999999,
          -73.6325126,
          -73.6555993,
          -73.5788829,
          -73.4948907,
          -73.5763887,
          -73.5731693,
          -73.57309000000001,
          -71.3552087,
          -73.616354,
          -73.6615765,
          -73.572699,
          -73.57375909999999,
          -73.5802715,
          -73.6388975,
          -73.6388975,
          -73.56421540000001,
          -73.6540058,
          -73.4993489,
          -71.9571767,
          -73.5760208,
          -73.5846942,
          -73.6378368,
          -73.6079561,
          -73.56080920000001,
          -73.55345820000001,
          -71.2244733,
          -73.386087,
          -73.6537514,
          -73.5584113,
          -71.24340040000001,
          -73.614551,
          -73.6197772,
          -73.559921,
          -73.6477572,
          -71.3561457,
          -73.6432698,
          -73.56721379999999,
          -73.62197309999999,
          -73.573784,
          -73.57664,
          -73.45762090000001,
          -73.5891696,
          -73.47833409999998,
          -73.46093499999999,
          -73.56760009999999,
          -73.5816487,
          -73.555727,
          -73.48376,
          -73.580278,
          -71.208333,
          -73.6066,
          -73.60574720000001,
          -73.6198663,
          -71.30857270000001,
          -73.5788755,
          -73.559961,
          -73.58046,
          -71.455239,
          -71.2256819,
          -73.65100000000001,
          -68.5174693,
          -73.48899999999999,
          -72.73626440000001,
          -73.62892590000001,
          -73.6709877,
          -73.592045,
          -73.5833652,
          -71.159253,
          -73.66833390000001,
          -73.7007541,
          -71.217647,
          -71.21676500000001,
          -73.57091690000001,
          -73.5711908,
          -73.5544985,
          -71.17047559999999,
          -71.3417518,
          -73.57262659999999,
          -71.2304185,
          -73.59864909999999,
          -73.55502840000001,
          -73.6609783,
          -73.6176682,
          -71.2746465,
          -73.6430795,
          -73.4666512,
          -73.5913995,
          -72.6994932,
          -73.559666,
          -73.5614329,
          -71.229244,
          -73.49037709999999,
          -73.4712168,
          -73.5810623,
          -73.5817343,
          -73.5807182,
          -73.58756,
          -73.5722865,
          -71.42973359999999,
          -73.6095465,
          -73.574354,
          -71.2519148,
          -79.15131,
          -79.000641,
          -71.2030412,
          -79.0197512,
          -73.6529853,
          -73.551683,
          -73.5791606,
          -73.58635579999999,
          -71.3089437,
          -71.33388520000001,
          -73.55977320000001,
          -73.4751156,
          -73.64624599999999,
          -73.55154590000001,
          -73.5530998,
          -73.3825644,
          -73.4269,
          -73.5700959,
          -73.60866120000001,
          -73.556945,
          -73.636881,
          -73.6469577,
          -73.561852,
          -73.571201,
          -73.571201,
          -71.3832074,
          -73.65623190000001,
          -73.5668124,
          -72.7120308,
          -73.5986257,
          -73.49717120000001,
          -73.586159,
          -73.47324499999999,
          -73.5877959,
          -73.59755729999999,
          -73.59755729999999,
          -73.59714040000001,
          -73.5822882,
          -71.36719740000001,
          -73.4586568,
          -71.2650052,
          -73.5534447,
          -73.43844449999999,
          -73.4552527,
          -73.4553312,
          -73.5782679,
          -73.617998,
          -73.6594218,
          -71.23257,
          -73.57082940000001,
          -73.61959399999999,
          -73.5676757,
          -73.5763023,
          -73.47193309999999,
          -73.55588909999999,
          -73.49120400000001,
          -73.57974820000001,
          -73.445697,
          -73.577169,
          -73.58835859999999,
          -71.2985748,
          -73.613256,
          -73.5936214,
          -73.5550839,
          -73.5734805,
          -73.5736226,
          -73.454887,
          -73.5799609,
          -68.4972474,
          -71.3217104,
          -71.3215709,
          -71.3160467,
          -73.4532438,
          -73.5791859,
          -71.2681296,
          -71.37991120000001,
          -72.742998,
          -73.5724404,
          -73.476886,
          -71.87316,
          -73.655599,
          -73.45505849999999,
          -71.2267871,
          -73.6430891,
          -73.6287153,
          -71.2297821,
          -73.5673489,
          -73.57449759999999,
          -73.595652,
          -73.6268077,
          -71.2298903,
          -73.63985550000001,
          -73.593951,
          -73.5737683,
          -73.5737683,
          -73.47993659999999,
          -73.62789659999999,
          -73.62776099999999,
          -73.6115317,
          -71.2575432,
          -71.2195632,
          -73.46995290000001,
          -73.47027259999999,
          -73.6251458,
          -73.660262,
          -73.5520413,
          -71.2178434,
          -73.5594309,
          -73.58696859999999,
          -73.5964908,
          -73.55671600000001,
          -72.65063549999999,
          -73.5957931,
          -73.62725379999999,
          -71.2822859,
          -71.282286,
          -71.2501291,
          -73.656181,
          -79.02289959999999,
          -79.02282199999999,
          -73.58282559999999,
          -71.2545604,
          -73.56083220000001,
          -73.5753497,
          -73.5767013,
          -73.5692885,
          -71.37949590000001,
          -71.3341556,
          -73.574206,
          -73.3775975,
          -73.5665235,
          -73.5665235,
          -71.35383900000001,
          -73.55147209999998,
          -73.620779,
          -71.48729,
          -71.20757929999999,
          -73.6069733,
          -71.2608346,
          -73.6375737,
          -71.9512674,
          -73.612697,
          -73.6085707,
          -71.2152415,
          -73.6794271,
          -73.6132308,
          -73.613252,
          -73.660003,
          -73.6600383,
          -71.2695032,
          -79.0183101,
          -79.0197067,
          -73.5763138,
          -71.2849442,
          -73.4730747,
          -73.5732412,
          -73.61487840000001,
          -73.65288199999999,
          -72.750473,
          -73.57791390000001,
          -72.68910100000001,
          -73.57208879999999,
          -73.5634553,
          -73.6531902,
          -73.64809890000001,
          -73.5946102,
          -73.5773983,
          -73.5689605,
          -73.5709313,
          -73.5554,
          -73.622165,
          -73.47967340000001,
          -73.6032498,
          -73.60972199999999,
          -73.5987396,
          -73.612548,
          -72.7279529,
          -73.6246,
          -73.5771508,
          -71.41239190000002,
          -79.0153672,
          -73.579719,
          -73.57239100000001,
          -73.5895625,
          -73.5545,
          -73.584163,
          -73.63549920000001,
          -73.4717778,
          -68.53501379999999,
          -73.5741927,
          -73.4833564,
          -73.65145940000001,
          -73.57072600000001,
          -73.57028199999999,
          -73.4814693,
          -71.2685351,
          -73.583575,
          -71.34452390000001,
          -73.567489,
          -73.59625190000001,
          -73.591599,
          -73.4659798,
          -73.6665781,
          -73.484431,
          -71.24449190000001,
          -71.1902255,
          -71.3359665,
          -71.2790953,
          -73.4633968,
          -73.4473679,
          -73.6316131,
          -73.57629370000001,
          -73.57751800000001,
          -73.65473850000001,
          -71.2346333,
          -71.307011,
          -71.21963000000001,
          -73.5591824,
          -73.5722229,
          -73.5980665,
          -71.2279113,
          -71.2279113,
          -73.56836609999999,
          -73.62686479999999,
          -71.262048,
          -73.5834574,
          -73.5703859,
          -73.5701894,
          -73.5673556,
          -73.5604293,
          -73.5092348,
          -73.5624263,
          -73.600368,
          -73.5828752,
          -73.59307790000001,
          -73.5667932,
          -73.6060944,
          -71.3691058,
          -73.6347578,
          -73.6227887,
          -71.228047,
          -71.23076,
          -71.3498512,
          -71.2515599,
          -71.3585253,
          -71.226961,
          -71.28256379999999,
          -71.2517318,
          -72.74283299999999,
          -73.480808,
          -73.453637,
          -73.5525719,
          -73.64551490000001,
          -71.15613859999999,
          -73.6351324,
          -71.24320970000001,
          -73.5906733,
          -73.4614119,
          -71.3191609,
          -71.3408,
          -71.3201933,
          -73.72227679999999,
          -73.572599,
          -71.3274917,
          -71.31827870000001,
          -71.37537459999999,
          -71.3319321,
          -73.585367,
          -71.2795098,
          -73.5737989,
          -73.4780073,
          -73.6283423,
          -73.5784823,
          -73.468735,
          -73.5630762,
          -73.5868465,
          -73.588099,
          -79.12698470000001,
          -71.1967984,
          -71.367333,
          -71.35061230000001,
          -71.395688,
          -71.4242508,
          -71.5169218,
          -71.165113,
          -71.3637401,
          -71.2532137,
          -73.4799655,
          -71.2025507,
          -73.4739456
         ],
         "marker": {
          "color": [
           "blue"
          ],
          "size": 5
         },
         "mode": "markers",
         "type": "scattermapbox"
        }
       ],
       "layout": {
        "mapbox": {
         "center": {
          "lat": 45.5,
          "lon": -73.6
         },
         "layers": [
          {
           "below": "traces",
           "color": "royalblue",
           "source": {
            "features": [
             {
              "geometry": {
               "coordinates": [
                [
                 [
                  -73.597075,
                  45.537593
                 ],
                 [
                  -73.570841,
                  45.510310700000005
                 ],
                 [
                  -73.5781092,
                  45.518215399999995
                 ],
                 [
                  -73.55699090000002,
                  45.5144682
                 ],
                 [
                  -73.5959721,
                  45.5336184
                 ],
                 [
                  -73.5821607,
                  45.535530200000004
                 ],
                 [
                  -73.5560497,
                  45.5188044
                 ],
                 [
                  -73.57500329999999,
                  45.510319
                 ],
                 [
                  -73.57500329999999,
                  45.510319
                 ],
                 [
                  -73.5946095,
                  45.5212833
                 ],
                 [
                  -73.6471295,
                  45.575587299999995
                 ],
                 [
                  -73.65558670000001,
                  45.576084200000004
                 ],
                 [
                  -73.5801377,
                  45.5363773
                 ],
                 [
                  -73.6005277,
                  45.5243434
                 ],
                 [
                  -73.6035845,
                  45.5255925
                 ],
                 [
                  -73.5878873,
                  45.5426053
                 ],
                 [
                  -73.5882083,
                  45.544699
                 ],
                 [
                  -73.667276,
                  45.555593
                 ],
                 [
                  -73.5809405,
                  45.531281899999996
                 ],
                 [
                  -73.6085368,
                  45.530368200000005
                 ],
                 [
                  -73.5880042,
                  45.5408907
                 ],
                 [
                  -73.6058333,
                  45.5381124
                 ],
                 [
                  -73.5628875,
                  45.51985560000001
                 ],
                 [
                  -73.6535734,
                  45.5406272
                 ],
                 [
                  -73.5664966,
                  45.5166438
                 ],
                 [
                  -73.5662941,
                  45.5166229
                 ],
                 [
                  -73.594378,
                  45.5239867
                 ],
                 [
                  -73.5819472,
                  45.5301861
                 ],
                 [
                  -73.55597440000001,
                  45.515708000000004
                 ],
                 [
                  -73.58765600000001,
                  45.5288212
                 ],
                 [
                  -73.6094541,
                  45.534197799999994
                 ],
                 [
                  -73.58182240000001,
                  45.521857700000005
                 ],
                 [
                  -73.5669386,
                  45.5302597
                 ],
                 [
                  -73.5519675,
                  45.510577000000005
                 ],
                 [
                  -73.64259200000001,
                  45.5468442
                 ],
                 [
                  -73.572264,
                  45.514549
                 ],
                 [
                  -73.59432679999999,
                  45.535841299999994
                 ],
                 [
                  -73.5578058,
                  45.500174
                 ],
                 [
                  -73.5850035,
                  45.5218159
                 ],
                 [
                  -73.6199188,
                  45.5181027
                 ],
                 [
                  -73.6504808,
                  45.5446559
                 ],
                 [
                  -73.5596293,
                  45.5116006
                 ],
                 [
                  -73.57493149999999,
                  45.5215451
                 ],
                 [
                  -73.5607568,
                  45.502537100000005
                 ],
                 [
                  -73.5463929,
                  45.529302
                 ],
                 [
                  -73.6490685,
                  45.573932
                 ],
                 [
                  -73.5569217,
                  45.53825820000001
                 ],
                 [
                  -73.566039,
                  45.5110528
                 ],
                 [
                  -73.5631319,
                  45.5368631
                 ],
                 [
                  -73.5585829,
                  45.5269531
                 ],
                 [
                  -73.5773074,
                  45.53019320000001
                 ],
                 [
                  -73.6368367,
                  45.5583407
                 ],
                 [
                  -73.58465840000001,
                  45.5329753
                 ],
                 [
                  -73.55331600000001,
                  45.537753
                 ],
                 [
                  -73.59605450000001,
                  45.5339451
                 ],
                 [
                  -73.5681311,
                  45.51900379999999
                 ],
                 [
                  -73.5958717,
                  45.5191395
                 ],
                 [
                  -73.5508902,
                  45.533899
                 ],
                 [
                  -73.5508902,
                  45.533899
                 ],
                 [
                  -73.5597293,
                  45.516142200000004
                 ],
                 [
                  -73.5591697,
                  45.5165703
                 ],
                 [
                  -73.556097,
                  45.505953000000005
                 ],
                 [
                  -73.5559002,
                  45.5060225
                 ],
                 [
                  -73.556449,
                  45.506171
                 ],
                 [
                  -73.5779496,
                  45.5186729
                 ],
                 [
                  -73.57810400000001,
                  45.518539000000004
                 ],
                 [
                  -73.55254509999999,
                  45.533414
                 ],
                 [
                  -73.5912709,
                  45.5441377
                 ],
                 [
                  -73.65343680000001,
                  45.5546445
                 ],
                 [
                  -73.583371,
                  45.5374158
                 ],
                 [
                  -73.6375514,
                  45.5586091
                 ],
                 [
                  -73.59957800000001,
                  45.544746
                 ],
                 [
                  -73.60373,
                  45.5350677
                 ],
                 [
                  -73.55248399999999,
                  45.525432
                 ],
                 [
                  -73.5790809,
                  45.5278229
                 ],
                 [
                  -73.579291,
                  45.527440500000004
                 ],
                 [
                  -73.59485699999999,
                  45.5237369
                 ],
                 [
                  -73.5654928,
                  45.5312557
                 ],
                 [
                  -73.59225179999999,
                  45.517737700000005
                 ],
                 [
                  -73.6588939,
                  45.558859999999996
                 ],
                 [
                  -73.59824,
                  45.5416727
                 ],
                 [
                  -73.57673790000001,
                  45.5308487
                 ],
                 [
                  -73.5912281,
                  45.5283228
                 ],
                 [
                  -73.54737970000001,
                  45.529880299999995
                 ],
                 [
                  -73.5810324,
                  45.5262667
                 ],
                 [
                  -73.6510092,
                  45.5668191
                 ],
                 [
                  -73.5597685,
                  45.5149045
                 ],
                 [
                  -73.5557197,
                  45.5294658
                 ],
                 [
                  -73.5979238,
                  45.5203702
                 ],
                 [
                  -73.5951189,
                  45.5235286
                 ],
                 [
                  -73.572676,
                  45.5094278
                 ],
                 [
                  -73.596521,
                  45.532497
                 ],
                 [
                  -73.5603887,
                  45.5238193
                 ],
                 [
                  -73.5617125,
                  45.5224639
                 ],
                 [
                  -73.5759925,
                  45.5103999
                 ],
                 [
                  -73.5545852,
                  45.5232782
                 ],
                 [
                  -73.55460040000001,
                  45.523292299999994
                 ],
                 [
                  -73.6499702,
                  45.5728253
                 ],
                 [
                  -73.5601848,
                  45.519031
                 ],
                 [
                  -73.60403769999999,
                  45.5453854
                 ],
                 [
                  -73.55159990000001,
                  45.536
                 ],
                 [
                  -73.57762059999999,
                  45.5351599
                 ],
                 [
                  -73.5586889,
                  45.5357275
                 ],
                 [
                  -73.608739,
                  45.530136999999996
                 ],
                 [
                  -73.5616546,
                  45.509184000000005
                 ],
                 [
                  -73.5593637,
                  45.505461100000005
                 ],
                 [
                  -73.57782270000001,
                  45.5384088
                 ],
                 [
                  -73.557264,
                  45.533324
                 ],
                 [
                  -73.65311700000001,
                  45.567557799999996
                 ],
                 [
                  -73.59792879999999,
                  45.5256849
                 ],
                 [
                  -73.5971042,
                  45.5212682
                 ],
                 [
                  -73.5762569,
                  45.514066899999996
                 ],
                 [
                  -73.56984179999999,
                  45.5217339
                 ],
                 [
                  -73.5637291,
                  45.5192886
                 ],
                 [
                  -73.655971,
                  45.5520054
                 ],
                 [
                  -73.55760129999999,
                  45.516694
                 ],
                 [
                  -73.55760129999999,
                  45.516694
                 ],
                 [
                  -73.6130267,
                  45.5392036
                 ],
                 [
                  -73.6130267,
                  45.5392036
                 ],
                 [
                  -73.6133863,
                  45.539162899999994
                 ],
                 [
                  -73.6131821,
                  45.5389756
                 ],
                 [
                  -73.5562303,
                  45.5204736
                 ],
                 [
                  -73.5652647,
                  45.5154352
                 ],
                 [
                  -73.5516038,
                  45.523098100000006
                 ],
                 [
                  -73.5867022,
                  45.5298873
                 ],
                 [
                  -73.6077662,
                  45.5418565
                 ],
                 [
                  -73.55868620000001,
                  45.502846399999996
                 ],
                 [
                  -73.5538724,
                  45.5206831
                 ],
                 [
                  -73.5896475,
                  45.5422402
                 ],
                 [
                  -73.57841429999999,
                  45.5377919
                 ],
                 [
                  -73.5945304,
                  45.5450209
                 ],
                 [
                  -73.59914479999999,
                  45.5353317
                 ],
                 [
                  -73.5949315,
                  45.5252312
                 ],
                 [
                  -73.5687441,
                  45.535226200000004
                 ],
                 [
                  -73.56202990000001,
                  45.514609
                 ],
                 [
                  -73.562792,
                  45.5149552
                 ],
                 [
                  -73.5738988,
                  45.530392600000006
                 ],
                 [
                  -73.65427700000001,
                  45.5764597
                 ],
                 [
                  -73.5991125,
                  45.5406888
                 ],
                 [
                  -73.61165720000001,
                  45.5376778
                 ],
                 [
                  -73.65494759999999,
                  45.5390299
                 ],
                 [
                  -73.602535,
                  45.536491
                 ],
                 [
                  -73.55218690000001,
                  45.533141
                 ],
                 [
                  -73.6046054,
                  45.52491
                 ],
                 [
                  -73.5608672,
                  45.5012014
                 ],
                 [
                  -73.6004696,
                  45.538608
                 ],
                 [
                  -73.585753,
                  45.521119
                 ],
                 [
                  -73.6123242,
                  45.534253
                 ],
                 [
                  -73.613104,
                  45.53994960000001
                 ],
                 [
                  -73.56504809999998,
                  45.5318684
                 ],
                 [
                  -73.5608224,
                  45.529902299999996
                 ],
                 [
                  -73.58990909999999,
                  45.5268962
                 ],
                 [
                  -73.5899255,
                  45.526566700000004
                 ],
                 [
                  -73.6618543,
                  45.5528086
                 ],
                 [
                  -73.58846070000001,
                  45.5429042
                 ],
                 [
                  -73.5884701,
                  45.542845899999996
                 ],
                 [
                  -73.6436638,
                  45.5505007
                 ],
                 [
                  -73.60921009999998,
                  45.5350129
                 ],
                 [
                  -73.60411850000001,
                  45.5250239
                 ],
                 [
                  -73.5983696,
                  45.536658200000005
                 ],
                 [
                  -73.5680378,
                  45.5082028
                 ],
                 [
                  -73.6128945,
                  45.5315158
                 ],
                 [
                  -73.569848,
                  45.534698999999996
                 ],
                 [
                  -73.5863428,
                  45.5272924
                 ],
                 [
                  -73.6076002,
                  45.5309797
                 ],
                 [
                  -73.6154628,
                  45.5203464
                 ],
                 [
                  -73.61443390000001,
                  45.5331963
                 ],
                 [
                  -73.6146725,
                  45.537431700000006
                 ],
                 [
                  -73.58615479999999,
                  45.5195213
                 ],
                 [
                  -73.56280290000001,
                  45.5107939
                 ],
                 [
                  -73.60682259999999,
                  45.5317259
                 ],
                 [
                  -73.555221,
                  45.503026
                 ],
                 [
                  -73.5733133,
                  45.5168907
                 ],
                 [
                  -73.5505669,
                  45.5311878
                 ],
                 [
                  -73.65996319999999,
                  45.5663616
                 ],
                 [
                  -73.65061490000001,
                  45.560926
                 ],
                 [
                  -73.55736440000001,
                  45.5178516
                 ],
                 [
                  -73.5693386,
                  45.5133421
                 ],
                 [
                  -73.5585045,
                  45.51773920000001
                 ],
                 [
                  -73.5558254,
                  45.5055465
                 ],
                 [
                  -73.5562123,
                  45.504901600000004
                 ],
                 [
                  -73.64542209999999,
                  45.56889279999999
                 ],
                 [
                  -73.564066,
                  45.509780299999996
                 ],
                 [
                  -73.581627,
                  45.525792100000004
                 ],
                 [
                  -73.578434,
                  45.5344458
                 ],
                 [
                  -73.5763887,
                  45.5200805
                 ],
                 [
                  -73.572699,
                  45.514143
                 ],
                 [
                  -73.6388975,
                  45.546814700000006
                 ],
                 [
                  -73.6388975,
                  45.546814700000006
                 ],
                 [
                  -73.5760208,
                  45.5239876
                 ],
                 [
                  -73.56080920000001,
                  45.5360459
                 ],
                 [
                  -73.55345820000001,
                  45.5238623
                 ],
                 [
                  -73.6537514,
                  45.5395375
                 ],
                 [
                  -73.559921,
                  45.533874100000006
                 ],
                 [
                  -73.6432698,
                  45.5400785
                 ],
                 [
                  -73.56721379999999,
                  45.517010799999994
                 ],
                 [
                  -73.573784,
                  45.52669
                 ],
                 [
                  -73.57664,
                  45.511224600000006
                 ],
                 [
                  -73.5891696,
                  45.5218613
                 ],
                 [
                  -73.5816487,
                  45.5245327
                 ],
                 [
                  -73.555727,
                  45.519234000000004
                 ],
                 [
                  -73.6066,
                  45.532654
                 ],
                 [
                  -73.60574720000001,
                  45.5235987
                 ],
                 [
                  -73.559961,
                  45.528338899999994
                 ],
                 [
                  -73.65100000000001,
                  45.550391999999995
                 ],
                 [
                  -73.592045,
                  45.518864
                 ],
                 [
                  -73.66833390000001,
                  45.5566943
                 ],
                 [
                  -73.57091690000001,
                  45.509869
                 ],
                 [
                  -73.5711908,
                  45.536665899999996
                 ],
                 [
                  -73.5544985,
                  45.530779700000004
                 ],
                 [
                  -73.59864909999999,
                  45.545920200000005
                 ],
                 [
                  -73.6176682,
                  45.5176623
                 ],
                 [
                  -73.5913995,
                  45.54084279999999
                 ],
                 [
                  -73.559666,
                  45.532303000000006
                 ],
                 [
                  -73.5614329,
                  45.534634999999994
                 ],
                 [
                  -73.58756,
                  45.519121999999996
                 ],
                 [
                  -73.574354,
                  45.5115088
                 ],
                 [
                  -73.551683,
                  45.525807
                 ],
                 [
                  -73.58635579999999,
                  45.5269939
                 ],
                 [
                  -73.55977320000001,
                  45.5082209
                 ],
                 [
                  -73.64624599999999,
                  45.548671
                 ],
                 [
                  -73.55154590000001,
                  45.522403499999996
                 ],
                 [
                  -73.5700959,
                  45.5124685
                 ],
                 [
                  -73.556945,
                  45.53753
                 ],
                 [
                  -73.561852,
                  45.5124261
                 ],
                 [
                  -73.5986257,
                  45.5301523
                 ],
                 [
                  -73.586159,
                  45.546162
                 ],
                 [
                  -73.59755729999999,
                  45.543358399999995
                 ],
                 [
                  -73.59755729999999,
                  45.543358399999995
                 ],
                 [
                  -73.59714040000001,
                  45.543243200000006
                 ],
                 [
                  -73.5534447,
                  45.5056339
                 ],
                 [
                  -73.5782679,
                  45.516799299999995
                 ],
                 [
                  -73.617998,
                  45.53432479999999
                 ],
                 [
                  -73.6594218,
                  45.557938
                 ],
                 [
                  -73.57082940000001,
                  45.537330499999996
                 ],
                 [
                  -73.55588909999999,
                  45.51847
                 ],
                 [
                  -73.57974820000001,
                  45.5277982
                 ],
                 [
                  -73.58835859999999,
                  45.518161299999996
                 ],
                 [
                  -73.5936214,
                  45.5252912
                 ],
                 [
                  -73.5550839,
                  45.535784
                 ],
                 [
                  -73.5734805,
                  45.5073536
                 ],
                 [
                  -73.5736226,
                  45.507476399999994
                 ],
                 [
                  -73.655599,
                  45.5382561
                 ],
                 [
                  -73.6430891,
                  45.551078499999996
                 ],
                 [
                  -73.57449759999999,
                  45.5082563
                 ],
                 [
                  -73.595652,
                  45.5502591
                 ],
                 [
                  -73.593951,
                  45.552158
                 ],
                 [
                  -73.6115317,
                  45.54007360000001
                 ],
                 [
                  -73.5520413,
                  45.523676200000004
                 ],
                 [
                  -73.5594309,
                  45.5219939
                 ],
                 [
                  -73.55671600000001,
                  45.5224701
                 ],
                 [
                  -73.56083220000001,
                  45.5067549
                 ],
                 [
                  -73.5753497,
                  45.521041
                 ],
                 [
                  -73.574206,
                  45.514911
                 ],
                 [
                  -73.5665235,
                  45.511586
                 ],
                 [
                  -73.5665235,
                  45.511586
                 ],
                 [
                  -73.55147209999998,
                  45.5241071
                 ],
                 [
                  -73.612697,
                  45.540308
                 ],
                 [
                  -73.6085707,
                  45.538722
                 ],
                 [
                  -73.6132308,
                  45.535973799999994
                 ],
                 [
                  -73.613252,
                  45.535982000000004
                 ],
                 [
                  -73.5763138,
                  45.5154652
                 ],
                 [
                  -73.5732412,
                  45.5139461
                 ],
                 [
                  -73.61487840000001,
                  45.537584499999994
                 ],
                 [
                  -73.65288199999999,
                  45.568646
                 ],
                 [
                  -73.57791390000001,
                  45.5296198
                 ],
                 [
                  -73.57208879999999,
                  45.535304
                 ],
                 [
                  -73.5634553,
                  45.520773299999995
                 ],
                 [
                  -73.6531902,
                  45.578961299999996
                 ],
                 [
                  -73.64809890000001,
                  45.565206599999996
                 ],
                 [
                  -73.5773983,
                  45.516273999999996
                 ],
                 [
                  -73.6032498,
                  45.5463631
                 ],
                 [
                  -73.612548,
                  45.522828999999994
                 ],
                 [
                  -73.5771508,
                  45.526945899999994
                 ],
                 [
                  -73.5895625,
                  45.517083
                 ],
                 [
                  -73.5545,
                  45.5186
                 ],
                 [
                  -73.584163,
                  45.528749
                 ],
                 [
                  -73.5741927,
                  45.5335244
                 ],
                 [
                  -73.65145940000001,
                  45.5369782
                 ],
                 [
                  -73.57072600000001,
                  45.5182228
                 ],
                 [
                  -73.57028199999999,
                  45.5180292
                 ],
                 [
                  -73.6665781,
                  45.5584948
                 ],
                 [
                  -73.57751800000001,
                  45.5294081
                 ],
                 [
                  -73.65473850000001,
                  45.566800799999996
                 ],
                 [
                  -73.5980665,
                  45.5522214
                 ],
                 [
                  -73.56836609999999,
                  45.5171479
                 ],
                 [
                  -73.5834574,
                  45.519611499999996
                 ],
                 [
                  -73.5604293,
                  45.529362899999995
                 ],
                 [
                  -73.5667932,
                  45.5116604
                 ],
                 [
                  -73.6060944,
                  45.54374
                 ],
                 [
                  -73.5525719,
                  45.50689129999999
                 ],
                 [
                  -73.64551490000001,
                  45.5481052
                 ],
                 [
                  -73.5906733,
                  45.5299652
                 ],
                 [
                  -73.585367,
                  45.521090799999996
                 ],
                 [
                  -73.5737989,
                  45.5177773
                 ],
                 [
                  -73.5630762,
                  45.504344399999994
                 ],
                 [
                  -73.5868465,
                  45.519014299999995
                 ]
                ],
                [
                 [
                  -73.568175,
                  45.488636
                 ],
                 [
                  -73.6306253,
                  45.5129793
                 ],
                 [
                  -73.5748868,
                  45.500265
                 ],
                 [
                  -73.57434040000001,
                  45.4998571
                 ],
                 [
                  -73.5610195,
                  45.477963700000004
                 ],
                 [
                  -73.6313923,
                  45.4814067
                 ],
                 [
                  -73.5710036,
                  45.5050263
                 ],
                 [
                  -73.57139240000001,
                  45.505055
                 ],
                 [
                  -73.6327222,
                  45.4924311
                 ],
                 [
                  -73.55881240000001,
                  45.4800939
                 ],
                 [
                  -73.5641863,
                  45.4814162
                 ],
                 [
                  -73.5721152,
                  45.489481700000006
                 ],
                 [
                  -73.567613,
                  45.500983000000005
                 ],
                 [
                  -73.5675448,
                  45.500467900000004
                 ],
                 [
                  -73.6780625,
                  45.5375357
                 ],
                 [
                  -73.61261209999999,
                  45.5100597
                 ],
                 [
                  -73.640073,
                  45.4952842
                 ],
                 [
                  -73.5798516,
                  45.501174799999994
                 ],
                 [
                  -73.63461190000001,
                  45.4866269
                 ],
                 [
                  -73.63461190000001,
                  45.4866269
                 ],
                 [
                  -73.5664947,
                  45.50198220000001
                 ],
                 [
                  -73.5714549,
                  45.5005083
                 ],
                 [
                  -73.582151,
                  45.493519
                 ],
                 [
                  -73.58202759999999,
                  45.494002
                 ],
                 [
                  -73.58121650000001,
                  45.4943351
                 ],
                 [
                  -73.5796571,
                  45.494900200000004
                 ],
                 [
                  -73.5797907,
                  45.494960600000006
                 ],
                 [
                  -73.6317868,
                  45.50042979999999
                 ],
                 [
                  -73.6394618,
                  45.4932544
                 ],
                 [
                  -73.5652994,
                  45.500133
                 ],
                 [
                  -73.568896,
                  45.497349
                 ],
                 [
                  -73.5860847,
                  45.4905307
                 ],
                 [
                  -73.62952740000001,
                  45.4834469
                 ],
                 [
                  -73.63958670000001,
                  45.4879623
                 ],
                 [
                  -73.57234790000001,
                  45.4996169
                 ],
                 [
                  -73.5816539,
                  45.4915042
                 ],
                 [
                  -73.6360684,
                  45.4935112
                 ],
                 [
                  -73.5743372,
                  45.483689500000004
                 ],
                 [
                  -73.5562644,
                  45.49961079999999
                 ],
                 [
                  -73.5552553,
                  45.4992821
                 ],
                 [
                  -73.66917,
                  45.554025700000004
                 ],
                 [
                  -73.565247,
                  45.476365
                 ],
                 [
                  -73.69412729999999,
                  45.5425854
                 ],
                 [
                  -73.58293459999999,
                  45.4934271
                 ],
                 [
                  -73.61048000000001,
                  45.495461
                 ],
                 [
                  -73.5710036,
                  45.5041009
                 ],
                 [
                  -73.5693497,
                  45.4782589
                 ],
                 [
                  -73.6294296,
                  45.4780614
                 ],
                 [
                  -73.5831156,
                  45.492222600000005
                 ],
                 [
                  -73.5562755,
                  45.4797987
                 ],
                 [
                  -73.5681434,
                  45.477959399999996
                 ],
                 [
                  -73.6678245,
                  45.543957899999995
                 ],
                 [
                  -73.5859921,
                  45.488805
                 ],
                 [
                  -73.5854084,
                  45.4895797
                 ],
                 [
                  -73.58587,
                  45.48937
                 ],
                 [
                  -73.6657195,
                  45.547424400000004
                 ],
                 [
                  -73.57201640000001,
                  45.5061379
                 ],
                 [
                  -73.5659651,
                  45.498047799999995
                 ],
                 [
                  -73.5663859,
                  45.498175700000004
                 ],
                 [
                  -73.5782733,
                  45.4977436
                 ],
                 [
                  -73.5735681,
                  45.5026306
                 ],
                 [
                  -73.5694464,
                  45.5072429
                 ],
                 [
                  -73.5714431,
                  45.4979448
                 ],
                 [
                  -73.5752449,
                  45.50083
                 ],
                 [
                  -73.5758915,
                  45.4802003
                 ],
                 [
                  -73.5667297,
                  45.4974422
                 ],
                 [
                  -73.5722427,
                  45.50111
                 ],
                 [
                  -73.6303094,
                  45.50941029999999
                 ],
                 [
                  -73.5702403,
                  45.4778062
                 ],
                 [
                  -73.606234,
                  45.476863
                 ],
                 [
                  -73.63104150000001,
                  45.510405
                 ],
                 [
                  -73.5759468,
                  45.4966036
                 ],
                 [
                  -73.5757894,
                  45.496641499999996
                 ],
                 [
                  -73.5780957,
                  45.496060799999995
                 ],
                 [
                  -73.6228009,
                  45.4977245
                 ],
                 [
                  -73.6225469,
                  45.4962474
                 ],
                 [
                  -73.56443900000001,
                  45.50102329999999
                 ],
                 [
                  -73.58347380000001,
                  45.4905278
                 ],
                 [
                  -73.6244431,
                  45.5071239
                 ],
                 [
                  -73.67055500000001,
                  45.537119
                 ],
                 [
                  -73.61941170000001,
                  45.503243
                 ],
                 [
                  -73.6669165,
                  45.5494837
                 ],
                 [
                  -73.568495,
                  45.4879465
                 ],
                 [
                  -73.5647918,
                  45.4932145
                 ],
                 [
                  -73.57130409999999,
                  45.502466
                 ],
                 [
                  -73.5769653,
                  45.4795202
                 ],
                 [
                  -73.5801515,
                  45.492821
                 ],
                 [
                  -73.65653409999999,
                  45.55066729999999
                 ],
                 [
                  -73.574496,
                  45.496774
                 ],
                 [
                  -73.57697900000001,
                  45.5017649
                 ],
                 [
                  -73.58164079999999,
                  45.4897153
                 ],
                 [
                  -73.6233777,
                  45.4971662
                 ],
                 [
                  -73.627811,
                  45.485633
                 ],
                 [
                  -73.627969,
                  45.485513700000006
                 ],
                 [
                  -73.57593390000001,
                  45.4866434
                 ],
                 [
                  -73.5765625,
                  45.49601989999999
                 ],
                 [
                  -73.58633859999999,
                  45.4898119
                 ],
                 [
                  -73.6323668,
                  45.5012294
                 ],
                 [
                  -73.698875,
                  45.5379559
                 ],
                 [
                  -73.6424751,
                  45.490049299999995
                 ],
                 [
                  -73.6330202,
                  45.48472460000001
                 ],
                 [
                  -73.6240935,
                  45.4796471
                 ],
                 [
                  -73.56952659999999,
                  45.507745899999996
                 ],
                 [
                  -73.66892299999999,
                  45.554871
                 ],
                 [
                  -73.55879300000001,
                  45.494169
                 ],
                 [
                  -73.57179040000001,
                  45.504557899999995
                 ],
                 [
                  -73.5788829,
                  45.4869285
                 ],
                 [
                  -73.5731693,
                  45.5050038
                 ],
                 [
                  -73.57309000000001,
                  45.505033000000005
                 ],
                 [
                  -73.56421540000001,
                  45.493238700000006
                 ],
                 [
                  -73.5846942,
                  45.4977411
                 ],
                 [
                  -73.6378368,
                  45.5023311
                 ],
                 [
                  -73.6079561,
                  45.4943555
                 ],
                 [
                  -73.5584113,
                  45.4946306
                 ],
                 [
                  -73.580278,
                  45.497184000000004
                 ],
                 [
                  -73.6198663,
                  45.494941100000005
                 ],
                 [
                  -73.58046,
                  45.494852
                 ],
                 [
                  -73.6709877,
                  45.5495882
                 ],
                 [
                  -73.55502840000001,
                  45.4961325
                 ],
                 [
                  -73.6609783,
                  45.5456061
                 ],
                 [
                  -73.6430795,
                  45.4895056
                 ],
                 [
                  -73.5810623,
                  45.496038
                 ],
                 [
                  -73.5817343,
                  45.4955445
                 ],
                 [
                  -73.5807182,
                  45.4960371
                 ],
                 [
                  -73.5722865,
                  45.5039643
                 ],
                 [
                  -73.5530998,
                  45.4970075
                 ],
                 [
                  -73.636881,
                  45.4865467
                 ],
                 [
                  -73.571201,
                  45.479726
                 ],
                 [
                  -73.571201,
                  45.479726
                 ],
                 [
                  -73.5668124,
                  45.480138700000005
                 ],
                 [
                  -73.5822882,
                  45.496648
                 ],
                 [
                  -73.61959399999999,
                  45.495380700000005
                 ],
                 [
                  -73.5676757,
                  45.50564489999999
                 ],
                 [
                  -73.5763023,
                  45.4970434
                 ],
                 [
                  -73.577169,
                  45.498195
                 ],
                 [
                  -73.613256,
                  45.494978
                 ],
                 [
                  -73.5799609,
                  45.493402
                 ],
                 [
                  -73.6287153,
                  45.4848375
                 ],
                 [
                  -73.6268077,
                  45.4985403
                 ],
                 [
                  -73.5737683,
                  45.5009341
                 ],
                 [
                  -73.5737683,
                  45.5009341
                 ],
                 [
                  -73.62789659999999,
                  45.484879299999996
                 ],
                 [
                  -73.62776099999999,
                  45.484796
                 ],
                 [
                  -73.6251458,
                  45.4973237
                 ],
                 [
                  -73.660262,
                  45.546881
                 ],
                 [
                  -73.62725379999999,
                  45.482394
                 ],
                 [
                  -73.6375737,
                  45.5053299
                 ],
                 [
                  -73.6794271,
                  45.5380399
                 ],
                 [
                  -73.660003,
                  45.547357299999994
                 ],
                 [
                  -73.6600383,
                  45.5471946
                 ],
                 [
                  -73.5709313,
                  45.50837979999999
                 ],
                 [
                  -73.5554,
                  45.4805
                 ],
                 [
                  -73.63549920000001,
                  45.5025099
                 ],
                 [
                  -73.567489,
                  45.476821
                 ],
                 [
                  -73.6316131,
                  45.4918815
                 ],
                 [
                  -73.62686479999999,
                  45.485761100000005
                 ],
                 [
                  -73.5703859,
                  45.50238220000001
                 ],
                 [
                  -73.5701894,
                  45.5018406
                 ],
                 [
                  -73.5673556,
                  45.505660999999996
                 ],
                 [
                  -73.5828752,
                  45.4927815
                 ],
                 [
                  -73.6351324,
                  45.4934177
                 ],
                 [
                  -73.572599,
                  45.5067196
                 ],
                 [
                  -73.6283423,
                  45.500331200000005
                 ]
                ],
                [
                 [
                  -68.4706861,
                  48.3878711
                 ],
                 [
                  -68.5080816,
                  48.473097100000004
                 ],
                 [
                  -68.5839784,
                  48.430718
                 ],
                 [
                  -68.51264520000001,
                  48.467893100000005
                 ],
                 [
                  -68.53344,
                  48.441093
                 ],
                 [
                  -68.5222787,
                  48.442685299999994
                 ],
                 [
                  -68.53597099999999,
                  48.4376039
                 ],
                 [
                  -68.5243247,
                  48.4351174
                 ],
                 [
                  -68.5502473,
                  48.438630700000004
                 ],
                 [
                  -68.5168564,
                  48.462826299999996
                 ],
                 [
                  -68.5175338,
                  48.4450826
                 ],
                 [
                  -68.5731844,
                  48.4359648
                 ],
                 [
                  -68.46069920000001,
                  48.5131202
                 ],
                 [
                  -68.5545728,
                  48.439182200000005
                 ],
                 [
                  -68.49578199999999,
                  48.455566
                 ],
                 [
                  -68.5174693,
                  48.4631258
                 ],
                 [
                  -68.4972474,
                  48.458462899999994
                 ],
                 [
                  -68.53501379999999,
                  48.448224200000006
                 ]
                ],
                [
                 [
                  -71.3561663,
                  46.7956598
                 ],
                 [
                  -71.366122,
                  46.8446932
                 ],
                 [
                  -71.3560875,
                  46.8372401
                 ],
                 [
                  -71.3560875,
                  46.8372401
                 ],
                 [
                  -71.2825827,
                  46.839253799999994
                 ],
                 [
                  -71.2527723,
                  46.873002500000005
                 ],
                 [
                  -71.36933590000001,
                  46.799059299999996
                 ],
                 [
                  -71.3508571,
                  46.9101974
                 ],
                 [
                  -71.2549883,
                  46.870141100000005
                 ],
                 [
                  -71.2700831,
                  46.8410703
                 ],
                 [
                  -71.3505757,
                  46.9088558
                 ],
                 [
                  -71.3521433,
                  46.787655900000004
                 ],
                 [
                  -71.2775625,
                  46.839698799999994
                 ],
                 [
                  -71.3384958,
                  46.8585642
                 ],
                 [
                  -71.33761609999999,
                  46.8586431
                 ],
                 [
                  -71.2682099,
                  46.888308200000004
                 ],
                 [
                  -71.2545171,
                  46.8724615
                 ],
                 [
                  -71.30012959999999,
                  46.8953805
                 ],
                 [
                  -71.29990140000001,
                  46.895104100000005
                 ],
                 [
                  -71.3093982,
                  46.850831799999995
                 ],
                 [
                  -71.3271611,
                  46.8422365
                 ],
                 [
                  -71.2847364,
                  46.8387184
                 ],
                 [
                  -71.3703135,
                  46.8112992
                 ],
                 [
                  -71.3561721,
                  46.850120600000004
                 ],
                 [
                  -71.37558990000001,
                  46.7671645
                 ],
                 [
                  -71.3473075,
                  46.7814325
                 ],
                 [
                  -71.354394,
                  46.8285773
                 ],
                 [
                  -71.34706800000001,
                  46.856569799999995
                 ],
                 [
                  -71.36152320000001,
                  46.8551939
                 ],
                 [
                  -71.35458179999999,
                  46.8235945
                 ],
                 [
                  -71.34908829999999,
                  46.786974900000004
                 ],
                 [
                  -71.369704,
                  46.7785919
                 ],
                 [
                  -71.2775556,
                  46.8332331
                 ],
                 [
                  -71.2574126,
                  46.8695021
                 ],
                 [
                  -71.33932759999999,
                  46.856667
                 ],
                 [
                  -71.3552087,
                  46.8568283
                 ],
                 [
                  -71.30857270000001,
                  46.902625
                 ],
                 [
                  -71.3417518,
                  46.80317410000001
                 ],
                 [
                  -71.3832074,
                  46.808808899999995
                 ],
                 [
                  -71.36719740000001,
                  46.902437299999995
                 ],
                 [
                  -71.37949590000001,
                  46.8673654
                 ],
                 [
                  -71.3341556,
                  46.9119927
                 ],
                 [
                  -71.35383900000001,
                  46.856242
                 ],
                 [
                  -71.2685351,
                  46.888185299999996
                 ],
                 [
                  -71.34452390000001,
                  46.930354
                 ],
                 [
                  -71.3359665,
                  46.8223804
                 ],
                 [
                  -71.307011,
                  46.89884
                 ],
                 [
                  -71.3691058,
                  46.8079537
                 ],
                 [
                  -71.3498512,
                  46.8088338
                 ],
                 [
                  -71.2515599,
                  46.8752345
                 ],
                 [
                  -71.3585253,
                  46.777074
                 ],
                 [
                  -71.3191609,
                  46.916613
                 ],
                 [
                  -71.3319321,
                  46.8030531
                 ],
                 [
                  -71.367333,
                  46.808614399999996
                 ]
                ],
                [
                 [
                  -73.44680859999998,
                  45.755632899999995
                 ],
                 [
                  -73.4630257,
                  45.74664179999999
                 ],
                 [
                  -73.4310287,
                  45.7526227
                 ],
                 [
                  -73.4677769,
                  45.7191889
                 ],
                 [
                  -73.45380490000001,
                  45.7443982
                 ],
                 [
                  -73.454829,
                  45.7322565
                 ],
                 [
                  -73.4681318,
                  45.7337308
                 ],
                 [
                  -73.4545769,
                  45.7487153
                 ],
                 [
                  -73.4404939,
                  45.75375089999999
                 ],
                 [
                  -73.4606625,
                  45.7316726
                 ],
                 [
                  -73.4464871,
                  45.7563598
                 ],
                 [
                  -73.45484240000002,
                  45.7447533
                 ],
                 [
                  -73.46093499999999,
                  45.747415999999994
                 ],
                 [
                  -73.4586568,
                  45.742263
                 ],
                 [
                  -73.4552527,
                  45.730469299999996
                 ],
                 [
                  -73.4553312,
                  45.7304989
                 ],
                 [
                  -73.445697,
                  45.7394641
                 ],
                 [
                  -73.454887,
                  45.7418553
                 ],
                 [
                  -73.4532438,
                  45.7316539
                 ],
                 [
                  -73.45505849999999,
                  45.7479626
                 ],
                 [
                  -73.468735,
                  45.742940999999995
                 ]
                ],
                [
                 [
                  -71.21863990000001,
                  46.835607
                 ],
                 [
                  -71.2141851,
                  46.891487700000006
                 ],
                 [
                  -71.1801463,
                  46.8679355
                 ],
                 [
                  -71.23993,
                  46.83492639999999
                 ],
                 [
                  -71.2471732,
                  46.7865302
                 ],
                 [
                  -71.239331,
                  46.839277100000004
                 ],
                 [
                  -71.2439177,
                  46.8047293
                 ],
                 [
                  -71.27653149999999,
                  46.854412700000005
                 ],
                 [
                  -71.2574357,
                  46.8199384
                 ],
                 [
                  -71.2262251,
                  46.8136071
                 ],
                 [
                  -71.2708805,
                  46.788579299999995
                 ],
                 [
                  -71.22132459999999,
                  46.8052664
                 ],
                 [
                  -71.31104559999999,
                  46.7757675
                 ],
                 [
                  -71.2682532,
                  46.8208359
                 ],
                 [
                  -71.2792974,
                  46.8555075
                 ],
                 [
                  -71.2242526,
                  46.8028996
                 ],
                 [
                  -71.3198289,
                  46.77101029999999
                 ],
                 [
                  -71.31950429999999,
                  46.7710729
                 ],
                 [
                  -71.2072578,
                  46.8965297
                 ],
                 [
                  -71.23657,
                  46.8368679
                 ],
                 [
                  -71.24188609999999,
                  46.8325222
                 ],
                 [
                  -71.2260403,
                  46.8011869
                 ],
                 [
                  -71.242154,
                  46.8045252
                 ],
                 [
                  -71.2396021,
                  46.811432
                 ],
                 [
                  -71.2550438,
                  46.8372428
                 ],
                 [
                  -71.18925329999999,
                  46.8909411
                 ],
                 [
                  -71.2260486,
                  46.8089956
                 ],
                 [
                  -71.2668179,
                  46.7685071
                 ],
                 [
                  -71.202382,
                  46.9175469
                 ],
                 [
                  -71.2209063,
                  46.8396619
                 ],
                 [
                  -71.2894152,
                  46.816360700000004
                 ],
                 [
                  -71.2334467,
                  46.8257407
                 ],
                 [
                  -71.1998508,
                  46.885501299999994
                 ],
                 [
                  -71.2175696,
                  46.889960200000004
                 ],
                 [
                  -71.20704,
                  46.8135679
                 ],
                 [
                  -71.21335069999999,
                  46.8504854
                 ],
                 [
                  -71.237315,
                  46.8136708
                 ],
                 [
                  -71.28361290000001,
                  46.8787741
                 ],
                 [
                  -71.28361290000001,
                  46.8787741
                 ],
                 [
                  -71.28921590000002,
                  46.882800399999994
                 ],
                 [
                  -71.2935536,
                  46.811637100000006
                 ],
                 [
                  -71.25910429999999,
                  46.8090408
                 ],
                 [
                  -71.1852277,
                  46.8642674
                 ],
                 [
                  -71.1499358,
                  46.8914079
                 ],
                 [
                  -71.23860970000001,
                  46.826494
                 ],
                 [
                  -71.25192890000001,
                  46.816255
                 ],
                 [
                  -71.22485970000001,
                  46.8029984
                 ],
                 [
                  -71.22669920000001,
                  46.8234838
                 ],
                 [
                  -71.2314313,
                  46.831307200000005
                 ],
                 [
                  -71.2226811,
                  46.8233118
                 ],
                 [
                  -71.2122832,
                  46.8128563
                 ],
                 [
                  -71.2459653,
                  46.806683500000005
                 ],
                 [
                  -71.2207915,
                  46.8150396
                 ],
                 [
                  -71.23470809999999,
                  46.848389399999995
                 ],
                 [
                  -71.23089,
                  46.837709999999994
                 ],
                 [
                  -71.2286708,
                  46.8481887
                 ],
                 [
                  -71.2273699,
                  46.8134
                 ],
                 [
                  -71.23976400000001,
                  46.796485700000005
                 ],
                 [
                  -71.228911,
                  46.828584899999996
                 ],
                 [
                  -71.2499304,
                  46.8217471
                 ],
                 [
                  -71.2499304,
                  46.8217471
                 ],
                 [
                  -71.312725,
                  46.804565999999994
                 ],
                 [
                  -71.2102162,
                  46.852028499999996
                 ],
                 [
                  -71.31018449999999,
                  46.812155499999996
                 ],
                 [
                  -71.21184840000001,
                  46.8135022
                 ],
                 [
                  -71.260928,
                  46.843703000000005
                 ],
                 [
                  -71.23601590000001,
                  46.8120852
                 ],
                 [
                  -71.2146495,
                  46.8435762
                 ],
                 [
                  -71.3308406,
                  46.8198609
                 ],
                 [
                  -71.3308406,
                  46.8198609
                 ],
                 [
                  -71.2313633,
                  46.8121559
                 ],
                 [
                  -71.2309801,
                  46.8042364
                 ],
                 [
                  -71.1594917,
                  46.8754898
                 ],
                 [
                  -71.332755,
                  46.818226200000005
                 ],
                 [
                  -71.283982,
                  46.7626088
                 ],
                 [
                  -71.25735300000001,
                  46.8227639
                 ],
                 [
                  -71.31928070000001,
                  46.8100302
                 ],
                 [
                  -71.29082220000001,
                  46.886677899999995
                 ],
                 [
                  -71.2397935,
                  46.7970229
                 ],
                 [
                  -71.2529572,
                  46.8075825
                 ],
                 [
                  -71.1952967,
                  46.853722999999995
                 ],
                 [
                  -71.2443987,
                  46.8435867
                 ],
                 [
                  -71.2281651,
                  46.80324
                 ],
                 [
                  -71.2567028,
                  46.817518299999996
                 ],
                 [
                  -71.18847530000001,
                  46.8622006
                 ],
                 [
                  -71.1997786,
                  46.9030305
                 ],
                 [
                  -71.281651,
                  46.88361
                 ],
                 [
                  -71.243925,
                  46.810502
                 ],
                 [
                  -71.2383808,
                  46.8301456
                 ],
                 [
                  -71.349594,
                  46.7469929
                 ],
                 [
                  -71.21665949999999,
                  46.8116509
                 ],
                 [
                  -71.2107142,
                  46.8140474
                 ],
                 [
                  -71.26103359999999,
                  46.809706
                 ],
                 [
                  -71.26103359999999,
                  46.809706
                 ],
                 [
                  -71.22728520000001,
                  46.8261206
                 ],
                 [
                  -71.2993801,
                  46.81217120000001
                 ],
                 [
                  -71.3697144,
                  46.7648466
                 ],
                 [
                  -71.226642,
                  46.813458000000004
                 ],
                 [
                  -71.2224652,
                  46.835829700000005
                 ],
                 [
                  -71.24458100000001,
                  46.83706
                 ],
                 [
                  -71.3301546,
                  46.7667135
                 ],
                 [
                  -71.2250003,
                  46.808235700000004
                 ],
                 [
                  -71.1668769,
                  46.87662520000001
                 ],
                 [
                  -71.1958115,
                  46.8719516
                 ],
                 [
                  -71.19613829999999,
                  46.872469099999996
                 ],
                 [
                  -71.20029790000001,
                  46.874130900000004
                 ],
                 [
                  -71.2414885,
                  46.8497139
                 ],
                 [
                  -71.3009993,
                  46.7811331
                 ],
                 [
                  -71.30869659999999,
                  46.776897600000005
                 ],
                 [
                  -71.24029909999999,
                  46.8092919
                 ],
                 [
                  -71.2330132,
                  46.804817
                 ],
                 [
                  -71.2166026,
                  46.84520070000001
                 ],
                 [
                  -71.2166026,
                  46.84520070000001
                 ],
                 [
                  -71.23875859999998,
                  46.8522891
                 ],
                 [
                  -71.1941188,
                  46.8722702
                 ],
                 [
                  -71.2821224,
                  46.7719696
                 ],
                 [
                  -71.2513212,
                  46.8450715
                 ],
                 [
                  -71.2256145,
                  46.8087497
                 ],
                 [
                  -71.2884349,
                  46.783583
                 ],
                 [
                  -71.2495125,
                  46.8344965
                 ],
                 [
                  -71.2473091,
                  46.843644700000006
                 ],
                 [
                  -71.2473091,
                  46.843644700000006
                 ],
                 [
                  -71.2693031,
                  46.788962299999994
                 ],
                 [
                  -71.22119,
                  46.8143924
                 ],
                 [
                  -71.23543070000001,
                  46.8069329
                 ],
                 [
                  -71.2287233,
                  46.821966499999995
                 ],
                 [
                  -71.24772469999999,
                  46.784278
                 ],
                 [
                  -71.2568677,
                  46.7944508
                 ],
                 [
                  -71.3201392,
                  46.7604763
                 ],
                 [
                  -71.1579152,
                  46.8771472
                 ],
                 [
                  -71.2271265,
                  46.804823799999994
                 ],
                 [
                  -71.2244733,
                  46.8394672
                 ],
                 [
                  -71.24340040000001,
                  46.8258626
                 ],
                 [
                  -71.208333,
                  46.8151085
                 ],
                 [
                  -71.2256819,
                  46.8153193
                 ],
                 [
                  -71.159253,
                  46.88483
                 ],
                 [
                  -71.217647,
                  46.860625399999996
                 ],
                 [
                  -71.21676500000001,
                  46.860098
                 ],
                 [
                  -71.17047559999999,
                  46.8873559
                 ],
                 [
                  -71.2304185,
                  46.8437945
                 ],
                 [
                  -71.2746465,
                  46.8733979
                 ],
                 [
                  -71.229244,
                  46.826036
                 ],
                 [
                  -71.2519148,
                  46.7955387
                 ],
                 [
                  -71.2030412,
                  46.852912700000005
                 ],
                 [
                  -71.3089437,
                  46.76546
                 ],
                 [
                  -71.33388520000001,
                  46.7619667
                 ],
                 [
                  -71.2650052,
                  46.857420399999995
                 ],
                 [
                  -71.23257,
                  46.8113555
                 ],
                 [
                  -71.2985748,
                  46.75624129999999
                 ],
                 [
                  -71.3217104,
                  46.769274200000005
                 ],
                 [
                  -71.3215709,
                  46.7692001
                 ],
                 [
                  -71.3160467,
                  46.773506700000006
                 ],
                 [
                  -71.2681296,
                  46.8632573
                 ],
                 [
                  -71.2267871,
                  46.804678100000004
                 ],
                 [
                  -71.2297821,
                  46.829057899999995
                 ],
                 [
                  -71.2298903,
                  46.826283399999994
                 ],
                 [
                  -71.2575432,
                  46.793140799999996
                 ],
                 [
                  -71.2195632,
                  46.81007279999999
                 ],
                 [
                  -71.2178434,
                  46.8164585
                 ],
                 [
                  -71.2822859,
                  46.7867359
                 ],
                 [
                  -71.282286,
                  46.78651
                 ],
                 [
                  -71.2501291,
                  46.85127670000001
                 ],
                 [
                  -71.2545604,
                  46.8482421
                 ],
                 [
                  -71.20757929999999,
                  46.9511229
                 ],
                 [
                  -71.2608346,
                  46.8231631
                 ],
                 [
                  -71.2152415,
                  46.865754200000005
                 ],
                 [
                  -71.2695032,
                  46.86325720000001
                 ],
                 [
                  -71.2849442,
                  46.7706734
                 ],
                 [
                  -71.24449190000001,
                  46.806132
                 ],
                 [
                  -71.1902255,
                  46.854695899999996
                 ],
                 [
                  -71.2790953,
                  46.773587899999995
                 ],
                 [
                  -71.2346333,
                  46.7931814
                 ],
                 [
                  -71.21963000000001,
                  46.810331
                 ],
                 [
                  -71.2279113,
                  46.812938
                 ],
                 [
                  -71.2279113,
                  46.812938
                 ],
                 [
                  -71.262048,
                  46.8155711
                 ],
                 [
                  -71.228047,
                  46.809899
                 ],
                 [
                  -71.23076,
                  46.827163
                 ],
                 [
                  -71.226961,
                  46.813363
                 ],
                 [
                  -71.28256379999999,
                  46.8765528
                 ],
                 [
                  -71.2517318,
                  46.814886
                 ],
                 [
                  -71.15613859999999,
                  46.877209
                 ],
                 [
                  -71.24320970000001,
                  46.847714
                 ],
                 [
                  -71.3201933,
                  46.8101841
                 ],
                 [
                  -71.31827870000001,
                  46.769966499999995
                 ],
                 [
                  -71.2795098,
                  46.8105929
                 ],
                 [
                  -71.1967984,
                  46.8711612
                 ],
                 [
                  -71.35061230000001,
                  46.7582437
                 ],
                 [
                  -71.165113,
                  46.8881818
                 ],
                 [
                  -71.3637401,
                  46.760380700000006
                 ],
                 [
                  -71.2532137,
                  46.8177823
                 ],
                 [
                  -71.2025507,
                  46.8166991
                 ]
                ],
                [
                 [
                  -73.603989,
                  45.473949
                 ],
                 [
                  -73.6259151,
                  45.4650792
                 ],
                 [
                  -73.6245821,
                  45.459886700000006
                 ],
                 [
                  -73.5924047,
                  45.461001
                 ],
                 [
                  -73.579699,
                  45.4828119
                 ],
                 [
                  -73.5796493,
                  45.4828196
                 ],
                 [
                  -73.58737540000001,
                  45.477182899999995
                 ],
                 [
                  -73.57857,
                  45.4827055
                 ],
                 [
                  -73.5831545,
                  45.4635801
                 ],
                 [
                  -73.6372269,
                  45.453583
                 ],
                 [
                  -73.58839870000001,
                  45.4733304
                 ],
                 [
                  -73.698998,
                  45.5356678
                 ],
                 [
                  -73.6390809,
                  45.46720139999999
                 ],
                 [
                  -73.58537700000001,
                  45.474995799999995
                 ],
                 [
                  -73.595479,
                  45.456385100000006
                 ],
                 [
                  -73.6158029,
                  45.4707735
                 ],
                 [
                  -73.63933270000001,
                  45.4545151
                 ],
                 [
                  -73.639542,
                  45.454471999999996
                 ],
                 [
                  -73.57027,
                  45.49604
                 ],
                 [
                  -73.631548,
                  45.462112
                 ],
                 [
                  -73.62167020000001,
                  45.4766013
                 ],
                 [
                  -73.59746170000001,
                  45.4619149
                 ],
                 [
                  -73.7130206,
                  45.527044200000006
                 ],
                 [
                  -73.598789,
                  45.456151
                 ],
                 [
                  -73.61202,
                  45.466962
                 ],
                 [
                  -73.59090490000001,
                  45.470721999999995
                 ],
                 [
                  -73.580991,
                  45.483167
                 ],
                 [
                  -73.6460511,
                  45.4641836
                 ],
                 [
                  -73.601011,
                  45.449909000000005
                 ],
                 [
                  -73.59350620000001,
                  45.4514109
                 ],
                 [
                  -73.672741,
                  45.537136600000004
                 ],
                 [
                  -73.6442381,
                  45.4667531
                 ],
                 [
                  -73.6442402,
                  45.4665492
                 ],
                 [
                  -73.7137765,
                  45.525804799999996
                 ],
                 [
                  -73.6786555,
                  45.536534499999995
                 ],
                 [
                  -73.6409637,
                  45.455290000000005
                 ],
                 [
                  -73.6354679,
                  45.460562200000005
                 ],
                 [
                  -73.64585,
                  45.472923
                 ],
                 [
                  -73.6537623,
                  45.4976435
                 ],
                 [
                  -73.72098100000001,
                  45.530477000000005
                 ],
                 [
                  -73.611864,
                  45.472285299999996
                 ],
                 [
                  -73.61232690000001,
                  45.47206
                 ],
                 [
                  -73.62851590000001,
                  45.4564991
                 ],
                 [
                  -73.6191179,
                  45.469066600000005
                 ],
                 [
                  -73.5939745,
                  45.4520893
                 ],
                 [
                  -73.5941785,
                  45.453153
                 ],
                 [
                  -73.59025279999999,
                  45.458939799999996
                 ],
                 [
                  -73.61403059999999,
                  45.465981299999996
                 ],
                 [
                  -73.56207140000001,
                  45.5003412
                 ],
                 [
                  -73.594723,
                  45.451209999999996
                 ],
                 [
                  -73.5854838,
                  45.453913
                 ],
                 [
                  -73.708365,
                  45.531740899999996
                 ],
                 [
                  -73.6314699,
                  45.477713
                 ],
                 [
                  -73.6347163,
                  45.4712203
                 ],
                 [
                  -73.5881326,
                  45.462736
                 ],
                 [
                  -73.5860052,
                  45.4818004
                 ],
                 [
                  -73.5860052,
                  45.4818004
                 ],
                 [
                  -73.5860052,
                  45.4818004
                 ],
                 [
                  -73.5860052,
                  45.4818004
                 ],
                 [
                  -73.5827733,
                  45.4787775
                 ],
                 [
                  -73.722268,
                  45.530442
                 ],
                 [
                  -73.5873686,
                  45.4801044
                 ],
                 [
                  -73.5894464,
                  45.4542851
                 ],
                 [
                  -73.58195450000001,
                  45.4567435
                 ],
                 [
                  -73.598527,
                  45.450032
                 ],
                 [
                  -73.700755,
                  45.537564
                 ],
                 [
                  -73.6486865,
                  45.498894899999996
                 ],
                 [
                  -73.6151732,
                  45.477589
                 ],
                 [
                  -73.5774552,
                  45.481313
                 ],
                 [
                  -73.5844985,
                  45.4530656
                 ],
                 [
                  -73.5864429,
                  45.477033
                 ],
                 [
                  -73.637689,
                  45.468262
                 ],
                 [
                  -73.57812709999999,
                  45.480883
                 ],
                 [
                  -73.6325126,
                  45.454977500000005
                 ],
                 [
                  -73.6555993,
                  45.4951698
                 ],
                 [
                  -73.616354,
                  45.470028899999996
                 ],
                 [
                  -73.6615765,
                  45.5003917
                 ],
                 [
                  -73.5802715,
                  45.484015500000005
                 ],
                 [
                  -73.6540058,
                  45.496565000000004
                 ],
                 [
                  -73.614551,
                  45.4766476
                 ],
                 [
                  -73.6197772,
                  45.4795946
                 ],
                 [
                  -73.6477572,
                  45.471171000000005
                 ],
                 [
                  -73.62197309999999,
                  45.4767494
                 ],
                 [
                  -73.62892590000001,
                  45.46423729999999
                 ],
                 [
                  -73.7007541,
                  45.5283322
                 ],
                 [
                  -73.57262659999999,
                  45.495802399999995
                 ],
                 [
                  -73.6095465,
                  45.4686961
                 ],
                 [
                  -73.6529853,
                  45.494978
                 ],
                 [
                  -73.60866120000001,
                  45.4740183
                 ],
                 [
                  -73.65623190000001,
                  45.53353679999999
                 ],
                 [
                  -73.5877959,
                  45.4721493
                 ],
                 [
                  -73.5791859,
                  45.480728000000006
                 ],
                 [
                  -73.63985550000001,
                  45.4665521
                 ],
                 [
                  -73.5964908,
                  45.4593881
                 ],
                 [
                  -73.5957931,
                  45.453877
                 ],
                 [
                  -73.656181,
                  45.532438
                 ],
                 [
                  -73.58282559999999,
                  45.482538700000006
                 ],
                 [
                  -73.620779,
                  45.467655
                 ],
                 [
                  -73.6069733,
                  45.4704075
                 ],
                 [
                  -73.5946102,
                  45.474103899999996
                 ],
                 [
                  -73.622165,
                  45.467577
                 ],
                 [
                  -73.60972199999999,
                  45.473974
                 ],
                 [
                  -73.5987396,
                  45.4592487
                 ],
                 [
                  -73.6246,
                  45.465649
                 ],
                 [
                  -73.579719,
                  45.481625
                 ],
                 [
                  -73.583575,
                  45.477993
                 ],
                 [
                  -73.59625190000001,
                  45.4596255
                 ],
                 [
                  -73.591599,
                  45.469807
                 ],
                 [
                  -73.600368,
                  45.456184
                 ],
                 [
                  -73.59307790000001,
                  45.457285
                 ],
                 [
                  -73.6347578,
                  45.4542961
                 ],
                 [
                  -73.6227887,
                  45.475897100000005
                 ],
                 [
                  -73.72227679999999,
                  45.5310152
                 ],
                 [
                  -73.5784823,
                  45.4816755
                 ],
                 [
                  -73.588099,
                  45.4583407
                 ]
                ],
                [
                 [
                  -79.0310436,
                  48.241944399999994
                 ],
                 [
                  -79.0406838,
                  48.2431951
                 ],
                 [
                  -79.0373917,
                  48.2477973
                 ],
                 [
                  -78.99260600000001,
                  48.233219
                 ],
                 [
                  -78.996684,
                  48.222730799999994
                 ],
                 [
                  -79.02551650000001,
                  48.240164299999996
                 ],
                 [
                  -79.03271009999999,
                  48.2320578
                 ],
                 [
                  -79.0202533,
                  48.2365576
                 ],
                 [
                  -79.0150703,
                  48.235513
                 ],
                 [
                  -79.0071946,
                  48.2253883
                 ],
                 [
                  -79.000641,
                  48.224968200000006
                 ],
                 [
                  -79.0197512,
                  48.2467264
                 ],
                 [
                  -79.02289959999999,
                  48.2380375
                 ],
                 [
                  -79.02282199999999,
                  48.238058
                 ],
                 [
                  -79.0183101,
                  48.2379672
                 ],
                 [
                  -79.0197067,
                  48.241506
                 ],
                 [
                  -79.0153672,
                  48.236205
                 ]
                ],
                [
                 [
                  -73.5741421,
                  45.5486995
                 ],
                 [
                  -73.577163,
                  45.543833500000005
                 ],
                 [
                  -73.5851377,
                  45.5480259
                 ],
                 [
                  -73.593746,
                  45.557026799999996
                 ],
                 [
                  -73.5734675,
                  45.563867200000004
                 ],
                 [
                  -73.55836500000001,
                  45.549659999999996
                 ],
                 [
                  -73.5851218,
                  45.5561588
                 ],
                 [
                  -73.58282,
                  45.564945
                 ],
                 [
                  -73.5793948,
                  45.5463486
                 ],
                 [
                  -73.58094799999999,
                  45.561738
                 ],
                 [
                  -73.575664,
                  45.56668
                 ],
                 [
                  -73.55902309999999,
                  45.54742460000001
                 ],
                 [
                  -73.55351359999999,
                  45.5684112
                 ],
                 [
                  -73.572434,
                  45.562683
                 ],
                 [
                  -73.5566077,
                  45.5524354
                 ],
                 [
                  -73.4795498,
                  45.720839899999994
                 ],
                 [
                  -73.5728803,
                  45.5707321
                 ],
                 [
                  -73.5749733,
                  45.5476564
                 ],
                 [
                  -73.5707853,
                  45.5726097
                 ],
                 [
                  -73.570317,
                  45.555718
                 ],
                 [
                  -73.57325859999999,
                  45.557074
                 ],
                 [
                  -73.5874174,
                  45.55413660000001
                 ],
                 [
                  -73.55962629999999,
                  45.555094
                 ],
                 [
                  -73.5724235,
                  45.5713987
                 ],
                 [
                  -73.57817990000001,
                  45.5641458
                 ],
                 [
                  -73.57314699999999,
                  45.551328999999996
                 ],
                 [
                  -73.5711319,
                  45.572010999999996
                 ],
                 [
                  -73.5641308,
                  45.5517044
                 ],
                 [
                  -73.57468940000001,
                  45.55475379999999
                 ],
                 [
                  -73.5801119,
                  45.5532778
                 ],
                 [
                  -73.5904315,
                  45.5504993
                 ],
                 [
                  -73.5903572,
                  45.550163500000004
                 ],
                 [
                  -73.57015229999999,
                  45.5569248
                 ],
                 [
                  -73.578232,
                  45.548992
                 ],
                 [
                  -73.586252,
                  45.5658559
                 ],
                 [
                  -73.577831,
                  45.542738
                 ],
                 [
                  -73.57583690000001,
                  45.552327399999996
                 ],
                 [
                  -73.57391209999999,
                  45.549955
                 ],
                 [
                  -73.5831872,
                  45.5693077
                 ],
                 [
                  -73.5795729,
                  45.5515612
                 ],
                 [
                  -73.5778725,
                  45.5440433
                 ],
                 [
                  -73.5598682,
                  45.5542131
                 ],
                 [
                  -73.5595115,
                  45.54108970000001
                 ],
                 [
                  -73.57375909999999,
                  45.5600571
                 ],
                 [
                  -73.56760009999999,
                  45.5556408
                 ],
                 [
                  -73.5788755,
                  45.5632434
                 ],
                 [
                  -73.5833652,
                  45.550095
                 ],
                 [
                  -73.5791606,
                  45.547503799999994
                 ],
                 [
                  -73.6469577,
                  45.5657469
                 ],
                 [
                  -73.5724404,
                  45.5589552
                 ],
                 [
                  -73.5673489,
                  45.570974
                 ],
                 [
                  -73.58696859999999,
                  45.554595
                 ],
                 [
                  -73.5767013,
                  45.5454844
                 ],
                 [
                  -73.5692885,
                  45.557590600000005
                 ],
                 [
                  -73.5689605,
                  45.5585331
                 ],
                 [
                  -73.57239100000001,
                  45.54544129999999
                 ],
                 [
                  -73.4717778,
                  45.71794379999999
                 ],
                 [
                  -73.57629370000001,
                  45.54352720000001
                 ],
                 [
                  -73.5591824,
                  45.5392528
                 ],
                 [
                  -73.5722229,
                  45.570618700000004
                 ],
                 [
                  -73.5624263,
                  45.5448164
                 ]
                ],
                [
                 [
                  -71.95428290000001,
                  45.4014722
                 ],
                 [
                  -71.8979286,
                  45.3945501
                 ],
                 [
                  -71.89492059999999,
                  45.3959028
                 ],
                 [
                  -71.9571767,
                  45.4021901
                 ],
                 [
                  -71.87316,
                  45.408564
                 ],
                 [
                  -71.9512674,
                  45.4044896
                 ]
                ],
                [
                 [
                  -72.7383561,
                  46.554334499999996
                 ],
                 [
                  -72.6936862,
                  46.6134523
                 ],
                 [
                  -72.7088415,
                  46.6039185
                 ],
                 [
                  -72.7634128,
                  46.5696182
                 ],
                 [
                  -72.7447355,
                  46.5199391
                 ],
                 [
                  -72.7037228,
                  46.60727979999999
                 ],
                 [
                  -72.7384109,
                  46.563334399999995
                 ],
                 [
                  -72.7620632,
                  46.5718942
                 ],
                 [
                  -72.7521273,
                  46.5559232
                 ],
                 [
                  -72.74685759999998,
                  46.556938200000005
                 ],
                 [
                  -72.7460205,
                  46.5197223
                 ],
                 [
                  -72.7446933,
                  46.5562331
                 ],
                 [
                  -72.7429133,
                  46.5588282
                 ],
                 [
                  -72.7538881,
                  46.525228399999996
                 ],
                 [
                  -72.7612965,
                  46.568324700000005
                 ],
                 [
                  -72.7449814,
                  46.5204343
                 ],
                 [
                  -72.7463848,
                  46.5397508
                 ],
                 [
                  -72.73174759999999,
                  46.50819370000001
                 ],
                 [
                  -72.6969848,
                  46.6133744
                 ],
                 [
                  -72.7410393,
                  46.5612778
                 ],
                 [
                  -72.74574109999999,
                  46.5648117
                 ],
                 [
                  -72.7464423,
                  46.5422731
                 ],
                 [
                  -72.74876,
                  46.55516
                 ],
                 [
                  -72.73626440000001,
                  46.6153338
                 ],
                 [
                  -72.6994932,
                  46.6099552
                 ],
                 [
                  -72.7120308,
                  46.6129295
                 ],
                 [
                  -72.742998,
                  46.518755299999995
                 ],
                 [
                  -72.65063549999999,
                  46.62647570000001
                 ],
                 [
                  -72.750473,
                  46.556369000000004
                 ],
                 [
                  -72.68910100000001,
                  46.6152281
                 ],
                 [
                  -72.7279529,
                  46.504804
                 ],
                 [
                  -72.74283299999999,
                  46.55307
                 ]
                ],
                [
                 [
                  -73.46628709999999,
                  45.5220951
                 ],
                 [
                  -73.4649375,
                  45.4860706
                 ],
                 [
                  -73.505356,
                  45.5198475
                 ],
                 [
                  -73.5065236,
                  45.5181859
                 ],
                 [
                  -73.4772373,
                  45.5128081
                 ],
                 [
                  -73.49157220000001,
                  45.4893259
                 ],
                 [
                  -73.5048386,
                  45.521455200000005
                 ],
                 [
                  -73.48639849999999,
                  45.5228806
                 ],
                 [
                  -73.4810832,
                  45.5133912
                 ],
                 [
                  -73.4784689,
                  45.4911565
                 ],
                 [
                  -73.52255699999999,
                  45.5259495
                 ],
                 [
                  -73.5060375,
                  45.538516200000004
                 ],
                 [
                  -73.4659162,
                  45.52480870000001
                 ],
                 [
                  -73.45300340000001,
                  45.4815938
                 ],
                 [
                  -73.5139573,
                  45.5360244
                 ],
                 [
                  -73.4581679,
                  45.491611299999995
                 ],
                 [
                  -73.48770970000001,
                  45.5191993
                 ],
                 [
                  -73.4757013,
                  45.4779216
                 ],
                 [
                  -73.424696,
                  45.462759000000005
                 ],
                 [
                  -73.45098759999999,
                  45.5679359
                 ],
                 [
                  -73.4510315,
                  45.567902600000004
                 ],
                 [
                  -73.4891109,
                  45.5286103
                 ],
                 [
                  -73.49160390000002,
                  45.5133295
                 ],
                 [
                  -73.4676372,
                  45.4956881
                 ],
                 [
                  -73.4624333,
                  45.4877901
                 ],
                 [
                  -73.4481007,
                  45.516670899999994
                 ],
                 [
                  -73.48445219999999,
                  45.5323983
                 ],
                 [
                  -73.48445219999999,
                  45.5323983
                 ],
                 [
                  -73.4962203,
                  45.507571999999996
                 ],
                 [
                  -73.4798282,
                  45.5385795
                 ],
                 [
                  -73.465352,
                  45.515709
                 ],
                 [
                  -73.4918641,
                  45.51958870000001
                 ],
                 [
                  -73.4782079,
                  45.5351218
                 ],
                 [
                  -73.5056314,
                  45.5126188
                 ],
                 [
                  -73.4875891,
                  45.5349588
                 ],
                 [
                  -73.47815209999999,
                  45.5174265
                 ],
                 [
                  -73.4816765,
                  45.500448600000006
                 ],
                 [
                  -73.4736863,
                  45.528761700000004
                 ],
                 [
                  -73.4974959,
                  45.497635700000004
                 ],
                 [
                  -73.4825637,
                  45.526943
                 ],
                 [
                  -73.48935999999999,
                  45.533
                 ],
                 [
                  -73.4725306,
                  45.519301399999996
                 ],
                 [
                  -73.4675802,
                  45.5392193
                 ],
                 [
                  -73.5221767,
                  45.5249179
                 ],
                 [
                  -73.5221767,
                  45.5249179
                 ],
                 [
                  -73.45729,
                  45.529879
                 ],
                 [
                  -73.4553264,
                  45.5423581
                 ],
                 [
                  -73.49704090000002,
                  45.5256336
                 ],
                 [
                  -73.49942469999999,
                  45.494904999999996
                 ],
                 [
                  -73.4823959,
                  45.5724207
                 ],
                 [
                  -73.4980915,
                  45.510099600000004
                 ],
                 [
                  -73.4632093,
                  45.5142687
                 ],
                 [
                  -73.4840879,
                  45.524306599999996
                 ],
                 [
                  -73.47975059999999,
                  45.517827200000006
                 ],
                 [
                  -73.4679727,
                  45.4796918
                 ],
                 [
                  -73.4703832,
                  45.534876000000004
                 ],
                 [
                  -73.4583318,
                  45.5213391
                 ],
                 [
                  -73.4596895,
                  45.521978999999995
                 ],
                 [
                  -73.4724158,
                  45.5393501
                 ],
                 [
                  -73.4854656,
                  45.4930025
                 ],
                 [
                  -73.4768992,
                  45.4969124
                 ],
                 [
                  -73.5020229,
                  45.5333422
                 ],
                 [
                  -73.51549140000002,
                  45.528628999999995
                 ],
                 [
                  -73.51549140000002,
                  45.528628999999995
                 ],
                 [
                  -73.50742120000001,
                  45.53576079999999
                 ],
                 [
                  -73.49559659999998,
                  45.533130799999995
                 ],
                 [
                  -73.49030259999999,
                  45.5156631
                 ],
                 [
                  -73.49030259999999,
                  45.5156631
                 ],
                 [
                  -73.5124745,
                  45.529177600000004
                 ],
                 [
                  -73.46690749999999,
                  45.490212299999996
                 ],
                 [
                  -73.48587690000001,
                  45.5368341
                 ],
                 [
                  -73.48095500000001,
                  45.4980453
                 ],
                 [
                  -73.4719994,
                  45.5256855
                 ],
                 [
                  -73.4948907,
                  45.508578
                 ],
                 [
                  -73.4993489,
                  45.5129284
                 ],
                 [
                  -73.47833409999998,
                  45.493763200000004
                 ],
                 [
                  -73.48376,
                  45.5516707
                 ],
                 [
                  -73.48899999999999,
                  45.541035
                 ],
                 [
                  -73.4666512,
                  45.5339008
                 ],
                 [
                  -73.49037709999999,
                  45.527745700000004
                 ],
                 [
                  -73.4712168,
                  45.5326372
                 ],
                 [
                  -73.4751156,
                  45.5264994
                 ],
                 [
                  -73.49717120000001,
                  45.517559000000006
                 ],
                 [
                  -73.47324499999999,
                  45.5242056
                 ],
                 [
                  -73.47193309999999,
                  45.4873667
                 ],
                 [
                  -73.49120400000001,
                  45.5335848
                 ],
                 [
                  -73.476886,
                  45.4949629
                 ],
                 [
                  -73.47993659999999,
                  45.5400175
                 ],
                 [
                  -73.4730747,
                  45.4899305
                 ],
                 [
                  -73.47967340000001,
                  45.5657722
                 ],
                 [
                  -73.4833564,
                  45.5303266
                 ],
                 [
                  -73.4814693,
                  45.4939814
                 ],
                 [
                  -73.484431,
                  45.5133089
                 ],
                 [
                  -73.4633968,
                  45.5221025
                 ],
                 [
                  -73.5092348,
                  45.5397351
                 ],
                 [
                  -73.453637,
                  45.5355194
                 ],
                 [
                  -73.4780073,
                  45.5281589
                 ],
                 [
                  -73.4739456,
                  45.4955477
                 ]
                ],
                [
                 [
                  -73.4197238,
                  45.4917662
                 ],
                 [
                  -73.4105832,
                  45.497171200000004
                 ],
                 [
                  -73.41653029999999,
                  45.5017252
                 ],
                 [
                  -73.4297636,
                  45.4758005
                 ],
                 [
                  -73.3993508,
                  45.4878175
                 ],
                 [
                  -73.44069870000001,
                  45.4846111
                 ],
                 [
                  -73.4443063,
                  45.5066394
                 ],
                 [
                  -73.4601421,
                  45.520000700000004
                 ],
                 [
                  -73.42542209999999,
                  45.5008215
                 ],
                 [
                  -73.4486802,
                  45.4791144
                 ],
                 [
                  -73.42910690000001,
                  45.476771
                 ],
                 [
                  -73.41316590000001,
                  45.501168
                 ],
                 [
                  -73.4320878,
                  45.4900488
                 ],
                 [
                  -73.4131913,
                  45.496595500000005
                 ],
                 [
                  -73.388508,
                  45.481876
                 ],
                 [
                  -73.386087,
                  45.4815748
                 ],
                 [
                  -73.45762090000001,
                  45.519768299999996
                 ],
                 [
                  -73.3825644,
                  45.487836
                 ],
                 [
                  -73.4269,
                  45.502275
                 ],
                 [
                  -73.43844449999999,
                  45.4719326
                 ],
                 [
                  -73.3775975,
                  45.4680943
                 ],
                 [
                  -73.4473679,
                  45.506544700000006
                 ]
                ],
                [
                 [
                  -73.47600870000001,
                  45.764340000000004
                 ],
                 [
                  -73.4461179,
                  45.7693036
                 ],
                 [
                  -73.4233872,
                  45.7704519
                 ],
                 [
                  -73.44454250000001,
                  45.76756029999999
                 ],
                 [
                  -73.4130703,
                  45.7842388
                 ],
                 [
                  -73.415374,
                  45.779616
                 ],
                 [
                  -73.444911,
                  45.7669799
                 ],
                 [
                  -73.4588991,
                  45.762122600000005
                 ],
                 [
                  -73.4184076,
                  45.776568299999994
                 ],
                 [
                  -73.4184076,
                  45.776568299999994
                 ],
                 [
                  -73.4052039,
                  45.7798286
                 ],
                 [
                  -73.46940090000001,
                  45.754271100000004
                 ],
                 [
                  -73.46370290000002,
                  45.7562191
                 ],
                 [
                  -73.4314755,
                  45.763783200000006
                 ],
                 [
                  -73.46995290000001,
                  45.7540995
                 ],
                 [
                  -73.47027259999999,
                  45.753891700000004
                 ],
                 [
                  -73.4659798,
                  45.7560065
                 ],
                 [
                  -73.480808,
                  45.729974799999994
                 ],
                 [
                  -73.4614119,
                  45.7586407
                 ],
                 [
                  -73.4799655,
                  45.7574496
                 ]
                ],
                [
                 [
                  -71.4113318,
                  46.8570499
                 ],
                 [
                  -71.33027659999999,
                  46.86331129999999
                 ],
                 [
                  -71.3305868,
                  46.8743947
                 ],
                 [
                  -71.43041,
                  46.75267
                 ],
                 [
                  -71.4675253,
                  46.7404687
                 ],
                 [
                  -71.4675253,
                  46.7404687
                 ],
                 [
                  -71.3295477,
                  46.8624734
                 ],
                 [
                  -71.4318653,
                  46.8429845
                 ],
                 [
                  -71.4179855,
                  46.855318200000006
                 ],
                 [
                  -71.414864,
                  46.85565089999999
                 ],
                 [
                  -71.4104092,
                  46.8581844
                 ],
                 [
                  -71.4104092,
                  46.8581844
                 ],
                 [
                  -71.455239,
                  46.745000299999994
                 ],
                 [
                  -71.42973359999999,
                  46.863359100000004
                 ],
                 [
                  -71.37991120000001,
                  46.751738
                 ],
                 [
                  -71.48729,
                  46.76525
                 ],
                 [
                  -71.41239190000002,
                  46.857697200000004
                 ],
                 [
                  -71.3408,
                  46.8779
                 ],
                 [
                  -71.3274917,
                  46.8758438
                 ],
                 [
                  -71.37537459999999,
                  46.7570205
                 ],
                 [
                  -71.395688,
                  46.839818
                 ],
                 [
                  -71.4242508,
                  46.8593017
                 ],
                 [
                  -71.5169218,
                  46.886892100000004
                 ]
                ]
               ],
               "type": "Polygon"
              },
              "type": "Feature"
             }
            ],
            "type": "FeatureCollection"
           },
           "type": "fill"
          }
         ],
         "style": "open-street-map",
         "zoom": 8
        },
        "margin": {
         "b": 0,
         "l": 0,
         "r": 0,
         "t": 0
        },
        "template": {
         "data": {
          "bar": [
           {
            "error_x": {
             "color": "#2a3f5f"
            },
            "error_y": {
             "color": "#2a3f5f"
            },
            "marker": {
             "line": {
              "color": "#E5ECF6",
              "width": 0.5
             }
            },
            "type": "bar"
           }
          ],
          "barpolar": [
           {
            "marker": {
             "line": {
              "color": "#E5ECF6",
              "width": 0.5
             }
            },
            "type": "barpolar"
           }
          ],
          "carpet": [
           {
            "aaxis": {
             "endlinecolor": "#2a3f5f",
             "gridcolor": "white",
             "linecolor": "white",
             "minorgridcolor": "white",
             "startlinecolor": "#2a3f5f"
            },
            "baxis": {
             "endlinecolor": "#2a3f5f",
             "gridcolor": "white",
             "linecolor": "white",
             "minorgridcolor": "white",
             "startlinecolor": "#2a3f5f"
            },
            "type": "carpet"
           }
          ],
          "choropleth": [
           {
            "colorbar": {
             "outlinewidth": 0,
             "ticks": ""
            },
            "type": "choropleth"
           }
          ],
          "contour": [
           {
            "colorbar": {
             "outlinewidth": 0,
             "ticks": ""
            },
            "colorscale": [
             [
              0,
              "#0d0887"
             ],
             [
              0.1111111111111111,
              "#46039f"
             ],
             [
              0.2222222222222222,
              "#7201a8"
             ],
             [
              0.3333333333333333,
              "#9c179e"
             ],
             [
              0.4444444444444444,
              "#bd3786"
             ],
             [
              0.5555555555555556,
              "#d8576b"
             ],
             [
              0.6666666666666666,
              "#ed7953"
             ],
             [
              0.7777777777777778,
              "#fb9f3a"
             ],
             [
              0.8888888888888888,
              "#fdca26"
             ],
             [
              1,
              "#f0f921"
             ]
            ],
            "type": "contour"
           }
          ],
          "contourcarpet": [
           {
            "colorbar": {
             "outlinewidth": 0,
             "ticks": ""
            },
            "type": "contourcarpet"
           }
          ],
          "heatmap": [
           {
            "colorbar": {
             "outlinewidth": 0,
             "ticks": ""
            },
            "colorscale": [
             [
              0,
              "#0d0887"
             ],
             [
              0.1111111111111111,
              "#46039f"
             ],
             [
              0.2222222222222222,
              "#7201a8"
             ],
             [
              0.3333333333333333,
              "#9c179e"
             ],
             [
              0.4444444444444444,
              "#bd3786"
             ],
             [
              0.5555555555555556,
              "#d8576b"
             ],
             [
              0.6666666666666666,
              "#ed7953"
             ],
             [
              0.7777777777777778,
              "#fb9f3a"
             ],
             [
              0.8888888888888888,
              "#fdca26"
             ],
             [
              1,
              "#f0f921"
             ]
            ],
            "type": "heatmap"
           }
          ],
          "heatmapgl": [
           {
            "colorbar": {
             "outlinewidth": 0,
             "ticks": ""
            },
            "colorscale": [
             [
              0,
              "#0d0887"
             ],
             [
              0.1111111111111111,
              "#46039f"
             ],
             [
              0.2222222222222222,
              "#7201a8"
             ],
             [
              0.3333333333333333,
              "#9c179e"
             ],
             [
              0.4444444444444444,
              "#bd3786"
             ],
             [
              0.5555555555555556,
              "#d8576b"
             ],
             [
              0.6666666666666666,
              "#ed7953"
             ],
             [
              0.7777777777777778,
              "#fb9f3a"
             ],
             [
              0.8888888888888888,
              "#fdca26"
             ],
             [
              1,
              "#f0f921"
             ]
            ],
            "type": "heatmapgl"
           }
          ],
          "histogram": [
           {
            "marker": {
             "colorbar": {
              "outlinewidth": 0,
              "ticks": ""
             }
            },
            "type": "histogram"
           }
          ],
          "histogram2d": [
           {
            "colorbar": {
             "outlinewidth": 0,
             "ticks": ""
            },
            "colorscale": [
             [
              0,
              "#0d0887"
             ],
             [
              0.1111111111111111,
              "#46039f"
             ],
             [
              0.2222222222222222,
              "#7201a8"
             ],
             [
              0.3333333333333333,
              "#9c179e"
             ],
             [
              0.4444444444444444,
              "#bd3786"
             ],
             [
              0.5555555555555556,
              "#d8576b"
             ],
             [
              0.6666666666666666,
              "#ed7953"
             ],
             [
              0.7777777777777778,
              "#fb9f3a"
             ],
             [
              0.8888888888888888,
              "#fdca26"
             ],
             [
              1,
              "#f0f921"
             ]
            ],
            "type": "histogram2d"
           }
          ],
          "histogram2dcontour": [
           {
            "colorbar": {
             "outlinewidth": 0,
             "ticks": ""
            },
            "colorscale": [
             [
              0,
              "#0d0887"
             ],
             [
              0.1111111111111111,
              "#46039f"
             ],
             [
              0.2222222222222222,
              "#7201a8"
             ],
             [
              0.3333333333333333,
              "#9c179e"
             ],
             [
              0.4444444444444444,
              "#bd3786"
             ],
             [
              0.5555555555555556,
              "#d8576b"
             ],
             [
              0.6666666666666666,
              "#ed7953"
             ],
             [
              0.7777777777777778,
              "#fb9f3a"
             ],
             [
              0.8888888888888888,
              "#fdca26"
             ],
             [
              1,
              "#f0f921"
             ]
            ],
            "type": "histogram2dcontour"
           }
          ],
          "mesh3d": [
           {
            "colorbar": {
             "outlinewidth": 0,
             "ticks": ""
            },
            "type": "mesh3d"
           }
          ],
          "parcoords": [
           {
            "line": {
             "colorbar": {
              "outlinewidth": 0,
              "ticks": ""
             }
            },
            "type": "parcoords"
           }
          ],
          "pie": [
           {
            "automargin": true,
            "type": "pie"
           }
          ],
          "scatter": [
           {
            "marker": {
             "colorbar": {
              "outlinewidth": 0,
              "ticks": ""
             }
            },
            "type": "scatter"
           }
          ],
          "scatter3d": [
           {
            "line": {
             "colorbar": {
              "outlinewidth": 0,
              "ticks": ""
             }
            },
            "marker": {
             "colorbar": {
              "outlinewidth": 0,
              "ticks": ""
             }
            },
            "type": "scatter3d"
           }
          ],
          "scattercarpet": [
           {
            "marker": {
             "colorbar": {
              "outlinewidth": 0,
              "ticks": ""
             }
            },
            "type": "scattercarpet"
           }
          ],
          "scattergeo": [
           {
            "marker": {
             "colorbar": {
              "outlinewidth": 0,
              "ticks": ""
             }
            },
            "type": "scattergeo"
           }
          ],
          "scattergl": [
           {
            "marker": {
             "colorbar": {
              "outlinewidth": 0,
              "ticks": ""
             }
            },
            "type": "scattergl"
           }
          ],
          "scattermapbox": [
           {
            "marker": {
             "colorbar": {
              "outlinewidth": 0,
              "ticks": ""
             }
            },
            "type": "scattermapbox"
           }
          ],
          "scatterpolar": [
           {
            "marker": {
             "colorbar": {
              "outlinewidth": 0,
              "ticks": ""
             }
            },
            "type": "scatterpolar"
           }
          ],
          "scatterpolargl": [
           {
            "marker": {
             "colorbar": {
              "outlinewidth": 0,
              "ticks": ""
             }
            },
            "type": "scatterpolargl"
           }
          ],
          "scatterternary": [
           {
            "marker": {
             "colorbar": {
              "outlinewidth": 0,
              "ticks": ""
             }
            },
            "type": "scatterternary"
           }
          ],
          "surface": [
           {
            "colorbar": {
             "outlinewidth": 0,
             "ticks": ""
            },
            "colorscale": [
             [
              0,
              "#0d0887"
             ],
             [
              0.1111111111111111,
              "#46039f"
             ],
             [
              0.2222222222222222,
              "#7201a8"
             ],
             [
              0.3333333333333333,
              "#9c179e"
             ],
             [
              0.4444444444444444,
              "#bd3786"
             ],
             [
              0.5555555555555556,
              "#d8576b"
             ],
             [
              0.6666666666666666,
              "#ed7953"
             ],
             [
              0.7777777777777778,
              "#fb9f3a"
             ],
             [
              0.8888888888888888,
              "#fdca26"
             ],
             [
              1,
              "#f0f921"
             ]
            ],
            "type": "surface"
           }
          ],
          "table": [
           {
            "cells": {
             "fill": {
              "color": "#EBF0F8"
             },
             "line": {
              "color": "white"
             }
            },
            "header": {
             "fill": {
              "color": "#C8D4E3"
             },
             "line": {
              "color": "white"
             }
            },
            "type": "table"
           }
          ]
         },
         "layout": {
          "annotationdefaults": {
           "arrowcolor": "#2a3f5f",
           "arrowhead": 0,
           "arrowwidth": 1
          },
          "coloraxis": {
           "colorbar": {
            "outlinewidth": 0,
            "ticks": ""
           }
          },
          "colorscale": {
           "diverging": [
            [
             0,
             "#8e0152"
            ],
            [
             0.1,
             "#c51b7d"
            ],
            [
             0.2,
             "#de77ae"
            ],
            [
             0.3,
             "#f1b6da"
            ],
            [
             0.4,
             "#fde0ef"
            ],
            [
             0.5,
             "#f7f7f7"
            ],
            [
             0.6,
             "#e6f5d0"
            ],
            [
             0.7,
             "#b8e186"
            ],
            [
             0.8,
             "#7fbc41"
            ],
            [
             0.9,
             "#4d9221"
            ],
            [
             1,
             "#276419"
            ]
           ],
           "sequential": [
            [
             0,
             "#0d0887"
            ],
            [
             0.1111111111111111,
             "#46039f"
            ],
            [
             0.2222222222222222,
             "#7201a8"
            ],
            [
             0.3333333333333333,
             "#9c179e"
            ],
            [
             0.4444444444444444,
             "#bd3786"
            ],
            [
             0.5555555555555556,
             "#d8576b"
            ],
            [
             0.6666666666666666,
             "#ed7953"
            ],
            [
             0.7777777777777778,
             "#fb9f3a"
            ],
            [
             0.8888888888888888,
             "#fdca26"
            ],
            [
             1,
             "#f0f921"
            ]
           ],
           "sequentialminus": [
            [
             0,
             "#0d0887"
            ],
            [
             0.1111111111111111,
             "#46039f"
            ],
            [
             0.2222222222222222,
             "#7201a8"
            ],
            [
             0.3333333333333333,
             "#9c179e"
            ],
            [
             0.4444444444444444,
             "#bd3786"
            ],
            [
             0.5555555555555556,
             "#d8576b"
            ],
            [
             0.6666666666666666,
             "#ed7953"
            ],
            [
             0.7777777777777778,
             "#fb9f3a"
            ],
            [
             0.8888888888888888,
             "#fdca26"
            ],
            [
             1,
             "#f0f921"
            ]
           ]
          },
          "colorway": [
           "#636efa",
           "#EF553B",
           "#00cc96",
           "#ab63fa",
           "#FFA15A",
           "#19d3f3",
           "#FF6692",
           "#B6E880",
           "#FF97FF",
           "#FECB52"
          ],
          "font": {
           "color": "#2a3f5f"
          },
          "geo": {
           "bgcolor": "white",
           "lakecolor": "white",
           "landcolor": "#E5ECF6",
           "showlakes": true,
           "showland": true,
           "subunitcolor": "white"
          },
          "hoverlabel": {
           "align": "left"
          },
          "hovermode": "closest",
          "mapbox": {
           "style": "light"
          },
          "paper_bgcolor": "white",
          "plot_bgcolor": "#E5ECF6",
          "polar": {
           "angularaxis": {
            "gridcolor": "white",
            "linecolor": "white",
            "ticks": ""
           },
           "bgcolor": "#E5ECF6",
           "radialaxis": {
            "gridcolor": "white",
            "linecolor": "white",
            "ticks": ""
           }
          },
          "scene": {
           "xaxis": {
            "backgroundcolor": "#E5ECF6",
            "gridcolor": "white",
            "gridwidth": 2,
            "linecolor": "white",
            "showbackground": true,
            "ticks": "",
            "zerolinecolor": "white"
           },
           "yaxis": {
            "backgroundcolor": "#E5ECF6",
            "gridcolor": "white",
            "gridwidth": 2,
            "linecolor": "white",
            "showbackground": true,
            "ticks": "",
            "zerolinecolor": "white"
           },
           "zaxis": {
            "backgroundcolor": "#E5ECF6",
            "gridcolor": "white",
            "gridwidth": 2,
            "linecolor": "white",
            "showbackground": true,
            "ticks": "",
            "zerolinecolor": "white"
           }
          },
          "shapedefaults": {
           "line": {
            "color": "#2a3f5f"
           }
          },
          "ternary": {
           "aaxis": {
            "gridcolor": "white",
            "linecolor": "white",
            "ticks": ""
           },
           "baxis": {
            "gridcolor": "white",
            "linecolor": "white",
            "ticks": ""
           },
           "bgcolor": "#E5ECF6",
           "caxis": {
            "gridcolor": "white",
            "linecolor": "white",
            "ticks": ""
           }
          },
          "title": {
           "x": 0.05
          },
          "xaxis": {
           "automargin": true,
           "gridcolor": "white",
           "linecolor": "white",
           "ticks": "",
           "title": {
            "standoff": 15
           },
           "zerolinecolor": "white",
           "zerolinewidth": 2
          },
          "yaxis": {
           "automargin": true,
           "gridcolor": "white",
           "linecolor": "white",
           "ticks": "",
           "title": {
            "standoff": 15
           },
           "zerolinecolor": "white",
           "zerolinewidth": 2
          }
         }
        }
       }
      },
      "text/html": [
       "<div>\n",
       "        \n",
       "        \n",
       "            <div id=\"d754f0ee-562e-4147-b9c6-2b5bdca55be4\" class=\"plotly-graph-div\" style=\"height:525px; width:100%;\"></div>\n",
       "            <script type=\"text/javascript\">\n",
       "                require([\"plotly\"], function(Plotly) {\n",
       "                    window.PLOTLYENV=window.PLOTLYENV || {};\n",
       "                    \n",
       "                if (document.getElementById(\"d754f0ee-562e-4147-b9c6-2b5bdca55be4\")) {\n",
       "                    Plotly.newPlot(\n",
       "                        'd754f0ee-562e-4147-b9c6-2b5bdca55be4',\n",
       "                        [{\"lat\": [45.537593, 45.488636, 48.3878711, 46.7956598, 45.510310700000005, 45.755632899999995, 46.835607, 45.473949, 45.518215399999995, 46.891487700000006, 45.5144682, 45.5336184, 46.8679355, 45.535530200000004, 45.4650792, 48.241944399999994, 45.5188044, 45.5129793, 45.5486995, 45.500265, 45.4998571, 45.510319, 45.510319, 45.4014722, 48.473097100000004, 45.459886700000006, 45.5212833, 45.477963700000004, 46.554334499999996, 46.83492639999999, 45.575587299999995, 45.461001, 45.576084200000004, 45.5363773, 45.5220951, 46.7865302, 45.4860706, 45.5243434, 45.5255925, 45.4814067, 45.5050263, 45.505055, 45.5426053, 45.544699, 45.4924311, 45.4828119, 45.4828196, 45.5198475, 46.6134523, 45.555593, 45.531281899999996, 45.74664179999999, 48.2431951, 45.530368200000005, 45.5181859, 46.6039185, 45.477182899999995, 45.543833500000005, 45.4917662, 46.839277100000004, 45.4827055, 45.4635801, 46.5696182, 46.8047293, 46.854412700000005, 45.4800939, 45.4814162, 45.497171200000004, 48.430718, 45.5128081, 45.453583, 45.5408907, 45.4893259, 46.8199384, 45.489481700000006, 45.5381124, 45.51985560000001, 45.5406272, 45.500983000000005, 45.500467900000004, 45.5166438, 45.5166229, 46.8136071, 45.764340000000004, 46.5199391, 46.788579299999995, 46.8052664, 46.7757675, 46.8208359, 46.8555075, 46.8028996, 45.5239867, 45.5375357, 46.77101029999999, 46.7710729, 45.5301861, 46.60727979999999, 45.521455200000005, 45.5228806, 45.515708000000004, 45.5288212, 45.534197799999994, 45.521857700000005, 45.5302597, 45.510577000000005, 45.7693036, 46.8965297, 45.4733304, 45.5468442, 45.5100597, 46.8368679, 45.514549, 46.8325222, 46.8011869, 45.5356678, 45.5133912, 45.535841299999994, 45.4952842, 46.563334399999995, 46.8045252, 46.811432, 46.8372428, 46.8909411, 45.500174, 45.5480259, 45.5218159, 46.8089956, 45.4911565, 45.501174799999994, 45.5181027, 45.4866269, 45.4866269, 45.5446559, 45.46720139999999, 45.50198220000001, 45.5005083, 45.5116006, 45.5215451, 45.502537100000005, 45.493519, 45.5259495, 46.5718942, 45.7526227, 45.7191889, 45.529302, 46.8446932, 46.8570499, 45.5001121, 45.573932, 45.53825820000001, 45.5017252, 45.557026799999996, 46.8372401, 46.8372401, 48.467893100000005, 46.5559232, 45.5110528, 46.7685071, 45.7704519, 45.494002, 45.4943351, 45.5368631, 45.474995799999995, 45.456385100000006, 45.5269531, 45.53019320000001, 45.563867200000004, 45.4707735, 45.5583407, 46.9175469, 45.538516200000004, 45.4545151, 45.454471999999996, 45.5329753, 45.537753, 45.549659999999996, 45.494900200000004, 45.494960600000006, 45.5339451, 45.50042979999999, 46.8396619, 46.839253799999994, 45.51900379999999, 48.2477973, 46.93048220000001, 45.4758005, 46.816360700000004, 45.4932544, 45.500133, 45.7443982, 45.5191395, 46.8257407, 45.533899, 45.533899, 45.52480870000001, 45.497349, 45.49604, 45.516142200000004, 45.5165703, 46.885501299999994, 46.889960200000004, 45.4905307, 46.8135679, 46.8504854, 46.8136708, 46.556938200000005, 46.8787741, 46.8787741, 45.505953000000005, 45.5060225, 45.506171, 45.462112, 45.4815938, 46.882800399999994, 45.4834469, 45.4879623, 45.5078099, 45.5078099, 46.5197223, 45.4996169, 46.811637100000006, 45.4766013, 45.5186729, 45.518539000000004, 45.533414, 45.5561588, 46.86331129999999, 45.5360244, 45.491611299999995, 45.5441377, 46.8090408, 45.5191993, 45.4619149, 45.564945, 46.8743947, 46.8642674, 48.233219, 45.4915042, 46.8914079, 45.4779216, 45.4935112, 45.4878175, 45.462759000000005, 45.5463486, 46.826494, 45.561738, 46.816255, 45.5546445, 45.5679359, 45.567902600000004, 46.8029984, 45.5374158, 45.5586091, 47.9127764, 45.544746, 45.483689500000004, 45.527044200000006, 46.75267, 46.8234838, 45.5350677, 45.456151, 45.5286103, 45.4846111, 46.5562331, 45.525432, 45.5278229, 45.527440500000004, 45.56668, 45.5133295, 46.831307200000005, 45.49961079999999, 45.4992821, 45.4956881, 45.5237369, 45.5312557, 45.466962, 46.8233118, 46.5588282, 45.54742460000001, 45.4877901, 45.517737700000005, 45.516670899999994, 46.8128563, 45.554025700000004, 45.470721999999995, 45.476365, 45.5323983, 45.5323983, 45.483167, 45.558859999999996, 45.5416727, 45.5425854, 45.5066394, 45.4641836, 45.5308487, 45.5283228, 46.7404687, 46.7404687, 45.529880299999995, 45.5262667, 45.449909000000005, 45.76756029999999, 45.5668191, 45.5149045, 45.5294658, 45.5203702, 46.806683500000005, 45.507571999999996, 45.4514109, 46.8150396, 45.5235286, 45.5684112, 46.848389399999995, 48.441093, 45.5094278, 45.537136600000004, 45.5385795, 46.837709999999994, 46.8481887, 45.4934271, 45.495461, 45.532497, 45.5238193, 45.520000700000004, 46.8134, 45.515709, 48.222730799999994, 45.4667531, 45.4665492, 45.5224639, 45.562683, 45.5524354, 45.5103999, 46.796485700000005, 45.5041009, 45.525804799999996, 45.4782589, 45.4780614, 45.5008215, 45.5232782, 45.523292299999994, 45.5728253, 46.873002500000005, 46.828584899999996, 45.536534499999995, 45.519031, 45.5453854, 48.2271305, 45.536, 48.240164299999996, 45.5351599, 45.455290000000005, 45.720839899999994, 45.492222600000005, 45.5357275, 45.51958870000001, 46.8217471, 46.8217471, 45.530136999999996, 45.4797987, 46.804565999999994, 46.852028499999996, 45.509184000000005, 45.505461100000005, 45.477959399999996, 45.5384088, 45.533324, 46.812155499999996, 45.460562200000005, 45.5707321, 48.442685299999994, 45.567557799999996, 45.5476564, 45.5351218, 45.5256849, 45.543957899999995, 45.488805, 45.4895797, 45.48937, 45.5126188, 46.8135022, 45.547424400000004, 46.525228399999996, 45.7322565, 45.5061379, 45.5726097, 45.498047799999995, 45.498175700000004, 46.8624734, 45.5349588, 45.5212682, 45.514066899999996, 46.843703000000005, 45.5174265, 46.799059299999996, 45.5217339, 45.5192886, 46.9101974, 46.8429845, 45.5520054, 45.555718, 48.4376039, 45.516694, 45.516694, 46.8120852, 46.870141100000005, 46.8410703, 46.855318200000006, 46.8435762, 46.8198609, 46.8198609, 46.8121559, 48.4351174, 45.7842388, 45.4977436, 45.5392036, 45.5392036, 45.539162899999994, 45.5389756, 45.500448600000006, 45.5026306, 45.5204736, 45.5154352, 46.9088558, 45.5072429, 46.8042364, 46.787655900000004, 45.472923, 46.839698799999994, 46.8754898, 45.523098100000006, 45.3945501, 46.818226200000005, 45.779616, 46.8585642, 46.8586431, 45.5298873, 45.4976435, 45.4979448, 46.888308200000004, 45.530477000000005, 45.50083, 48.438630700000004, 45.5418565, 45.557074, 46.568324700000005, 45.4802003, 46.7626088, 46.8724615, 45.55413660000001, 46.8227639, 45.472285299999996, 45.47206, 45.555094, 45.528761700000004, 45.4974422, 45.50111, 45.4791144, 45.502846399999996, 46.799155299999995, 45.5713987, 45.497635700000004, 46.8100302, 45.526943, 45.5641458, 46.5204343, 46.886677899999995, 45.533, 45.7669799, 45.5206831, 46.7970229, 46.8075825, 45.4564991, 45.50941029999999, 46.853722999999995, 46.5397508, 46.8435867, 46.80324, 45.469066600000005, 45.5422402, 45.5377919, 45.5450209, 45.4778062, 45.476863, 46.817518299999996, 45.519301399999996, 45.4520893, 45.453153, 46.8622006, 45.510405, 46.8953805, 46.895104100000005, 45.458939799999996, 45.465981299999996, 46.8938578, 45.5392193, 45.5353317, 46.850831799999995, 45.551328999999996, 45.4966036, 45.496641499999996, 46.9030305, 45.762122600000005, 46.88361, 48.2320578, 45.5252312, 45.496060799999995, 45.535226200000004, 45.572010999999996, 45.5249179, 45.5249179, 46.50819370000001, 46.8422365, 46.810502, 45.529879, 45.514609, 45.5149552, 45.5423581, 48.462826299999996, 45.4977245, 45.5003412, 45.451209999999996, 46.8301456, 45.453913, 45.5517044, 45.7337308, 45.531740899999996, 45.477713, 46.8387184, 45.4712203, 45.530392600000006, 45.5764597, 45.4962474, 45.5406888, 46.7469929, 45.5376778, 45.50102329999999, 45.55475379999999, 46.8116509, 46.8140474, 48.4450826, 45.5390299, 45.476771, 45.5532778, 46.809706, 46.809706, 45.5256336, 45.536491, 46.8112992, 45.7487153, 45.5504993, 46.850120600000004, 46.6133744, 48.2411066, 46.8261206, 45.4905278, 48.4359648, 45.5071239, 45.533141, 45.776568299999994, 45.776568299999994, 46.81217120000001, 46.7671645, 45.52491, 45.537119, 46.7648466, 45.462736, 45.550163500000004, 45.7798286, 46.813458000000004, 45.501168, 45.4818004, 45.4818004, 45.4818004, 45.4818004, 48.5131202, 45.5012014, 46.835829700000005, 45.538608, 46.83706, 45.4787775, 46.7667135, 46.808235700000004, 45.503243, 46.7814325, 45.494904999999996, 46.87662520000001, 45.5569248, 45.5494837, 45.4879465, 45.530442, 45.5724207, 45.548992, 45.5658559, 45.510099600000004, 46.8285773, 46.8719516, 46.872469099999996, 46.874130900000004, 45.4801044, 46.8497139, 45.521119, 45.534253, 46.7811331, 45.542738, 46.85565089999999, 46.776897600000005, 45.4932145, 46.8092919, 45.4900488, 45.502466, 46.804817, 45.4795202, 45.4542851, 46.84520070000001, 46.84520070000001, 46.8522891, 46.8722702, 45.4567435, 46.7719696, 45.53994960000001, 45.5318684, 45.492821, 45.529902299999996, 46.5612778, 45.55066729999999, 46.9369784, 46.856569799999995, 45.450032, 46.8551939, 45.552327399999996, 45.5142687, 45.524306599999996, 45.5268962, 45.526566700000004, 46.8450715, 45.5528086, 45.5429042, 45.542845899999996, 48.2365576, 45.5505007, 46.8087497, 46.783583, 45.5350129, 45.537564, 45.517827200000006, 45.75375089999999, 46.8344965, 48.439182200000005, 45.549955, 45.5250239, 45.4796918, 46.8235945, 45.534876000000004, 45.5213391, 45.521978999999995, 46.843644700000006, 46.843644700000006, 45.5393501, 46.5648117, 45.5693077, 45.496774, 45.7316726, 45.496595500000005, 45.536658200000005, 45.5082028, 45.5315158, 45.5017649, 45.534698999999996, 48.455566, 45.5272924, 45.4897153, 45.4930025, 46.786974900000004, 45.5309797, 45.5203464, 45.4971662, 45.5331963, 45.5515612, 45.485633, 45.485513700000006, 45.537431700000006, 45.3959028, 45.5440433, 46.788962299999994, 45.754271100000004, 45.5195213, 45.4969124, 45.5107939, 45.5317259, 46.8143924, 45.498894899999996, 46.5422731, 45.5542131, 45.5333422, 46.55516, 45.528628999999995, 45.528628999999995, 46.8069329, 46.821966499999995, 45.54108970000001, 45.481876, 45.53576079999999, 45.533130799999995, 45.503026, 48.235513, 48.2253883, 45.5168907, 45.5156631, 45.5156631, 45.4866434, 45.5311878, 45.49601989999999, 45.477589, 45.5663616, 45.560926, 45.4898119, 46.784278, 46.8581844, 46.8581844, 45.529177600000004, 45.5178516, 45.5133421, 45.490212299999996, 46.7944508, 45.5368341, 45.7562191, 45.7563598, 45.51773920000001, 45.481313, 45.4530656, 45.5012294, 45.5379559, 45.477033, 45.468262, 45.490049299999995, 45.48472460000001, 46.7785919, 45.763783200000006, 45.4796471, 46.8332331, 46.8695021, 45.507745899999996, 45.554871, 45.5055465, 45.504901600000004, 45.494169, 45.4980453, 45.56889279999999, 46.7604763, 45.504557899999995, 45.480883, 45.5256855, 45.7447533, 46.8771472, 45.509780299999996, 45.525792100000004, 45.5344458, 46.804823799999994, 46.856667, 45.454977500000005, 45.4951698, 45.4869285, 45.508578, 45.5200805, 45.5050038, 45.505033000000005, 46.8568283, 45.470028899999996, 45.5003917, 45.514143, 45.5600571, 45.484015500000005, 45.546814700000006, 45.546814700000006, 45.493238700000006, 45.496565000000004, 45.5129284, 45.4021901, 45.5239876, 45.4977411, 45.5023311, 45.4943555, 45.5360459, 45.5238623, 46.8394672, 45.4815748, 45.5395375, 45.4946306, 46.8258626, 45.4766476, 45.4795946, 45.533874100000006, 45.471171000000005, 46.861517299999996, 45.5400785, 45.517010799999994, 45.4767494, 45.52669, 45.511224600000006, 45.519768299999996, 45.5218613, 45.493763200000004, 45.747415999999994, 45.5556408, 45.5245327, 45.519234000000004, 45.5516707, 45.497184000000004, 46.8151085, 45.532654, 45.5235987, 45.494941100000005, 46.902625, 45.5632434, 45.528338899999994, 45.494852, 46.745000299999994, 46.8153193, 45.550391999999995, 48.4631258, 45.541035, 46.6153338, 45.46423729999999, 45.5495882, 45.518864, 45.550095, 46.88483, 45.5566943, 45.5283322, 46.860625399999996, 46.860098, 45.509869, 45.536665899999996, 45.530779700000004, 46.8873559, 46.80317410000001, 45.495802399999995, 46.8437945, 45.545920200000005, 45.4961325, 45.5456061, 45.5176623, 46.8733979, 45.4895056, 45.5339008, 45.54084279999999, 46.6099552, 45.532303000000006, 45.534634999999994, 46.826036, 45.527745700000004, 45.5326372, 45.496038, 45.4955445, 45.4960371, 45.519121999999996, 45.5039643, 46.863359100000004, 45.4686961, 45.5115088, 46.7955387, 48.11261, 48.224968200000006, 46.852912700000005, 48.2467264, 45.494978, 45.525807, 45.547503799999994, 45.5269939, 46.76546, 46.7619667, 45.5082209, 45.5264994, 45.548671, 45.522403499999996, 45.4970075, 45.487836, 45.502275, 45.5124685, 45.4740183, 45.53753, 45.4865467, 45.5657469, 45.5124261, 45.479726, 45.479726, 46.808808899999995, 45.53353679999999, 45.480138700000005, 46.6129295, 45.5301523, 45.517559000000006, 45.546162, 45.5242056, 45.4721493, 45.543358399999995, 45.543358399999995, 45.543243200000006, 45.496648, 46.902437299999995, 45.742263, 46.857420399999995, 45.5056339, 45.4719326, 45.730469299999996, 45.7304989, 45.516799299999995, 45.53432479999999, 45.557938, 46.8113555, 45.537330499999996, 45.495380700000005, 45.50564489999999, 45.4970434, 45.4873667, 45.51847, 45.5335848, 45.5277982, 45.7394641, 45.498195, 45.518161299999996, 46.75624129999999, 45.494978, 45.5252912, 45.535784, 45.5073536, 45.507476399999994, 45.7418553, 45.493402, 48.458462899999994, 46.769274200000005, 46.7692001, 46.773506700000006, 45.7316539, 45.480728000000006, 46.8632573, 46.751738, 46.518755299999995, 45.5589552, 45.4949629, 45.408564, 45.5382561, 45.7479626, 46.804678100000004, 45.551078499999996, 45.4848375, 46.829057899999995, 45.570974, 45.5082563, 45.5502591, 45.4985403, 46.826283399999994, 45.4665521, 45.552158, 45.5009341, 45.5009341, 45.5400175, 45.484879299999996, 45.484796, 45.54007360000001, 46.793140799999996, 46.81007279999999, 45.7540995, 45.753891700000004, 45.4973237, 45.546881, 45.523676200000004, 46.8164585, 45.5219939, 45.554595, 45.4593881, 45.5224701, 46.62647570000001, 45.453877, 45.482394, 46.7867359, 46.78651, 46.85127670000001, 45.532438, 48.2380375, 48.238058, 45.482538700000006, 46.8482421, 45.5067549, 45.521041, 45.5454844, 45.557590600000005, 46.8673654, 46.9119927, 45.514911, 45.4680943, 45.511586, 45.511586, 46.856242, 45.5241071, 45.467655, 46.76525, 46.9511229, 45.4704075, 46.8231631, 45.5053299, 45.4044896, 45.540308, 45.538722, 46.865754200000005, 45.5380399, 45.535973799999994, 45.535982000000004, 45.547357299999994, 45.5471946, 46.86325720000001, 48.2379672, 48.241506, 45.5154652, 46.7706734, 45.4899305, 45.5139461, 45.537584499999994, 45.568646, 46.556369000000004, 45.5296198, 46.6152281, 45.535304, 45.520773299999995, 45.578961299999996, 45.565206599999996, 45.474103899999996, 45.516273999999996, 45.5585331, 45.50837979999999, 45.4805, 45.467577, 45.5657722, 45.5463631, 45.473974, 45.4592487, 45.522828999999994, 46.504804, 45.465649, 45.526945899999994, 46.857697200000004, 48.236205, 45.481625, 45.54544129999999, 45.517083, 45.5186, 45.528749, 45.5025099, 45.71794379999999, 48.448224200000006, 45.5335244, 45.5303266, 45.5369782, 45.5182228, 45.5180292, 45.4939814, 46.888185299999996, 45.477993, 46.930354, 45.476821, 45.4596255, 45.469807, 45.7560065, 45.5584948, 45.5133089, 46.806132, 46.854695899999996, 46.8223804, 46.773587899999995, 45.5221025, 45.506544700000006, 45.4918815, 45.54352720000001, 45.5294081, 45.566800799999996, 46.7931814, 46.89884, 46.810331, 45.5392528, 45.570618700000004, 45.5522214, 46.812938, 46.812938, 45.5171479, 45.485761100000005, 46.8155711, 45.519611499999996, 45.50238220000001, 45.5018406, 45.505660999999996, 45.529362899999995, 45.5397351, 45.5448164, 45.456184, 45.4927815, 45.457285, 45.5116604, 45.54374, 46.8079537, 45.4542961, 45.475897100000005, 46.809899, 46.827163, 46.8088338, 46.8752345, 46.777074, 46.813363, 46.8765528, 46.814886, 46.55307, 45.729974799999994, 45.5355194, 45.50689129999999, 45.5481052, 46.877209, 45.4934177, 46.847714, 45.5299652, 45.7586407, 46.916613, 46.8779, 46.8101841, 45.5310152, 45.5067196, 46.8758438, 46.769966499999995, 46.7570205, 46.8030531, 45.521090799999996, 46.8105929, 45.5177773, 45.5281589, 45.500331200000005, 45.4816755, 45.742940999999995, 45.504344399999994, 45.519014299999995, 45.4583407, 48.2392679, 46.8711612, 46.808614399999996, 46.7582437, 46.839818, 46.8593017, 46.886892100000004, 46.8881818, 46.760380700000006, 46.8177823, 45.7574496, 46.8166991, 45.4955477], \"lon\": [-73.597075, -73.568175, -68.4706861, -71.3561663, -73.570841, -73.44680859999998, -71.21863990000001, -73.603989, -73.5781092, -71.2141851, -73.55699090000002, -73.5959721, -71.1801463, -73.5821607, -73.6259151, -79.0310436, -73.5560497, -73.6306253, -73.5741421, -73.5748868, -73.57434040000001, -73.57500329999999, -73.57500329999999, -71.95428290000001, -68.5080816, -73.6245821, -73.5946095, -73.5610195, -72.7383561, -71.23993, -73.6471295, -73.5924047, -73.65558670000001, -73.5801377, -73.46628709999999, -71.2471732, -73.4649375, -73.6005277, -73.6035845, -73.6313923, -73.5710036, -73.57139240000001, -73.5878873, -73.5882083, -73.6327222, -73.579699, -73.5796493, -73.505356, -72.6936862, -73.667276, -73.5809405, -73.4630257, -79.0406838, -73.6085368, -73.5065236, -72.7088415, -73.58737540000001, -73.577163, -73.4197238, -71.239331, -73.57857, -73.5831545, -72.7634128, -71.2439177, -71.27653149999999, -73.55881240000001, -73.5641863, -73.4105832, -68.5839784, -73.4772373, -73.6372269, -73.5880042, -73.49157220000001, -71.2574357, -73.5721152, -73.6058333, -73.5628875, -73.6535734, -73.567613, -73.5675448, -73.5664966, -73.5662941, -71.2262251, -73.47600870000001, -72.7447355, -71.2708805, -71.22132459999999, -71.31104559999999, -71.2682532, -71.2792974, -71.2242526, -73.594378, -73.6780625, -71.3198289, -71.31950429999999, -73.5819472, -72.7037228, -73.5048386, -73.48639849999999, -73.55597440000001, -73.58765600000001, -73.6094541, -73.58182240000001, -73.5669386, -73.5519675, -73.4461179, -71.2072578, -73.58839870000001, -73.64259200000001, -73.61261209999999, -71.23657, -73.572264, -71.24188609999999, -71.2260403, -73.698998, -73.4810832, -73.59432679999999, -73.640073, -72.7384109, -71.242154, -71.2396021, -71.2550438, -71.18925329999999, -73.5578058, -73.5851377, -73.5850035, -71.2260486, -73.4784689, -73.5798516, -73.6199188, -73.63461190000001, -73.63461190000001, -73.6504808, -73.6390809, -73.5664947, -73.5714549, -73.5596293, -73.57493149999999, -73.5607568, -73.582151, -73.52255699999999, -72.7620632, -73.4310287, -73.4677769, -73.5463929, -71.366122, -71.4113318, -73.56652240000001, -73.6490685, -73.5569217, -73.41653029999999, -73.593746, -71.3560875, -71.3560875, -68.51264520000001, -72.7521273, -73.566039, -71.2668179, -73.4233872, -73.58202759999999, -73.58121650000001, -73.5631319, -73.58537700000001, -73.595479, -73.5585829, -73.5773074, -73.5734675, -73.6158029, -73.6368367, -71.202382, -73.5060375, -73.63933270000001, -73.639542, -73.58465840000001, -73.55331600000001, -73.55836500000001, -73.5796571, -73.5797907, -73.59605450000001, -73.6317868, -71.2209063, -71.2825827, -73.5681311, -79.0373917, -71.3152547, -73.4297636, -71.2894152, -73.6394618, -73.5652994, -73.45380490000001, -73.5958717, -71.2334467, -73.5508902, -73.5508902, -73.4659162, -73.568896, -73.57027, -73.5597293, -73.5591697, -71.1998508, -71.2175696, -73.5860847, -71.20704, -71.21335069999999, -71.237315, -72.74685759999998, -71.28361290000001, -71.28361290000001, -73.556097, -73.5559002, -73.556449, -73.631548, -73.45300340000001, -71.28921590000002, -73.62952740000001, -73.63958670000001, -73.5652013, -73.5652013, -72.7460205, -73.57234790000001, -71.2935536, -73.62167020000001, -73.5779496, -73.57810400000001, -73.55254509999999, -73.5851218, -71.33027659999999, -73.5139573, -73.4581679, -73.5912709, -71.25910429999999, -73.48770970000001, -73.59746170000001, -73.58282, -71.3305868, -71.1852277, -78.99260600000001, -73.5816539, -71.1499358, -73.4757013, -73.6360684, -73.3993508, -73.424696, -73.5793948, -71.23860970000001, -73.58094799999999, -71.25192890000001, -73.65343680000001, -73.45098759999999, -73.4510315, -71.22485970000001, -73.583371, -73.6375514, -79.2480642, -73.59957800000001, -73.5743372, -73.7130206, -71.43041, -71.22669920000001, -73.60373, -73.598789, -73.4891109, -73.44069870000001, -72.7446933, -73.55248399999999, -73.5790809, -73.579291, -73.575664, -73.49160390000002, -71.2314313, -73.5562644, -73.5552553, -73.4676372, -73.59485699999999, -73.5654928, -73.61202, -71.2226811, -72.7429133, -73.55902309999999, -73.4624333, -73.59225179999999, -73.4481007, -71.2122832, -73.66917, -73.59090490000001, -73.565247, -73.48445219999999, -73.48445219999999, -73.580991, -73.6588939, -73.59824, -73.69412729999999, -73.4443063, -73.6460511, -73.57673790000001, -73.5912281, -71.4675253, -71.4675253, -73.54737970000001, -73.5810324, -73.601011, -73.44454250000001, -73.6510092, -73.5597685, -73.5557197, -73.5979238, -71.2459653, -73.4962203, -73.59350620000001, -71.2207915, -73.5951189, -73.55351359999999, -71.23470809999999, -68.53344, -73.572676, -73.672741, -73.4798282, -71.23089, -71.2286708, -73.58293459999999, -73.61048000000001, -73.596521, -73.5603887, -73.4601421, -71.2273699, -73.465352, -78.996684, -73.6442381, -73.6442402, -73.5617125, -73.572434, -73.5566077, -73.5759925, -71.23976400000001, -73.5710036, -73.7137765, -73.5693497, -73.6294296, -73.42542209999999, -73.5545852, -73.55460040000001, -73.6499702, -71.2527723, -71.228911, -73.6786555, -73.5601848, -73.60403769999999, -78.3819344, -73.55159990000001, -79.02551650000001, -73.57762059999999, -73.6409637, -73.4795498, -73.5831156, -73.5586889, -73.4918641, -71.2499304, -71.2499304, -73.608739, -73.5562755, -71.312725, -71.2102162, -73.5616546, -73.5593637, -73.5681434, -73.57782270000001, -73.557264, -71.31018449999999, -73.6354679, -73.5728803, -68.5222787, -73.65311700000001, -73.5749733, -73.4782079, -73.59792879999999, -73.6678245, -73.5859921, -73.5854084, -73.58587, -73.5056314, -71.21184840000001, -73.6657195, -72.7538881, -73.454829, -73.57201640000001, -73.5707853, -73.5659651, -73.5663859, -71.3295477, -73.4875891, -73.5971042, -73.5762569, -71.260928, -73.47815209999999, -71.36933590000001, -73.56984179999999, -73.5637291, -71.3508571, -71.4318653, -73.655971, -73.570317, -68.53597099999999, -73.55760129999999, -73.55760129999999, -71.23601590000001, -71.2549883, -71.2700831, -71.4179855, -71.2146495, -71.3308406, -71.3308406, -71.2313633, -68.5243247, -73.4130703, -73.5782733, -73.6130267, -73.6130267, -73.6133863, -73.6131821, -73.4816765, -73.5735681, -73.5562303, -73.5652647, -71.3505757, -73.5694464, -71.2309801, -71.3521433, -73.64585, -71.2775625, -71.1594917, -73.5516038, -71.8979286, -71.332755, -73.415374, -71.3384958, -71.33761609999999, -73.5867022, -73.6537623, -73.5714431, -71.2682099, -73.72098100000001, -73.5752449, -68.5502473, -73.6077662, -73.57325859999999, -72.7612965, -73.5758915, -71.283982, -71.2545171, -73.5874174, -71.25735300000001, -73.611864, -73.61232690000001, -73.55962629999999, -73.4736863, -73.5667297, -73.5722427, -73.4486802, -73.55868620000001, -71.2591147, -73.5724235, -73.4974959, -71.31928070000001, -73.4825637, -73.57817990000001, -72.7449814, -71.29082220000001, -73.48935999999999, -73.444911, -73.5538724, -71.2397935, -71.2529572, -73.62851590000001, -73.6303094, -71.1952967, -72.7463848, -71.2443987, -71.2281651, -73.6191179, -73.5896475, -73.57841429999999, -73.5945304, -73.5702403, -73.606234, -71.2567028, -73.4725306, -73.5939745, -73.5941785, -71.18847530000001, -73.63104150000001, -71.30012959999999, -71.29990140000001, -73.59025279999999, -73.61403059999999, -71.14183840000001, -73.4675802, -73.59914479999999, -71.3093982, -73.57314699999999, -73.5759468, -73.5757894, -71.1997786, -73.4588991, -71.281651, -79.03271009999999, -73.5949315, -73.5780957, -73.5687441, -73.5711319, -73.5221767, -73.5221767, -72.73174759999999, -71.3271611, -71.243925, -73.45729, -73.56202990000001, -73.562792, -73.4553264, -68.5168564, -73.6228009, -73.56207140000001, -73.594723, -71.2383808, -73.5854838, -73.5641308, -73.4681318, -73.708365, -73.6314699, -71.2847364, -73.6347163, -73.5738988, -73.65427700000001, -73.6225469, -73.5991125, -71.349594, -73.61165720000001, -73.56443900000001, -73.57468940000001, -71.21665949999999, -71.2107142, -68.5175338, -73.65494759999999, -73.42910690000001, -73.5801119, -71.26103359999999, -71.26103359999999, -73.49704090000002, -73.602535, -71.3703135, -73.4545769, -73.5904315, -71.3561721, -72.6969848, -79.12711230000001, -71.22728520000001, -73.58347380000001, -68.5731844, -73.6244431, -73.55218690000001, -73.4184076, -73.4184076, -71.2993801, -71.37558990000001, -73.6046054, -73.67055500000001, -71.3697144, -73.5881326, -73.5903572, -73.4052039, -71.226642, -73.41316590000001, -73.5860052, -73.5860052, -73.5860052, -73.5860052, -68.46069920000001, -73.5608672, -71.2224652, -73.6004696, -71.24458100000001, -73.5827733, -71.3301546, -71.2250003, -73.61941170000001, -71.3473075, -73.49942469999999, -71.1668769, -73.57015229999999, -73.6669165, -73.568495, -73.722268, -73.4823959, -73.578232, -73.586252, -73.4980915, -71.354394, -71.1958115, -71.19613829999999, -71.20029790000001, -73.5873686, -71.2414885, -73.585753, -73.6123242, -71.3009993, -73.577831, -71.414864, -71.30869659999999, -73.5647918, -71.24029909999999, -73.4320878, -73.57130409999999, -71.2330132, -73.5769653, -73.5894464, -71.2166026, -71.2166026, -71.23875859999998, -71.1941188, -73.58195450000001, -71.2821224, -73.613104, -73.56504809999998, -73.5801515, -73.5608224, -72.7410393, -73.65653409999999, -71.3099686, -71.34706800000001, -73.598527, -71.36152320000001, -73.57583690000001, -73.4632093, -73.4840879, -73.58990909999999, -73.5899255, -71.2513212, -73.6618543, -73.58846070000001, -73.5884701, -79.0202533, -73.6436638, -71.2256145, -71.2884349, -73.60921009999998, -73.700755, -73.47975059999999, -73.4404939, -71.2495125, -68.5545728, -73.57391209999999, -73.60411850000001, -73.4679727, -71.35458179999999, -73.4703832, -73.4583318, -73.4596895, -71.2473091, -71.2473091, -73.4724158, -72.74574109999999, -73.5831872, -73.574496, -73.4606625, -73.4131913, -73.5983696, -73.5680378, -73.6128945, -73.57697900000001, -73.569848, -68.49578199999999, -73.5863428, -73.58164079999999, -73.4854656, -71.34908829999999, -73.6076002, -73.6154628, -73.6233777, -73.61443390000001, -73.5795729, -73.627811, -73.627969, -73.6146725, -71.89492059999999, -73.5778725, -71.2693031, -73.46940090000001, -73.58615479999999, -73.4768992, -73.56280290000001, -73.60682259999999, -71.22119, -73.6486865, -72.7464423, -73.5598682, -73.5020229, -72.74876, -73.51549140000002, -73.51549140000002, -71.23543070000001, -71.2287233, -73.5595115, -73.388508, -73.50742120000001, -73.49559659999998, -73.555221, -79.0150703, -79.0071946, -73.5733133, -73.49030259999999, -73.49030259999999, -73.57593390000001, -73.5505669, -73.5765625, -73.6151732, -73.65996319999999, -73.65061490000001, -73.58633859999999, -71.24772469999999, -71.4104092, -71.4104092, -73.5124745, -73.55736440000001, -73.5693386, -73.46690749999999, -71.2568677, -73.48587690000001, -73.46370290000002, -73.4464871, -73.5585045, -73.5774552, -73.5844985, -73.6323668, -73.698875, -73.5864429, -73.637689, -73.6424751, -73.6330202, -71.369704, -73.4314755, -73.6240935, -71.2775556, -71.2574126, -73.56952659999999, -73.66892299999999, -73.5558254, -73.5562123, -73.55879300000001, -73.48095500000001, -73.64542209999999, -71.3201392, -73.57179040000001, -73.57812709999999, -73.4719994, -73.45484240000002, -71.1579152, -73.564066, -73.581627, -73.578434, -71.2271265, -71.33932759999999, -73.6325126, -73.6555993, -73.5788829, -73.4948907, -73.5763887, -73.5731693, -73.57309000000001, -71.3552087, -73.616354, -73.6615765, -73.572699, -73.57375909999999, -73.5802715, -73.6388975, -73.6388975, -73.56421540000001, -73.6540058, -73.4993489, -71.9571767, -73.5760208, -73.5846942, -73.6378368, -73.6079561, -73.56080920000001, -73.55345820000001, -71.2244733, -73.386087, -73.6537514, -73.5584113, -71.24340040000001, -73.614551, -73.6197772, -73.559921, -73.6477572, -71.3561457, -73.6432698, -73.56721379999999, -73.62197309999999, -73.573784, -73.57664, -73.45762090000001, -73.5891696, -73.47833409999998, -73.46093499999999, -73.56760009999999, -73.5816487, -73.555727, -73.48376, -73.580278, -71.208333, -73.6066, -73.60574720000001, -73.6198663, -71.30857270000001, -73.5788755, -73.559961, -73.58046, -71.455239, -71.2256819, -73.65100000000001, -68.5174693, -73.48899999999999, -72.73626440000001, -73.62892590000001, -73.6709877, -73.592045, -73.5833652, -71.159253, -73.66833390000001, -73.7007541, -71.217647, -71.21676500000001, -73.57091690000001, -73.5711908, -73.5544985, -71.17047559999999, -71.3417518, -73.57262659999999, -71.2304185, -73.59864909999999, -73.55502840000001, -73.6609783, -73.6176682, -71.2746465, -73.6430795, -73.4666512, -73.5913995, -72.6994932, -73.559666, -73.5614329, -71.229244, -73.49037709999999, -73.4712168, -73.5810623, -73.5817343, -73.5807182, -73.58756, -73.5722865, -71.42973359999999, -73.6095465, -73.574354, -71.2519148, -79.15131, -79.000641, -71.2030412, -79.0197512, -73.6529853, -73.551683, -73.5791606, -73.58635579999999, -71.3089437, -71.33388520000001, -73.55977320000001, -73.4751156, -73.64624599999999, -73.55154590000001, -73.5530998, -73.3825644, -73.4269, -73.5700959, -73.60866120000001, -73.556945, -73.636881, -73.6469577, -73.561852, -73.571201, -73.571201, -71.3832074, -73.65623190000001, -73.5668124, -72.7120308, -73.5986257, -73.49717120000001, -73.586159, -73.47324499999999, -73.5877959, -73.59755729999999, -73.59755729999999, -73.59714040000001, -73.5822882, -71.36719740000001, -73.4586568, -71.2650052, -73.5534447, -73.43844449999999, -73.4552527, -73.4553312, -73.5782679, -73.617998, -73.6594218, -71.23257, -73.57082940000001, -73.61959399999999, -73.5676757, -73.5763023, -73.47193309999999, -73.55588909999999, -73.49120400000001, -73.57974820000001, -73.445697, -73.577169, -73.58835859999999, -71.2985748, -73.613256, -73.5936214, -73.5550839, -73.5734805, -73.5736226, -73.454887, -73.5799609, -68.4972474, -71.3217104, -71.3215709, -71.3160467, -73.4532438, -73.5791859, -71.2681296, -71.37991120000001, -72.742998, -73.5724404, -73.476886, -71.87316, -73.655599, -73.45505849999999, -71.2267871, -73.6430891, -73.6287153, -71.2297821, -73.5673489, -73.57449759999999, -73.595652, -73.6268077, -71.2298903, -73.63985550000001, -73.593951, -73.5737683, -73.5737683, -73.47993659999999, -73.62789659999999, -73.62776099999999, -73.6115317, -71.2575432, -71.2195632, -73.46995290000001, -73.47027259999999, -73.6251458, -73.660262, -73.5520413, -71.2178434, -73.5594309, -73.58696859999999, -73.5964908, -73.55671600000001, -72.65063549999999, -73.5957931, -73.62725379999999, -71.2822859, -71.282286, -71.2501291, -73.656181, -79.02289959999999, -79.02282199999999, -73.58282559999999, -71.2545604, -73.56083220000001, -73.5753497, -73.5767013, -73.5692885, -71.37949590000001, -71.3341556, -73.574206, -73.3775975, -73.5665235, -73.5665235, -71.35383900000001, -73.55147209999998, -73.620779, -71.48729, -71.20757929999999, -73.6069733, -71.2608346, -73.6375737, -71.9512674, -73.612697, -73.6085707, -71.2152415, -73.6794271, -73.6132308, -73.613252, -73.660003, -73.6600383, -71.2695032, -79.0183101, -79.0197067, -73.5763138, -71.2849442, -73.4730747, -73.5732412, -73.61487840000001, -73.65288199999999, -72.750473, -73.57791390000001, -72.68910100000001, -73.57208879999999, -73.5634553, -73.6531902, -73.64809890000001, -73.5946102, -73.5773983, -73.5689605, -73.5709313, -73.5554, -73.622165, -73.47967340000001, -73.6032498, -73.60972199999999, -73.5987396, -73.612548, -72.7279529, -73.6246, -73.5771508, -71.41239190000002, -79.0153672, -73.579719, -73.57239100000001, -73.5895625, -73.5545, -73.584163, -73.63549920000001, -73.4717778, -68.53501379999999, -73.5741927, -73.4833564, -73.65145940000001, -73.57072600000001, -73.57028199999999, -73.4814693, -71.2685351, -73.583575, -71.34452390000001, -73.567489, -73.59625190000001, -73.591599, -73.4659798, -73.6665781, -73.484431, -71.24449190000001, -71.1902255, -71.3359665, -71.2790953, -73.4633968, -73.4473679, -73.6316131, -73.57629370000001, -73.57751800000001, -73.65473850000001, -71.2346333, -71.307011, -71.21963000000001, -73.5591824, -73.5722229, -73.5980665, -71.2279113, -71.2279113, -73.56836609999999, -73.62686479999999, -71.262048, -73.5834574, -73.5703859, -73.5701894, -73.5673556, -73.5604293, -73.5092348, -73.5624263, -73.600368, -73.5828752, -73.59307790000001, -73.5667932, -73.6060944, -71.3691058, -73.6347578, -73.6227887, -71.228047, -71.23076, -71.3498512, -71.2515599, -71.3585253, -71.226961, -71.28256379999999, -71.2517318, -72.74283299999999, -73.480808, -73.453637, -73.5525719, -73.64551490000001, -71.15613859999999, -73.6351324, -71.24320970000001, -73.5906733, -73.4614119, -71.3191609, -71.3408, -71.3201933, -73.72227679999999, -73.572599, -71.3274917, -71.31827870000001, -71.37537459999999, -71.3319321, -73.585367, -71.2795098, -73.5737989, -73.4780073, -73.6283423, -73.5784823, -73.468735, -73.5630762, -73.5868465, -73.588099, -79.12698470000001, -71.1967984, -71.367333, -71.35061230000001, -71.395688, -71.4242508, -71.5169218, -71.165113, -71.3637401, -71.2532137, -73.4799655, -71.2025507, -73.4739456], \"marker\": {\"color\": [\"blue\"], \"size\": 5}, \"mode\": \"markers\", \"type\": \"scattermapbox\"}],\n",
       "                        {\"mapbox\": {\"center\": {\"lat\": 45.5, \"lon\": -73.6}, \"layers\": [{\"below\": \"traces\", \"color\": \"royalblue\", \"source\": {\"features\": [{\"geometry\": {\"coordinates\": [[[-73.597075, 45.537593], [-73.570841, 45.510310700000005], [-73.5781092, 45.518215399999995], [-73.55699090000002, 45.5144682], [-73.5959721, 45.5336184], [-73.5821607, 45.535530200000004], [-73.5560497, 45.5188044], [-73.57500329999999, 45.510319], [-73.57500329999999, 45.510319], [-73.5946095, 45.5212833], [-73.6471295, 45.575587299999995], [-73.65558670000001, 45.576084200000004], [-73.5801377, 45.5363773], [-73.6005277, 45.5243434], [-73.6035845, 45.5255925], [-73.5878873, 45.5426053], [-73.5882083, 45.544699], [-73.667276, 45.555593], [-73.5809405, 45.531281899999996], [-73.6085368, 45.530368200000005], [-73.5880042, 45.5408907], [-73.6058333, 45.5381124], [-73.5628875, 45.51985560000001], [-73.6535734, 45.5406272], [-73.5664966, 45.5166438], [-73.5662941, 45.5166229], [-73.594378, 45.5239867], [-73.5819472, 45.5301861], [-73.55597440000001, 45.515708000000004], [-73.58765600000001, 45.5288212], [-73.6094541, 45.534197799999994], [-73.58182240000001, 45.521857700000005], [-73.5669386, 45.5302597], [-73.5519675, 45.510577000000005], [-73.64259200000001, 45.5468442], [-73.572264, 45.514549], [-73.59432679999999, 45.535841299999994], [-73.5578058, 45.500174], [-73.5850035, 45.5218159], [-73.6199188, 45.5181027], [-73.6504808, 45.5446559], [-73.5596293, 45.5116006], [-73.57493149999999, 45.5215451], [-73.5607568, 45.502537100000005], [-73.5463929, 45.529302], [-73.6490685, 45.573932], [-73.5569217, 45.53825820000001], [-73.566039, 45.5110528], [-73.5631319, 45.5368631], [-73.5585829, 45.5269531], [-73.5773074, 45.53019320000001], [-73.6368367, 45.5583407], [-73.58465840000001, 45.5329753], [-73.55331600000001, 45.537753], [-73.59605450000001, 45.5339451], [-73.5681311, 45.51900379999999], [-73.5958717, 45.5191395], [-73.5508902, 45.533899], [-73.5508902, 45.533899], [-73.5597293, 45.516142200000004], [-73.5591697, 45.5165703], [-73.556097, 45.505953000000005], [-73.5559002, 45.5060225], [-73.556449, 45.506171], [-73.5779496, 45.5186729], [-73.57810400000001, 45.518539000000004], [-73.55254509999999, 45.533414], [-73.5912709, 45.5441377], [-73.65343680000001, 45.5546445], [-73.583371, 45.5374158], [-73.6375514, 45.5586091], [-73.59957800000001, 45.544746], [-73.60373, 45.5350677], [-73.55248399999999, 45.525432], [-73.5790809, 45.5278229], [-73.579291, 45.527440500000004], [-73.59485699999999, 45.5237369], [-73.5654928, 45.5312557], [-73.59225179999999, 45.517737700000005], [-73.6588939, 45.558859999999996], [-73.59824, 45.5416727], [-73.57673790000001, 45.5308487], [-73.5912281, 45.5283228], [-73.54737970000001, 45.529880299999995], [-73.5810324, 45.5262667], [-73.6510092, 45.5668191], [-73.5597685, 45.5149045], [-73.5557197, 45.5294658], [-73.5979238, 45.5203702], [-73.5951189, 45.5235286], [-73.572676, 45.5094278], [-73.596521, 45.532497], [-73.5603887, 45.5238193], [-73.5617125, 45.5224639], [-73.5759925, 45.5103999], [-73.5545852, 45.5232782], [-73.55460040000001, 45.523292299999994], [-73.6499702, 45.5728253], [-73.5601848, 45.519031], [-73.60403769999999, 45.5453854], [-73.55159990000001, 45.536], [-73.57762059999999, 45.5351599], [-73.5586889, 45.5357275], [-73.608739, 45.530136999999996], [-73.5616546, 45.509184000000005], [-73.5593637, 45.505461100000005], [-73.57782270000001, 45.5384088], [-73.557264, 45.533324], [-73.65311700000001, 45.567557799999996], [-73.59792879999999, 45.5256849], [-73.5971042, 45.5212682], [-73.5762569, 45.514066899999996], [-73.56984179999999, 45.5217339], [-73.5637291, 45.5192886], [-73.655971, 45.5520054], [-73.55760129999999, 45.516694], [-73.55760129999999, 45.516694], [-73.6130267, 45.5392036], [-73.6130267, 45.5392036], [-73.6133863, 45.539162899999994], [-73.6131821, 45.5389756], [-73.5562303, 45.5204736], [-73.5652647, 45.5154352], [-73.5516038, 45.523098100000006], [-73.5867022, 45.5298873], [-73.6077662, 45.5418565], [-73.55868620000001, 45.502846399999996], [-73.5538724, 45.5206831], [-73.5896475, 45.5422402], [-73.57841429999999, 45.5377919], [-73.5945304, 45.5450209], [-73.59914479999999, 45.5353317], [-73.5949315, 45.5252312], [-73.5687441, 45.535226200000004], [-73.56202990000001, 45.514609], [-73.562792, 45.5149552], [-73.5738988, 45.530392600000006], [-73.65427700000001, 45.5764597], [-73.5991125, 45.5406888], [-73.61165720000001, 45.5376778], [-73.65494759999999, 45.5390299], [-73.602535, 45.536491], [-73.55218690000001, 45.533141], [-73.6046054, 45.52491], [-73.5608672, 45.5012014], [-73.6004696, 45.538608], [-73.585753, 45.521119], [-73.6123242, 45.534253], [-73.613104, 45.53994960000001], [-73.56504809999998, 45.5318684], [-73.5608224, 45.529902299999996], [-73.58990909999999, 45.5268962], [-73.5899255, 45.526566700000004], [-73.6618543, 45.5528086], [-73.58846070000001, 45.5429042], [-73.5884701, 45.542845899999996], [-73.6436638, 45.5505007], [-73.60921009999998, 45.5350129], [-73.60411850000001, 45.5250239], [-73.5983696, 45.536658200000005], [-73.5680378, 45.5082028], [-73.6128945, 45.5315158], [-73.569848, 45.534698999999996], [-73.5863428, 45.5272924], [-73.6076002, 45.5309797], [-73.6154628, 45.5203464], [-73.61443390000001, 45.5331963], [-73.6146725, 45.537431700000006], [-73.58615479999999, 45.5195213], [-73.56280290000001, 45.5107939], [-73.60682259999999, 45.5317259], [-73.555221, 45.503026], [-73.5733133, 45.5168907], [-73.5505669, 45.5311878], [-73.65996319999999, 45.5663616], [-73.65061490000001, 45.560926], [-73.55736440000001, 45.5178516], [-73.5693386, 45.5133421], [-73.5585045, 45.51773920000001], [-73.5558254, 45.5055465], [-73.5562123, 45.504901600000004], [-73.64542209999999, 45.56889279999999], [-73.564066, 45.509780299999996], [-73.581627, 45.525792100000004], [-73.578434, 45.5344458], [-73.5763887, 45.5200805], [-73.572699, 45.514143], [-73.6388975, 45.546814700000006], [-73.6388975, 45.546814700000006], [-73.5760208, 45.5239876], [-73.56080920000001, 45.5360459], [-73.55345820000001, 45.5238623], [-73.6537514, 45.5395375], [-73.559921, 45.533874100000006], [-73.6432698, 45.5400785], [-73.56721379999999, 45.517010799999994], [-73.573784, 45.52669], [-73.57664, 45.511224600000006], [-73.5891696, 45.5218613], [-73.5816487, 45.5245327], [-73.555727, 45.519234000000004], [-73.6066, 45.532654], [-73.60574720000001, 45.5235987], [-73.559961, 45.528338899999994], [-73.65100000000001, 45.550391999999995], [-73.592045, 45.518864], [-73.66833390000001, 45.5566943], [-73.57091690000001, 45.509869], [-73.5711908, 45.536665899999996], [-73.5544985, 45.530779700000004], [-73.59864909999999, 45.545920200000005], [-73.6176682, 45.5176623], [-73.5913995, 45.54084279999999], [-73.559666, 45.532303000000006], [-73.5614329, 45.534634999999994], [-73.58756, 45.519121999999996], [-73.574354, 45.5115088], [-73.551683, 45.525807], [-73.58635579999999, 45.5269939], [-73.55977320000001, 45.5082209], [-73.64624599999999, 45.548671], [-73.55154590000001, 45.522403499999996], [-73.5700959, 45.5124685], [-73.556945, 45.53753], [-73.561852, 45.5124261], [-73.5986257, 45.5301523], [-73.586159, 45.546162], [-73.59755729999999, 45.543358399999995], [-73.59755729999999, 45.543358399999995], [-73.59714040000001, 45.543243200000006], [-73.5534447, 45.5056339], [-73.5782679, 45.516799299999995], [-73.617998, 45.53432479999999], [-73.6594218, 45.557938], [-73.57082940000001, 45.537330499999996], [-73.55588909999999, 45.51847], [-73.57974820000001, 45.5277982], [-73.58835859999999, 45.518161299999996], [-73.5936214, 45.5252912], [-73.5550839, 45.535784], [-73.5734805, 45.5073536], [-73.5736226, 45.507476399999994], [-73.655599, 45.5382561], [-73.6430891, 45.551078499999996], [-73.57449759999999, 45.5082563], [-73.595652, 45.5502591], [-73.593951, 45.552158], [-73.6115317, 45.54007360000001], [-73.5520413, 45.523676200000004], [-73.5594309, 45.5219939], [-73.55671600000001, 45.5224701], [-73.56083220000001, 45.5067549], [-73.5753497, 45.521041], [-73.574206, 45.514911], [-73.5665235, 45.511586], [-73.5665235, 45.511586], [-73.55147209999998, 45.5241071], [-73.612697, 45.540308], [-73.6085707, 45.538722], [-73.6132308, 45.535973799999994], [-73.613252, 45.535982000000004], [-73.5763138, 45.5154652], [-73.5732412, 45.5139461], [-73.61487840000001, 45.537584499999994], [-73.65288199999999, 45.568646], [-73.57791390000001, 45.5296198], [-73.57208879999999, 45.535304], [-73.5634553, 45.520773299999995], [-73.6531902, 45.578961299999996], [-73.64809890000001, 45.565206599999996], [-73.5773983, 45.516273999999996], [-73.6032498, 45.5463631], [-73.612548, 45.522828999999994], [-73.5771508, 45.526945899999994], [-73.5895625, 45.517083], [-73.5545, 45.5186], [-73.584163, 45.528749], [-73.5741927, 45.5335244], [-73.65145940000001, 45.5369782], [-73.57072600000001, 45.5182228], [-73.57028199999999, 45.5180292], [-73.6665781, 45.5584948], [-73.57751800000001, 45.5294081], [-73.65473850000001, 45.566800799999996], [-73.5980665, 45.5522214], [-73.56836609999999, 45.5171479], [-73.5834574, 45.519611499999996], [-73.5604293, 45.529362899999995], [-73.5667932, 45.5116604], [-73.6060944, 45.54374], [-73.5525719, 45.50689129999999], [-73.64551490000001, 45.5481052], [-73.5906733, 45.5299652], [-73.585367, 45.521090799999996], [-73.5737989, 45.5177773], [-73.5630762, 45.504344399999994], [-73.5868465, 45.519014299999995]], [[-73.568175, 45.488636], [-73.6306253, 45.5129793], [-73.5748868, 45.500265], [-73.57434040000001, 45.4998571], [-73.5610195, 45.477963700000004], [-73.6313923, 45.4814067], [-73.5710036, 45.5050263], [-73.57139240000001, 45.505055], [-73.6327222, 45.4924311], [-73.55881240000001, 45.4800939], [-73.5641863, 45.4814162], [-73.5721152, 45.489481700000006], [-73.567613, 45.500983000000005], [-73.5675448, 45.500467900000004], [-73.6780625, 45.5375357], [-73.61261209999999, 45.5100597], [-73.640073, 45.4952842], [-73.5798516, 45.501174799999994], [-73.63461190000001, 45.4866269], [-73.63461190000001, 45.4866269], [-73.5664947, 45.50198220000001], [-73.5714549, 45.5005083], [-73.582151, 45.493519], [-73.58202759999999, 45.494002], [-73.58121650000001, 45.4943351], [-73.5796571, 45.494900200000004], [-73.5797907, 45.494960600000006], [-73.6317868, 45.50042979999999], [-73.6394618, 45.4932544], [-73.5652994, 45.500133], [-73.568896, 45.497349], [-73.5860847, 45.4905307], [-73.62952740000001, 45.4834469], [-73.63958670000001, 45.4879623], [-73.57234790000001, 45.4996169], [-73.5816539, 45.4915042], [-73.6360684, 45.4935112], [-73.5743372, 45.483689500000004], [-73.5562644, 45.49961079999999], [-73.5552553, 45.4992821], [-73.66917, 45.554025700000004], [-73.565247, 45.476365], [-73.69412729999999, 45.5425854], [-73.58293459999999, 45.4934271], [-73.61048000000001, 45.495461], [-73.5710036, 45.5041009], [-73.5693497, 45.4782589], [-73.6294296, 45.4780614], [-73.5831156, 45.492222600000005], [-73.5562755, 45.4797987], [-73.5681434, 45.477959399999996], [-73.6678245, 45.543957899999995], [-73.5859921, 45.488805], [-73.5854084, 45.4895797], [-73.58587, 45.48937], [-73.6657195, 45.547424400000004], [-73.57201640000001, 45.5061379], [-73.5659651, 45.498047799999995], [-73.5663859, 45.498175700000004], [-73.5782733, 45.4977436], [-73.5735681, 45.5026306], [-73.5694464, 45.5072429], [-73.5714431, 45.4979448], [-73.5752449, 45.50083], [-73.5758915, 45.4802003], [-73.5667297, 45.4974422], [-73.5722427, 45.50111], [-73.6303094, 45.50941029999999], [-73.5702403, 45.4778062], [-73.606234, 45.476863], [-73.63104150000001, 45.510405], [-73.5759468, 45.4966036], [-73.5757894, 45.496641499999996], [-73.5780957, 45.496060799999995], [-73.6228009, 45.4977245], [-73.6225469, 45.4962474], [-73.56443900000001, 45.50102329999999], [-73.58347380000001, 45.4905278], [-73.6244431, 45.5071239], [-73.67055500000001, 45.537119], [-73.61941170000001, 45.503243], [-73.6669165, 45.5494837], [-73.568495, 45.4879465], [-73.5647918, 45.4932145], [-73.57130409999999, 45.502466], [-73.5769653, 45.4795202], [-73.5801515, 45.492821], [-73.65653409999999, 45.55066729999999], [-73.574496, 45.496774], [-73.57697900000001, 45.5017649], [-73.58164079999999, 45.4897153], [-73.6233777, 45.4971662], [-73.627811, 45.485633], [-73.627969, 45.485513700000006], [-73.57593390000001, 45.4866434], [-73.5765625, 45.49601989999999], [-73.58633859999999, 45.4898119], [-73.6323668, 45.5012294], [-73.698875, 45.5379559], [-73.6424751, 45.490049299999995], [-73.6330202, 45.48472460000001], [-73.6240935, 45.4796471], [-73.56952659999999, 45.507745899999996], [-73.66892299999999, 45.554871], [-73.55879300000001, 45.494169], [-73.57179040000001, 45.504557899999995], [-73.5788829, 45.4869285], [-73.5731693, 45.5050038], [-73.57309000000001, 45.505033000000005], [-73.56421540000001, 45.493238700000006], [-73.5846942, 45.4977411], [-73.6378368, 45.5023311], [-73.6079561, 45.4943555], [-73.5584113, 45.4946306], [-73.580278, 45.497184000000004], [-73.6198663, 45.494941100000005], [-73.58046, 45.494852], [-73.6709877, 45.5495882], [-73.55502840000001, 45.4961325], [-73.6609783, 45.5456061], [-73.6430795, 45.4895056], [-73.5810623, 45.496038], [-73.5817343, 45.4955445], [-73.5807182, 45.4960371], [-73.5722865, 45.5039643], [-73.5530998, 45.4970075], [-73.636881, 45.4865467], [-73.571201, 45.479726], [-73.571201, 45.479726], [-73.5668124, 45.480138700000005], [-73.5822882, 45.496648], [-73.61959399999999, 45.495380700000005], [-73.5676757, 45.50564489999999], [-73.5763023, 45.4970434], [-73.577169, 45.498195], [-73.613256, 45.494978], [-73.5799609, 45.493402], [-73.6287153, 45.4848375], [-73.6268077, 45.4985403], [-73.5737683, 45.5009341], [-73.5737683, 45.5009341], [-73.62789659999999, 45.484879299999996], [-73.62776099999999, 45.484796], [-73.6251458, 45.4973237], [-73.660262, 45.546881], [-73.62725379999999, 45.482394], [-73.6375737, 45.5053299], [-73.6794271, 45.5380399], [-73.660003, 45.547357299999994], [-73.6600383, 45.5471946], [-73.5709313, 45.50837979999999], [-73.5554, 45.4805], [-73.63549920000001, 45.5025099], [-73.567489, 45.476821], [-73.6316131, 45.4918815], [-73.62686479999999, 45.485761100000005], [-73.5703859, 45.50238220000001], [-73.5701894, 45.5018406], [-73.5673556, 45.505660999999996], [-73.5828752, 45.4927815], [-73.6351324, 45.4934177], [-73.572599, 45.5067196], [-73.6283423, 45.500331200000005]], [[-68.4706861, 48.3878711], [-68.5080816, 48.473097100000004], [-68.5839784, 48.430718], [-68.51264520000001, 48.467893100000005], [-68.53344, 48.441093], [-68.5222787, 48.442685299999994], [-68.53597099999999, 48.4376039], [-68.5243247, 48.4351174], [-68.5502473, 48.438630700000004], [-68.5168564, 48.462826299999996], [-68.5175338, 48.4450826], [-68.5731844, 48.4359648], [-68.46069920000001, 48.5131202], [-68.5545728, 48.439182200000005], [-68.49578199999999, 48.455566], [-68.5174693, 48.4631258], [-68.4972474, 48.458462899999994], [-68.53501379999999, 48.448224200000006]], [[-71.3561663, 46.7956598], [-71.366122, 46.8446932], [-71.3560875, 46.8372401], [-71.3560875, 46.8372401], [-71.2825827, 46.839253799999994], [-71.2527723, 46.873002500000005], [-71.36933590000001, 46.799059299999996], [-71.3508571, 46.9101974], [-71.2549883, 46.870141100000005], [-71.2700831, 46.8410703], [-71.3505757, 46.9088558], [-71.3521433, 46.787655900000004], [-71.2775625, 46.839698799999994], [-71.3384958, 46.8585642], [-71.33761609999999, 46.8586431], [-71.2682099, 46.888308200000004], [-71.2545171, 46.8724615], [-71.30012959999999, 46.8953805], [-71.29990140000001, 46.895104100000005], [-71.3093982, 46.850831799999995], [-71.3271611, 46.8422365], [-71.2847364, 46.8387184], [-71.3703135, 46.8112992], [-71.3561721, 46.850120600000004], [-71.37558990000001, 46.7671645], [-71.3473075, 46.7814325], [-71.354394, 46.8285773], [-71.34706800000001, 46.856569799999995], [-71.36152320000001, 46.8551939], [-71.35458179999999, 46.8235945], [-71.34908829999999, 46.786974900000004], [-71.369704, 46.7785919], [-71.2775556, 46.8332331], [-71.2574126, 46.8695021], [-71.33932759999999, 46.856667], [-71.3552087, 46.8568283], [-71.30857270000001, 46.902625], [-71.3417518, 46.80317410000001], [-71.3832074, 46.808808899999995], [-71.36719740000001, 46.902437299999995], [-71.37949590000001, 46.8673654], [-71.3341556, 46.9119927], [-71.35383900000001, 46.856242], [-71.2685351, 46.888185299999996], [-71.34452390000001, 46.930354], [-71.3359665, 46.8223804], [-71.307011, 46.89884], [-71.3691058, 46.8079537], [-71.3498512, 46.8088338], [-71.2515599, 46.8752345], [-71.3585253, 46.777074], [-71.3191609, 46.916613], [-71.3319321, 46.8030531], [-71.367333, 46.808614399999996]], [[-73.44680859999998, 45.755632899999995], [-73.4630257, 45.74664179999999], [-73.4310287, 45.7526227], [-73.4677769, 45.7191889], [-73.45380490000001, 45.7443982], [-73.454829, 45.7322565], [-73.4681318, 45.7337308], [-73.4545769, 45.7487153], [-73.4404939, 45.75375089999999], [-73.4606625, 45.7316726], [-73.4464871, 45.7563598], [-73.45484240000002, 45.7447533], [-73.46093499999999, 45.747415999999994], [-73.4586568, 45.742263], [-73.4552527, 45.730469299999996], [-73.4553312, 45.7304989], [-73.445697, 45.7394641], [-73.454887, 45.7418553], [-73.4532438, 45.7316539], [-73.45505849999999, 45.7479626], [-73.468735, 45.742940999999995]], [[-71.21863990000001, 46.835607], [-71.2141851, 46.891487700000006], [-71.1801463, 46.8679355], [-71.23993, 46.83492639999999], [-71.2471732, 46.7865302], [-71.239331, 46.839277100000004], [-71.2439177, 46.8047293], [-71.27653149999999, 46.854412700000005], [-71.2574357, 46.8199384], [-71.2262251, 46.8136071], [-71.2708805, 46.788579299999995], [-71.22132459999999, 46.8052664], [-71.31104559999999, 46.7757675], [-71.2682532, 46.8208359], [-71.2792974, 46.8555075], [-71.2242526, 46.8028996], [-71.3198289, 46.77101029999999], [-71.31950429999999, 46.7710729], [-71.2072578, 46.8965297], [-71.23657, 46.8368679], [-71.24188609999999, 46.8325222], [-71.2260403, 46.8011869], [-71.242154, 46.8045252], [-71.2396021, 46.811432], [-71.2550438, 46.8372428], [-71.18925329999999, 46.8909411], [-71.2260486, 46.8089956], [-71.2668179, 46.7685071], [-71.202382, 46.9175469], [-71.2209063, 46.8396619], [-71.2894152, 46.816360700000004], [-71.2334467, 46.8257407], [-71.1998508, 46.885501299999994], [-71.2175696, 46.889960200000004], [-71.20704, 46.8135679], [-71.21335069999999, 46.8504854], [-71.237315, 46.8136708], [-71.28361290000001, 46.8787741], [-71.28361290000001, 46.8787741], [-71.28921590000002, 46.882800399999994], [-71.2935536, 46.811637100000006], [-71.25910429999999, 46.8090408], [-71.1852277, 46.8642674], [-71.1499358, 46.8914079], [-71.23860970000001, 46.826494], [-71.25192890000001, 46.816255], [-71.22485970000001, 46.8029984], [-71.22669920000001, 46.8234838], [-71.2314313, 46.831307200000005], [-71.2226811, 46.8233118], [-71.2122832, 46.8128563], [-71.2459653, 46.806683500000005], [-71.2207915, 46.8150396], [-71.23470809999999, 46.848389399999995], [-71.23089, 46.837709999999994], [-71.2286708, 46.8481887], [-71.2273699, 46.8134], [-71.23976400000001, 46.796485700000005], [-71.228911, 46.828584899999996], [-71.2499304, 46.8217471], [-71.2499304, 46.8217471], [-71.312725, 46.804565999999994], [-71.2102162, 46.852028499999996], [-71.31018449999999, 46.812155499999996], [-71.21184840000001, 46.8135022], [-71.260928, 46.843703000000005], [-71.23601590000001, 46.8120852], [-71.2146495, 46.8435762], [-71.3308406, 46.8198609], [-71.3308406, 46.8198609], [-71.2313633, 46.8121559], [-71.2309801, 46.8042364], [-71.1594917, 46.8754898], [-71.332755, 46.818226200000005], [-71.283982, 46.7626088], [-71.25735300000001, 46.8227639], [-71.31928070000001, 46.8100302], [-71.29082220000001, 46.886677899999995], [-71.2397935, 46.7970229], [-71.2529572, 46.8075825], [-71.1952967, 46.853722999999995], [-71.2443987, 46.8435867], [-71.2281651, 46.80324], [-71.2567028, 46.817518299999996], [-71.18847530000001, 46.8622006], [-71.1997786, 46.9030305], [-71.281651, 46.88361], [-71.243925, 46.810502], [-71.2383808, 46.8301456], [-71.349594, 46.7469929], [-71.21665949999999, 46.8116509], [-71.2107142, 46.8140474], [-71.26103359999999, 46.809706], [-71.26103359999999, 46.809706], [-71.22728520000001, 46.8261206], [-71.2993801, 46.81217120000001], [-71.3697144, 46.7648466], [-71.226642, 46.813458000000004], [-71.2224652, 46.835829700000005], [-71.24458100000001, 46.83706], [-71.3301546, 46.7667135], [-71.2250003, 46.808235700000004], [-71.1668769, 46.87662520000001], [-71.1958115, 46.8719516], [-71.19613829999999, 46.872469099999996], [-71.20029790000001, 46.874130900000004], [-71.2414885, 46.8497139], [-71.3009993, 46.7811331], [-71.30869659999999, 46.776897600000005], [-71.24029909999999, 46.8092919], [-71.2330132, 46.804817], [-71.2166026, 46.84520070000001], [-71.2166026, 46.84520070000001], [-71.23875859999998, 46.8522891], [-71.1941188, 46.8722702], [-71.2821224, 46.7719696], [-71.2513212, 46.8450715], [-71.2256145, 46.8087497], [-71.2884349, 46.783583], [-71.2495125, 46.8344965], [-71.2473091, 46.843644700000006], [-71.2473091, 46.843644700000006], [-71.2693031, 46.788962299999994], [-71.22119, 46.8143924], [-71.23543070000001, 46.8069329], [-71.2287233, 46.821966499999995], [-71.24772469999999, 46.784278], [-71.2568677, 46.7944508], [-71.3201392, 46.7604763], [-71.1579152, 46.8771472], [-71.2271265, 46.804823799999994], [-71.2244733, 46.8394672], [-71.24340040000001, 46.8258626], [-71.208333, 46.8151085], [-71.2256819, 46.8153193], [-71.159253, 46.88483], [-71.217647, 46.860625399999996], [-71.21676500000001, 46.860098], [-71.17047559999999, 46.8873559], [-71.2304185, 46.8437945], [-71.2746465, 46.8733979], [-71.229244, 46.826036], [-71.2519148, 46.7955387], [-71.2030412, 46.852912700000005], [-71.3089437, 46.76546], [-71.33388520000001, 46.7619667], [-71.2650052, 46.857420399999995], [-71.23257, 46.8113555], [-71.2985748, 46.75624129999999], [-71.3217104, 46.769274200000005], [-71.3215709, 46.7692001], [-71.3160467, 46.773506700000006], [-71.2681296, 46.8632573], [-71.2267871, 46.804678100000004], [-71.2297821, 46.829057899999995], [-71.2298903, 46.826283399999994], [-71.2575432, 46.793140799999996], [-71.2195632, 46.81007279999999], [-71.2178434, 46.8164585], [-71.2822859, 46.7867359], [-71.282286, 46.78651], [-71.2501291, 46.85127670000001], [-71.2545604, 46.8482421], [-71.20757929999999, 46.9511229], [-71.2608346, 46.8231631], [-71.2152415, 46.865754200000005], [-71.2695032, 46.86325720000001], [-71.2849442, 46.7706734], [-71.24449190000001, 46.806132], [-71.1902255, 46.854695899999996], [-71.2790953, 46.773587899999995], [-71.2346333, 46.7931814], [-71.21963000000001, 46.810331], [-71.2279113, 46.812938], [-71.2279113, 46.812938], [-71.262048, 46.8155711], [-71.228047, 46.809899], [-71.23076, 46.827163], [-71.226961, 46.813363], [-71.28256379999999, 46.8765528], [-71.2517318, 46.814886], [-71.15613859999999, 46.877209], [-71.24320970000001, 46.847714], [-71.3201933, 46.8101841], [-71.31827870000001, 46.769966499999995], [-71.2795098, 46.8105929], [-71.1967984, 46.8711612], [-71.35061230000001, 46.7582437], [-71.165113, 46.8881818], [-71.3637401, 46.760380700000006], [-71.2532137, 46.8177823], [-71.2025507, 46.8166991]], [[-73.603989, 45.473949], [-73.6259151, 45.4650792], [-73.6245821, 45.459886700000006], [-73.5924047, 45.461001], [-73.579699, 45.4828119], [-73.5796493, 45.4828196], [-73.58737540000001, 45.477182899999995], [-73.57857, 45.4827055], [-73.5831545, 45.4635801], [-73.6372269, 45.453583], [-73.58839870000001, 45.4733304], [-73.698998, 45.5356678], [-73.6390809, 45.46720139999999], [-73.58537700000001, 45.474995799999995], [-73.595479, 45.456385100000006], [-73.6158029, 45.4707735], [-73.63933270000001, 45.4545151], [-73.639542, 45.454471999999996], [-73.57027, 45.49604], [-73.631548, 45.462112], [-73.62167020000001, 45.4766013], [-73.59746170000001, 45.4619149], [-73.7130206, 45.527044200000006], [-73.598789, 45.456151], [-73.61202, 45.466962], [-73.59090490000001, 45.470721999999995], [-73.580991, 45.483167], [-73.6460511, 45.4641836], [-73.601011, 45.449909000000005], [-73.59350620000001, 45.4514109], [-73.672741, 45.537136600000004], [-73.6442381, 45.4667531], [-73.6442402, 45.4665492], [-73.7137765, 45.525804799999996], [-73.6786555, 45.536534499999995], [-73.6409637, 45.455290000000005], [-73.6354679, 45.460562200000005], [-73.64585, 45.472923], [-73.6537623, 45.4976435], [-73.72098100000001, 45.530477000000005], [-73.611864, 45.472285299999996], [-73.61232690000001, 45.47206], [-73.62851590000001, 45.4564991], [-73.6191179, 45.469066600000005], [-73.5939745, 45.4520893], [-73.5941785, 45.453153], [-73.59025279999999, 45.458939799999996], [-73.61403059999999, 45.465981299999996], [-73.56207140000001, 45.5003412], [-73.594723, 45.451209999999996], [-73.5854838, 45.453913], [-73.708365, 45.531740899999996], [-73.6314699, 45.477713], [-73.6347163, 45.4712203], [-73.5881326, 45.462736], [-73.5860052, 45.4818004], [-73.5860052, 45.4818004], [-73.5860052, 45.4818004], [-73.5860052, 45.4818004], [-73.5827733, 45.4787775], [-73.722268, 45.530442], [-73.5873686, 45.4801044], [-73.5894464, 45.4542851], [-73.58195450000001, 45.4567435], [-73.598527, 45.450032], [-73.700755, 45.537564], [-73.6486865, 45.498894899999996], [-73.6151732, 45.477589], [-73.5774552, 45.481313], [-73.5844985, 45.4530656], [-73.5864429, 45.477033], [-73.637689, 45.468262], [-73.57812709999999, 45.480883], [-73.6325126, 45.454977500000005], [-73.6555993, 45.4951698], [-73.616354, 45.470028899999996], [-73.6615765, 45.5003917], [-73.5802715, 45.484015500000005], [-73.6540058, 45.496565000000004], [-73.614551, 45.4766476], [-73.6197772, 45.4795946], [-73.6477572, 45.471171000000005], [-73.62197309999999, 45.4767494], [-73.62892590000001, 45.46423729999999], [-73.7007541, 45.5283322], [-73.57262659999999, 45.495802399999995], [-73.6095465, 45.4686961], [-73.6529853, 45.494978], [-73.60866120000001, 45.4740183], [-73.65623190000001, 45.53353679999999], [-73.5877959, 45.4721493], [-73.5791859, 45.480728000000006], [-73.63985550000001, 45.4665521], [-73.5964908, 45.4593881], [-73.5957931, 45.453877], [-73.656181, 45.532438], [-73.58282559999999, 45.482538700000006], [-73.620779, 45.467655], [-73.6069733, 45.4704075], [-73.5946102, 45.474103899999996], [-73.622165, 45.467577], [-73.60972199999999, 45.473974], [-73.5987396, 45.4592487], [-73.6246, 45.465649], [-73.579719, 45.481625], [-73.583575, 45.477993], [-73.59625190000001, 45.4596255], [-73.591599, 45.469807], [-73.600368, 45.456184], [-73.59307790000001, 45.457285], [-73.6347578, 45.4542961], [-73.6227887, 45.475897100000005], [-73.72227679999999, 45.5310152], [-73.5784823, 45.4816755], [-73.588099, 45.4583407]], [[-79.0310436, 48.241944399999994], [-79.0406838, 48.2431951], [-79.0373917, 48.2477973], [-78.99260600000001, 48.233219], [-78.996684, 48.222730799999994], [-79.02551650000001, 48.240164299999996], [-79.03271009999999, 48.2320578], [-79.0202533, 48.2365576], [-79.0150703, 48.235513], [-79.0071946, 48.2253883], [-79.000641, 48.224968200000006], [-79.0197512, 48.2467264], [-79.02289959999999, 48.2380375], [-79.02282199999999, 48.238058], [-79.0183101, 48.2379672], [-79.0197067, 48.241506], [-79.0153672, 48.236205]], [[-73.5741421, 45.5486995], [-73.577163, 45.543833500000005], [-73.5851377, 45.5480259], [-73.593746, 45.557026799999996], [-73.5734675, 45.563867200000004], [-73.55836500000001, 45.549659999999996], [-73.5851218, 45.5561588], [-73.58282, 45.564945], [-73.5793948, 45.5463486], [-73.58094799999999, 45.561738], [-73.575664, 45.56668], [-73.55902309999999, 45.54742460000001], [-73.55351359999999, 45.5684112], [-73.572434, 45.562683], [-73.5566077, 45.5524354], [-73.4795498, 45.720839899999994], [-73.5728803, 45.5707321], [-73.5749733, 45.5476564], [-73.5707853, 45.5726097], [-73.570317, 45.555718], [-73.57325859999999, 45.557074], [-73.5874174, 45.55413660000001], [-73.55962629999999, 45.555094], [-73.5724235, 45.5713987], [-73.57817990000001, 45.5641458], [-73.57314699999999, 45.551328999999996], [-73.5711319, 45.572010999999996], [-73.5641308, 45.5517044], [-73.57468940000001, 45.55475379999999], [-73.5801119, 45.5532778], [-73.5904315, 45.5504993], [-73.5903572, 45.550163500000004], [-73.57015229999999, 45.5569248], [-73.578232, 45.548992], [-73.586252, 45.5658559], [-73.577831, 45.542738], [-73.57583690000001, 45.552327399999996], [-73.57391209999999, 45.549955], [-73.5831872, 45.5693077], [-73.5795729, 45.5515612], [-73.5778725, 45.5440433], [-73.5598682, 45.5542131], [-73.5595115, 45.54108970000001], [-73.57375909999999, 45.5600571], [-73.56760009999999, 45.5556408], [-73.5788755, 45.5632434], [-73.5833652, 45.550095], [-73.5791606, 45.547503799999994], [-73.6469577, 45.5657469], [-73.5724404, 45.5589552], [-73.5673489, 45.570974], [-73.58696859999999, 45.554595], [-73.5767013, 45.5454844], [-73.5692885, 45.557590600000005], [-73.5689605, 45.5585331], [-73.57239100000001, 45.54544129999999], [-73.4717778, 45.71794379999999], [-73.57629370000001, 45.54352720000001], [-73.5591824, 45.5392528], [-73.5722229, 45.570618700000004], [-73.5624263, 45.5448164]], [[-71.95428290000001, 45.4014722], [-71.8979286, 45.3945501], [-71.89492059999999, 45.3959028], [-71.9571767, 45.4021901], [-71.87316, 45.408564], [-71.9512674, 45.4044896]], [[-72.7383561, 46.554334499999996], [-72.6936862, 46.6134523], [-72.7088415, 46.6039185], [-72.7634128, 46.5696182], [-72.7447355, 46.5199391], [-72.7037228, 46.60727979999999], [-72.7384109, 46.563334399999995], [-72.7620632, 46.5718942], [-72.7521273, 46.5559232], [-72.74685759999998, 46.556938200000005], [-72.7460205, 46.5197223], [-72.7446933, 46.5562331], [-72.7429133, 46.5588282], [-72.7538881, 46.525228399999996], [-72.7612965, 46.568324700000005], [-72.7449814, 46.5204343], [-72.7463848, 46.5397508], [-72.73174759999999, 46.50819370000001], [-72.6969848, 46.6133744], [-72.7410393, 46.5612778], [-72.74574109999999, 46.5648117], [-72.7464423, 46.5422731], [-72.74876, 46.55516], [-72.73626440000001, 46.6153338], [-72.6994932, 46.6099552], [-72.7120308, 46.6129295], [-72.742998, 46.518755299999995], [-72.65063549999999, 46.62647570000001], [-72.750473, 46.556369000000004], [-72.68910100000001, 46.6152281], [-72.7279529, 46.504804], [-72.74283299999999, 46.55307]], [[-73.46628709999999, 45.5220951], [-73.4649375, 45.4860706], [-73.505356, 45.5198475], [-73.5065236, 45.5181859], [-73.4772373, 45.5128081], [-73.49157220000001, 45.4893259], [-73.5048386, 45.521455200000005], [-73.48639849999999, 45.5228806], [-73.4810832, 45.5133912], [-73.4784689, 45.4911565], [-73.52255699999999, 45.5259495], [-73.5060375, 45.538516200000004], [-73.4659162, 45.52480870000001], [-73.45300340000001, 45.4815938], [-73.5139573, 45.5360244], [-73.4581679, 45.491611299999995], [-73.48770970000001, 45.5191993], [-73.4757013, 45.4779216], [-73.424696, 45.462759000000005], [-73.45098759999999, 45.5679359], [-73.4510315, 45.567902600000004], [-73.4891109, 45.5286103], [-73.49160390000002, 45.5133295], [-73.4676372, 45.4956881], [-73.4624333, 45.4877901], [-73.4481007, 45.516670899999994], [-73.48445219999999, 45.5323983], [-73.48445219999999, 45.5323983], [-73.4962203, 45.507571999999996], [-73.4798282, 45.5385795], [-73.465352, 45.515709], [-73.4918641, 45.51958870000001], [-73.4782079, 45.5351218], [-73.5056314, 45.5126188], [-73.4875891, 45.5349588], [-73.47815209999999, 45.5174265], [-73.4816765, 45.500448600000006], [-73.4736863, 45.528761700000004], [-73.4974959, 45.497635700000004], [-73.4825637, 45.526943], [-73.48935999999999, 45.533], [-73.4725306, 45.519301399999996], [-73.4675802, 45.5392193], [-73.5221767, 45.5249179], [-73.5221767, 45.5249179], [-73.45729, 45.529879], [-73.4553264, 45.5423581], [-73.49704090000002, 45.5256336], [-73.49942469999999, 45.494904999999996], [-73.4823959, 45.5724207], [-73.4980915, 45.510099600000004], [-73.4632093, 45.5142687], [-73.4840879, 45.524306599999996], [-73.47975059999999, 45.517827200000006], [-73.4679727, 45.4796918], [-73.4703832, 45.534876000000004], [-73.4583318, 45.5213391], [-73.4596895, 45.521978999999995], [-73.4724158, 45.5393501], [-73.4854656, 45.4930025], [-73.4768992, 45.4969124], [-73.5020229, 45.5333422], [-73.51549140000002, 45.528628999999995], [-73.51549140000002, 45.528628999999995], [-73.50742120000001, 45.53576079999999], [-73.49559659999998, 45.533130799999995], [-73.49030259999999, 45.5156631], [-73.49030259999999, 45.5156631], [-73.5124745, 45.529177600000004], [-73.46690749999999, 45.490212299999996], [-73.48587690000001, 45.5368341], [-73.48095500000001, 45.4980453], [-73.4719994, 45.5256855], [-73.4948907, 45.508578], [-73.4993489, 45.5129284], [-73.47833409999998, 45.493763200000004], [-73.48376, 45.5516707], [-73.48899999999999, 45.541035], [-73.4666512, 45.5339008], [-73.49037709999999, 45.527745700000004], [-73.4712168, 45.5326372], [-73.4751156, 45.5264994], [-73.49717120000001, 45.517559000000006], [-73.47324499999999, 45.5242056], [-73.47193309999999, 45.4873667], [-73.49120400000001, 45.5335848], [-73.476886, 45.4949629], [-73.47993659999999, 45.5400175], [-73.4730747, 45.4899305], [-73.47967340000001, 45.5657722], [-73.4833564, 45.5303266], [-73.4814693, 45.4939814], [-73.484431, 45.5133089], [-73.4633968, 45.5221025], [-73.5092348, 45.5397351], [-73.453637, 45.5355194], [-73.4780073, 45.5281589], [-73.4739456, 45.4955477]], [[-73.4197238, 45.4917662], [-73.4105832, 45.497171200000004], [-73.41653029999999, 45.5017252], [-73.4297636, 45.4758005], [-73.3993508, 45.4878175], [-73.44069870000001, 45.4846111], [-73.4443063, 45.5066394], [-73.4601421, 45.520000700000004], [-73.42542209999999, 45.5008215], [-73.4486802, 45.4791144], [-73.42910690000001, 45.476771], [-73.41316590000001, 45.501168], [-73.4320878, 45.4900488], [-73.4131913, 45.496595500000005], [-73.388508, 45.481876], [-73.386087, 45.4815748], [-73.45762090000001, 45.519768299999996], [-73.3825644, 45.487836], [-73.4269, 45.502275], [-73.43844449999999, 45.4719326], [-73.3775975, 45.4680943], [-73.4473679, 45.506544700000006]], [[-73.47600870000001, 45.764340000000004], [-73.4461179, 45.7693036], [-73.4233872, 45.7704519], [-73.44454250000001, 45.76756029999999], [-73.4130703, 45.7842388], [-73.415374, 45.779616], [-73.444911, 45.7669799], [-73.4588991, 45.762122600000005], [-73.4184076, 45.776568299999994], [-73.4184076, 45.776568299999994], [-73.4052039, 45.7798286], [-73.46940090000001, 45.754271100000004], [-73.46370290000002, 45.7562191], [-73.4314755, 45.763783200000006], [-73.46995290000001, 45.7540995], [-73.47027259999999, 45.753891700000004], [-73.4659798, 45.7560065], [-73.480808, 45.729974799999994], [-73.4614119, 45.7586407], [-73.4799655, 45.7574496]], [[-71.4113318, 46.8570499], [-71.33027659999999, 46.86331129999999], [-71.3305868, 46.8743947], [-71.43041, 46.75267], [-71.4675253, 46.7404687], [-71.4675253, 46.7404687], [-71.3295477, 46.8624734], [-71.4318653, 46.8429845], [-71.4179855, 46.855318200000006], [-71.414864, 46.85565089999999], [-71.4104092, 46.8581844], [-71.4104092, 46.8581844], [-71.455239, 46.745000299999994], [-71.42973359999999, 46.863359100000004], [-71.37991120000001, 46.751738], [-71.48729, 46.76525], [-71.41239190000002, 46.857697200000004], [-71.3408, 46.8779], [-71.3274917, 46.8758438], [-71.37537459999999, 46.7570205], [-71.395688, 46.839818], [-71.4242508, 46.8593017], [-71.5169218, 46.886892100000004]]], \"type\": \"Polygon\"}, \"type\": \"Feature\"}], \"type\": \"FeatureCollection\"}, \"type\": \"fill\"}], \"style\": \"open-street-map\", \"zoom\": 8}, \"margin\": {\"b\": 0, \"l\": 0, \"r\": 0, \"t\": 0}, \"template\": {\"data\": {\"bar\": [{\"error_x\": {\"color\": \"#2a3f5f\"}, \"error_y\": {\"color\": \"#2a3f5f\"}, \"marker\": {\"line\": {\"color\": \"#E5ECF6\", \"width\": 0.5}}, \"type\": \"bar\"}], \"barpolar\": [{\"marker\": {\"line\": {\"color\": \"#E5ECF6\", \"width\": 0.5}}, \"type\": \"barpolar\"}], \"carpet\": [{\"aaxis\": {\"endlinecolor\": \"#2a3f5f\", \"gridcolor\": \"white\", \"linecolor\": \"white\", \"minorgridcolor\": \"white\", \"startlinecolor\": \"#2a3f5f\"}, \"baxis\": {\"endlinecolor\": \"#2a3f5f\", \"gridcolor\": \"white\", \"linecolor\": \"white\", \"minorgridcolor\": \"white\", \"startlinecolor\": \"#2a3f5f\"}, \"type\": \"carpet\"}], \"choropleth\": [{\"colorbar\": {\"outlinewidth\": 0, \"ticks\": \"\"}, \"type\": \"choropleth\"}], \"contour\": [{\"colorbar\": {\"outlinewidth\": 0, \"ticks\": \"\"}, \"colorscale\": [[0.0, \"#0d0887\"], [0.1111111111111111, \"#46039f\"], [0.2222222222222222, \"#7201a8\"], [0.3333333333333333, \"#9c179e\"], [0.4444444444444444, \"#bd3786\"], [0.5555555555555556, \"#d8576b\"], [0.6666666666666666, \"#ed7953\"], [0.7777777777777778, \"#fb9f3a\"], [0.8888888888888888, \"#fdca26\"], [1.0, \"#f0f921\"]], \"type\": \"contour\"}], \"contourcarpet\": [{\"colorbar\": {\"outlinewidth\": 0, \"ticks\": \"\"}, \"type\": \"contourcarpet\"}], \"heatmap\": [{\"colorbar\": {\"outlinewidth\": 0, \"ticks\": \"\"}, \"colorscale\": [[0.0, \"#0d0887\"], [0.1111111111111111, \"#46039f\"], [0.2222222222222222, \"#7201a8\"], [0.3333333333333333, \"#9c179e\"], [0.4444444444444444, \"#bd3786\"], [0.5555555555555556, \"#d8576b\"], [0.6666666666666666, \"#ed7953\"], [0.7777777777777778, \"#fb9f3a\"], [0.8888888888888888, \"#fdca26\"], [1.0, \"#f0f921\"]], \"type\": \"heatmap\"}], \"heatmapgl\": [{\"colorbar\": {\"outlinewidth\": 0, \"ticks\": \"\"}, \"colorscale\": [[0.0, \"#0d0887\"], [0.1111111111111111, \"#46039f\"], [0.2222222222222222, \"#7201a8\"], [0.3333333333333333, \"#9c179e\"], [0.4444444444444444, \"#bd3786\"], [0.5555555555555556, \"#d8576b\"], [0.6666666666666666, \"#ed7953\"], [0.7777777777777778, \"#fb9f3a\"], [0.8888888888888888, \"#fdca26\"], [1.0, \"#f0f921\"]], \"type\": \"heatmapgl\"}], \"histogram\": [{\"marker\": {\"colorbar\": {\"outlinewidth\": 0, \"ticks\": \"\"}}, \"type\": \"histogram\"}], \"histogram2d\": [{\"colorbar\": {\"outlinewidth\": 0, \"ticks\": \"\"}, \"colorscale\": [[0.0, \"#0d0887\"], [0.1111111111111111, \"#46039f\"], [0.2222222222222222, \"#7201a8\"], [0.3333333333333333, \"#9c179e\"], [0.4444444444444444, \"#bd3786\"], [0.5555555555555556, \"#d8576b\"], [0.6666666666666666, \"#ed7953\"], [0.7777777777777778, \"#fb9f3a\"], [0.8888888888888888, \"#fdca26\"], [1.0, \"#f0f921\"]], \"type\": \"histogram2d\"}], \"histogram2dcontour\": [{\"colorbar\": {\"outlinewidth\": 0, \"ticks\": \"\"}, \"colorscale\": [[0.0, \"#0d0887\"], [0.1111111111111111, \"#46039f\"], [0.2222222222222222, \"#7201a8\"], [0.3333333333333333, \"#9c179e\"], [0.4444444444444444, \"#bd3786\"], [0.5555555555555556, \"#d8576b\"], [0.6666666666666666, \"#ed7953\"], [0.7777777777777778, \"#fb9f3a\"], [0.8888888888888888, \"#fdca26\"], [1.0, \"#f0f921\"]], \"type\": \"histogram2dcontour\"}], \"mesh3d\": [{\"colorbar\": {\"outlinewidth\": 0, \"ticks\": \"\"}, \"type\": \"mesh3d\"}], \"parcoords\": [{\"line\": {\"colorbar\": {\"outlinewidth\": 0, \"ticks\": \"\"}}, \"type\": \"parcoords\"}], \"pie\": [{\"automargin\": true, \"type\": \"pie\"}], \"scatter\": [{\"marker\": {\"colorbar\": {\"outlinewidth\": 0, \"ticks\": \"\"}}, \"type\": \"scatter\"}], \"scatter3d\": [{\"line\": {\"colorbar\": {\"outlinewidth\": 0, \"ticks\": \"\"}}, \"marker\": {\"colorbar\": {\"outlinewidth\": 0, \"ticks\": \"\"}}, \"type\": \"scatter3d\"}], \"scattercarpet\": [{\"marker\": {\"colorbar\": {\"outlinewidth\": 0, \"ticks\": \"\"}}, \"type\": \"scattercarpet\"}], \"scattergeo\": [{\"marker\": {\"colorbar\": {\"outlinewidth\": 0, \"ticks\": \"\"}}, \"type\": \"scattergeo\"}], \"scattergl\": [{\"marker\": {\"colorbar\": {\"outlinewidth\": 0, \"ticks\": \"\"}}, \"type\": \"scattergl\"}], \"scattermapbox\": [{\"marker\": {\"colorbar\": {\"outlinewidth\": 0, \"ticks\": \"\"}}, \"type\": \"scattermapbox\"}], \"scatterpolar\": [{\"marker\": {\"colorbar\": {\"outlinewidth\": 0, \"ticks\": \"\"}}, \"type\": \"scatterpolar\"}], \"scatterpolargl\": [{\"marker\": {\"colorbar\": {\"outlinewidth\": 0, \"ticks\": \"\"}}, \"type\": \"scatterpolargl\"}], \"scatterternary\": [{\"marker\": {\"colorbar\": {\"outlinewidth\": 0, \"ticks\": \"\"}}, \"type\": \"scatterternary\"}], \"surface\": [{\"colorbar\": {\"outlinewidth\": 0, \"ticks\": \"\"}, \"colorscale\": [[0.0, \"#0d0887\"], [0.1111111111111111, \"#46039f\"], [0.2222222222222222, \"#7201a8\"], [0.3333333333333333, \"#9c179e\"], [0.4444444444444444, \"#bd3786\"], [0.5555555555555556, \"#d8576b\"], [0.6666666666666666, \"#ed7953\"], [0.7777777777777778, \"#fb9f3a\"], [0.8888888888888888, \"#fdca26\"], [1.0, \"#f0f921\"]], \"type\": \"surface\"}], \"table\": [{\"cells\": {\"fill\": {\"color\": \"#EBF0F8\"}, \"line\": {\"color\": \"white\"}}, \"header\": {\"fill\": {\"color\": \"#C8D4E3\"}, \"line\": {\"color\": \"white\"}}, \"type\": \"table\"}]}, \"layout\": {\"annotationdefaults\": {\"arrowcolor\": \"#2a3f5f\", \"arrowhead\": 0, \"arrowwidth\": 1}, \"coloraxis\": {\"colorbar\": {\"outlinewidth\": 0, \"ticks\": \"\"}}, \"colorscale\": {\"diverging\": [[0, \"#8e0152\"], [0.1, \"#c51b7d\"], [0.2, \"#de77ae\"], [0.3, \"#f1b6da\"], [0.4, \"#fde0ef\"], [0.5, \"#f7f7f7\"], [0.6, \"#e6f5d0\"], [0.7, \"#b8e186\"], [0.8, \"#7fbc41\"], [0.9, \"#4d9221\"], [1, \"#276419\"]], \"sequential\": [[0.0, \"#0d0887\"], [0.1111111111111111, \"#46039f\"], [0.2222222222222222, \"#7201a8\"], [0.3333333333333333, \"#9c179e\"], [0.4444444444444444, \"#bd3786\"], [0.5555555555555556, \"#d8576b\"], [0.6666666666666666, \"#ed7953\"], [0.7777777777777778, \"#fb9f3a\"], [0.8888888888888888, \"#fdca26\"], [1.0, \"#f0f921\"]], \"sequentialminus\": [[0.0, \"#0d0887\"], [0.1111111111111111, \"#46039f\"], [0.2222222222222222, \"#7201a8\"], [0.3333333333333333, \"#9c179e\"], [0.4444444444444444, \"#bd3786\"], [0.5555555555555556, \"#d8576b\"], [0.6666666666666666, \"#ed7953\"], [0.7777777777777778, \"#fb9f3a\"], [0.8888888888888888, \"#fdca26\"], [1.0, \"#f0f921\"]]}, \"colorway\": [\"#636efa\", \"#EF553B\", \"#00cc96\", \"#ab63fa\", \"#FFA15A\", \"#19d3f3\", \"#FF6692\", \"#B6E880\", \"#FF97FF\", \"#FECB52\"], \"font\": {\"color\": \"#2a3f5f\"}, \"geo\": {\"bgcolor\": \"white\", \"lakecolor\": \"white\", \"landcolor\": \"#E5ECF6\", \"showlakes\": true, \"showland\": true, \"subunitcolor\": \"white\"}, \"hoverlabel\": {\"align\": \"left\"}, \"hovermode\": \"closest\", \"mapbox\": {\"style\": \"light\"}, \"paper_bgcolor\": \"white\", \"plot_bgcolor\": \"#E5ECF6\", \"polar\": {\"angularaxis\": {\"gridcolor\": \"white\", \"linecolor\": \"white\", \"ticks\": \"\"}, \"bgcolor\": \"#E5ECF6\", \"radialaxis\": {\"gridcolor\": \"white\", \"linecolor\": \"white\", \"ticks\": \"\"}}, \"scene\": {\"xaxis\": {\"backgroundcolor\": \"#E5ECF6\", \"gridcolor\": \"white\", \"gridwidth\": 2, \"linecolor\": \"white\", \"showbackground\": true, \"ticks\": \"\", \"zerolinecolor\": \"white\"}, \"yaxis\": {\"backgroundcolor\": \"#E5ECF6\", \"gridcolor\": \"white\", \"gridwidth\": 2, \"linecolor\": \"white\", \"showbackground\": true, \"ticks\": \"\", \"zerolinecolor\": \"white\"}, \"zaxis\": {\"backgroundcolor\": \"#E5ECF6\", \"gridcolor\": \"white\", \"gridwidth\": 2, \"linecolor\": \"white\", \"showbackground\": true, \"ticks\": \"\", \"zerolinecolor\": \"white\"}}, \"shapedefaults\": {\"line\": {\"color\": \"#2a3f5f\"}}, \"ternary\": {\"aaxis\": {\"gridcolor\": \"white\", \"linecolor\": \"white\", \"ticks\": \"\"}, \"baxis\": {\"gridcolor\": \"white\", \"linecolor\": \"white\", \"ticks\": \"\"}, \"bgcolor\": \"#E5ECF6\", \"caxis\": {\"gridcolor\": \"white\", \"linecolor\": \"white\", \"ticks\": \"\"}}, \"title\": {\"x\": 0.05}, \"xaxis\": {\"automargin\": true, \"gridcolor\": \"white\", \"linecolor\": \"white\", \"ticks\": \"\", \"title\": {\"standoff\": 15}, \"zerolinecolor\": \"white\", \"zerolinewidth\": 2}, \"yaxis\": {\"automargin\": true, \"gridcolor\": \"white\", \"linecolor\": \"white\", \"ticks\": \"\", \"title\": {\"standoff\": 15}, \"zerolinecolor\": \"white\", \"zerolinewidth\": 2}}}},\n",
       "                        {\"responsive\": true}\n",
       "                    ).then(function(){\n",
       "                            \n",
       "var gd = document.getElementById('d754f0ee-562e-4147-b9c6-2b5bdca55be4');\n",
       "var x = new MutationObserver(function (mutations, observer) {{\n",
       "        var display = window.getComputedStyle(gd).display;\n",
       "        if (!display || display === 'none') {{\n",
       "            console.log([gd, 'removed!']);\n",
       "            Plotly.purge(gd);\n",
       "            observer.disconnect();\n",
       "        }}\n",
       "}});\n",
       "\n",
       "// Listen for the removal of the full notebook cells\n",
       "var notebookContainer = gd.closest('#notebook-container');\n",
       "if (notebookContainer) {{\n",
       "    x.observe(notebookContainer, {childList: true});\n",
       "}}\n",
       "\n",
       "// Listen for the clearing of the current output cell\n",
       "var outputEl = gd.closest('.output');\n",
       "if (outputEl) {{\n",
       "    x.observe(outputEl, {childList: true});\n",
       "}}\n",
       "\n",
       "                        })\n",
       "                };\n",
       "                });\n",
       "            </script>\n",
       "        </div>"
      ]
     },
     "metadata": {},
     "output_type": "display_data"
    }
   ],
   "source": [
    "import plotly.graph_objects as go\n",
    "\n",
    "fig = go.Figure(go.Scattermapbox(\n",
    "    mode = \"markers\",\n",
    "    lon = retail_df[\"long\"], lat = retail_df[\"lat\"],\n",
    "    marker = {'size': 5, 'color': [\"blue\"]}))\n",
    "\n",
    "fig.update_layout(\n",
    "    mapbox = {\n",
    "        'style': \"open-street-map\",\n",
    "        'center': { 'lon': -73.6, 'lat': 45.5},\n",
    "        'zoom': 8, 'layers': [{\n",
    "            'source': {\n",
    "                'type': \"FeatureCollection\",\n",
    "                'features': [{\n",
    "                    'type': \"Feature\",\n",
    "                    'geometry': {\n",
    "                        'type': \"Polygon\",\n",
    "                        'coordinates': multipolygons\n",
    "\n",
    "                    }\n",
    "                }]\n",
    "            },\n",
    "            'type': \"fill\", 'below': \"traces\", 'color': \"royalblue\"}]},\n",
    "    margin = {'l':0, 'r':0, 'b':0, 't':0})"
   ]
  }
 ],
 "metadata": {
  "kernelspec": {
   "display_name": "Python 3",
   "language": "python",
   "name": "python3"
  },
  "language_info": {
   "codemirror_mode": {
    "name": "ipython",
    "version": 3
   },
   "file_extension": ".py",
   "mimetype": "text/x-python",
   "name": "python",
   "nbconvert_exporter": "python",
   "pygments_lexer": "ipython3",
   "version": "3.7.6"
  }
 },
 "nbformat": 4,
 "nbformat_minor": 4
}
